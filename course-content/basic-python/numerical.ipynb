{
 "cells": [
  {
   "cell_type": "markdown",
   "metadata": {},
   "source": [
    "# Numerical Analysis in Python\n",
    "\n",
    "[![Open In Colab](https://colab.research.google.com/assets/colab-badge.svg)](https://colab.research.google.com/github/jpn--/python-for-transportation-modeling/blob/master/course-content/basic-python/numerical.ipynb)"
   ]
  },
  {
   "cell_type": "markdown",
   "metadata": {},
   "source": [
    "The basic structure of Python is great for a lot of purposes,\n",
    "as it is super simple, and the underlying Python system handles\n",
    "much of the more complicated data management operations more or\n",
    "less transparently:  there's no need to tell Python to allocate\n",
    "or free memory, or what the data type of variables is, or how to \n",
    "actually complete many complex operations.  Thus we can do things\n",
    "like creating a list of values or initializing a variable by simply \n",
    "writing:"
   ]
  },
  {
   "cell_type": "code",
   "execution_count": 1,
   "metadata": {},
   "outputs": [],
   "source": [
    "x = list(range(5000))\n",
    "y = 0"
   ]
  },
  {
   "cell_type": "markdown",
   "metadata": {},
   "source": [
    "However, this simplicity comes at a cost: Python handles all these\n",
    "tasks for you, but depending on the workload you create, it may \n",
    "end up being extremely slow.  For example, consider the following \n",
    "commands to square the numbers in our list:"
   ]
  },
  {
   "cell_type": "code",
   "execution_count": 2,
   "metadata": {},
   "outputs": [
    {
     "data": {
      "text/plain": [
       "41654167500"
      ]
     },
     "execution_count": 2,
     "metadata": {},
     "output_type": "execute_result"
    }
   ],
   "source": [
    "for i in x:\n",
    "    y = y + i**2\n",
    "y"
   ]
  },
  {
   "cell_type": "markdown",
   "metadata": {},
   "source": [
    "Underneath the hood, Python is actually executing low level commands \n",
    "roughly equivalent to this monologue:\n",
    "    \n",
    "- Get the first item in the list `x` and store it in `i`.\n",
    "- Note that I am using this value in one additional place.\n",
    "- Identify that the data type for the variable `i` is an integer.\n",
    "- Look up that the double-asterisk operator means 'power' when applied to integers.\n",
    "- Find the value of `i` somewhere in the computer's memory.\n",
    "- Take the value of `i` and raise it to the power of 2.  \n",
    "- The result is also an integer.\n",
    "- Identify that the data type for the variable `y` is an integer.\n",
    "- Look up that the `+` operator means 'add' when applied to integers.\n",
    "- Find the value of `y` somewhere in the computer's memory.\n",
    "- Add the integer in `y` to the integer result of the power operation above.\n",
    "- Store the result of the addition in variable `y`, and write the value to somewhere in the computer's memory. \n",
    "- Note that I am using this value that I just stored in `y` in one additional place. \n",
    "- Note that I am using the previously stored value of `y` in one fewer place.\n",
    "- If the total number of places I am using the old value of `y` is now zero, I can flag this memory to be freed up.\n",
    "- Get the next item in the list `x` and store it in `i`.\n",
    "- Note that I am using the old value of `i` in one fewer place.\n",
    "- If the total number of places I am using the old value of `i` is now zero, I can flag this memory to be freed up.\n",
    "- Identify that the data type for the variable `i` is an integer.\n",
    "- Look up that the double-asterisk operator means 'power' when applied to integers.\n",
    "- Take the value of `i` and raise it to the power of 2.  \n",
    "- The result is also an integer.\n",
    "- Identify that the data type for the variable `y` is an integer.\n",
    "- Look up that the `+` operator means 'add' when applied to integers.\n",
    "- Add the integer in `y` to the integer result of the power operation above.\n",
    "- Store the result of the addition in variable `y`. \n",
    "- Note that I am using this value that I just stored in `y` in one additional place. \n",
    "- Note that I am using the previously stored value of `y` in one fewer place.\n",
    "- If the total number of places I am using the old value of `y` is now zero, I can flag this memory to be freed up.\n",
    "- Get the next item in the list `x` and store it in `i`.\n",
    "- ... and repeat the previous 14 lines 4,997 more times.\n",
    "- Done. (Phew!)"
   ]
  },
  {
   "cell_type": "markdown",
   "metadata": {},
   "source": [
    "Fortunately, our computer can run through these instructions quite fast,\n",
    "so for the five item list, this quite long list of instructions appears\n",
    "to run instantanously.  Nevertheless, it is obviously extraordinarily\n",
    "repetitive, and if the loop is to run on thousands of items in a list,\n",
    "the sheer number of instructions will slow down the process to the point\n",
    "where executing code becomes painfully slow.  \n",
    "\n",
    "## Vectorization\n",
    "\n",
    "To speed things up, it is necessary to get rid of a lot of the excessively\n",
    "repetitive instructions.  This is called \"vectorization\" of Python code.\n",
    "The two key features of vectorization that helps speed things up are:\n",
    "    \n",
    "1. We store data in an array of same-datatype values.\n",
    "2. We figure out operations that will be applied to those values,\n",
    "   and then apply those operations straight down the line of values\n",
    "   directly, without creating and destroying a lot of intermediate\n",
    "   Python variables along the way.\n",
    "    \n",
    "The `numpy` package includes the tools necessary to do this efficiently.\n",
    "For example, we can vectorize the example code above like this:"
   ]
  },
  {
   "cell_type": "code",
   "execution_count": 3,
   "metadata": {},
   "outputs": [
    {
     "data": {
      "text/plain": [
       "41654167500"
      ]
     },
     "execution_count": 3,
     "metadata": {},
     "output_type": "execute_result"
    }
   ],
   "source": [
    "import numpy\n",
    "z = numpy.arange(5000)\n",
    "(z**2).sum()"
   ]
  },
  {
   "cell_type": "markdown",
   "metadata": {},
   "source": [
    "In comparison to the instructions above, this code is executed in a manner \n",
    "loosely equivalent to this monologue:\n",
    "    \n",
    "- I have an array of five thousand integers.\n",
    "- Look up that the double-asterisk operator means 'power' when applied to integers.\n",
    "- Find the group of 5,000 integer values of `x` somewhere in a \n",
    "  contiguous block of the computer's memory.\n",
    "- Allocate a similarly sized contiguous block of the computer's memory to store the result of a 'power' operation.\n",
    "- Take each of 5,000 values in `x`, square it, and write that to the memory allocated above.\n",
    "- Look up that the `sum` method means 'add these up' when applied to integers.\n",
    "- Allocate memory for an integer value that will be the total.\n",
    "- Take each of 5,000 squared values and add them to the running total.\n",
    "- Return the final value.\n",
    "- Done."
   ]
  },
  {
   "cell_type": "markdown",
   "metadata": {},
   "source": [
    "It should be clear that the code above is wildly more efficient.  For such a small\n",
    "set of operations described above, the different in time that it takes to compute\n",
    "the result either way is insignificant for a human perspective: does it really matter\n",
    "to you if the work is completed in a millisecond or a microsecond?"
   ]
  },
  {
   "cell_type": "code",
   "execution_count": 4,
   "metadata": {},
   "outputs": [
    {
     "name": "stdout",
     "output_type": "stream",
     "text": [
      "2.05 ms ± 287 µs per loop (mean ± std. dev. of 7 runs, 100 loops each)\n"
     ]
    }
   ],
   "source": [
    "%%timeit\n",
    "y = 0\n",
    "for i in x: \n",
    "    y = y + i**2"
   ]
  },
  {
   "cell_type": "code",
   "execution_count": 5,
   "metadata": {},
   "outputs": [
    {
     "name": "stdout",
     "output_type": "stream",
     "text": [
      "8.41 µs ± 578 ns per loop (mean ± std. dev. of 7 runs, 100000 loops each)\n"
     ]
    }
   ],
   "source": [
    "%%timeit\n",
    "(z**2).sum()"
   ]
  },
  {
   "cell_type": "markdown",
   "metadata": {},
   "source": [
    "But when scaled up to larger data sets and more complex operations, these differences \n",
    "are extremely important: make each a million times longer, and we're looking at the\n",
    "difference between one second and 15 minutes.\n",
    "\n",
    "Many of the tools and libraries described in the rest of these tutorials already\n",
    "take advantage of the speed benefit of vectorization as much as reasonable, but \n",
    "it is still important for a user to know about these differences.  The simplest\n",
    "way to take advantage of these speed ups in coding your own Python tools is to\n",
    "avoid using \"for\" loops as much as possible in any section of your code that runs \n",
    "slowly, especially in places where \"for\" loops are nested inside other \"for\" loops.\n",
    "For example, writing code that loops for each destination TAZ inside a loop for \n",
    "each origin TAZ is generally a bad idea.\n",
    "\n",
    "Conversely, there's no reason to fear using \"for\" loops in other places.  As we\n",
    "observed above, a single loop that iterates over a few thousand items in a list can\n",
    "complete in just a millisecond.  It's only necessary to vectorize code when the \n",
    "number of loops *and* the complexity of calculation inside the loop are both high."
   ]
  },
  {
   "cell_type": "markdown",
   "metadata": {},
   "source": [
    "## Making Arrays\n",
    "\n",
    "The `arange` function in `numpy` creates an array of evenly spaced values, analogous \n",
    "to the `range` function in Python itself.  Arrays can also be created out of lists:"
   ]
  },
  {
   "cell_type": "code",
   "execution_count": 6,
   "metadata": {},
   "outputs": [
    {
     "data": {
      "text/plain": [
       "array([11, 22, 33, 44])"
      ]
     },
     "execution_count": 6,
     "metadata": {},
     "output_type": "execute_result"
    }
   ],
   "source": [
    "a = numpy.asarray([11,22,33,44])\n",
    "a"
   ]
  },
  {
   "cell_type": "markdown",
   "metadata": {},
   "source": [
    "Importantly, the data type of the values in the array is all the same.\n",
    "You can inspect the datatype using the `dtype` attribute:"
   ]
  },
  {
   "cell_type": "code",
   "execution_count": 7,
   "metadata": {},
   "outputs": [
    {
     "data": {
      "text/plain": [
       "dtype('int64')"
      ]
     },
     "execution_count": 7,
     "metadata": {},
     "output_type": "execute_result"
    }
   ],
   "source": [
    "a.dtype"
   ]
  },
  {
   "cell_type": "markdown",
   "metadata": {},
   "source": [
    "The default data types used by Python are operating system dependent,\n",
    "so it's possible if you run this code you may see something different\n",
    "that the 'int64' shown here.  On some versions of Windows, the default\n",
    "data type is 'int32' (even if you install the 64 bit version of Python).\n",
    "As long as you are manipulating data that can be stored correctly in \n",
    "the given data type, this difference won't matter.  However, if you\n",
    "are doing calculations that will cause an overflow (i.e. a number needs\n",
    "to be stored that is too large to fit in the designated dtype) then\n",
    "you'll get some potentially surprising results.  \n",
    "\n",
    "For example, consider what happens if you run the `arange` test code above\n",
    "explicitly using the 'int32' dtype:"
   ]
  },
  {
   "cell_type": "code",
   "execution_count": 8,
   "metadata": {},
   "outputs": [
    {
     "data": {
      "text/plain": [
       "-1295505460"
      ]
     },
     "execution_count": 8,
     "metadata": {},
     "output_type": "execute_result"
    }
   ],
   "source": [
    "z32 = numpy.arange(5000, dtype='int32')\n",
    "(z32**2).sum(dtype='int32')"
   ]
  },
  {
   "cell_type": "markdown",
   "metadata": {},
   "source": [
    "The negative value is obviously incorrect; a sum of squares can't be negative.  But the problem is that the correct value (41,654,167,500) can't be expressed as a signed 32 bit integer -- the maximum such value is..."
   ]
  },
  {
   "cell_type": "code",
   "execution_count": 9,
   "metadata": {},
   "outputs": [
    {
     "data": {
      "text/plain": [
       "'2,147,483,647'"
      ]
     },
     "execution_count": 9,
     "metadata": {},
     "output_type": "execute_result"
    }
   ],
   "source": [
    "\"{:,}\".format((2**31)-1)"
   ]
  },
  {
   "cell_type": "markdown",
   "metadata": {},
   "source": [
    "To maximize speed, numpy doesn't check for overflows the same way plain Python does, so the result if a negative value (although it doesn't necessarily have to be negative, that's just coincidental here, and an incorrect positive value is also possible).\n",
    "\n",
    "A reasonable solution to this problem is to use explicit dtypes on arrays if you expect there is any risk of an overflow.  Just as the code above explicitly created a problem by forcing the use of 'int32', we can avoid the problem by forcing the use of 'int64' (this code should work on any platform):"
   ]
  },
  {
   "cell_type": "code",
   "execution_count": 10,
   "metadata": {},
   "outputs": [
    {
     "data": {
      "text/plain": [
       "41654167500"
      ]
     },
     "execution_count": 10,
     "metadata": {},
     "output_type": "execute_result"
    }
   ],
   "source": [
    "z32 = numpy.arange(5000, dtype='int64')\n",
    "(z32**2).sum()"
   ]
  },
  {
   "cell_type": "markdown",
   "metadata": {},
   "source": [
    "You cannot create a simple array of mixed data types; instead the data will be \n",
    "up-casted as necessary to create a common datatype.  For example, if you mix\n",
    "integers and floating point values, the resulting array will be all floating\n",
    "point values."
   ]
  },
  {
   "cell_type": "code",
   "execution_count": 11,
   "metadata": {},
   "outputs": [
    {
     "data": {
      "text/plain": [
       "dtype('float64')"
      ]
     },
     "execution_count": 11,
     "metadata": {},
     "output_type": "execute_result"
    }
   ],
   "source": [
    "b = numpy.asarray([11,22,33,4.4])\n",
    "b.dtype"
   ]
  },
  {
   "cell_type": "code",
   "execution_count": 12,
   "metadata": {},
   "outputs": [
    {
     "data": {
      "text/plain": [
       "array([11. , 22. , 33. ,  4.4])"
      ]
     },
     "execution_count": 12,
     "metadata": {},
     "output_type": "execute_result"
    }
   ],
   "source": [
    "b"
   ]
  }
 ],
 "metadata": {
  "kernelspec": {
   "display_name": "Python 3 (ipykernel)",
   "language": "python",
   "name": "python3"
  },
  "language_info": {
   "codemirror_mode": {
    "name": "ipython",
    "version": 3
   },
   "file_extension": ".py",
   "mimetype": "text/x-python",
   "name": "python",
   "nbconvert_exporter": "python",
   "pygments_lexer": "ipython3",
   "version": "3.9.10"
  },
  "toc": {
   "base_numbering": 1,
   "nav_menu": {},
   "number_sections": false,
   "sideBar": true,
   "skip_h1_title": false,
   "title_cell": "Table of Contents",
   "title_sidebar": "Contents",
   "toc_cell": false,
   "toc_position": {},
   "toc_section_display": true,
   "toc_window_display": false
  },
  "widgets": {
   "application/vnd.jupyter.widget-state+json": {
    "state": {},
    "version_major": 2,
    "version_minor": 0
   }
  }
 },
 "nbformat": 4,
 "nbformat_minor": 4
}
