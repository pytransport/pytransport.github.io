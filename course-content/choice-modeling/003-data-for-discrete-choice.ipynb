{
 "cells": [
  {
   "cell_type": "code",
   "execution_count": 1,
   "id": "superb-arrow",
   "metadata": {
    "ExecuteTime": {
     "end_time": "2021-03-26T22:44:51.548120Z",
     "start_time": "2021-03-26T22:44:50.149515Z"
    }
   },
   "outputs": [],
   "source": [
    "import numpy as np\n",
    "import pandas as pd\n",
    "import larch as larch\n",
    "import transportation_tutorials as tt"
   ]
  },
  {
   "cell_type": "markdown",
   "id": "driven-circuit",
   "metadata": {},
   "source": [
    "# Data for Discrete Choice"
   ]
  },
  {
   "cell_type": "markdown",
   "id": "nonprofit-champagne",
   "metadata": {},
   "source": [
    "## Fundamental Data Formats\n",
    "\n",
    "When working with discrete choice models, we will need our prepared data to be \n",
    "in one of two basic formats: the case-only (\"idco\")\n",
    "format or the case-alternative (\"idca\") format. This are sometimes referred to as\n",
    "IDCase (each record contains all the information for mode choice over\n",
    "alternatives for a single trip) or IDCase-IDAlt (each record contains all the\n",
    "information for a single alternative available to each decision maker so there is one\n",
    "record for each alternative for each choice)."
   ]
  },
  {
   "cell_type": "markdown",
   "id": "digital-connecticut",
   "metadata": {},
   "source": [
    "### idco Format\n",
    "\n",
    "In the **idco** case-only format, each record provides all the relevant information\n",
    "about an individual choice, including the variables related to the decision maker\n",
    "or the choice itself, as well as alternative related variables for all available\n",
    "alternatives and a variable indicating which alternative was chosen.\n"
   ]
  },
  {
   "cell_type": "code",
   "execution_count": 2,
   "id": "preliminary-graphic",
   "metadata": {
    "ExecuteTime": {
     "end_time": "2021-03-26T22:44:51.566021Z",
     "start_time": "2021-03-26T22:44:51.550086Z"
    },
    "scrolled": true
   },
   "outputs": [
    {
     "data": {
      "text/html": [
       "<div>\n",
       "<style scoped>\n",
       "    .dataframe tbody tr th:only-of-type {\n",
       "        vertical-align: middle;\n",
       "    }\n",
       "\n",
       "    .dataframe tbody tr th {\n",
       "        vertical-align: top;\n",
       "    }\n",
       "\n",
       "    .dataframe thead th {\n",
       "        text-align: right;\n",
       "    }\n",
       "</style>\n",
       "<table border=\"1\" class=\"dataframe\">\n",
       "  <thead>\n",
       "    <tr style=\"text-align: right;\">\n",
       "      <th></th>\n",
       "      <th>Income</th>\n",
       "      <th>CarTime</th>\n",
       "      <th>CarCost</th>\n",
       "      <th>BusTime</th>\n",
       "      <th>BusCost</th>\n",
       "      <th>WalkTime</th>\n",
       "      <th>Chosen</th>\n",
       "    </tr>\n",
       "    <tr>\n",
       "      <th>caseid</th>\n",
       "      <th></th>\n",
       "      <th></th>\n",
       "      <th></th>\n",
       "      <th></th>\n",
       "      <th></th>\n",
       "      <th></th>\n",
       "      <th></th>\n",
       "    </tr>\n",
       "  </thead>\n",
       "  <tbody>\n",
       "    <tr>\n",
       "      <th>1</th>\n",
       "      <td>30000</td>\n",
       "      <td>30</td>\n",
       "      <td>150</td>\n",
       "      <td>40</td>\n",
       "      <td>100</td>\n",
       "      <td>20</td>\n",
       "      <td>Car</td>\n",
       "    </tr>\n",
       "    <tr>\n",
       "      <th>2</th>\n",
       "      <td>30000</td>\n",
       "      <td>25</td>\n",
       "      <td>125</td>\n",
       "      <td>35</td>\n",
       "      <td>100</td>\n",
       "      <td>0</td>\n",
       "      <td>Bus</td>\n",
       "    </tr>\n",
       "    <tr>\n",
       "      <th>3</th>\n",
       "      <td>40000</td>\n",
       "      <td>40</td>\n",
       "      <td>125</td>\n",
       "      <td>50</td>\n",
       "      <td>75</td>\n",
       "      <td>30</td>\n",
       "      <td>Walk</td>\n",
       "    </tr>\n",
       "    <tr>\n",
       "      <th>4</th>\n",
       "      <td>50000</td>\n",
       "      <td>15</td>\n",
       "      <td>225</td>\n",
       "      <td>20</td>\n",
       "      <td>150</td>\n",
       "      <td>10</td>\n",
       "      <td>Walk</td>\n",
       "    </tr>\n",
       "  </tbody>\n",
       "</table>\n",
       "</div>"
      ],
      "text/plain": [
       "        Income  CarTime  CarCost  BusTime  BusCost  WalkTime Chosen\n",
       "caseid                                                             \n",
       "1        30000       30      150       40      100        20    Car\n",
       "2        30000       25      125       35      100         0    Bus\n",
       "3        40000       40      125       50       75        30   Walk\n",
       "4        50000       15      225       20      150        10   Walk"
      ]
     },
     "execution_count": 2,
     "metadata": {},
     "output_type": "execute_result"
    }
   ],
   "source": [
    "data_co = pd.read_csv(\"example-data/tiny_idco.csv\", index_col='caseid')\n",
    "data_co"
   ]
  },
  {
   "cell_type": "markdown",
   "id": "hispanic-probe",
   "metadata": {},
   "source": [
    "### idca Format\n",
    "\n",
    "In the **idca** case-alternative format, each record can include information on the variables\n",
    "related to the decision maker or the choice itself, the attributes of that\n",
    "particular alternative, and a choice variable that indicates whether the\n",
    "alternative was or was not chosen."
   ]
  },
  {
   "cell_type": "code",
   "execution_count": 3,
   "id": "private-cooperative",
   "metadata": {
    "ExecuteTime": {
     "end_time": "2021-03-26T22:44:51.577338Z",
     "start_time": "2021-03-26T22:44:51.568034Z"
    }
   },
   "outputs": [
    {
     "data": {
      "text/html": [
       "<div>\n",
       "<style scoped>\n",
       "    .dataframe tbody tr th:only-of-type {\n",
       "        vertical-align: middle;\n",
       "    }\n",
       "\n",
       "    .dataframe tbody tr th {\n",
       "        vertical-align: top;\n",
       "    }\n",
       "\n",
       "    .dataframe thead th {\n",
       "        text-align: right;\n",
       "    }\n",
       "</style>\n",
       "<table border=\"1\" class=\"dataframe\">\n",
       "  <thead>\n",
       "    <tr style=\"text-align: right;\">\n",
       "      <th></th>\n",
       "      <th>caseid</th>\n",
       "      <th>altid</th>\n",
       "      <th>Income</th>\n",
       "      <th>Time</th>\n",
       "      <th>Cost</th>\n",
       "      <th>Chosen</th>\n",
       "    </tr>\n",
       "  </thead>\n",
       "  <tbody>\n",
       "    <tr>\n",
       "      <th>0</th>\n",
       "      <td>1</td>\n",
       "      <td>Car</td>\n",
       "      <td>30000</td>\n",
       "      <td>30</td>\n",
       "      <td>150</td>\n",
       "      <td>1</td>\n",
       "    </tr>\n",
       "    <tr>\n",
       "      <th>1</th>\n",
       "      <td>1</td>\n",
       "      <td>Bus</td>\n",
       "      <td>30000</td>\n",
       "      <td>40</td>\n",
       "      <td>100</td>\n",
       "      <td>0</td>\n",
       "    </tr>\n",
       "    <tr>\n",
       "      <th>2</th>\n",
       "      <td>1</td>\n",
       "      <td>Walk</td>\n",
       "      <td>30000</td>\n",
       "      <td>20</td>\n",
       "      <td>0</td>\n",
       "      <td>0</td>\n",
       "    </tr>\n",
       "    <tr>\n",
       "      <th>3</th>\n",
       "      <td>2</td>\n",
       "      <td>Car</td>\n",
       "      <td>30000</td>\n",
       "      <td>25</td>\n",
       "      <td>125</td>\n",
       "      <td>0</td>\n",
       "    </tr>\n",
       "    <tr>\n",
       "      <th>4</th>\n",
       "      <td>2</td>\n",
       "      <td>Bus</td>\n",
       "      <td>30000</td>\n",
       "      <td>35</td>\n",
       "      <td>100</td>\n",
       "      <td>1</td>\n",
       "    </tr>\n",
       "    <tr>\n",
       "      <th>5</th>\n",
       "      <td>3</td>\n",
       "      <td>Car</td>\n",
       "      <td>40000</td>\n",
       "      <td>40</td>\n",
       "      <td>125</td>\n",
       "      <td>0</td>\n",
       "    </tr>\n",
       "    <tr>\n",
       "      <th>6</th>\n",
       "      <td>3</td>\n",
       "      <td>Bus</td>\n",
       "      <td>40000</td>\n",
       "      <td>50</td>\n",
       "      <td>75</td>\n",
       "      <td>0</td>\n",
       "    </tr>\n",
       "    <tr>\n",
       "      <th>7</th>\n",
       "      <td>3</td>\n",
       "      <td>Walk</td>\n",
       "      <td>40000</td>\n",
       "      <td>30</td>\n",
       "      <td>0</td>\n",
       "      <td>1</td>\n",
       "    </tr>\n",
       "    <tr>\n",
       "      <th>8</th>\n",
       "      <td>4</td>\n",
       "      <td>Car</td>\n",
       "      <td>50000</td>\n",
       "      <td>15</td>\n",
       "      <td>225</td>\n",
       "      <td>0</td>\n",
       "    </tr>\n",
       "    <tr>\n",
       "      <th>9</th>\n",
       "      <td>4</td>\n",
       "      <td>Bus</td>\n",
       "      <td>50000</td>\n",
       "      <td>20</td>\n",
       "      <td>150</td>\n",
       "      <td>0</td>\n",
       "    </tr>\n",
       "    <tr>\n",
       "      <th>10</th>\n",
       "      <td>4</td>\n",
       "      <td>Walk</td>\n",
       "      <td>50000</td>\n",
       "      <td>10</td>\n",
       "      <td>0</td>\n",
       "      <td>1</td>\n",
       "    </tr>\n",
       "  </tbody>\n",
       "</table>\n",
       "</div>"
      ],
      "text/plain": [
       "    caseid altid  Income  Time  Cost  Chosen\n",
       "0        1   Car   30000    30   150       1\n",
       "1        1   Bus   30000    40   100       0\n",
       "2        1  Walk   30000    20     0       0\n",
       "3        2   Car   30000    25   125       0\n",
       "4        2   Bus   30000    35   100       1\n",
       "5        3   Car   40000    40   125       0\n",
       "6        3   Bus   40000    50    75       0\n",
       "7        3  Walk   40000    30     0       1\n",
       "8        4   Car   50000    15   225       0\n",
       "9        4   Bus   50000    20   150       0\n",
       "10       4  Walk   50000    10     0       1"
      ]
     },
     "execution_count": 3,
     "metadata": {},
     "output_type": "execute_result"
    }
   ],
   "source": [
    "data_ca = pd.read_csv(\"example-data/tiny_idca.csv\")\n",
    "data_ca"
   ]
  },
  {
   "cell_type": "markdown",
   "id": "adolescent-current",
   "metadata": {},
   "source": [
    "The `idca` format actually has two technical variations, a sparse version and a \n",
    "dense version. The table shown above is a sparse version, where any alterative that \n",
    "is not available is simply missing from the data table.  Thus, in caseid 2 above, \n",
    "there are only 2 rows, not 3.  By dropping these rows, this data storage is potentially\n",
    "more efficient than the dense version.  But, in cases where the number of missing alternatives\n",
    "is managably small (less than half of all the data, certainly) it can be much more computationally\n",
    "efficient to simply store and work with the dense array. \n",
    "\n",
    "> In *Larch*, these two distinct sub-types of idca data are labeled so \n",
    "> that the dense version labeled as `idca` and the sparse version \n",
    "> labeled as `idce`. "
   ]
  },
  {
   "cell_type": "markdown",
   "id": "toxic-nerve",
   "metadata": {},
   "source": [
    "### Data Conversion\n",
    "\n",
    "Converting between `idca` format data and `idco` format in Python can be super easy if the alternative\n",
    "id's are stored appropriately in a two-level MultiIndex. In that case, we can simply `stack` or `unstack` the DataFrame, and change formats.  This is typically more readily available when switching from `idca` to `idco`\n",
    "formats, as the alterative id's typically appear in a column of the DataFrame that can be used for indexing."
   ]
  },
  {
   "cell_type": "code",
   "execution_count": 4,
   "id": "gorgeous-hampshire",
   "metadata": {
    "ExecuteTime": {
     "end_time": "2021-03-26T22:44:51.598719Z",
     "start_time": "2021-03-26T22:44:51.579355Z"
    }
   },
   "outputs": [
    {
     "data": {
      "text/html": [
       "<div>\n",
       "<style scoped>\n",
       "    .dataframe tbody tr th:only-of-type {\n",
       "        vertical-align: middle;\n",
       "    }\n",
       "\n",
       "    .dataframe tbody tr th {\n",
       "        vertical-align: top;\n",
       "    }\n",
       "\n",
       "    .dataframe thead tr th {\n",
       "        text-align: left;\n",
       "    }\n",
       "\n",
       "    .dataframe thead tr:last-of-type th {\n",
       "        text-align: right;\n",
       "    }\n",
       "</style>\n",
       "<table border=\"1\" class=\"dataframe\">\n",
       "  <thead>\n",
       "    <tr>\n",
       "      <th></th>\n",
       "      <th colspan=\"3\" halign=\"left\">Income</th>\n",
       "      <th colspan=\"3\" halign=\"left\">Time</th>\n",
       "      <th colspan=\"3\" halign=\"left\">Cost</th>\n",
       "      <th colspan=\"3\" halign=\"left\">Chosen</th>\n",
       "    </tr>\n",
       "    <tr>\n",
       "      <th>altid</th>\n",
       "      <th>Bus</th>\n",
       "      <th>Car</th>\n",
       "      <th>Walk</th>\n",
       "      <th>Bus</th>\n",
       "      <th>Car</th>\n",
       "      <th>Walk</th>\n",
       "      <th>Bus</th>\n",
       "      <th>Car</th>\n",
       "      <th>Walk</th>\n",
       "      <th>Bus</th>\n",
       "      <th>Car</th>\n",
       "      <th>Walk</th>\n",
       "    </tr>\n",
       "    <tr>\n",
       "      <th>caseid</th>\n",
       "      <th></th>\n",
       "      <th></th>\n",
       "      <th></th>\n",
       "      <th></th>\n",
       "      <th></th>\n",
       "      <th></th>\n",
       "      <th></th>\n",
       "      <th></th>\n",
       "      <th></th>\n",
       "      <th></th>\n",
       "      <th></th>\n",
       "      <th></th>\n",
       "    </tr>\n",
       "  </thead>\n",
       "  <tbody>\n",
       "    <tr>\n",
       "      <th>1</th>\n",
       "      <td>30000.0</td>\n",
       "      <td>30000.0</td>\n",
       "      <td>30000.0</td>\n",
       "      <td>40.0</td>\n",
       "      <td>30.0</td>\n",
       "      <td>20.0</td>\n",
       "      <td>100.0</td>\n",
       "      <td>150.0</td>\n",
       "      <td>0.0</td>\n",
       "      <td>0.0</td>\n",
       "      <td>1.0</td>\n",
       "      <td>0.0</td>\n",
       "    </tr>\n",
       "    <tr>\n",
       "      <th>2</th>\n",
       "      <td>30000.0</td>\n",
       "      <td>30000.0</td>\n",
       "      <td>NaN</td>\n",
       "      <td>35.0</td>\n",
       "      <td>25.0</td>\n",
       "      <td>NaN</td>\n",
       "      <td>100.0</td>\n",
       "      <td>125.0</td>\n",
       "      <td>NaN</td>\n",
       "      <td>1.0</td>\n",
       "      <td>0.0</td>\n",
       "      <td>NaN</td>\n",
       "    </tr>\n",
       "    <tr>\n",
       "      <th>3</th>\n",
       "      <td>40000.0</td>\n",
       "      <td>40000.0</td>\n",
       "      <td>40000.0</td>\n",
       "      <td>50.0</td>\n",
       "      <td>40.0</td>\n",
       "      <td>30.0</td>\n",
       "      <td>75.0</td>\n",
       "      <td>125.0</td>\n",
       "      <td>0.0</td>\n",
       "      <td>0.0</td>\n",
       "      <td>0.0</td>\n",
       "      <td>1.0</td>\n",
       "    </tr>\n",
       "    <tr>\n",
       "      <th>4</th>\n",
       "      <td>50000.0</td>\n",
       "      <td>50000.0</td>\n",
       "      <td>50000.0</td>\n",
       "      <td>20.0</td>\n",
       "      <td>15.0</td>\n",
       "      <td>10.0</td>\n",
       "      <td>150.0</td>\n",
       "      <td>225.0</td>\n",
       "      <td>0.0</td>\n",
       "      <td>0.0</td>\n",
       "      <td>0.0</td>\n",
       "      <td>1.0</td>\n",
       "    </tr>\n",
       "  </tbody>\n",
       "</table>\n",
       "</div>"
      ],
      "text/plain": [
       "         Income                    Time               Cost             Chosen  \\\n",
       "altid       Bus      Car     Walk   Bus   Car  Walk    Bus    Car Walk    Bus   \n",
       "caseid                                                                          \n",
       "1       30000.0  30000.0  30000.0  40.0  30.0  20.0  100.0  150.0  0.0    0.0   \n",
       "2       30000.0  30000.0      NaN  35.0  25.0   NaN  100.0  125.0  NaN    1.0   \n",
       "3       40000.0  40000.0  40000.0  50.0  40.0  30.0   75.0  125.0  0.0    0.0   \n",
       "4       50000.0  50000.0  50000.0  20.0  15.0  10.0  150.0  225.0  0.0    0.0   \n",
       "\n",
       "                  \n",
       "altid   Car Walk  \n",
       "caseid            \n",
       "1       1.0  0.0  \n",
       "2       0.0  NaN  \n",
       "3       0.0  1.0  \n",
       "4       0.0  1.0  "
      ]
     },
     "execution_count": 4,
     "metadata": {},
     "output_type": "execute_result"
    }
   ],
   "source": [
    "data_ca.set_index(['caseid', 'altid']).unstack()"
   ]
  },
  {
   "cell_type": "markdown",
   "id": "academic-addition",
   "metadata": {},
   "source": [
    "Getting our original `idco` data into `idca` format is not so clean, as there's no analagous\n",
    "`set_columns` method in pandas, and even if there were, the alternative codes are not typically\n",
    "neatly arranged in a row of data. We can force it to work, but it's not pretty."
   ]
  },
  {
   "cell_type": "code",
   "execution_count": 5,
   "id": "sharp-railway",
   "metadata": {
    "ExecuteTime": {
     "end_time": "2021-03-26T22:44:51.642125Z",
     "start_time": "2021-03-26T22:44:51.600243Z"
    }
   },
   "outputs": [
    {
     "data": {
      "text/html": [
       "<div>\n",
       "<style scoped>\n",
       "    .dataframe tbody tr th:only-of-type {\n",
       "        vertical-align: middle;\n",
       "    }\n",
       "\n",
       "    .dataframe tbody tr th {\n",
       "        vertical-align: top;\n",
       "    }\n",
       "\n",
       "    .dataframe thead th {\n",
       "        text-align: right;\n",
       "    }\n",
       "</style>\n",
       "<table border=\"1\" class=\"dataframe\">\n",
       "  <thead>\n",
       "    <tr style=\"text-align: right;\">\n",
       "      <th></th>\n",
       "      <th>var</th>\n",
       "      <th>Chosen</th>\n",
       "      <th>Cost</th>\n",
       "      <th>Income</th>\n",
       "      <th>Time</th>\n",
       "    </tr>\n",
       "    <tr>\n",
       "      <th>caseid</th>\n",
       "      <th>alt</th>\n",
       "      <th></th>\n",
       "      <th></th>\n",
       "      <th></th>\n",
       "      <th></th>\n",
       "    </tr>\n",
       "  </thead>\n",
       "  <tbody>\n",
       "    <tr>\n",
       "      <th rowspan=\"3\" valign=\"top\">1</th>\n",
       "      <th>Bus</th>\n",
       "      <td>0.0</td>\n",
       "      <td>100</td>\n",
       "      <td>30000</td>\n",
       "      <td>40</td>\n",
       "    </tr>\n",
       "    <tr>\n",
       "      <th>Car</th>\n",
       "      <td>1.0</td>\n",
       "      <td>150</td>\n",
       "      <td>30000</td>\n",
       "      <td>30</td>\n",
       "    </tr>\n",
       "    <tr>\n",
       "      <th>Walk</th>\n",
       "      <td>0.0</td>\n",
       "      <td>NaN</td>\n",
       "      <td>30000</td>\n",
       "      <td>20</td>\n",
       "    </tr>\n",
       "    <tr>\n",
       "      <th rowspan=\"3\" valign=\"top\">2</th>\n",
       "      <th>Bus</th>\n",
       "      <td>1.0</td>\n",
       "      <td>100</td>\n",
       "      <td>30000</td>\n",
       "      <td>35</td>\n",
       "    </tr>\n",
       "    <tr>\n",
       "      <th>Car</th>\n",
       "      <td>0.0</td>\n",
       "      <td>125</td>\n",
       "      <td>30000</td>\n",
       "      <td>25</td>\n",
       "    </tr>\n",
       "    <tr>\n",
       "      <th>Walk</th>\n",
       "      <td>0.0</td>\n",
       "      <td>NaN</td>\n",
       "      <td>30000</td>\n",
       "      <td>0</td>\n",
       "    </tr>\n",
       "    <tr>\n",
       "      <th rowspan=\"3\" valign=\"top\">3</th>\n",
       "      <th>Bus</th>\n",
       "      <td>0.0</td>\n",
       "      <td>75</td>\n",
       "      <td>40000</td>\n",
       "      <td>50</td>\n",
       "    </tr>\n",
       "    <tr>\n",
       "      <th>Car</th>\n",
       "      <td>0.0</td>\n",
       "      <td>125</td>\n",
       "      <td>40000</td>\n",
       "      <td>40</td>\n",
       "    </tr>\n",
       "    <tr>\n",
       "      <th>Walk</th>\n",
       "      <td>1.0</td>\n",
       "      <td>NaN</td>\n",
       "      <td>40000</td>\n",
       "      <td>30</td>\n",
       "    </tr>\n",
       "    <tr>\n",
       "      <th rowspan=\"3\" valign=\"top\">4</th>\n",
       "      <th>Bus</th>\n",
       "      <td>0.0</td>\n",
       "      <td>150</td>\n",
       "      <td>50000</td>\n",
       "      <td>20</td>\n",
       "    </tr>\n",
       "    <tr>\n",
       "      <th>Car</th>\n",
       "      <td>0.0</td>\n",
       "      <td>225</td>\n",
       "      <td>50000</td>\n",
       "      <td>15</td>\n",
       "    </tr>\n",
       "    <tr>\n",
       "      <th>Walk</th>\n",
       "      <td>1.0</td>\n",
       "      <td>NaN</td>\n",
       "      <td>50000</td>\n",
       "      <td>10</td>\n",
       "    </tr>\n",
       "  </tbody>\n",
       "</table>\n",
       "</div>"
      ],
      "text/plain": [
       "var          Chosen Cost  Income Time\n",
       "caseid alt                           \n",
       "1      Bus      0.0  100   30000   40\n",
       "       Car      1.0  150   30000   30\n",
       "       Walk     0.0  NaN   30000   20\n",
       "2      Bus      1.0  100   30000   35\n",
       "       Car      0.0  125   30000   25\n",
       "       Walk     0.0  NaN   30000    0\n",
       "3      Bus      0.0   75   40000   50\n",
       "       Car      0.0  125   40000   40\n",
       "       Walk     1.0  NaN   40000   30\n",
       "4      Bus      0.0  150   50000   20\n",
       "       Car      0.0  225   50000   15\n",
       "       Walk     1.0  NaN   50000   10"
      ]
     },
     "execution_count": 5,
     "metadata": {},
     "output_type": "execute_result"
    }
   ],
   "source": [
    "forced_ca = data_co.T.set_index(\n",
    "pd.MultiIndex.from_tuples([\n",
    "    ['Car', 'Income'], \n",
    "    ['Car','Time'],\n",
    "    ['Car','Cost'],\n",
    "    ['Bus','Time'],\n",
    "    ['Bus','Cost'],\n",
    "    ['Walk','Time'],\n",
    "    ['Car', 'Chosen'], \n",
    "], names=('alt','var'))\n",
    ").T.stack(0)\n",
    "forced_ca[['Chosen', 'Income']] = forced_ca[['Chosen', 'Income']].groupby(\"caseid\").transform(\n",
    "    lambda x: x.fillna(x.value_counts().index[0])\n",
    ")\n",
    "forced_ca['Chosen'] = (\n",
    "    forced_ca['Chosen'] == forced_ca.index.get_level_values('alt')\n",
    ").astype(float)\n",
    "forced_ca"
   ]
  },
  {
   "cell_type": "markdown",
   "id": "competent-geneva",
   "metadata": {},
   "source": [
    "The good news is that it's not generally necessary to swap the data formats when working with Larch for discrete choice models, as Larch can natively handle both formats of data."
   ]
  },
  {
   "cell_type": "markdown",
   "id": "advanced-wireless",
   "metadata": {},
   "source": [
    "## Data Encoding"
   ]
  },
  {
   "cell_type": "markdown",
   "id": "differential-remove",
   "metadata": {},
   "source": [
    "For the most part, data used in the utility functions of discrete choice models enters into the utility function as part of a linear-in-parameters function.  That is, we have some \"data\" that expresses an attribute of some part of the transportation system as a number, we multiply that by some numerical parameter that will be estimated, and we sum up the total over all the data-times-parameter operations.  This kind of structure is known as \"linear algebra\" and it's something computers can do super fast, as long as all the data and all the parameters are queued up in memory in the right formats.  So, typically it is optimal to pre-compute the \"data\" part of the process into one large contiguous array of floating point values, regardless if the values otherwise seem to be binary or integers. Most tools, such as Larch, will do much of this work for you, so you don't need to worry about it too much.   \n",
    "\n",
    "There are two notable exceptions to this guideline: \n",
    "\n",
    "- *choices*: the data that represents the observed choices, which are inherently categorical\n",
    "- *availablity*: data that represents the availability of each choice, which is inherently boolean"
   ]
  },
  {
   "cell_type": "markdown",
   "id": "novel-roulette",
   "metadata": {},
   "source": [
    "### Categorical Encoding"
   ]
  },
  {
   "cell_type": "markdown",
   "id": "central-return",
   "metadata": {},
   "source": [
    "When we are looking at discrete choices, it is natural to employ a categorical data type for at least the \"choice\" data itself, if not for other columns as well.  Pandas can convert columns to categorical data simply by assigning the type \"category\"."
   ]
  },
  {
   "cell_type": "code",
   "execution_count": 6,
   "id": "boxed-thousand",
   "metadata": {
    "ExecuteTime": {
     "end_time": "2021-03-26T22:44:51.648373Z",
     "start_time": "2021-03-26T22:44:51.643724Z"
    }
   },
   "outputs": [
    {
     "data": {
      "text/plain": [
       "caseid\n",
       "1     Car\n",
       "2     Bus\n",
       "3    Walk\n",
       "4    Walk\n",
       "Name: Chosen, dtype: category\n",
       "Categories (3, object): ['Bus', 'Car', 'Walk']"
      ]
     },
     "execution_count": 6,
     "metadata": {},
     "output_type": "execute_result"
    }
   ],
   "source": [
    "choices = data_co['Chosen'].astype(\"category\")\n",
    "choices"
   ]
  },
  {
   "cell_type": "markdown",
   "id": "weighted-consortium",
   "metadata": {},
   "source": [
    "Once we have categorical data, if we like we can work with the underlying code values instead of the original raw data."
   ]
  },
  {
   "cell_type": "code",
   "execution_count": 7,
   "id": "incorporated-parts",
   "metadata": {
    "ExecuteTime": {
     "end_time": "2021-03-26T22:44:51.653078Z",
     "start_time": "2021-03-26T22:44:51.649840Z"
    }
   },
   "outputs": [
    {
     "data": {
      "text/plain": [
       "caseid\n",
       "1    1\n",
       "2    0\n",
       "3    2\n",
       "4    2\n",
       "dtype: int8"
      ]
     },
     "execution_count": 7,
     "metadata": {},
     "output_type": "execute_result"
    }
   ],
   "source": [
    "choices.cat.codes"
   ]
  },
  {
   "cell_type": "markdown",
   "id": "excess-laptop",
   "metadata": {},
   "source": [
    "The `cat.categories` attribute contains the array of values matching each of the code."
   ]
  },
  {
   "cell_type": "code",
   "execution_count": 8,
   "id": "linear-balance",
   "metadata": {
    "ExecuteTime": {
     "end_time": "2021-03-26T22:44:51.658684Z",
     "start_time": "2021-03-26T22:44:51.655941Z"
    }
   },
   "outputs": [
    {
     "data": {
      "text/plain": [
       "Index(['Bus', 'Car', 'Walk'], dtype='object')"
      ]
     },
     "execution_count": 8,
     "metadata": {},
     "output_type": "execute_result"
    }
   ],
   "source": [
    "choices.cat.categories"
   ]
  },
  {
   "cell_type": "markdown",
   "id": "monthly-impact",
   "metadata": {},
   "source": [
    "When using `astype(\"category\")` there's no control over the ordering of the categories.  If we want\n",
    "to control the apparent order (e.g. we already have codes defined elsewhere such that Car is 1, Bus is 2, and walk is 3) then we can explicitly set the category value positions using `pd.CategoricalDtype` instead of `\"category\"`.\n",
    "Note that the `cat.codes` numbers used internally by categoricals start with zero as standard in Python,\n",
    "so if you want codes to start with 1 you need to include a dummy placeholder for zero."
   ]
  },
  {
   "cell_type": "code",
   "execution_count": 9,
   "id": "certified-primary",
   "metadata": {
    "ExecuteTime": {
     "end_time": "2021-03-26T22:44:51.666532Z",
     "start_time": "2021-03-26T22:44:51.661444Z"
    }
   },
   "outputs": [
    {
     "data": {
      "text/plain": [
       "caseid\n",
       "1     Car\n",
       "2     Bus\n",
       "3    Walk\n",
       "4    Walk\n",
       "Name: Chosen, dtype: category\n",
       "Categories (4, object): ['_', 'Car', 'Bus', 'Walk']"
      ]
     },
     "execution_count": 9,
     "metadata": {},
     "output_type": "execute_result"
    }
   ],
   "source": [
    "choices1 = data_co['Chosen'].astype(pd.CategoricalDtype(['_','Car','Bus','Walk']))\n",
    "choices1"
   ]
  },
  {
   "cell_type": "code",
   "execution_count": 10,
   "id": "painted-venue",
   "metadata": {
    "ExecuteTime": {
     "end_time": "2021-03-26T22:44:51.671161Z",
     "start_time": "2021-03-26T22:44:51.667881Z"
    }
   },
   "outputs": [
    {
     "data": {
      "text/plain": [
       "caseid\n",
       "1    1\n",
       "2    2\n",
       "3    3\n",
       "4    3\n",
       "dtype: int8"
      ]
     },
     "execution_count": 10,
     "metadata": {},
     "output_type": "execute_result"
    }
   ],
   "source": [
    "choices1.cat.codes"
   ]
  },
  {
   "cell_type": "markdown",
   "id": "median-giving",
   "metadata": {},
   "source": [
    "To be clear, by asserting the *placement* ordering of alternative like this, we are not simultaneously asserting that the alternatives are ordinal.  Put another way, we are forcing Car to be coded as 1 and Bus to be coded as 2, but we are not saying that Car is less than Bus.  Pandas categoricals can allow this, by adding `ordered=True` to the CategoricalDtype. "
   ]
  },
  {
   "cell_type": "code",
   "execution_count": 11,
   "id": "surprising-transcript",
   "metadata": {
    "ExecuteTime": {
     "end_time": "2021-03-26T22:44:51.675824Z",
     "start_time": "2021-03-26T22:44:51.672542Z"
    }
   },
   "outputs": [
    {
     "data": {
      "text/plain": [
       "CategoricalDtype(categories=['NoCars', '1Car', '2Cars', '3+Cars'], ordered=True)"
      ]
     },
     "execution_count": 11,
     "metadata": {},
     "output_type": "execute_result"
    }
   ],
   "source": [
    "pd.CategoricalDtype(['NoCars','1Car','2Cars','3+Cars'], ordered=True)"
   ]
  },
  {
   "cell_type": "markdown",
   "id": "herbal-seeker",
   "metadata": {},
   "source": [
    "### One Hot Encoding"
   ]
  },
  {
   "cell_type": "markdown",
   "id": "rising-simple",
   "metadata": {},
   "source": [
    "One-hot encoding, also known as dummy variables, is the creation of a seperate binary-valued column for every categorical value.  We can convert a categorical data column into a set of one-hot encoded columns using the `get_dummies` function."
   ]
  },
  {
   "cell_type": "code",
   "execution_count": 12,
   "id": "respected-catch",
   "metadata": {
    "ExecuteTime": {
     "end_time": "2021-03-26T22:44:51.684263Z",
     "start_time": "2021-03-26T22:44:51.677458Z"
    }
   },
   "outputs": [
    {
     "data": {
      "text/html": [
       "<div>\n",
       "<style scoped>\n",
       "    .dataframe tbody tr th:only-of-type {\n",
       "        vertical-align: middle;\n",
       "    }\n",
       "\n",
       "    .dataframe tbody tr th {\n",
       "        vertical-align: top;\n",
       "    }\n",
       "\n",
       "    .dataframe thead th {\n",
       "        text-align: right;\n",
       "    }\n",
       "</style>\n",
       "<table border=\"1\" class=\"dataframe\">\n",
       "  <thead>\n",
       "    <tr style=\"text-align: right;\">\n",
       "      <th></th>\n",
       "      <th>Bus</th>\n",
       "      <th>Car</th>\n",
       "      <th>Walk</th>\n",
       "    </tr>\n",
       "    <tr>\n",
       "      <th>caseid</th>\n",
       "      <th></th>\n",
       "      <th></th>\n",
       "      <th></th>\n",
       "    </tr>\n",
       "  </thead>\n",
       "  <tbody>\n",
       "    <tr>\n",
       "      <th>1</th>\n",
       "      <td>0</td>\n",
       "      <td>1</td>\n",
       "      <td>0</td>\n",
       "    </tr>\n",
       "    <tr>\n",
       "      <th>2</th>\n",
       "      <td>1</td>\n",
       "      <td>0</td>\n",
       "      <td>0</td>\n",
       "    </tr>\n",
       "    <tr>\n",
       "      <th>3</th>\n",
       "      <td>0</td>\n",
       "      <td>0</td>\n",
       "      <td>1</td>\n",
       "    </tr>\n",
       "    <tr>\n",
       "      <th>4</th>\n",
       "      <td>0</td>\n",
       "      <td>0</td>\n",
       "      <td>1</td>\n",
       "    </tr>\n",
       "  </tbody>\n",
       "</table>\n",
       "</div>"
      ],
      "text/plain": [
       "        Bus  Car  Walk\n",
       "caseid                \n",
       "1         0    1     0\n",
       "2         1    0     0\n",
       "3         0    0     1\n",
       "4         0    0     1"
      ]
     },
     "execution_count": 12,
     "metadata": {},
     "output_type": "execute_result"
    }
   ],
   "source": [
    "pd.get_dummies(choices)"
   ]
  },
  {
   "cell_type": "markdown",
   "id": "lesser-portsmouth",
   "metadata": {},
   "source": [
    "It's not required to have first converted the data to a categorical data type."
   ]
  },
  {
   "cell_type": "code",
   "execution_count": 13,
   "id": "offshore-traveler",
   "metadata": {
    "ExecuteTime": {
     "end_time": "2021-03-26T22:44:51.691569Z",
     "start_time": "2021-03-26T22:44:51.685753Z"
    }
   },
   "outputs": [
    {
     "data": {
      "text/html": [
       "<div>\n",
       "<style scoped>\n",
       "    .dataframe tbody tr th:only-of-type {\n",
       "        vertical-align: middle;\n",
       "    }\n",
       "\n",
       "    .dataframe tbody tr th {\n",
       "        vertical-align: top;\n",
       "    }\n",
       "\n",
       "    .dataframe thead th {\n",
       "        text-align: right;\n",
       "    }\n",
       "</style>\n",
       "<table border=\"1\" class=\"dataframe\">\n",
       "  <thead>\n",
       "    <tr style=\"text-align: right;\">\n",
       "      <th></th>\n",
       "      <th>Bus</th>\n",
       "      <th>Car</th>\n",
       "      <th>Walk</th>\n",
       "    </tr>\n",
       "    <tr>\n",
       "      <th>caseid</th>\n",
       "      <th></th>\n",
       "      <th></th>\n",
       "      <th></th>\n",
       "    </tr>\n",
       "  </thead>\n",
       "  <tbody>\n",
       "    <tr>\n",
       "      <th>1</th>\n",
       "      <td>0</td>\n",
       "      <td>1</td>\n",
       "      <td>0</td>\n",
       "    </tr>\n",
       "    <tr>\n",
       "      <th>2</th>\n",
       "      <td>1</td>\n",
       "      <td>0</td>\n",
       "      <td>0</td>\n",
       "    </tr>\n",
       "    <tr>\n",
       "      <th>3</th>\n",
       "      <td>0</td>\n",
       "      <td>0</td>\n",
       "      <td>1</td>\n",
       "    </tr>\n",
       "    <tr>\n",
       "      <th>4</th>\n",
       "      <td>0</td>\n",
       "      <td>0</td>\n",
       "      <td>1</td>\n",
       "    </tr>\n",
       "  </tbody>\n",
       "</table>\n",
       "</div>"
      ],
      "text/plain": [
       "        Bus  Car  Walk\n",
       "caseid                \n",
       "1         0    1     0\n",
       "2         1    0     0\n",
       "3         0    0     1\n",
       "4         0    0     1"
      ]
     },
     "execution_count": 13,
     "metadata": {},
     "output_type": "execute_result"
    }
   ],
   "source": [
    "pd.get_dummies(data_co['Chosen'])"
   ]
  },
  {
   "cell_type": "markdown",
   "id": "civil-familiar",
   "metadata": {},
   "source": [
    "## Adding on to Data\n",
    "\n",
    "If you've seen a number of household travel surveys, you know that they typically include several tables of data, for households, persons, trips, and sometimes other things like vehicles.  The tables reveal the actual (or at least, reported as actual) travel behaviors of people: where do they go, when, by what mode, et cetera.  But these table don't always contain all the data we need to build or use a discrete choice model.  It's not enough to know the factual data (I drove to work, it took 35 minutes and cost \\\\$3.50 in gas and tolls), we also need counter-factual data (I didn't take the train, which would have taken 40 minutes and cost \\\\$2).  We can pull this counter-factual data out of model representations of all the various transportation options, but to do so we'll need to interface our survey data with our model data."
   ]
  },
  {
   "cell_type": "markdown",
   "id": "strategic-samoa",
   "metadata": {},
   "source": [
    "### Geocoding"
   ]
  },
  {
   "cell_type": "markdown",
   "id": "coupled-symbol",
   "metadata": {
    "ExecuteTime": {
     "end_time": "2021-02-19T22:17:32.585856Z",
     "start_time": "2021-02-19T22:17:32.533494Z"
    }
   },
   "source": [
    "One of the first things we might need to do is to geocode trip ends. Often this gets done relatively early in data processing, and TAZ ID's for origin and destination may already be attached.  But if that's not already done, we can do it in Python."
   ]
  },
  {
   "cell_type": "code",
   "execution_count": 14,
   "id": "portuguese-holocaust",
   "metadata": {
    "ExecuteTime": {
     "end_time": "2021-03-26T22:44:51.700607Z",
     "start_time": "2021-03-26T22:44:51.693003Z"
    }
   },
   "outputs": [
    {
     "data": {
      "text/html": [
       "<div>\n",
       "<style scoped>\n",
       "    .dataframe tbody tr th:only-of-type {\n",
       "        vertical-align: middle;\n",
       "    }\n",
       "\n",
       "    .dataframe tbody tr th {\n",
       "        vertical-align: top;\n",
       "    }\n",
       "\n",
       "    .dataframe thead th {\n",
       "        text-align: right;\n",
       "    }\n",
       "</style>\n",
       "<table border=\"1\" class=\"dataframe\">\n",
       "  <thead>\n",
       "    <tr style=\"text-align: right;\">\n",
       "      <th></th>\n",
       "      <th>orig_x</th>\n",
       "      <th>orig_y</th>\n",
       "      <th>dest_x</th>\n",
       "      <th>dest_y</th>\n",
       "    </tr>\n",
       "    <tr>\n",
       "      <th>caseid</th>\n",
       "      <th></th>\n",
       "      <th></th>\n",
       "      <th></th>\n",
       "      <th></th>\n",
       "    </tr>\n",
       "  </thead>\n",
       "  <tbody>\n",
       "    <tr>\n",
       "      <th>1</th>\n",
       "      <td>946907</td>\n",
       "      <td>925689</td>\n",
       "      <td>884665</td>\n",
       "      <td>494832</td>\n",
       "    </tr>\n",
       "    <tr>\n",
       "      <th>2</th>\n",
       "      <td>952193</td>\n",
       "      <td>945628</td>\n",
       "      <td>892053</td>\n",
       "      <td>478115</td>\n",
       "    </tr>\n",
       "    <tr>\n",
       "      <th>3</th>\n",
       "      <td>889200</td>\n",
       "      <td>491106</td>\n",
       "      <td>959298</td>\n",
       "      <td>919813</td>\n",
       "    </tr>\n",
       "    <tr>\n",
       "      <th>4</th>\n",
       "      <td>877274</td>\n",
       "      <td>476391</td>\n",
       "      <td>947965</td>\n",
       "      <td>925746</td>\n",
       "    </tr>\n",
       "  </tbody>\n",
       "</table>\n",
       "</div>"
      ],
      "text/plain": [
       "        orig_x  orig_y  dest_x  dest_y\n",
       "caseid                                \n",
       "1       946907  925689  884665  494832\n",
       "2       952193  945628  892053  478115\n",
       "3       889200  491106  959298  919813\n",
       "4       877274  476391  947965  925746"
      ]
     },
     "execution_count": 14,
     "metadata": {},
     "output_type": "execute_result"
    }
   ],
   "source": [
    "trips = pd.read_csv(\"example-data/tiny_points.csv\", index_col='caseid')\n",
    "trips"
   ]
  },
  {
   "cell_type": "markdown",
   "id": "speaking-messaging",
   "metadata": {
    "ExecuteTime": {
     "end_time": "2021-02-19T22:17:32.585856Z",
     "start_time": "2021-02-19T22:17:32.533494Z"
    }
   },
   "source": [
    "If we have a shapefile for the TAZ's, we can map those points to the locations and attach the TAZ codes directly to the DataFrame.  For this geographic task, we'll use the `geopandas` package, and that shapefile."
   ]
  },
  {
   "cell_type": "code",
   "execution_count": 15,
   "id": "maritime-balloon",
   "metadata": {
    "ExecuteTime": {
     "end_time": "2021-03-26T22:44:52.041469Z",
     "start_time": "2021-03-26T22:44:51.701918Z"
    }
   },
   "outputs": [
    {
     "data": {
      "text/html": [
       "<div>\n",
       "<style scoped>\n",
       "    .dataframe tbody tr th:only-of-type {\n",
       "        vertical-align: middle;\n",
       "    }\n",
       "\n",
       "    .dataframe tbody tr th {\n",
       "        vertical-align: top;\n",
       "    }\n",
       "\n",
       "    .dataframe thead th {\n",
       "        text-align: right;\n",
       "    }\n",
       "</style>\n",
       "<table border=\"1\" class=\"dataframe\">\n",
       "  <thead>\n",
       "    <tr style=\"text-align: right;\">\n",
       "      <th></th>\n",
       "      <th>OBJECTID</th>\n",
       "      <th>TAZ_REG</th>\n",
       "      <th>TAZ_OLD05</th>\n",
       "      <th>TAZ_MPO</th>\n",
       "      <th>COUNTY</th>\n",
       "      <th>CENSUSTAZ</th>\n",
       "      <th>TAZ_BF</th>\n",
       "      <th>FIX</th>\n",
       "      <th>AREA</th>\n",
       "      <th>F_NETAREA</th>\n",
       "      <th>CBD</th>\n",
       "      <th>HM_ROOMS</th>\n",
       "      <th>Shape_Leng</th>\n",
       "      <th>Shape_Area</th>\n",
       "      <th>geometry</th>\n",
       "    </tr>\n",
       "  </thead>\n",
       "  <tbody>\n",
       "    <tr>\n",
       "      <th>0</th>\n",
       "      <td>1</td>\n",
       "      <td>1122.0</td>\n",
       "      <td>1122</td>\n",
       "      <td>1122</td>\n",
       "      <td>1.0</td>\n",
       "      <td>None</td>\n",
       "      <td>0</td>\n",
       "      <td>0</td>\n",
       "      <td>4442490.0</td>\n",
       "      <td>0.8153</td>\n",
       "      <td>0</td>\n",
       "      <td>0</td>\n",
       "      <td>10592.846522</td>\n",
       "      <td>4.442490e+06</td>\n",
       "      <td>POLYGON ((936374.674 959539.568, 936373.444 95...</td>\n",
       "    </tr>\n",
       "    <tr>\n",
       "      <th>1</th>\n",
       "      <td>2</td>\n",
       "      <td>17.0</td>\n",
       "      <td>17</td>\n",
       "      <td>17</td>\n",
       "      <td>1.0</td>\n",
       "      <td>None</td>\n",
       "      <td>0</td>\n",
       "      <td>0</td>\n",
       "      <td>15689400.0</td>\n",
       "      <td>0.8571</td>\n",
       "      <td>0</td>\n",
       "      <td>0</td>\n",
       "      <td>17396.297932</td>\n",
       "      <td>1.568938e+07</td>\n",
       "      <td>POLYGON ((942254.500 952920.937, 942255.812 95...</td>\n",
       "    </tr>\n",
       "    <tr>\n",
       "      <th>2</th>\n",
       "      <td>3</td>\n",
       "      <td>1123.0</td>\n",
       "      <td>1123</td>\n",
       "      <td>1123</td>\n",
       "      <td>1.0</td>\n",
       "      <td>None</td>\n",
       "      <td>0</td>\n",
       "      <td>0</td>\n",
       "      <td>17396100.0</td>\n",
       "      <td>0.8663</td>\n",
       "      <td>0</td>\n",
       "      <td>0</td>\n",
       "      <td>23585.421941</td>\n",
       "      <td>1.739613e+07</td>\n",
       "      <td>POLYGON ((940953.561 952985.069, 940953.437 95...</td>\n",
       "    </tr>\n",
       "    <tr>\n",
       "      <th>3</th>\n",
       "      <td>4</td>\n",
       "      <td>1120.0</td>\n",
       "      <td>1120</td>\n",
       "      <td>1120</td>\n",
       "      <td>1.0</td>\n",
       "      <td>None</td>\n",
       "      <td>0</td>\n",
       "      <td>0</td>\n",
       "      <td>1303420.0</td>\n",
       "      <td>0.8536</td>\n",
       "      <td>0</td>\n",
       "      <td>0</td>\n",
       "      <td>7202.864864</td>\n",
       "      <td>1.303422e+06</td>\n",
       "      <td>POLYGON ((953119.000 951985.375, 953045.807 95...</td>\n",
       "    </tr>\n",
       "    <tr>\n",
       "      <th>4</th>\n",
       "      <td>5</td>\n",
       "      <td>1121.0</td>\n",
       "      <td>1121</td>\n",
       "      <td>1121</td>\n",
       "      <td>1.0</td>\n",
       "      <td>None</td>\n",
       "      <td>0</td>\n",
       "      <td>0</td>\n",
       "      <td>31477500.0</td>\n",
       "      <td>0.8787</td>\n",
       "      <td>0</td>\n",
       "      <td>0</td>\n",
       "      <td>24940.959492</td>\n",
       "      <td>3.147748e+07</td>\n",
       "      <td>POLYGON ((934328.283 951600.585, 934327.451 94...</td>\n",
       "    </tr>\n",
       "  </tbody>\n",
       "</table>\n",
       "</div>"
      ],
      "text/plain": [
       "   OBJECTID  TAZ_REG  TAZ_OLD05  TAZ_MPO  COUNTY CENSUSTAZ  TAZ_BF  FIX  \\\n",
       "0         1   1122.0       1122     1122     1.0      None       0    0   \n",
       "1         2     17.0         17       17     1.0      None       0    0   \n",
       "2         3   1123.0       1123     1123     1.0      None       0    0   \n",
       "3         4   1120.0       1120     1120     1.0      None       0    0   \n",
       "4         5   1121.0       1121     1121     1.0      None       0    0   \n",
       "\n",
       "         AREA  F_NETAREA  CBD  HM_ROOMS    Shape_Leng    Shape_Area  \\\n",
       "0   4442490.0     0.8153    0         0  10592.846522  4.442490e+06   \n",
       "1  15689400.0     0.8571    0         0  17396.297932  1.568938e+07   \n",
       "2  17396100.0     0.8663    0         0  23585.421941  1.739613e+07   \n",
       "3   1303420.0     0.8536    0         0   7202.864864  1.303422e+06   \n",
       "4  31477500.0     0.8787    0         0  24940.959492  3.147748e+07   \n",
       "\n",
       "                                            geometry  \n",
       "0  POLYGON ((936374.674 959539.568, 936373.444 95...  \n",
       "1  POLYGON ((942254.500 952920.937, 942255.812 95...  \n",
       "2  POLYGON ((940953.561 952985.069, 940953.437 95...  \n",
       "3  POLYGON ((953119.000 951985.375, 953045.807 95...  \n",
       "4  POLYGON ((934328.283 951600.585, 934327.451 94...  "
      ]
     },
     "execution_count": 15,
     "metadata": {},
     "output_type": "execute_result"
    }
   ],
   "source": [
    "import geopandas as gpd\n",
    "taz_shp = gpd.read_file(tt.data(\"SERPM8-TAZSHAPE\"))\n",
    "taz_shp.head()"
   ]
  },
  {
   "cell_type": "markdown",
   "id": "veterinary-question",
   "metadata": {},
   "source": [
    "To compelete the geocoding, first we need to assemble the latitude and longitude (or x and y) columns into an\n",
    "array of points."
   ]
  },
  {
   "cell_type": "code",
   "execution_count": 16,
   "id": "tribal-honey",
   "metadata": {
    "ExecuteTime": {
     "end_time": "2021-03-26T22:44:52.048169Z",
     "start_time": "2021-03-26T22:44:52.043354Z"
    }
   },
   "outputs": [
    {
     "data": {
      "text/plain": [
       "<GeometryArray>\n",
       "[<shapely.geometry.point.Point object at 0x7fa9202f03d0>,\n",
       " <shapely.geometry.point.Point object at 0x7fa9202f0400>,\n",
       " <shapely.geometry.point.Point object at 0x7fa9202f00a0>,\n",
       " <shapely.geometry.point.Point object at 0x7fa9202f04c0>]\n",
       "Length: 4, dtype: geometry"
      ]
     },
     "execution_count": 16,
     "metadata": {},
     "output_type": "execute_result"
    }
   ],
   "source": [
    "trips_orig_points_array = gpd.points_from_xy(\n",
    "    trips.orig_x, trips.orig_y, crs=taz_shp.crs\n",
    ")\n",
    "trips_orig_points_array"
   ]
  },
  {
   "cell_type": "markdown",
   "id": "headed-lesbian",
   "metadata": {},
   "source": [
    "Then, we wrap that array into a GeoDataFrame, attaching the same `index` as on our original `trips` table."
   ]
  },
  {
   "cell_type": "code",
   "execution_count": 17,
   "id": "lasting-reserve",
   "metadata": {
    "ExecuteTime": {
     "end_time": "2021-03-26T22:44:52.057568Z",
     "start_time": "2021-03-26T22:44:52.050205Z"
    }
   },
   "outputs": [
    {
     "data": {
      "text/html": [
       "<div>\n",
       "<style scoped>\n",
       "    .dataframe tbody tr th:only-of-type {\n",
       "        vertical-align: middle;\n",
       "    }\n",
       "\n",
       "    .dataframe tbody tr th {\n",
       "        vertical-align: top;\n",
       "    }\n",
       "\n",
       "    .dataframe thead th {\n",
       "        text-align: right;\n",
       "    }\n",
       "</style>\n",
       "<table border=\"1\" class=\"dataframe\">\n",
       "  <thead>\n",
       "    <tr style=\"text-align: right;\">\n",
       "      <th></th>\n",
       "      <th>geometry</th>\n",
       "    </tr>\n",
       "    <tr>\n",
       "      <th>caseid</th>\n",
       "      <th></th>\n",
       "    </tr>\n",
       "  </thead>\n",
       "  <tbody>\n",
       "    <tr>\n",
       "      <th>1</th>\n",
       "      <td>POINT (946907.000 925689.000)</td>\n",
       "    </tr>\n",
       "    <tr>\n",
       "      <th>2</th>\n",
       "      <td>POINT (952193.000 945628.000)</td>\n",
       "    </tr>\n",
       "    <tr>\n",
       "      <th>3</th>\n",
       "      <td>POINT (889200.000 491106.000)</td>\n",
       "    </tr>\n",
       "    <tr>\n",
       "      <th>4</th>\n",
       "      <td>POINT (877274.000 476391.000)</td>\n",
       "    </tr>\n",
       "  </tbody>\n",
       "</table>\n",
       "</div>"
      ],
      "text/plain": [
       "                             geometry\n",
       "caseid                               \n",
       "1       POINT (946907.000 925689.000)\n",
       "2       POINT (952193.000 945628.000)\n",
       "3       POINT (889200.000 491106.000)\n",
       "4       POINT (877274.000 476391.000)"
      ]
     },
     "execution_count": 17,
     "metadata": {},
     "output_type": "execute_result"
    }
   ],
   "source": [
    "trips_orig_points = gpd.GeoDataFrame(\n",
    "    geometry=trips_orig_points_array,\n",
    "    index=trips.index,\n",
    ")\n",
    "trips_orig_points"
   ]
  },
  {
   "cell_type": "markdown",
   "id": "blocked-dimension",
   "metadata": {},
   "source": [
    "Finally, we run a spatial join (`sjoin`) between that GeoDataFrame and the TAZ shapes, joining using the 'within' operator.  We'll take the `TAZ_MPO` field from the result, and write that to the trips DataFrame as the origin TAZ."
   ]
  },
  {
   "cell_type": "code",
   "execution_count": 18,
   "id": "extra-albania",
   "metadata": {
    "ExecuteTime": {
     "end_time": "2021-03-26T22:44:52.399631Z",
     "start_time": "2021-03-26T22:44:52.059305Z"
    }
   },
   "outputs": [
    {
     "data": {
      "text/html": [
       "<div>\n",
       "<style scoped>\n",
       "    .dataframe tbody tr th:only-of-type {\n",
       "        vertical-align: middle;\n",
       "    }\n",
       "\n",
       "    .dataframe tbody tr th {\n",
       "        vertical-align: top;\n",
       "    }\n",
       "\n",
       "    .dataframe thead th {\n",
       "        text-align: right;\n",
       "    }\n",
       "</style>\n",
       "<table border=\"1\" class=\"dataframe\">\n",
       "  <thead>\n",
       "    <tr style=\"text-align: right;\">\n",
       "      <th></th>\n",
       "      <th>orig_x</th>\n",
       "      <th>orig_y</th>\n",
       "      <th>dest_x</th>\n",
       "      <th>dest_y</th>\n",
       "      <th>otaz</th>\n",
       "    </tr>\n",
       "    <tr>\n",
       "      <th>caseid</th>\n",
       "      <th></th>\n",
       "      <th></th>\n",
       "      <th></th>\n",
       "      <th></th>\n",
       "      <th></th>\n",
       "    </tr>\n",
       "  </thead>\n",
       "  <tbody>\n",
       "    <tr>\n",
       "      <th>1</th>\n",
       "      <td>946907</td>\n",
       "      <td>925689</td>\n",
       "      <td>884665</td>\n",
       "      <td>494832</td>\n",
       "      <td>1129</td>\n",
       "    </tr>\n",
       "    <tr>\n",
       "      <th>2</th>\n",
       "      <td>952193</td>\n",
       "      <td>945628</td>\n",
       "      <td>892053</td>\n",
       "      <td>478115</td>\n",
       "      <td>1141</td>\n",
       "    </tr>\n",
       "    <tr>\n",
       "      <th>3</th>\n",
       "      <td>889200</td>\n",
       "      <td>491106</td>\n",
       "      <td>959298</td>\n",
       "      <td>919813</td>\n",
       "      <td>1132</td>\n",
       "    </tr>\n",
       "    <tr>\n",
       "      <th>4</th>\n",
       "      <td>877274</td>\n",
       "      <td>476391</td>\n",
       "      <td>947965</td>\n",
       "      <td>925746</td>\n",
       "      <td>1149</td>\n",
       "    </tr>\n",
       "  </tbody>\n",
       "</table>\n",
       "</div>"
      ],
      "text/plain": [
       "        orig_x  orig_y  dest_x  dest_y  otaz\n",
       "caseid                                      \n",
       "1       946907  925689  884665  494832  1129\n",
       "2       952193  945628  892053  478115  1141\n",
       "3       889200  491106  959298  919813  1132\n",
       "4       877274  476391  947965  925746  1149"
      ]
     },
     "execution_count": 18,
     "metadata": {},
     "output_type": "execute_result"
    }
   ],
   "source": [
    "trips['otaz'] = gpd.sjoin(\n",
    "    trips_orig_points, taz_shp, how='left', op='within',\n",
    ").TAZ_MPO\n",
    "trips"
   ]
  },
  {
   "cell_type": "markdown",
   "id": "prompt-geography",
   "metadata": {},
   "source": [
    "We can do the same for the destination TAZ, all in one fell swoop."
   ]
  },
  {
   "cell_type": "code",
   "execution_count": 19,
   "id": "close-latino",
   "metadata": {
    "ExecuteTime": {
     "end_time": "2021-03-26T22:44:52.732212Z",
     "start_time": "2021-03-26T22:44:52.401969Z"
    }
   },
   "outputs": [
    {
     "data": {
      "text/html": [
       "<div>\n",
       "<style scoped>\n",
       "    .dataframe tbody tr th:only-of-type {\n",
       "        vertical-align: middle;\n",
       "    }\n",
       "\n",
       "    .dataframe tbody tr th {\n",
       "        vertical-align: top;\n",
       "    }\n",
       "\n",
       "    .dataframe thead th {\n",
       "        text-align: right;\n",
       "    }\n",
       "</style>\n",
       "<table border=\"1\" class=\"dataframe\">\n",
       "  <thead>\n",
       "    <tr style=\"text-align: right;\">\n",
       "      <th></th>\n",
       "      <th>orig_x</th>\n",
       "      <th>orig_y</th>\n",
       "      <th>dest_x</th>\n",
       "      <th>dest_y</th>\n",
       "      <th>otaz</th>\n",
       "      <th>dtaz</th>\n",
       "    </tr>\n",
       "    <tr>\n",
       "      <th>caseid</th>\n",
       "      <th></th>\n",
       "      <th></th>\n",
       "      <th></th>\n",
       "      <th></th>\n",
       "      <th></th>\n",
       "      <th></th>\n",
       "    </tr>\n",
       "  </thead>\n",
       "  <tbody>\n",
       "    <tr>\n",
       "      <th>1</th>\n",
       "      <td>946907</td>\n",
       "      <td>925689</td>\n",
       "      <td>884665</td>\n",
       "      <td>494832</td>\n",
       "      <td>1129</td>\n",
       "      <td>1122</td>\n",
       "    </tr>\n",
       "    <tr>\n",
       "      <th>2</th>\n",
       "      <td>952193</td>\n",
       "      <td>945628</td>\n",
       "      <td>892053</td>\n",
       "      <td>478115</td>\n",
       "      <td>1141</td>\n",
       "      <td>1136</td>\n",
       "    </tr>\n",
       "    <tr>\n",
       "      <th>3</th>\n",
       "      <td>889200</td>\n",
       "      <td>491106</td>\n",
       "      <td>959298</td>\n",
       "      <td>919813</td>\n",
       "      <td>1132</td>\n",
       "      <td>1144</td>\n",
       "    </tr>\n",
       "    <tr>\n",
       "      <th>4</th>\n",
       "      <td>877274</td>\n",
       "      <td>476391</td>\n",
       "      <td>947965</td>\n",
       "      <td>925746</td>\n",
       "      <td>1149</td>\n",
       "      <td>1129</td>\n",
       "    </tr>\n",
       "  </tbody>\n",
       "</table>\n",
       "</div>"
      ],
      "text/plain": [
       "        orig_x  orig_y  dest_x  dest_y  otaz  dtaz\n",
       "caseid                                            \n",
       "1       946907  925689  884665  494832  1129  1122\n",
       "2       952193  945628  892053  478115  1141  1136\n",
       "3       889200  491106  959298  919813  1132  1144\n",
       "4       877274  476391  947965  925746  1149  1129"
      ]
     },
     "execution_count": 19,
     "metadata": {},
     "output_type": "execute_result"
    }
   ],
   "source": [
    "trips['dtaz'] = gpd.sjoin(\n",
    "    gpd.GeoDataFrame(\n",
    "        geometry=gpd.points_from_xy(\n",
    "            trips.dest_x, trips.dest_y, crs=taz_shp.crs\n",
    "        ),\n",
    "        index=trips.index,\n",
    "    ), \n",
    "    taz_shp, how='left', op='within',\n",
    ").TAZ_MPO\n",
    "\n",
    "trips"
   ]
  },
  {
   "cell_type": "markdown",
   "id": "congressional-automation",
   "metadata": {},
   "source": [
    "### Attaching Skims\n",
    "\n",
    "After attaching our trip end zone id's, we're ready to pull in the level-of-service (LOS) attributes for the various alternatives.  Many times, these LOS attributes come in the form of \n",
    "\"skims\".  Skims are typically a bunch of square arrays, showing the cost or time or other \n",
    "level of service attributes between origins and destinations.  They come in a variety of formats,\n",
    "although it is increasingly common to see \"openmatrix\" (OMX) or `.omx` files used to exchange skim data\n",
    "between different tools.  To read OMX files in Python, we can use the `openmatrix` package, or an optimized\n",
    "OMX reader that's build in to Larch."
   ]
  },
  {
   "cell_type": "code",
   "execution_count": 20,
   "id": "compatible-august",
   "metadata": {
    "ExecuteTime": {
     "end_time": "2021-03-26T22:44:52.754738Z",
     "start_time": "2021-03-26T22:44:52.734639Z"
    }
   },
   "outputs": [
    {
     "data": {
      "text/plain": [
       "<larch.OMX> ⋯/SERPM8-JUPITER-AMHSKIMS.omx\n",
       " |  shape:(220, 220)\n",
       " |  data:\n",
       " |    AM_DAT_DIST      (float64)\n",
       " |    AM_DAT_FFTIME    (float64)\n",
       " |    AM_DAT_TIME      (float64)\n",
       " |    AM_DAT_TOLLCOST  (float64)\n",
       " |    AM_DAT_TOLLDIST  (float64)\n",
       " |    AM_GP_DIST       (float64)\n",
       " |    AM_GP_FFTIME     (float64)\n",
       " |    AM_GP_TIME       (float64)\n",
       " |    AM_S2NH_DIST     (float64)\n",
       " |    AM_S2NH_FFTIME   (float64)\n",
       " |    AM_S2NH_HOVDIST  (float64)\n",
       " |    AM_S2NH_TIME     (float64)\n",
       " |    AM_S2TH_DIST     (float64)\n",
       " |    AM_S2TH_FFTIME   (float64)\n",
       " |    AM_S2TH_HOVDIST  (float64)\n",
       " |    AM_S2TH_TIME     (float64)\n",
       " |    AM_S2TH_TOLLCOST (float64)\n",
       " |    AM_S2TH_TOLLDIST (float64)\n",
       " |  lookup:\n",
       " |    TAZ_ID (220 int64)"
      ]
     },
     "execution_count": 20,
     "metadata": {},
     "output_type": "execute_result"
    }
   ],
   "source": [
    "skims = larch.OMX(tt.data('SERPM8-JUPITER-AMHSKIMS'))\n",
    "skims"
   ]
  },
  {
   "cell_type": "markdown",
   "id": "generic-premium",
   "metadata": {},
   "source": [
    "The OMX file can contain two different sets of data. The \"data\" includes all the various LOS attributes, in a bunch of square arrays. The \"lookup\" includes one-dimensional arrays (vectors) that can include both meaningful data (e.g. hourly parking costs by zone) as well as metadata (e.g. the TAZ ID's).  In the file we're opened, there's only those ID's.  We can get a little more technical detail about each data item by inspecting them individually in our Jupyter notebook."
   ]
  },
  {
   "cell_type": "code",
   "execution_count": 21,
   "id": "pressing-fight",
   "metadata": {
    "ExecuteTime": {
     "end_time": "2021-03-26T22:44:52.759346Z",
     "start_time": "2021-03-26T22:44:52.756171Z"
    }
   },
   "outputs": [
    {
     "data": {
      "text/plain": [
       "/lookup/TAZ_ID (CArray(220,), shuffle, zlib(1)) ''\n",
       "  atom := Int64Atom(shape=(), dflt=0)\n",
       "  maindim := 0\n",
       "  flavor := 'numpy'\n",
       "  byteorder := 'little'\n",
       "  chunkshape := (8192,)"
      ]
     },
     "execution_count": 21,
     "metadata": {},
     "output_type": "execute_result"
    }
   ],
   "source": [
    "skims.lookup['TAZ_ID']"
   ]
  },
  {
   "cell_type": "markdown",
   "id": "fatty-morgan",
   "metadata": {},
   "source": [
    "If we add a slice all operation (`[:]`) we can load the actual data into memory as a numpy array."
   ]
  },
  {
   "cell_type": "code",
   "execution_count": 22,
   "id": "peaceful-regard",
   "metadata": {
    "ExecuteTime": {
     "end_time": "2021-03-26T22:44:52.764710Z",
     "start_time": "2021-03-26T22:44:52.760811Z"
    }
   },
   "outputs": [
    {
     "data": {
      "text/plain": [
       "array([   1,    2,    3,    4,    5,    6,    7,    8,    9,   10,   11,\n",
       "         12,   13,   14,   15,   16,   17,   18,   19,   20,   21,   22,\n",
       "         23,   24,   25,   26,   27,   28,   29,   30,   31,   32,   33,\n",
       "         34,   35,   36,   37,   38,   39,   40,   41,   42,   43,   44,\n",
       "         45,   46,   47,   48,   49,   50,   51,   52,   53,   54,   55,\n",
       "         56,   57,   58,   59,   60,   61,   62,   63,   64,   65,   66,\n",
       "         67,   68,   69,   70,   71,   72,   73,   74,   75,   80,   81,\n",
       "         82,   83,   84,   87,   88,   89,   90,   91,   92,   93,   95,\n",
       "         98,   99,  100,  101,  102,  103,  792,  793,  794,  795,  796,\n",
       "        797,  798,  799,  800,  825,  831,  832,  833,  834,  835,  836,\n",
       "        837,  838,  839,  840,  841,  842,  843,  844,  845,  846,  847,\n",
       "        848,  849,  850,  851,  852,  853,  885,  886,  887,  888,  889,\n",
       "        890,  891,  892,  893, 1067, 1068, 1103, 1104, 1105, 1106, 1120,\n",
       "       1121, 1122, 1123, 1124, 1125, 1126, 1127, 1128, 1129, 1130, 1131,\n",
       "       1132, 1133, 1134, 1135, 1136, 1137, 1138, 1139, 1140, 1141, 1142,\n",
       "       1143, 1144, 1145, 1146, 1147, 1148, 1149, 1150, 1151, 1152, 1153,\n",
       "       1154, 1155, 1156, 1157, 1158, 1159, 1160, 1161, 1162, 1163, 1164,\n",
       "       1165, 1166, 1167, 1168, 1169, 1170, 1171, 1477, 1478, 1503, 1504,\n",
       "       1505, 1506, 1507, 1508, 1509, 1510, 1518, 1519, 1520, 1521, 1522,\n",
       "       1523, 1543, 1544, 1546, 1547, 1567, 1568, 1569, 1570, 1571, 1588])"
      ]
     },
     "execution_count": 22,
     "metadata": {},
     "output_type": "execute_result"
    }
   ],
   "source": [
    "skims.lookup['TAZ_ID'][:]"
   ]
  },
  {
   "cell_type": "markdown",
   "id": "affiliated-daily",
   "metadata": {},
   "source": [
    "This OMX file only includes skims between 220 zones around Jupiter, and not the whole SERPM region, so the TAZ ID's are not a contiguous set of integers. Therefore, if we want to work with this data we have to map our known TAZ ID's to this discontinuous set.  Even if it was continuous, we'd still need to create a mapping, as TAZ ID's typically start at 1 but array indexing in Python starts at zero."
   ]
  },
  {
   "cell_type": "code",
   "execution_count": 23,
   "id": "political-textbook",
   "metadata": {
    "ExecuteTime": {
     "end_time": "2021-03-26T22:44:52.779706Z",
     "start_time": "2021-03-26T22:44:52.769271Z"
    }
   },
   "outputs": [
    {
     "data": {
      "text/html": [
       "<div>\n",
       "<style scoped>\n",
       "    .dataframe tbody tr th:only-of-type {\n",
       "        vertical-align: middle;\n",
       "    }\n",
       "\n",
       "    .dataframe tbody tr th {\n",
       "        vertical-align: top;\n",
       "    }\n",
       "\n",
       "    .dataframe thead th {\n",
       "        text-align: right;\n",
       "    }\n",
       "</style>\n",
       "<table border=\"1\" class=\"dataframe\">\n",
       "  <thead>\n",
       "    <tr style=\"text-align: right;\">\n",
       "      <th></th>\n",
       "      <th>orig_x</th>\n",
       "      <th>orig_y</th>\n",
       "      <th>dest_x</th>\n",
       "      <th>dest_y</th>\n",
       "      <th>otaz</th>\n",
       "      <th>dtaz</th>\n",
       "      <th>otaz_ix</th>\n",
       "      <th>dtaz_ix</th>\n",
       "    </tr>\n",
       "    <tr>\n",
       "      <th>caseid</th>\n",
       "      <th></th>\n",
       "      <th></th>\n",
       "      <th></th>\n",
       "      <th></th>\n",
       "      <th></th>\n",
       "      <th></th>\n",
       "      <th></th>\n",
       "      <th></th>\n",
       "    </tr>\n",
       "  </thead>\n",
       "  <tbody>\n",
       "    <tr>\n",
       "      <th>1</th>\n",
       "      <td>946907</td>\n",
       "      <td>925689</td>\n",
       "      <td>884665</td>\n",
       "      <td>494832</td>\n",
       "      <td>1129</td>\n",
       "      <td>1122</td>\n",
       "      <td>151</td>\n",
       "      <td>144</td>\n",
       "    </tr>\n",
       "    <tr>\n",
       "      <th>2</th>\n",
       "      <td>952193</td>\n",
       "      <td>945628</td>\n",
       "      <td>892053</td>\n",
       "      <td>478115</td>\n",
       "      <td>1141</td>\n",
       "      <td>1136</td>\n",
       "      <td>163</td>\n",
       "      <td>158</td>\n",
       "    </tr>\n",
       "    <tr>\n",
       "      <th>3</th>\n",
       "      <td>889200</td>\n",
       "      <td>491106</td>\n",
       "      <td>959298</td>\n",
       "      <td>919813</td>\n",
       "      <td>1132</td>\n",
       "      <td>1144</td>\n",
       "      <td>154</td>\n",
       "      <td>166</td>\n",
       "    </tr>\n",
       "    <tr>\n",
       "      <th>4</th>\n",
       "      <td>877274</td>\n",
       "      <td>476391</td>\n",
       "      <td>947965</td>\n",
       "      <td>925746</td>\n",
       "      <td>1149</td>\n",
       "      <td>1129</td>\n",
       "      <td>171</td>\n",
       "      <td>151</td>\n",
       "    </tr>\n",
       "  </tbody>\n",
       "</table>\n",
       "</div>"
      ],
      "text/plain": [
       "        orig_x  orig_y  dest_x  dest_y  otaz  dtaz  otaz_ix  dtaz_ix\n",
       "caseid                                                              \n",
       "1       946907  925689  884665  494832  1129  1122      151      144\n",
       "2       952193  945628  892053  478115  1141  1136      163      158\n",
       "3       889200  491106  959298  919813  1132  1144      154      166\n",
       "4       877274  476391  947965  925746  1149  1129      171      151"
      ]
     },
     "execution_count": 23,
     "metadata": {},
     "output_type": "execute_result"
    }
   ],
   "source": [
    "taz_idx_map = {i: n for n, i in enumerate(skims.lookup['TAZ_ID'])}\n",
    "trips['otaz_ix'] = trips['otaz'].map(taz_idx_map)\n",
    "trips['dtaz_ix'] = trips['dtaz'].map(taz_idx_map)\n",
    "trips"
   ]
  },
  {
   "cell_type": "markdown",
   "id": "partial-panel",
   "metadata": {},
   "source": [
    "The \"data\" within the OMX file can also be accessed as if it is a dictionary of numpy arrays.  Each dictionary value isn't actually an array, but it exposes a very similar interface, and can be used to read arrays directly into memory."
   ]
  },
  {
   "cell_type": "code",
   "execution_count": 24,
   "id": "metric-starter",
   "metadata": {
    "ExecuteTime": {
     "end_time": "2021-03-26T22:44:52.787438Z",
     "start_time": "2021-03-26T22:44:52.782214Z"
    },
    "scrolled": true
   },
   "outputs": [
    {
     "data": {
      "text/plain": [
       "array([[ 1.992, 12.103,  8.116, ..., 11.371, 10.829, 11.093],\n",
       "       [12.214,  2.516,  7.268, ..., 13.318, 14.36 ,  9.679],\n",
       "       [ 8.258,  7.298,  2.491, ..., 11.785, 11.244, 11.507],\n",
       "       ...,\n",
       "       [11.287, 13.159, 11.56 , ...,  1.566,  3.523,  5.554],\n",
       "       [10.714, 14.16 , 10.986, ...,  3.531,  1.216,  6.555],\n",
       "       [11.168,  9.58 , 11.441, ...,  5.686,  6.727,  0.985]])"
      ]
     },
     "execution_count": 24,
     "metadata": {},
     "output_type": "execute_result"
    }
   ],
   "source": [
    "skims[\"AM_GP_TIME\"][:]"
   ]
  },
  {
   "cell_type": "markdown",
   "id": "going-sailing",
   "metadata": {},
   "source": [
    "When we are building a discrete choice model for travel behavior, it is pretty common to need to attach individual values from the skims onto a table of data.  For example, we have our table of trip observations, which contains a number of trips with the origin and destination zones coded.  We can pass the columns of origin and destination zone indexes as the two dimensions of indexing, and get back a same-size set of values extracted from that array."
   ]
  },
  {
   "cell_type": "code",
   "execution_count": 25,
   "id": "covered-ordering",
   "metadata": {
    "ExecuteTime": {
     "end_time": "2021-03-26T22:44:52.792867Z",
     "start_time": "2021-03-26T22:44:52.788848Z"
    }
   },
   "outputs": [
    {
     "data": {
      "text/plain": [
       "array([15.411,  6.582,  6.038,  7.752])"
      ]
     },
     "execution_count": 25,
     "metadata": {},
     "output_type": "execute_result"
    }
   ],
   "source": [
    "skims[\"AM_GP_TIME\"][trips.otaz_ix, trips.dtaz_ix]"
   ]
  },
  {
   "cell_type": "markdown",
   "id": "fifth-september",
   "metadata": {},
   "source": [
    "We'll probably want to attach many values from a single set of skims, and the `OMX` reader in Larch\n",
    "offers a convenience method to get all of them in a single command."
   ]
  },
  {
   "cell_type": "code",
   "execution_count": 26,
   "id": "religious-publicity",
   "metadata": {
    "ExecuteTime": {
     "end_time": "2021-03-26T22:44:52.823324Z",
     "start_time": "2021-03-26T22:44:52.794283Z"
    },
    "scrolled": true
   },
   "outputs": [
    {
     "data": {
      "text/html": [
       "<div>\n",
       "<style scoped>\n",
       "    .dataframe tbody tr th:only-of-type {\n",
       "        vertical-align: middle;\n",
       "    }\n",
       "\n",
       "    .dataframe tbody tr th {\n",
       "        vertical-align: top;\n",
       "    }\n",
       "\n",
       "    .dataframe thead th {\n",
       "        text-align: right;\n",
       "    }\n",
       "</style>\n",
       "<table border=\"1\" class=\"dataframe\">\n",
       "  <thead>\n",
       "    <tr style=\"text-align: right;\">\n",
       "      <th></th>\n",
       "      <th>AM_DAT_DIST</th>\n",
       "      <th>AM_DAT_FFTIME</th>\n",
       "      <th>AM_DAT_TIME</th>\n",
       "      <th>AM_DAT_TOLLCOST</th>\n",
       "      <th>AM_DAT_TOLLDIST</th>\n",
       "      <th>AM_GP_DIST</th>\n",
       "      <th>AM_GP_FFTIME</th>\n",
       "      <th>AM_GP_TIME</th>\n",
       "      <th>AM_S2NH_DIST</th>\n",
       "      <th>AM_S2NH_FFTIME</th>\n",
       "      <th>AM_S2NH_HOVDIST</th>\n",
       "      <th>AM_S2NH_TIME</th>\n",
       "      <th>AM_S2TH_DIST</th>\n",
       "      <th>AM_S2TH_FFTIME</th>\n",
       "      <th>AM_S2TH_HOVDIST</th>\n",
       "      <th>AM_S2TH_TIME</th>\n",
       "      <th>AM_S2TH_TOLLCOST</th>\n",
       "      <th>AM_S2TH_TOLLDIST</th>\n",
       "    </tr>\n",
       "    <tr>\n",
       "      <th>caseid</th>\n",
       "      <th></th>\n",
       "      <th></th>\n",
       "      <th></th>\n",
       "      <th></th>\n",
       "      <th></th>\n",
       "      <th></th>\n",
       "      <th></th>\n",
       "      <th></th>\n",
       "      <th></th>\n",
       "      <th></th>\n",
       "      <th></th>\n",
       "      <th></th>\n",
       "      <th></th>\n",
       "      <th></th>\n",
       "      <th></th>\n",
       "      <th></th>\n",
       "      <th></th>\n",
       "      <th></th>\n",
       "    </tr>\n",
       "  </thead>\n",
       "  <tbody>\n",
       "    <tr>\n",
       "      <th>1</th>\n",
       "      <td>7.384</td>\n",
       "      <td>15.406</td>\n",
       "      <td>15.411</td>\n",
       "      <td>0.0</td>\n",
       "      <td>0.0</td>\n",
       "      <td>7.384</td>\n",
       "      <td>15.406</td>\n",
       "      <td>15.411</td>\n",
       "      <td>7.384</td>\n",
       "      <td>15.406</td>\n",
       "      <td>0.0</td>\n",
       "      <td>15.411</td>\n",
       "      <td>7.384</td>\n",
       "      <td>15.406</td>\n",
       "      <td>0.0</td>\n",
       "      <td>15.411</td>\n",
       "      <td>0.0</td>\n",
       "      <td>0.0</td>\n",
       "    </tr>\n",
       "    <tr>\n",
       "      <th>2</th>\n",
       "      <td>3.540</td>\n",
       "      <td>6.478</td>\n",
       "      <td>6.582</td>\n",
       "      <td>0.0</td>\n",
       "      <td>0.0</td>\n",
       "      <td>3.540</td>\n",
       "      <td>6.478</td>\n",
       "      <td>6.582</td>\n",
       "      <td>3.540</td>\n",
       "      <td>6.478</td>\n",
       "      <td>0.0</td>\n",
       "      <td>6.582</td>\n",
       "      <td>3.540</td>\n",
       "      <td>6.478</td>\n",
       "      <td>0.0</td>\n",
       "      <td>6.582</td>\n",
       "      <td>0.0</td>\n",
       "      <td>0.0</td>\n",
       "    </tr>\n",
       "    <tr>\n",
       "      <th>3</th>\n",
       "      <td>3.245</td>\n",
       "      <td>6.013</td>\n",
       "      <td>6.038</td>\n",
       "      <td>0.0</td>\n",
       "      <td>0.0</td>\n",
       "      <td>3.245</td>\n",
       "      <td>6.013</td>\n",
       "      <td>6.038</td>\n",
       "      <td>3.245</td>\n",
       "      <td>6.013</td>\n",
       "      <td>0.0</td>\n",
       "      <td>6.038</td>\n",
       "      <td>3.245</td>\n",
       "      <td>6.013</td>\n",
       "      <td>0.0</td>\n",
       "      <td>6.038</td>\n",
       "      <td>0.0</td>\n",
       "      <td>0.0</td>\n",
       "    </tr>\n",
       "    <tr>\n",
       "      <th>4</th>\n",
       "      <td>4.343</td>\n",
       "      <td>7.732</td>\n",
       "      <td>7.752</td>\n",
       "      <td>0.0</td>\n",
       "      <td>0.0</td>\n",
       "      <td>4.343</td>\n",
       "      <td>7.732</td>\n",
       "      <td>7.752</td>\n",
       "      <td>4.343</td>\n",
       "      <td>7.732</td>\n",
       "      <td>0.0</td>\n",
       "      <td>7.752</td>\n",
       "      <td>4.343</td>\n",
       "      <td>7.732</td>\n",
       "      <td>0.0</td>\n",
       "      <td>7.752</td>\n",
       "      <td>0.0</td>\n",
       "      <td>0.0</td>\n",
       "    </tr>\n",
       "  </tbody>\n",
       "</table>\n",
       "</div>"
      ],
      "text/plain": [
       "        AM_DAT_DIST  AM_DAT_FFTIME  AM_DAT_TIME  AM_DAT_TOLLCOST  \\\n",
       "caseid                                                             \n",
       "1             7.384         15.406       15.411              0.0   \n",
       "2             3.540          6.478        6.582              0.0   \n",
       "3             3.245          6.013        6.038              0.0   \n",
       "4             4.343          7.732        7.752              0.0   \n",
       "\n",
       "        AM_DAT_TOLLDIST  AM_GP_DIST  AM_GP_FFTIME  AM_GP_TIME  AM_S2NH_DIST  \\\n",
       "caseid                                                                        \n",
       "1                   0.0       7.384        15.406      15.411         7.384   \n",
       "2                   0.0       3.540         6.478       6.582         3.540   \n",
       "3                   0.0       3.245         6.013       6.038         3.245   \n",
       "4                   0.0       4.343         7.732       7.752         4.343   \n",
       "\n",
       "        AM_S2NH_FFTIME  AM_S2NH_HOVDIST  AM_S2NH_TIME  AM_S2TH_DIST  \\\n",
       "caseid                                                                \n",
       "1               15.406              0.0        15.411         7.384   \n",
       "2                6.478              0.0         6.582         3.540   \n",
       "3                6.013              0.0         6.038         3.245   \n",
       "4                7.732              0.0         7.752         4.343   \n",
       "\n",
       "        AM_S2TH_FFTIME  AM_S2TH_HOVDIST  AM_S2TH_TIME  AM_S2TH_TOLLCOST  \\\n",
       "caseid                                                                    \n",
       "1               15.406              0.0        15.411               0.0   \n",
       "2                6.478              0.0         6.582               0.0   \n",
       "3                6.013              0.0         6.038               0.0   \n",
       "4                7.732              0.0         7.752               0.0   \n",
       "\n",
       "        AM_S2TH_TOLLDIST  \n",
       "caseid                    \n",
       "1                    0.0  \n",
       "2                    0.0  \n",
       "3                    0.0  \n",
       "4                    0.0  "
      ]
     },
     "execution_count": 26,
     "metadata": {},
     "output_type": "execute_result"
    }
   ],
   "source": [
    "skims_for_trips = skims.get_rc_dataframe(trips.otaz_ix, trips.dtaz_ix)\n",
    "skims_for_trips"
   ]
  },
  {
   "cell_type": "markdown",
   "id": "dramatic-korean",
   "metadata": {},
   "source": [
    "If we want, we can concatenate the result with our original trips DataFrame, and have one large table to work."
   ]
  },
  {
   "cell_type": "code",
   "execution_count": 27,
   "id": "little-pharmaceutical",
   "metadata": {
    "ExecuteTime": {
     "end_time": "2021-03-26T22:44:52.841833Z",
     "start_time": "2021-03-26T22:44:52.824851Z"
    }
   },
   "outputs": [
    {
     "data": {
      "text/html": [
       "<div>\n",
       "<style scoped>\n",
       "    .dataframe tbody tr th:only-of-type {\n",
       "        vertical-align: middle;\n",
       "    }\n",
       "\n",
       "    .dataframe tbody tr th {\n",
       "        vertical-align: top;\n",
       "    }\n",
       "\n",
       "    .dataframe thead th {\n",
       "        text-align: right;\n",
       "    }\n",
       "</style>\n",
       "<table border=\"1\" class=\"dataframe\">\n",
       "  <thead>\n",
       "    <tr style=\"text-align: right;\">\n",
       "      <th></th>\n",
       "      <th>orig_x</th>\n",
       "      <th>orig_y</th>\n",
       "      <th>dest_x</th>\n",
       "      <th>dest_y</th>\n",
       "      <th>otaz</th>\n",
       "      <th>dtaz</th>\n",
       "      <th>otaz_ix</th>\n",
       "      <th>dtaz_ix</th>\n",
       "      <th>AM_DAT_DIST</th>\n",
       "      <th>AM_DAT_FFTIME</th>\n",
       "      <th>...</th>\n",
       "      <th>AM_S2NH_DIST</th>\n",
       "      <th>AM_S2NH_FFTIME</th>\n",
       "      <th>AM_S2NH_HOVDIST</th>\n",
       "      <th>AM_S2NH_TIME</th>\n",
       "      <th>AM_S2TH_DIST</th>\n",
       "      <th>AM_S2TH_FFTIME</th>\n",
       "      <th>AM_S2TH_HOVDIST</th>\n",
       "      <th>AM_S2TH_TIME</th>\n",
       "      <th>AM_S2TH_TOLLCOST</th>\n",
       "      <th>AM_S2TH_TOLLDIST</th>\n",
       "    </tr>\n",
       "    <tr>\n",
       "      <th>caseid</th>\n",
       "      <th></th>\n",
       "      <th></th>\n",
       "      <th></th>\n",
       "      <th></th>\n",
       "      <th></th>\n",
       "      <th></th>\n",
       "      <th></th>\n",
       "      <th></th>\n",
       "      <th></th>\n",
       "      <th></th>\n",
       "      <th></th>\n",
       "      <th></th>\n",
       "      <th></th>\n",
       "      <th></th>\n",
       "      <th></th>\n",
       "      <th></th>\n",
       "      <th></th>\n",
       "      <th></th>\n",
       "      <th></th>\n",
       "      <th></th>\n",
       "      <th></th>\n",
       "    </tr>\n",
       "  </thead>\n",
       "  <tbody>\n",
       "    <tr>\n",
       "      <th>1</th>\n",
       "      <td>946907</td>\n",
       "      <td>925689</td>\n",
       "      <td>884665</td>\n",
       "      <td>494832</td>\n",
       "      <td>1129</td>\n",
       "      <td>1122</td>\n",
       "      <td>151</td>\n",
       "      <td>144</td>\n",
       "      <td>7.384</td>\n",
       "      <td>15.406</td>\n",
       "      <td>...</td>\n",
       "      <td>7.384</td>\n",
       "      <td>15.406</td>\n",
       "      <td>0.0</td>\n",
       "      <td>15.411</td>\n",
       "      <td>7.384</td>\n",
       "      <td>15.406</td>\n",
       "      <td>0.0</td>\n",
       "      <td>15.411</td>\n",
       "      <td>0.0</td>\n",
       "      <td>0.0</td>\n",
       "    </tr>\n",
       "    <tr>\n",
       "      <th>2</th>\n",
       "      <td>952193</td>\n",
       "      <td>945628</td>\n",
       "      <td>892053</td>\n",
       "      <td>478115</td>\n",
       "      <td>1141</td>\n",
       "      <td>1136</td>\n",
       "      <td>163</td>\n",
       "      <td>158</td>\n",
       "      <td>3.540</td>\n",
       "      <td>6.478</td>\n",
       "      <td>...</td>\n",
       "      <td>3.540</td>\n",
       "      <td>6.478</td>\n",
       "      <td>0.0</td>\n",
       "      <td>6.582</td>\n",
       "      <td>3.540</td>\n",
       "      <td>6.478</td>\n",
       "      <td>0.0</td>\n",
       "      <td>6.582</td>\n",
       "      <td>0.0</td>\n",
       "      <td>0.0</td>\n",
       "    </tr>\n",
       "    <tr>\n",
       "      <th>3</th>\n",
       "      <td>889200</td>\n",
       "      <td>491106</td>\n",
       "      <td>959298</td>\n",
       "      <td>919813</td>\n",
       "      <td>1132</td>\n",
       "      <td>1144</td>\n",
       "      <td>154</td>\n",
       "      <td>166</td>\n",
       "      <td>3.245</td>\n",
       "      <td>6.013</td>\n",
       "      <td>...</td>\n",
       "      <td>3.245</td>\n",
       "      <td>6.013</td>\n",
       "      <td>0.0</td>\n",
       "      <td>6.038</td>\n",
       "      <td>3.245</td>\n",
       "      <td>6.013</td>\n",
       "      <td>0.0</td>\n",
       "      <td>6.038</td>\n",
       "      <td>0.0</td>\n",
       "      <td>0.0</td>\n",
       "    </tr>\n",
       "    <tr>\n",
       "      <th>4</th>\n",
       "      <td>877274</td>\n",
       "      <td>476391</td>\n",
       "      <td>947965</td>\n",
       "      <td>925746</td>\n",
       "      <td>1149</td>\n",
       "      <td>1129</td>\n",
       "      <td>171</td>\n",
       "      <td>151</td>\n",
       "      <td>4.343</td>\n",
       "      <td>7.732</td>\n",
       "      <td>...</td>\n",
       "      <td>4.343</td>\n",
       "      <td>7.732</td>\n",
       "      <td>0.0</td>\n",
       "      <td>7.752</td>\n",
       "      <td>4.343</td>\n",
       "      <td>7.732</td>\n",
       "      <td>0.0</td>\n",
       "      <td>7.752</td>\n",
       "      <td>0.0</td>\n",
       "      <td>0.0</td>\n",
       "    </tr>\n",
       "  </tbody>\n",
       "</table>\n",
       "<p>4 rows × 26 columns</p>\n",
       "</div>"
      ],
      "text/plain": [
       "        orig_x  orig_y  dest_x  dest_y  otaz  dtaz  otaz_ix  dtaz_ix  \\\n",
       "caseid                                                                 \n",
       "1       946907  925689  884665  494832  1129  1122      151      144   \n",
       "2       952193  945628  892053  478115  1141  1136      163      158   \n",
       "3       889200  491106  959298  919813  1132  1144      154      166   \n",
       "4       877274  476391  947965  925746  1149  1129      171      151   \n",
       "\n",
       "        AM_DAT_DIST  AM_DAT_FFTIME  ...  AM_S2NH_DIST  AM_S2NH_FFTIME  \\\n",
       "caseid                              ...                                 \n",
       "1             7.384         15.406  ...         7.384          15.406   \n",
       "2             3.540          6.478  ...         3.540           6.478   \n",
       "3             3.245          6.013  ...         3.245           6.013   \n",
       "4             4.343          7.732  ...         4.343           7.732   \n",
       "\n",
       "        AM_S2NH_HOVDIST  AM_S2NH_TIME  AM_S2TH_DIST  AM_S2TH_FFTIME  \\\n",
       "caseid                                                                \n",
       "1                   0.0        15.411         7.384          15.406   \n",
       "2                   0.0         6.582         3.540           6.478   \n",
       "3                   0.0         6.038         3.245           6.013   \n",
       "4                   0.0         7.752         4.343           7.732   \n",
       "\n",
       "        AM_S2TH_HOVDIST  AM_S2TH_TIME  AM_S2TH_TOLLCOST  AM_S2TH_TOLLDIST  \n",
       "caseid                                                                     \n",
       "1                   0.0        15.411               0.0               0.0  \n",
       "2                   0.0         6.582               0.0               0.0  \n",
       "3                   0.0         6.038               0.0               0.0  \n",
       "4                   0.0         7.752               0.0               0.0  \n",
       "\n",
       "[4 rows x 26 columns]"
      ]
     },
     "execution_count": 27,
     "metadata": {},
     "output_type": "execute_result"
    }
   ],
   "source": [
    "pd.concat([trips, skims_for_trips], axis=1)"
   ]
  },
  {
   "cell_type": "markdown",
   "id": "rough-buddy",
   "metadata": {},
   "source": [
    "## Assembling Data for Estimation"
   ]
  },
  {
   "cell_type": "markdown",
   "id": "tough-astrology",
   "metadata": {},
   "source": [
    "We've got a lot of different parts of our data laid out so far.  All that's left is to assemble all this data together, to get ready from model estimation.  For estimation with Larch, there's a `DataFrames` object designed to help with exactly this."
   ]
  },
  {
   "cell_type": "code",
   "execution_count": 28,
   "id": "floating-petite",
   "metadata": {
    "ExecuteTime": {
     "end_time": "2021-03-26T22:44:52.845266Z",
     "start_time": "2021-03-26T22:44:52.843304Z"
    }
   },
   "outputs": [],
   "source": [
    "from larch import DataFrames"
   ]
  },
  {
   "cell_type": "markdown",
   "id": "remarkable-parking",
   "metadata": {},
   "source": [
    "As the basic starting point for our `DataFrames`, we can use either an `idco` or `idca` format table.\n",
    "The simplest one is the `idco` format input, as there are very few requirements for this input type.\n",
    "All we need is a DataFrame with an integer-type index (a default RangeIndex meets this requirement)."
   ]
  },
  {
   "cell_type": "code",
   "execution_count": 29,
   "id": "healthy-graph",
   "metadata": {
    "ExecuteTime": {
     "end_time": "2021-03-26T22:44:52.851760Z",
     "start_time": "2021-03-26T22:44:52.846589Z"
    }
   },
   "outputs": [
    {
     "name": "stdout",
     "output_type": "stream",
     "text": [
      "larch.DataFrames:  (not computation-ready)\n",
      "  n_cases: 4\n",
      "  n_alts: 0\n",
      "  data_ca: <not populated>\n",
      "  data_co:\n",
      "    - Income   (4 non-null int64)\n",
      "    - CarTime  (4 non-null int64)\n",
      "    - CarCost  (4 non-null int64)\n",
      "    - BusTime  (4 non-null int64)\n",
      "    - BusCost  (4 non-null int64)\n",
      "    - WalkTime (4 non-null int64)\n",
      "    - Chosen   (4 non-null object)\n"
     ]
    }
   ],
   "source": [
    "DataFrames(data_co).info(verbose=True)"
   ]
  },
  {
   "cell_type": "markdown",
   "id": "unnecessary-measure",
   "metadata": {},
   "source": [
    "If we just create our DataFrames with an `idco` table and nothing else, as we do above, \n",
    "it will work fine, although the\n",
    "resulting DataFrames object will be missing a bunch of relevant information, like how many alternatives\n",
    "are represented, what their names are, which alternative were available \n",
    "and which alternative was chosen in each case. \n",
    "We can add this information as extra arguments for the DataFrames\n",
    "constructor."
   ]
  },
  {
   "cell_type": "code",
   "execution_count": 30,
   "id": "premium-logic",
   "metadata": {
    "ExecuteTime": {
     "end_time": "2021-03-26T22:44:52.870082Z",
     "start_time": "2021-03-26T22:44:52.853030Z"
    }
   },
   "outputs": [
    {
     "name": "stdout",
     "output_type": "stream",
     "text": [
      "larch.DataFrames:  (not computation-ready)\n",
      "  n_cases: 4\n",
      "  n_alts: 3\n",
      "  data_ca: <not populated>\n",
      "  data_co:\n",
      "    - Income   (4 non-null int64)\n",
      "    - CarTime  (4 non-null int64)\n",
      "    - CarCost  (4 non-null int64)\n",
      "    - BusTime  (4 non-null int64)\n",
      "    - BusCost  (4 non-null int64)\n",
      "    - WalkTime (4 non-null int64)\n",
      "    - Chosen   (4 non-null object)\n",
      "  data_av: <populated>\n",
      "  data_ch: Chosen\n"
     ]
    }
   ],
   "source": [
    "dfs = DataFrames(\n",
    "    data_co, \n",
    "    ch='Chosen',\n",
    "    alt_codes=[1,2,3],\n",
    "    alt_names=['Car','Bus','Walk'], \n",
    "    av={\n",
    "        1: True,\n",
    "        2: True,\n",
    "        3: 'WalkTime > 0'\n",
    "    }\n",
    ")\n",
    "dfs.info(verbose=True)"
   ]
  },
  {
   "cell_type": "markdown",
   "id": "generic-moldova",
   "metadata": {},
   "source": [
    "Larch also allows us to start with `idca` data instead.  However, there are \n",
    "some more particular requirements on how the `idca` data should be formatted\n",
    "before passing it to the DataFrames constructor.  Instead of requiring a \n",
    "integer-type index, the `idca` data must have a two-level pandas MultiIndex,\n",
    "and the first level need to be an integer type, giving caseids. \n",
    "The second level gives alterative ids, and it can be a non-integer set of \n",
    "categorical values (or it can be integer code numbers).  If we ignore this, and just\n",
    "put our single-level index DataFrame into the contructor, Larch will assume it's\n",
    "actually `idco` data, as we see below where there appears to be 11 cases."
   ]
  },
  {
   "cell_type": "code",
   "execution_count": 31,
   "id": "younger-parallel",
   "metadata": {
    "ExecuteTime": {
     "end_time": "2021-03-26T22:44:52.876595Z",
     "start_time": "2021-03-26T22:44:52.871501Z"
    }
   },
   "outputs": [
    {
     "name": "stdout",
     "output_type": "stream",
     "text": [
      "larch.DataFrames:  (not computation-ready)\n",
      "  n_cases: 11\n",
      "  n_alts: 0\n",
      "  data_ca: <not populated>\n",
      "  data_co:\n",
      "    - caseid (11 non-null int64)\n",
      "    - altid  (11 non-null object)\n",
      "    - Income (11 non-null int64)\n",
      "    - Time   (11 non-null int64)\n",
      "    - Cost   (11 non-null int64)\n",
      "    - Chosen (11 non-null int64)\n"
     ]
    }
   ],
   "source": [
    "dfs = DataFrames(data_ca)\n",
    "dfs.info(verbose=True)"
   ]
  },
  {
   "cell_type": "markdown",
   "id": "frozen-sending",
   "metadata": {},
   "source": [
    "If we set our index correctly first, we'll get a better result, which shows \n",
    "11 rows in the data_ce dataframe, but only 4 cases total."
   ]
  },
  {
   "cell_type": "code",
   "execution_count": 32,
   "id": "sought-spiritual",
   "metadata": {
    "ExecuteTime": {
     "end_time": "2021-03-26T22:44:52.888877Z",
     "start_time": "2021-03-26T22:44:52.877969Z"
    }
   },
   "outputs": [
    {
     "name": "stdout",
     "output_type": "stream",
     "text": [
      "larch.DataFrames:  (not computation-ready)\n",
      "  n_cases: 4\n",
      "  n_alts: 3\n",
      "  data_ce: 11 rows\n",
      "    - Income (11 non-null int64)\n",
      "    - Time   (11 non-null int64)\n",
      "    - Cost   (11 non-null int64)\n",
      "    - Chosen (11 non-null int64)\n",
      "  data_co: <not populated>\n",
      "  data_av: <populated>\n"
     ]
    }
   ],
   "source": [
    "dfs = DataFrames(data_ca.set_index(['caseid','altid']))\n",
    "dfs.info(verbose=True)"
   ]
  },
  {
   "cell_type": "markdown",
   "id": "geographic-signature",
   "metadata": {
    "ExecuteTime": {
     "end_time": "2021-02-22T20:17:07.061558Z",
     "start_time": "2021-02-22T20:17:07.058984Z"
    }
   },
   "source": [
    "Here, Larch has detected the alternative names given in the second level of the \n",
    "index, and makes them available later."
   ]
  },
  {
   "cell_type": "code",
   "execution_count": 33,
   "id": "expired-order",
   "metadata": {
    "ExecuteTime": {
     "end_time": "2021-03-26T22:44:52.893116Z",
     "start_time": "2021-03-26T22:44:52.890352Z"
    }
   },
   "outputs": [
    {
     "data": {
      "text/plain": [
       "['Bus', 'Car', 'Walk']"
      ]
     },
     "execution_count": 33,
     "metadata": {},
     "output_type": "execute_result"
    }
   ],
   "source": [
    "dfs.alternative_names()"
   ]
  },
  {
   "cell_type": "markdown",
   "id": "grave-falls",
   "metadata": {
    "ExecuteTime": {
     "end_time": "2021-02-22T20:22:49.389741Z",
     "start_time": "2021-02-22T20:22:49.385887Z"
    }
   },
   "source": [
    "Also, you might note that Larch has automatically detected that the provided\n",
    "dataframe is in sparse-format and stored it not as `data_ca` but instead as `data_ce`.\n",
    "If we use actual dense-format inputs, we'll get a DataFrames object that uses the \n",
    "dense `data_ca`."
   ]
  },
  {
   "cell_type": "code",
   "execution_count": 34,
   "id": "balanced-american",
   "metadata": {
    "ExecuteTime": {
     "end_time": "2021-03-26T22:44:52.902704Z",
     "start_time": "2021-03-26T22:44:52.894529Z"
    }
   },
   "outputs": [
    {
     "name": "stdout",
     "output_type": "stream",
     "text": [
      "larch.DataFrames:  (not computation-ready)\n",
      "  n_cases: 4\n",
      "  n_alts: 3\n",
      "  data_ca:\n",
      "    - Chosen (12 non-null float64)\n",
      "    - Cost   (8 non-null object)\n",
      "    - Income (12 non-null int64)\n",
      "    - Time   (12 non-null object)\n",
      "  data_co: <not populated>\n"
     ]
    }
   ],
   "source": [
    "dfs = DataFrames(forced_ca)\n",
    "dfs.info(verbose=True)"
   ]
  },
  {
   "cell_type": "markdown",
   "id": "worth-movie",
   "metadata": {
    "ExecuteTime": {
     "end_time": "2021-02-22T21:44:45.445816Z",
     "start_time": "2021-02-22T21:44:45.442139Z"
    }
   },
   "source": [
    "Although Larch can auto-detect the alternatives when loading data in `idca` format, \n",
    "it can't auto-detect which column contains the \"choice\" data. And when we provide \n",
    "dense-format inputs, Larch also can't infer availablity without help. Just as we provided\n",
    "some helpful hints to fill in the gaps for the `idco` input, we can do so for the\n",
    "`idca` input as well."
   ]
  },
  {
   "cell_type": "code",
   "execution_count": 35,
   "id": "original-break",
   "metadata": {
    "ExecuteTime": {
     "end_time": "2021-03-26T22:44:52.915908Z",
     "start_time": "2021-03-26T22:44:52.904057Z"
    }
   },
   "outputs": [
    {
     "name": "stdout",
     "output_type": "stream",
     "text": [
      "larch.DataFrames:  (not computation-ready)\n",
      "  n_cases: 4\n",
      "  n_alts: 3\n",
      "  data_ca:\n",
      "    - Chosen (12 non-null float64)\n",
      "    - Cost   (8 non-null object)\n",
      "    - Income (12 non-null int64)\n",
      "    - Time   (12 non-null object)\n",
      "  data_co: <not populated>\n",
      "  data_av: Time>0\n",
      "  data_ch: Chosen\n"
     ]
    }
   ],
   "source": [
    "dfs = DataFrames(forced_ca, ch='Chosen', av='Time>0')\n",
    "dfs.info(verbose=True)"
   ]
  },
  {
   "cell_type": "markdown",
   "id": "nasty-belief",
   "metadata": {},
   "source": [
    "When loading `idca` data, we can opt to let Larch automatically identify data columns that\n",
    "do not vary within observations (and therefore can be represented more succinctly as `idco` data),\n",
    "and \"crack\" the data into its contituent `idca` and `idco` parts. For efficiency reasons, only \n",
    "numeric columns are processed in this manner, so if we want it to work as expected we need\n",
    "to ensure all our numeric data is actually stored in numeric dtypes."
   ]
  },
  {
   "cell_type": "code",
   "execution_count": 36,
   "id": "patient-specification",
   "metadata": {
    "ExecuteTime": {
     "end_time": "2021-03-26T22:44:52.934979Z",
     "start_time": "2021-03-26T22:44:52.917201Z"
    }
   },
   "outputs": [
    {
     "name": "stdout",
     "output_type": "stream",
     "text": [
      "larch.DataFrames:\n",
      "  n_cases: 4\n",
      "  n_alts: 3\n",
      "  data_ca:\n",
      "    - Chosen (12 non-null float64)\n",
      "    - Cost   (8 non-null float64)\n",
      "    - Time   (12 non-null float64)\n",
      "  data_co:\n",
      "    - Income (4 non-null float64)\n",
      "  data_av: Time>0\n",
      "  data_ch: Chosen\n"
     ]
    }
   ],
   "source": [
    "dfs = DataFrames(forced_ca.astype(np.float64), ch='Chosen', av='Time>0', crack=True)\n",
    "dfs.info(verbose=True)"
   ]
  },
  {
   "cell_type": "markdown",
   "id": "statutory-muslim",
   "metadata": {},
   "source": [
    "If you've noticed the \"not computation-ready\" indicators on the various \n",
    "output above, you might also have noticed that this last DataFrames is\n",
    "the first that doesn't bear that mark. These flags\n",
    "are a result of one or more data columns that are not presently stored\n",
    "in double precision or \"float64\" format, and for this last DataFrames\n",
    "we forced all the data into the correct format. It's not a big problem if\n",
    "we don't do so, as Larch will automatically \n",
    "convert data into this format when you try to estimate a model."
   ]
  },
  {
   "cell_type": "markdown",
   "id": "smoking-tsunami",
   "metadata": {
    "ExecuteTime": {
     "end_time": "2021-02-23T00:33:55.608333Z",
     "start_time": "2021-02-23T00:33:55.606487Z"
    }
   },
   "source": [
    "## Data Subsets\n",
    "\n",
    "Sometimes, you'll assemble a full DataFrames based on a \"complete\" dataset, but you'll \n",
    "only want to work on a discrete choice model for a subset of the data.  This can happen,\n",
    "for example, if you build the DataFrames off the \"trips\" table from a household travel\n",
    "survey, but you want to estimate a mode choice model only for home-based work trips.\n",
    "\n",
    "When the query filter for the dataset you want can be expressed as a function of the \n",
    "`data_co` in a Dataframes, you can use the `selector_co` method to make a new DataFrames\n",
    "that is the correct subset of all your data -- `idca`, choice, availability, and weighting\n",
    "data are also sliced along with the `idco` data."
   ]
  },
  {
   "cell_type": "code",
   "execution_count": 37,
   "id": "better-citizen",
   "metadata": {
    "ExecuteTime": {
     "end_time": "2021-03-26T22:44:52.952338Z",
     "start_time": "2021-03-26T22:44:52.936452Z"
    }
   },
   "outputs": [
    {
     "name": "stdout",
     "output_type": "stream",
     "text": [
      "larch.DataFrames:\n",
      "  n_cases: 2\n",
      "  n_alts: 3\n",
      "  data_ca:\n",
      "    - Chosen (6 non-null float64)\n",
      "    - Cost   (4 non-null float64)\n",
      "    - Time   (6 non-null float64)\n",
      "  data_co:\n",
      "    - Income (2 non-null float64)\n",
      "  data_av: <populated>\n",
      "  data_ch: <populated>\n"
     ]
    }
   ],
   "source": [
    "dfs1 = dfs.selector_co(\"Income > 35_000\")\n",
    "dfs1.info(verbose=True)"
   ]
  }
 ],
 "metadata": {
  "kernelspec": {
   "display_name": "Python 3",
   "language": "python",
   "name": "python3"
  },
  "language_info": {
   "codemirror_mode": {
    "name": "ipython",
    "version": 3
   },
   "file_extension": ".py",
   "mimetype": "text/x-python",
   "name": "python",
   "nbconvert_exporter": "python",
   "pygments_lexer": "ipython3",
   "version": "3.8.6"
  },
  "toc": {
   "base_numbering": 1,
   "nav_menu": {},
   "number_sections": true,
   "sideBar": true,
   "skip_h1_title": false,
   "title_cell": "Table of Contents",
   "title_sidebar": "Contents",
   "toc_cell": false,
   "toc_position": {},
   "toc_section_display": true,
   "toc_window_display": true
  }
 },
 "nbformat": 4,
 "nbformat_minor": 5
}
