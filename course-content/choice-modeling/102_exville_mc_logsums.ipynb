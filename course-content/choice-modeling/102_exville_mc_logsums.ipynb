{
 "cells": [
  {
   "cell_type": "markdown",
   "metadata": {},
   "source": [
    "## Exampville Mode Choice Logsums\n",
    "\n",
    "In this notebook, we will walk through the creation of logsums from a tour mode choice model.\n",
    "This example will assume the reader is familiar with the mathematical basics of discrete choice\n",
    "modeling generally, and will focus on the technical aspects of estimating the parameters\n",
    "of a discrete choice model in Python using Larch."
   ]
  },
  {
   "cell_type": "code",
   "execution_count": 1,
   "metadata": {},
   "outputs": [],
   "source": [
    "import larch, numpy, pandas, os"
   ]
  },
  {
   "cell_type": "markdown",
   "metadata": {},
   "source": [
    "To begin, we will re-load the data files from our tour mode choice example."
   ]
  },
  {
   "cell_type": "code",
   "execution_count": 2,
   "metadata": {},
   "outputs": [],
   "source": [
    "import larch.exampville\n",
    "hh = pandas.read_csv( larch.exampville.files.hh )\n",
    "pp = pandas.read_csv( larch.exampville.files.person )\n",
    "tour = pandas.read_csv( larch.exampville.files.tour )\n",
    "skims = larch.OMX( larch.exampville.files.skims, mode='r' )"
   ]
  },
  {
   "cell_type": "markdown",
   "metadata": {},
   "source": [
    "We'll also load the saved model from the mode choice estimation.\n",
    "(If you haven't run the mode choice estimation notebook already,\n",
    "this file may not exist on your system, but you can create it \n",
    "by running that notebook.)"
   ]
  },
  {
   "cell_type": "code",
   "execution_count": 3,
   "metadata": {},
   "outputs": [],
   "source": [
    "m = larch.read_metadata('/tmp/exampville_mode_choice.html')"
   ]
  },
  {
   "cell_type": "markdown",
   "metadata": {},
   "source": [
    "We'll replicate the pre-processing used in the mode choice estimation,\n",
    "to merge the household and person characteristics into the tours data,\n",
    "add the index values for the home TAZ's, filter to include only \n",
    "work tours, and merge with the level of service skims.  (If this \n",
    "pre-processing was computationally expensive, it would probably have\n",
    "been better to save the results to disk and reload them as needed,\n",
    "but for this model these commands will run almost instantaneously.)"
   ]
  },
  {
   "cell_type": "code",
   "execution_count": 4,
   "metadata": {},
   "outputs": [],
   "source": [
    "raw = tour.merge(hh, on='HHID').merge(pp, on=('HHID', 'PERSONID'))\n",
    "raw[\"HOMETAZi\"] = raw[\"HOMETAZ\"] - 1\n",
    "raw[\"DTAZi\"] = raw[\"DTAZ\"] - 1\n",
    "raw = raw[raw.TOURPURP == 1]\n",
    "raw = raw.join(\n",
    "    skims.get_rc_dataframe(\n",
    "        raw.HOMETAZi, raw.DTAZi,\n",
    "    )\n",
    ")"
   ]
  },
  {
   "cell_type": "markdown",
   "metadata": {},
   "source": [
    "Then we bundle the raw data into the `larch.DataFrames` structure,\n",
    "as we did for estimation, and attach this structure to the model\n",
    "as its `dataservice`."
   ]
  },
  {
   "cell_type": "code",
   "execution_count": 5,
   "metadata": {},
   "outputs": [],
   "source": [
    "# For clarity, we can define numbers as names for modes\n",
    "DA = 1\n",
    "SR = 2\n",
    "Walk = 3\n",
    "Bike = 4\n",
    "Transit = 5"
   ]
  },
  {
   "cell_type": "code",
   "execution_count": 6,
   "metadata": {},
   "outputs": [],
   "source": [
    "dfs = larch.DataFrames(\n",
    "    co=raw, \n",
    "    alt_codes=[DA,SR,Walk,Bike,Transit], \n",
    "    alt_names=['DA','SR','Walk','Bike','Transit'],\n",
    "    ch_name='TOURMODE',\n",
    ")\n",
    "\n",
    "m.dataservice = dfs"
   ]
  },
  {
   "cell_type": "markdown",
   "metadata": {},
   "source": [
    "We'll also initialize an DataFrame with zeros to hold the computed logsums.\n",
    "This DataFrame will have one row for each case in our source data,\n",
    "and a column for each possible destination zone."
   ]
  },
  {
   "cell_type": "code",
   "execution_count": 7,
   "metadata": {},
   "outputs": [],
   "source": [
    "logsums = pandas.DataFrame(\n",
    "    data=0.0,\n",
    "    index=raw.index, \n",
    "    columns=skims.TAZ_ID\n",
    ")"
   ]
  },
  {
   "cell_type": "markdown",
   "metadata": {},
   "source": [
    "The logsums from a `Model` can be computed using the `Model.logsums` method.\n",
    "However, if we want the logsums for each possible destination, we'll need\n",
    "to replace the part of our data that depends on the destination zone, \n",
    "writing in the appropriate values for each destination in turn.  \n",
    "We can simply iterate over the\n",
    "zones, which is a little bit slow but easy to code.  This isn't a big \n",
    "deal, as generating the logsums only needs to be done once after the \n",
    "mode choice model is finalized."
   ]
  },
  {
   "cell_type": "code",
   "execution_count": 8,
   "metadata": {},
   "outputs": [],
   "source": [
    "for destination_i, dtaz in enumerate(logsums.columns):\n",
    "    \n",
    "    # Get the LOS data for this destination\n",
    "    new_data = skims.get_rc_dataframe(\n",
    "        raw.HOMETAZi, destination_i,\n",
    "    )\n",
    "    \n",
    "    # Write this data into the model's dataservice,\n",
    "    # overwriting the existing values.\n",
    "    dfs.data_co[new_data.columns] = new_data\n",
    "    \n",
    "    # Run the pre-processing to create the arrays \n",
    "    # needed for computation.\n",
    "    m.load_data()\n",
    "    \n",
    "    # Lastly, compute the logsums and save them\n",
    "    # to the new DataFrame.\n",
    "    logsums[dtaz] = m.logsums()\n"
   ]
  },
  {
   "cell_type": "markdown",
   "metadata": {},
   "source": [
    "We can review some of the output to make sure it appears reasonable."
   ]
  },
  {
   "cell_type": "code",
   "execution_count": 9,
   "metadata": {},
   "outputs": [
    {
     "data": {
      "text/html": [
       "<div>\n",
       "<style scoped>\n",
       "    .dataframe tbody tr th:only-of-type {\n",
       "        vertical-align: middle;\n",
       "    }\n",
       "\n",
       "    .dataframe tbody tr th {\n",
       "        vertical-align: top;\n",
       "    }\n",
       "\n",
       "    .dataframe thead th {\n",
       "        text-align: right;\n",
       "    }\n",
       "</style>\n",
       "<table border=\"1\" class=\"dataframe\">\n",
       "  <thead>\n",
       "    <tr style=\"text-align: right;\">\n",
       "      <th>TAZ_ID</th>\n",
       "      <th>1</th>\n",
       "      <th>2</th>\n",
       "      <th>3</th>\n",
       "      <th>4</th>\n",
       "      <th>5</th>\n",
       "      <th>6</th>\n",
       "      <th>7</th>\n",
       "      <th>8</th>\n",
       "      <th>9</th>\n",
       "      <th>10</th>\n",
       "      <th>...</th>\n",
       "      <th>31</th>\n",
       "      <th>32</th>\n",
       "      <th>33</th>\n",
       "      <th>34</th>\n",
       "      <th>35</th>\n",
       "      <th>36</th>\n",
       "      <th>37</th>\n",
       "      <th>38</th>\n",
       "      <th>39</th>\n",
       "      <th>40</th>\n",
       "    </tr>\n",
       "  </thead>\n",
       "  <tbody>\n",
       "    <tr>\n",
       "      <th>0</th>\n",
       "      <td>-2.935611</td>\n",
       "      <td>-2.660436</td>\n",
       "      <td>-1.745654</td>\n",
       "      <td>-2.229281</td>\n",
       "      <td>-2.403117</td>\n",
       "      <td>-1.624193</td>\n",
       "      <td>-2.689783</td>\n",
       "      <td>-2.704533</td>\n",
       "      <td>-3.258630</td>\n",
       "      <td>-2.718634</td>\n",
       "      <td>...</td>\n",
       "      <td>-1.702280</td>\n",
       "      <td>-1.717749</td>\n",
       "      <td>-2.340898</td>\n",
       "      <td>-2.760539</td>\n",
       "      <td>-1.029270</td>\n",
       "      <td>-2.249755</td>\n",
       "      <td>-2.048357</td>\n",
       "      <td>-2.160251</td>\n",
       "      <td>-2.286809</td>\n",
       "      <td>-1.959727</td>\n",
       "    </tr>\n",
       "    <tr>\n",
       "      <th>1</th>\n",
       "      <td>-2.935611</td>\n",
       "      <td>-2.660436</td>\n",
       "      <td>-1.745654</td>\n",
       "      <td>-2.229281</td>\n",
       "      <td>-2.403117</td>\n",
       "      <td>-1.624193</td>\n",
       "      <td>-2.689783</td>\n",
       "      <td>-2.704533</td>\n",
       "      <td>-3.258630</td>\n",
       "      <td>-2.718634</td>\n",
       "      <td>...</td>\n",
       "      <td>-1.702280</td>\n",
       "      <td>-1.717749</td>\n",
       "      <td>-2.340898</td>\n",
       "      <td>-2.760539</td>\n",
       "      <td>-1.029270</td>\n",
       "      <td>-2.249755</td>\n",
       "      <td>-2.048357</td>\n",
       "      <td>-2.160251</td>\n",
       "      <td>-2.286809</td>\n",
       "      <td>-1.959727</td>\n",
       "    </tr>\n",
       "    <tr>\n",
       "      <th>3</th>\n",
       "      <td>-2.935611</td>\n",
       "      <td>-2.660436</td>\n",
       "      <td>-1.745654</td>\n",
       "      <td>-2.229281</td>\n",
       "      <td>-2.403117</td>\n",
       "      <td>-1.624193</td>\n",
       "      <td>-2.689783</td>\n",
       "      <td>-2.704533</td>\n",
       "      <td>-3.258630</td>\n",
       "      <td>-2.718634</td>\n",
       "      <td>...</td>\n",
       "      <td>-1.702280</td>\n",
       "      <td>-1.717749</td>\n",
       "      <td>-2.340898</td>\n",
       "      <td>-2.760539</td>\n",
       "      <td>-1.029270</td>\n",
       "      <td>-2.249755</td>\n",
       "      <td>-2.048357</td>\n",
       "      <td>-2.160251</td>\n",
       "      <td>-2.286809</td>\n",
       "      <td>-1.959727</td>\n",
       "    </tr>\n",
       "    <tr>\n",
       "      <th>7</th>\n",
       "      <td>-3.046071</td>\n",
       "      <td>-2.769949</td>\n",
       "      <td>-1.823372</td>\n",
       "      <td>-2.320338</td>\n",
       "      <td>-2.494063</td>\n",
       "      <td>-1.705313</td>\n",
       "      <td>-2.785841</td>\n",
       "      <td>-2.806107</td>\n",
       "      <td>-3.365500</td>\n",
       "      <td>-2.830964</td>\n",
       "      <td>...</td>\n",
       "      <td>-1.784186</td>\n",
       "      <td>-1.797482</td>\n",
       "      <td>-2.430807</td>\n",
       "      <td>-2.863272</td>\n",
       "      <td>-1.100473</td>\n",
       "      <td>-2.343703</td>\n",
       "      <td>-2.133276</td>\n",
       "      <td>-2.247024</td>\n",
       "      <td>-2.380627</td>\n",
       "      <td>-2.047688</td>\n",
       "    </tr>\n",
       "    <tr>\n",
       "      <th>10</th>\n",
       "      <td>-3.051611</td>\n",
       "      <td>-2.775413</td>\n",
       "      <td>-1.827178</td>\n",
       "      <td>-2.324782</td>\n",
       "      <td>-2.498425</td>\n",
       "      <td>-1.709122</td>\n",
       "      <td>-2.790498</td>\n",
       "      <td>-2.811107</td>\n",
       "      <td>-3.370804</td>\n",
       "      <td>-2.836603</td>\n",
       "      <td>...</td>\n",
       "      <td>-1.788032</td>\n",
       "      <td>-1.801228</td>\n",
       "      <td>-2.435109</td>\n",
       "      <td>-2.868261</td>\n",
       "      <td>-1.103813</td>\n",
       "      <td>-2.348381</td>\n",
       "      <td>-2.137301</td>\n",
       "      <td>-2.251151</td>\n",
       "      <td>-2.385124</td>\n",
       "      <td>-2.051987</td>\n",
       "    </tr>\n",
       "  </tbody>\n",
       "</table>\n",
       "<p>5 rows × 40 columns</p>\n",
       "</div>"
      ],
      "text/plain": [
       "TAZ_ID        1         2         3         4         5         6         7   \\\n",
       "0      -2.935611 -2.660436 -1.745654 -2.229281 -2.403117 -1.624193 -2.689783   \n",
       "1      -2.935611 -2.660436 -1.745654 -2.229281 -2.403117 -1.624193 -2.689783   \n",
       "3      -2.935611 -2.660436 -1.745654 -2.229281 -2.403117 -1.624193 -2.689783   \n",
       "7      -3.046071 -2.769949 -1.823372 -2.320338 -2.494063 -1.705313 -2.785841   \n",
       "10     -3.051611 -2.775413 -1.827178 -2.324782 -2.498425 -1.709122 -2.790498   \n",
       "\n",
       "TAZ_ID        8         9         10  ...        31        32        33  \\\n",
       "0      -2.704533 -3.258630 -2.718634  ... -1.702280 -1.717749 -2.340898   \n",
       "1      -2.704533 -3.258630 -2.718634  ... -1.702280 -1.717749 -2.340898   \n",
       "3      -2.704533 -3.258630 -2.718634  ... -1.702280 -1.717749 -2.340898   \n",
       "7      -2.806107 -3.365500 -2.830964  ... -1.784186 -1.797482 -2.430807   \n",
       "10     -2.811107 -3.370804 -2.836603  ... -1.788032 -1.801228 -2.435109   \n",
       "\n",
       "TAZ_ID        34        35        36        37        38        39        40  \n",
       "0      -2.760539 -1.029270 -2.249755 -2.048357 -2.160251 -2.286809 -1.959727  \n",
       "1      -2.760539 -1.029270 -2.249755 -2.048357 -2.160251 -2.286809 -1.959727  \n",
       "3      -2.760539 -1.029270 -2.249755 -2.048357 -2.160251 -2.286809 -1.959727  \n",
       "7      -2.863272 -1.100473 -2.343703 -2.133276 -2.247024 -2.380627 -2.047688  \n",
       "10     -2.868261 -1.103813 -2.348381 -2.137301 -2.251151 -2.385124 -2.051987  \n",
       "\n",
       "[5 rows x 40 columns]"
      ]
     },
     "execution_count": 9,
     "metadata": {},
     "output_type": "execute_result"
    }
   ],
   "source": [
    "logsums.head()"
   ]
  },
  {
   "cell_type": "markdown",
   "metadata": {},
   "source": [
    "Then we can persist the logsums dataframe to disk, for use in the next\n",
    "example, where we will estimate a destination choice model."
   ]
  },
  {
   "cell_type": "code",
   "execution_count": 10,
   "metadata": {},
   "outputs": [],
   "source": [
    "logsums.to_pickle('/tmp/logsums.pkl.gz')"
   ]
  }
 ],
 "metadata": {
  "kernelspec": {
   "display_name": "Python 3",
   "language": "python",
   "name": "python3"
  },
  "language_info": {
   "codemirror_mode": {
    "name": "ipython",
    "version": 3
   },
   "file_extension": ".py",
   "mimetype": "text/x-python",
   "name": "python",
   "nbconvert_exporter": "python",
   "pygments_lexer": "ipython3",
   "version": "3.8.6"
  }
 },
 "nbformat": 4,
 "nbformat_minor": 4
}
