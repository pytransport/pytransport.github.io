{
 "cells": [
  {
   "cell_type": "markdown",
   "metadata": {},
   "source": [
    "# Exampville Destination Choice\n",
    "\n",
    "In this notebook, we will walk through the estimation of a tour \n",
    "destination choice model for \n",
    "Exampville, an entirely fictional town built for the express purpose of \n",
    "demostrating the use of discrete choice modeling tools for transportation \n",
    "planning.\n",
    "\n",
    "This example will assume the reader is familiar with the \n",
    "mathematical basics of destination choice\n",
    "modeling generally, and will focus on the technical \n",
    "aspects of estimating the parameters\n",
    "of a destination choice model in Python using Larch."
   ]
  },
  {
   "cell_type": "markdown",
   "metadata": {},
   "source": [
    "If you have not yet estimated parameters of a mode choice model\n",
    "or generated logsums from that model, you should go back and\n",
    "review those sections before you begin this one."
   ]
  },
  {
   "cell_type": "code",
   "execution_count": 1,
   "metadata": {},
   "outputs": [],
   "source": [
    "import larch, numpy, pandas, os\n",
    "from larch import P, X"
   ]
  },
  {
   "cell_type": "markdown",
   "metadata": {},
   "source": [
    "## Data Preparation"
   ]
  },
  {
   "cell_type": "markdown",
   "metadata": {},
   "source": [
    "To begin, we will re-load the data files from our tour mode choice example."
   ]
  },
  {
   "cell_type": "code",
   "execution_count": 2,
   "metadata": {},
   "outputs": [],
   "source": [
    "import larch.exampville\n",
    "\n",
    "hh = pandas.read_csv( larch.exampville.files.hh )\n",
    "pp = pandas.read_csv( larch.exampville.files.person )\n",
    "tour = pandas.read_csv( larch.exampville.files.tour )\n",
    "skims = larch.OMX( larch.exampville.files.skims, mode='r' )"
   ]
  },
  {
   "cell_type": "markdown",
   "metadata": {},
   "source": [
    "We'll also load an employment file. This file contains employment\n",
    "data by TAZ.  The TAZ's will be the choices in the destination \n",
    "choice model, and the employment data will allow us to characterize\n",
    "the number of opportunities in each TAZ."
   ]
  },
  {
   "cell_type": "code",
   "execution_count": 3,
   "metadata": {},
   "outputs": [
    {
     "name": "stdout",
     "output_type": "stream",
     "text": [
      "<class 'pandas.core.frame.DataFrame'>\n",
      "Int64Index: 40 entries, 1 to 40\n",
      "Data columns (total 3 columns):\n",
      " #   Column         Non-Null Count  Dtype\n",
      "---  ------         --------------  -----\n",
      " 0   NONRETAIL_EMP  40 non-null     int64\n",
      " 1   RETAIL_EMP     40 non-null     int64\n",
      " 2   TOTAL_EMP      40 non-null     int64\n",
      "dtypes: int64(3)\n",
      "memory usage: 1.2 KB\n"
     ]
    }
   ],
   "source": [
    "emp = pandas.read_csv(larch.exampville.files.employment, index_col='TAZ')\n",
    "emp.info()"
   ]
  },
  {
   "cell_type": "markdown",
   "metadata": {},
   "source": [
    "We'll also load the saved logsums from the mode choice estimation."
   ]
  },
  {
   "cell_type": "code",
   "execution_count": 4,
   "metadata": {},
   "outputs": [],
   "source": [
    "logsums = pandas.read_pickle('/tmp/logsums.pkl.gz')"
   ]
  },
  {
   "cell_type": "markdown",
   "metadata": {},
   "source": [
    "We'll replicate the pre-processing used in the mode choice estimation,\n",
    "to merge the household and person characteristics into the tours data,\n",
    "add the index values for the home TAZ's, filter to include only \n",
    "work tours, and merge with the level of service skims. (If this \n",
    "pre-processing was computationally expensive, it would probably have\n",
    "been better to save the results to disk and reload them as needed,\n",
    "but for this model these commands will run almost instantaneously.)"
   ]
  },
  {
   "cell_type": "code",
   "execution_count": 5,
   "metadata": {},
   "outputs": [],
   "source": [
    "co = tour.merge(hh, on='HHID').merge(pp, on=('HHID', 'PERSONID'))\n",
    "co[\"HOMETAZi\"] = co[\"HOMETAZ\"] - 1\n",
    "co[\"DTAZi\"] = co[\"DTAZ\"] - 1\n",
    "co = co[co.TOURPURP == 1]\n",
    "co.index.name = 'CASE_ID'"
   ]
  },
  {
   "cell_type": "markdown",
   "metadata": {},
   "source": [
    "For this destination choice model, we'll want to use the mode choice\n",
    "logsums we calculated previously, and we'll use these values as data.  The alternatives in\n",
    "the destinations model are much more regular than in the mode choice \n",
    "model -- the utility function for each destination will have a common\n",
    "form -- we'll use `idca` format to make data management simpler.  This\n",
    "format maintains a data array in three dimensions instead of two: cases,\n",
    "alternatives, and variables.  We can still use a pandas.DataFrame to\n",
    "hold this data, but we'll use a `MultiIndex` for one of the typical \n",
    "dimensions.\n",
    "\n",
    "We already have one `idca` format variable: the logsums we loaded above.\n",
    "For a destination choice model, we'll often also want to use distance\n",
    "--specifically, the distance from the known origin zone to each possible\n",
    "destination zones.  We can create a distance variable as an array,\n",
    "selecting for each case in the `co` data a row from the 'AUTO_DIST'\n",
    "array that matches the correct origin zone (by index number).\n",
    "Note that we first load the skim array into memory using `[:]` and then\n",
    "select the rows, to overcome a technical limitation of the PyTables\n",
    "library (which underpins the open matrix format) that prevents us \n",
    "from reading the final array directly from the file on disk."
   ]
  },
  {
   "cell_type": "code",
   "execution_count": 6,
   "metadata": {},
   "outputs": [],
   "source": [
    "distance = pandas.DataFrame(\n",
    "    skims.AUTO_DIST[:][co[\"HOMETAZi\"], :],\n",
    "    index=co.index,\n",
    "    columns=skims.TAZ_ID,\n",
    ") "
   ]
  },
  {
   "cell_type": "markdown",
   "metadata": {},
   "source": [
    "The distance and logsum arrays are both currently formatted as \n",
    "single variables stored in two-dimensional format (cases by\n",
    "alternatives) but to concatenate them together, we can use the \n",
    "`unstack` command to convert each into a one-dimensional array.\n",
    "We'll also use the `rename` command to ensure that each \n",
    "one-dimensional array is named appropriately, so that when they\n",
    "are concatenate the result will include the names of the \n",
    "variables."
   ]
  },
  {
   "cell_type": "code",
   "execution_count": 7,
   "metadata": {},
   "outputs": [],
   "source": [
    "ca = pandas.concat([\n",
    "    distance.stack().rename(\"distance\"),\n",
    "    logsums.stack().rename(\"logsum\"), \n",
    "], axis=1)"
   ]
  },
  {
   "cell_type": "markdown",
   "metadata": {},
   "source": [
    "Now we have our two variables in the correct format:"
   ]
  },
  {
   "cell_type": "code",
   "execution_count": 8,
   "metadata": {},
   "outputs": [
    {
     "data": {
      "text/html": [
       "<div>\n",
       "<style scoped>\n",
       "    .dataframe tbody tr th:only-of-type {\n",
       "        vertical-align: middle;\n",
       "    }\n",
       "\n",
       "    .dataframe tbody tr th {\n",
       "        vertical-align: top;\n",
       "    }\n",
       "\n",
       "    .dataframe thead th {\n",
       "        text-align: right;\n",
       "    }\n",
       "</style>\n",
       "<table border=\"1\" class=\"dataframe\">\n",
       "  <thead>\n",
       "    <tr style=\"text-align: right;\">\n",
       "      <th></th>\n",
       "      <th></th>\n",
       "      <th>distance</th>\n",
       "      <th>logsum</th>\n",
       "    </tr>\n",
       "    <tr>\n",
       "      <th>CASE_ID</th>\n",
       "      <th>TAZ_ID</th>\n",
       "      <th></th>\n",
       "      <th></th>\n",
       "    </tr>\n",
       "  </thead>\n",
       "  <tbody>\n",
       "    <tr>\n",
       "      <th rowspan=\"5\" valign=\"top\">0</th>\n",
       "      <th>1</th>\n",
       "      <td>8.286090</td>\n",
       "      <td>-2.935713</td>\n",
       "    </tr>\n",
       "    <tr>\n",
       "      <th>2</th>\n",
       "      <td>8.256698</td>\n",
       "      <td>-2.660536</td>\n",
       "    </tr>\n",
       "    <tr>\n",
       "      <th>3</th>\n",
       "      <td>2.928829</td>\n",
       "      <td>-1.745670</td>\n",
       "    </tr>\n",
       "    <tr>\n",
       "      <th>4</th>\n",
       "      <td>5.502758</td>\n",
       "      <td>-2.229338</td>\n",
       "    </tr>\n",
       "    <tr>\n",
       "      <th>5</th>\n",
       "      <td>5.882862</td>\n",
       "      <td>-2.403182</td>\n",
       "    </tr>\n",
       "  </tbody>\n",
       "</table>\n",
       "</div>"
      ],
      "text/plain": [
       "                distance    logsum\n",
       "CASE_ID TAZ_ID                    \n",
       "0       1       8.286090 -2.935713\n",
       "        2       8.256698 -2.660536\n",
       "        3       2.928829 -1.745670\n",
       "        4       5.502758 -2.229338\n",
       "        5       5.882862 -2.403182"
      ]
     },
     "execution_count": 8,
     "metadata": {},
     "output_type": "execute_result"
    }
   ],
   "source": [
    "ca.head()"
   ]
  },
  {
   "cell_type": "markdown",
   "metadata": {},
   "source": [
    "We'll also need to join employment data to the `ca` DataFrame.  This data has unique \n",
    "values only by alternative and not by caseid, so there are only\n",
    "40 unique rows.  "
   ]
  },
  {
   "cell_type": "code",
   "execution_count": 9,
   "metadata": {},
   "outputs": [
    {
     "name": "stdout",
     "output_type": "stream",
     "text": [
      "<class 'pandas.core.frame.DataFrame'>\n",
      "Int64Index: 40 entries, 1 to 40\n",
      "Data columns (total 3 columns):\n",
      " #   Column         Non-Null Count  Dtype\n",
      "---  ------         --------------  -----\n",
      " 0   NONRETAIL_EMP  40 non-null     int64\n",
      " 1   RETAIL_EMP     40 non-null     int64\n",
      " 2   TOTAL_EMP      40 non-null     int64\n",
      "dtypes: int64(3)\n",
      "memory usage: 1.2 KB\n"
     ]
    }
   ],
   "source": [
    "emp.info()"
   ]
  },
  {
   "cell_type": "markdown",
   "metadata": {},
   "source": [
    "But to make this work with the computational \n",
    "arrays required for Larch, we'll need to join this to the other \n",
    "idca data, like this:"
   ]
  },
  {
   "cell_type": "code",
   "execution_count": 10,
   "metadata": {},
   "outputs": [],
   "source": [
    "ca = ca.join(emp, on='TAZ_ID')"
   ]
  },
  {
   "cell_type": "markdown",
   "metadata": {},
   "source": [
    "We can also extract an 'Area Type' variable \n",
    "from the skims, and attach that as well:"
   ]
  },
  {
   "cell_type": "code",
   "execution_count": 11,
   "metadata": {},
   "outputs": [],
   "source": [
    "area_type = pandas.Series(\n",
    "    skims.TAZ_AREA_TYPE[:],\n",
    "    index=skims.TAZ_ID[:],\n",
    "    name ='TAZ_AREA_TYPE',\n",
    ").astype('category')"
   ]
  },
  {
   "cell_type": "code",
   "execution_count": 12,
   "metadata": {},
   "outputs": [],
   "source": [
    "ca = ca.join(area_type, on='TAZ_ID')"
   ]
  },
  {
   "cell_type": "markdown",
   "metadata": {},
   "source": [
    "Then we bundle the raw data into the `larch.DataFrames` structure,\n",
    "as we did for estimation, and attach this structure to the model\n",
    "as its `dataservice`."
   ]
  },
  {
   "cell_type": "code",
   "execution_count": 13,
   "metadata": {},
   "outputs": [],
   "source": [
    "dfs = larch.DataFrames(\n",
    "    co=co,\n",
    "    ca=ca,\n",
    "    alt_codes=skims.TAZ_ID, \n",
    "    alt_names=['TAZ{i}' for i in skims.TAZ_ID],\n",
    "    ch_name='DTAZ',\n",
    "    av=True,\n",
    ")"
   ]
  },
  {
   "cell_type": "code",
   "execution_count": 14,
   "metadata": {},
   "outputs": [
    {
     "name": "stdout",
     "output_type": "stream",
     "text": [
      "larch.DataFrames:  (not computation-ready)\n",
      "  n_cases: 7564\n",
      "  n_alts: 40\n",
      "  data_ca:\n",
      "    - distance      (302560 non-null float64)\n",
      "    - logsum        (302560 non-null float64)\n",
      "    - NONRETAIL_EMP (302560 non-null int64)\n",
      "    - RETAIL_EMP    (302560 non-null int64)\n",
      "    - TOTAL_EMP     (302560 non-null int64)\n",
      "    - TAZ_AREA_TYPE (302560 non-null category)\n",
      "  data_co:\n",
      "    - TOURID        (7564 non-null int64)\n",
      "    - HHID          (7564 non-null int64)\n",
      "    - PERSONID      (7564 non-null int64)\n",
      "    - DTAZ          (7564 non-null int64)\n",
      "    - TOURMODE      (7564 non-null int64)\n",
      "    - TOURPURP      (7564 non-null int64)\n",
      "    - N_STOPS       (7564 non-null int64)\n",
      "    - N_TRIPS_x     (7564 non-null int64)\n",
      "    - N_TRIPS_HBW_x (7564 non-null int64)\n",
      "    - N_TRIPS_HBO_x (7564 non-null int64)\n",
      "    - N_TRIPS_NHB_x (7564 non-null int64)\n",
      "    - X             (7564 non-null float64)\n",
      "    - Y             (7564 non-null float64)\n",
      "    - INCOME        (7564 non-null float64)\n",
      "    - N_VEHICLES    (7564 non-null int64)\n",
      "    - HHSIZE        (7564 non-null int64)\n",
      "    - geometry      (7564 non-null object)\n",
      "    - HOMETAZ       (7564 non-null int64)\n",
      "    - N_TRIPS_y     (7564 non-null int64)\n",
      "    - N_TRIPS_HBW_y (7564 non-null int64)\n",
      "    - N_TRIPS_HBO_y (7564 non-null int64)\n",
      "    - N_TRIPS_NHB_y (7564 non-null int64)\n",
      "    - N_WORKERS     (7564 non-null int64)\n",
      "    - HHIDX         (7564 non-null int64)\n",
      "    - AGE           (7564 non-null int64)\n",
      "    - WORKS         (7564 non-null int64)\n",
      "    - N_WORK_TOURS  (7564 non-null int64)\n",
      "    - N_OTHER_TOURS (7564 non-null int64)\n",
      "    - N_TOURS       (7564 non-null int64)\n",
      "    - N_TRIPS       (7564 non-null int64)\n",
      "    - N_TRIPS_HBW   (7564 non-null int64)\n",
      "    - N_TRIPS_HBO   (7564 non-null int64)\n",
      "    - N_TRIPS_NHB   (7564 non-null int64)\n",
      "    - HOMETAZi      (7564 non-null int64)\n",
      "    - DTAZi         (7564 non-null int64)\n",
      "  data_av: <populated>\n",
      "  data_ch: DTAZ\n"
     ]
    }
   ],
   "source": [
    "dfs.info(1)"
   ]
  },
  {
   "cell_type": "markdown",
   "metadata": {},
   "source": [
    "## Model Definition"
   ]
  },
  {
   "cell_type": "code",
   "execution_count": 15,
   "metadata": {},
   "outputs": [],
   "source": [
    "m = larch.Model(dataservice=dfs)"
   ]
  },
  {
   "cell_type": "markdown",
   "metadata": {},
   "source": [
    "Destination choice models are premised on the theory that each\n",
    "trip or tour has a particular destination to which it is attracted,\n",
    "and each travel zone represents not one individual alternative, \n",
    "but rather a number of similar alternatives grouped together.\n",
    "Thus the utility function in a destination choice model typically is \n",
    "comprised of two components: a qualitative component (i.e., how\n",
    "good are the alternatives in a zone) and a quantitative component\n",
    "(i.e., how many discrete alternatives are in a zone).  The mathematical\n",
    "form of the utility function for the zone is\n",
    "\n",
    "$$\\sum_i{\\beta_i}X_i + \\theta\\log\\left(\\sum_j{\\exp(\\gamma_j)}Z_j\\right)$$\n",
    "\n"
   ]
  },
  {
   "cell_type": "markdown",
   "metadata": {
    "raw_mimetype": "text/latex"
   },
   "source": [
    "The quantitative component of this utility function is\n",
    "written for Larch in a linear-in-parameters format similarly to\n",
    "that for the typical utility function, but \n",
    "assigned to the `quantity_ca` attribute instead of `utility_ca`.\n",
    "Also, the exponentiation of the $\\gamma$ parameters is implied\n",
    "by using `quantity_ca`.  Note that the quantitative term is in \n",
    "theory always applied only to the alternatives themselves and \n",
    "not alone to attributes of the decision maker, so the `quantity_co`\n",
    "attribute is not implemented and cannot be used."
   ]
  },
  {
   "cell_type": "code",
   "execution_count": 16,
   "metadata": {},
   "outputs": [],
   "source": [
    "m.quantity_ca = (\n",
    "        + P.EmpRetail_HighInc * X('RETAIL_EMP * (INCOME>50000)')\n",
    "        + P.EmpNonRetail_HighInc * X('NONRETAIL_EMP') * X(\"INCOME>50000\")\n",
    "        + P.EmpRetail_LowInc * X('RETAIL_EMP') * X(\"INCOME<=50000\")\n",
    "        + P.EmpNonRetail_LowInc * X('NONRETAIL_EMP') * X(\"INCOME<=50000\")\n",
    ")"
   ]
  },
  {
   "cell_type": "markdown",
   "metadata": {},
   "source": [
    "The parameter $\\theta$ is a coefficient on the entire log-of-quantity\n",
    "term, and can be defined by assigning a parameter name to the \n",
    "`quantity_scale` attribute.  "
   ]
  },
  {
   "cell_type": "code",
   "execution_count": 17,
   "metadata": {},
   "outputs": [],
   "source": [
    "m.quantity_scale = P.Theta"
   ]
  },
  {
   "cell_type": "markdown",
   "metadata": {},
   "source": [
    "The qualitative component of utility can be \n",
    "given in the same manner as any other discrete choice model\n",
    "in Larch."
   ]
  },
  {
   "cell_type": "code",
   "execution_count": 18,
   "metadata": {},
   "outputs": [],
   "source": [
    "m.utility_ca = (\n",
    "    + P.logsum * X.logsum\n",
    "    + P.distance * X.distance\n",
    ")"
   ]
  },
  {
   "cell_type": "markdown",
   "metadata": {},
   "source": [
    "For this structure, we know the model will be overspecified\n",
    "if the parameter in the quantitative portion of utility are\n",
    "all estimated, in a manner similar to the overspecification\n",
    "if alternative specific constants are all estimated. To \n",
    "prevent this problem, we can lock parameters to particular\n",
    "values as needed using the `lock_values` method."
   ]
  },
  {
   "cell_type": "code",
   "execution_count": 19,
   "metadata": {},
   "outputs": [],
   "source": [
    "m.lock_values(\n",
    "    EmpRetail_HighInc=0,\n",
    "    EmpRetail_LowInc=0,\n",
    ")"
   ]
  },
  {
   "cell_type": "markdown",
   "metadata": {},
   "source": [
    "Then let's prepare this data for estimation.  Even though the\n",
    "data is already in memory, the `load_data` method is used to \n",
    "pre-process the data, extracting the required values, pre-computing \n",
    "the values of fixed expressions, and assembling the results into\n",
    "contiguous arrays suitable for computing the log likelihood values\n",
    "efficiently."
   ]
  },
  {
   "cell_type": "code",
   "execution_count": 20,
   "metadata": {},
   "outputs": [
    {
     "name": "stderr",
     "output_type": "stream",
     "text": [
      "req_data does not request {choice_ca,choice_co,choice_co_code} but choice is set and being provided\n",
      "req_data does not request avail_ca or avail_co but it is set and being provided\n"
     ]
    }
   ],
   "source": [
    "m.load_data()"
   ]
  },
  {
   "cell_type": "markdown",
   "metadata": {},
   "source": [
    "## Model Estimation"
   ]
  },
  {
   "cell_type": "code",
   "execution_count": 21,
   "metadata": {},
   "outputs": [
    {
     "data": {
      "text/html": [
       "<h3>Iteration 005 [Converged] </h3>"
      ],
      "text/plain": [
       "<IPython.core.display.HTML object>"
      ]
     },
     "metadata": {},
     "output_type": "display_data"
    },
    {
     "data": {
      "text/html": [
       "<p>LL = -25157.723574616495</p>"
      ],
      "text/plain": [
       "<IPython.core.display.HTML object>"
      ]
     },
     "metadata": {},
     "output_type": "display_data"
    },
    {
     "data": {
      "text/html": [
       "<div>\n",
       "<style scoped>\n",
       "    .dataframe tbody tr th:only-of-type {\n",
       "        vertical-align: middle;\n",
       "    }\n",
       "\n",
       "    .dataframe tbody tr th {\n",
       "        vertical-align: top;\n",
       "    }\n",
       "\n",
       "    .dataframe thead th {\n",
       "        text-align: right;\n",
       "    }\n",
       "</style>\n",
       "<table border=\"1\" class=\"dataframe\">\n",
       "  <thead>\n",
       "    <tr style=\"text-align: right;\">\n",
       "      <th></th>\n",
       "      <th>value</th>\n",
       "      <th>initvalue</th>\n",
       "      <th>nullvalue</th>\n",
       "      <th>minimum</th>\n",
       "      <th>maximum</th>\n",
       "      <th>holdfast</th>\n",
       "      <th>note</th>\n",
       "      <th>best</th>\n",
       "    </tr>\n",
       "  </thead>\n",
       "  <tbody>\n",
       "    <tr>\n",
       "      <th>EmpNonRetail_HighInc</th>\n",
       "      <td>1.363985</td>\n",
       "      <td>0.0</td>\n",
       "      <td>0.0</td>\n",
       "      <td>-inf</td>\n",
       "      <td>inf</td>\n",
       "      <td>0</td>\n",
       "      <td></td>\n",
       "      <td>1.363985</td>\n",
       "    </tr>\n",
       "    <tr>\n",
       "      <th>EmpNonRetail_LowInc</th>\n",
       "      <td>-0.881366</td>\n",
       "      <td>0.0</td>\n",
       "      <td>0.0</td>\n",
       "      <td>-inf</td>\n",
       "      <td>inf</td>\n",
       "      <td>0</td>\n",
       "      <td></td>\n",
       "      <td>-0.881366</td>\n",
       "    </tr>\n",
       "    <tr>\n",
       "      <th>EmpRetail_HighInc</th>\n",
       "      <td>0.000000</td>\n",
       "      <td>0.0</td>\n",
       "      <td>0.0</td>\n",
       "      <td>0.000</td>\n",
       "      <td>0.0</td>\n",
       "      <td>1</td>\n",
       "      <td></td>\n",
       "      <td>0.000000</td>\n",
       "    </tr>\n",
       "    <tr>\n",
       "      <th>EmpRetail_LowInc</th>\n",
       "      <td>0.000000</td>\n",
       "      <td>0.0</td>\n",
       "      <td>0.0</td>\n",
       "      <td>0.000</td>\n",
       "      <td>0.0</td>\n",
       "      <td>1</td>\n",
       "      <td></td>\n",
       "      <td>0.000000</td>\n",
       "    </tr>\n",
       "    <tr>\n",
       "      <th>Theta</th>\n",
       "      <td>0.749371</td>\n",
       "      <td>1.0</td>\n",
       "      <td>1.0</td>\n",
       "      <td>0.001</td>\n",
       "      <td>1.0</td>\n",
       "      <td>0</td>\n",
       "      <td></td>\n",
       "      <td>0.749371</td>\n",
       "    </tr>\n",
       "    <tr>\n",
       "      <th>distance</th>\n",
       "      <td>-0.041811</td>\n",
       "      <td>0.0</td>\n",
       "      <td>0.0</td>\n",
       "      <td>-inf</td>\n",
       "      <td>inf</td>\n",
       "      <td>0</td>\n",
       "      <td></td>\n",
       "      <td>-0.041811</td>\n",
       "    </tr>\n",
       "    <tr>\n",
       "      <th>logsum</th>\n",
       "      <td>1.020790</td>\n",
       "      <td>0.0</td>\n",
       "      <td>0.0</td>\n",
       "      <td>-inf</td>\n",
       "      <td>inf</td>\n",
       "      <td>0</td>\n",
       "      <td></td>\n",
       "      <td>1.020790</td>\n",
       "    </tr>\n",
       "  </tbody>\n",
       "</table>\n",
       "</div>"
      ],
      "text/plain": [
       "                         value  initvalue  nullvalue  minimum  maximum  \\\n",
       "EmpNonRetail_HighInc  1.363985        0.0        0.0     -inf      inf   \n",
       "EmpNonRetail_LowInc  -0.881366        0.0        0.0     -inf      inf   \n",
       "EmpRetail_HighInc     0.000000        0.0        0.0    0.000      0.0   \n",
       "EmpRetail_LowInc      0.000000        0.0        0.0    0.000      0.0   \n",
       "Theta                 0.749371        1.0        1.0    0.001      1.0   \n",
       "distance             -0.041811        0.0        0.0     -inf      inf   \n",
       "logsum                1.020790        0.0        0.0     -inf      inf   \n",
       "\n",
       "                      holdfast note      best  \n",
       "EmpNonRetail_HighInc         0       1.363985  \n",
       "EmpNonRetail_LowInc          0      -0.881366  \n",
       "EmpRetail_HighInc            1       0.000000  \n",
       "EmpRetail_LowInc             1       0.000000  \n",
       "Theta                        0       0.749371  \n",
       "distance                     0      -0.041811  \n",
       "logsum                       0       1.020790  "
      ]
     },
     "metadata": {},
     "output_type": "display_data"
    },
    {
     "data": {
      "text/html": [
       "<div><table style=\"margin-top:1px;\"><tr><th>key</th><th style=\"text-align:left;\">value</th></tr><tr><td>loglike</td><td style=\"text-align:left;\">-25157.723574616495</td></tr><tr><td>x</td><td style=\"text-align:left;\"><table border=\"1\" class=\"dataframe\">\n",
       "  <thead>\n",
       "    <tr style=\"text-align: right;\">\n",
       "      <th></th>\n",
       "      <th>0</th>\n",
       "    </tr>\n",
       "  </thead>\n",
       "  <tbody>\n",
       "    <tr>\n",
       "      <th>EmpNonRetail_HighInc</th>\n",
       "      <td>1.363985</td>\n",
       "    </tr>\n",
       "    <tr>\n",
       "      <th>EmpNonRetail_LowInc</th>\n",
       "      <td>-0.881366</td>\n",
       "    </tr>\n",
       "    <tr>\n",
       "      <th>EmpRetail_HighInc</th>\n",
       "      <td>0.000000</td>\n",
       "    </tr>\n",
       "    <tr>\n",
       "      <th>EmpRetail_LowInc</th>\n",
       "      <td>0.000000</td>\n",
       "    </tr>\n",
       "    <tr>\n",
       "      <th>Theta</th>\n",
       "      <td>0.749371</td>\n",
       "    </tr>\n",
       "    <tr>\n",
       "      <th>distance</th>\n",
       "      <td>-0.041811</td>\n",
       "    </tr>\n",
       "    <tr>\n",
       "      <th>logsum</th>\n",
       "      <td>1.020790</td>\n",
       "    </tr>\n",
       "  </tbody>\n",
       "</table></td></tr><tr><td>tolerance</td><td style=\"text-align:left;\">1.6901098865401252e-08</td></tr><tr><td>steps</td><td style=\"text-align:left;\">array([1., 1., 1., 1., 1.])</td></tr><tr><td>message</td><td style=\"text-align:left;\">'Optimization terminated successfully.'</td></tr><tr><td>elapsed_time</td><td style=\"text-align:left;\">0:00:00.558018</td></tr><tr><td>method</td><td style=\"text-align:left;\">'bhhh'</td></tr><tr><td>n_cases</td><td style=\"text-align:left;\">7564</td></tr><tr><td>iteration_number</td><td style=\"text-align:left;\">5</td></tr><tr><td>logloss</td><td style=\"text-align:left;\">3.325981435036554</td></tr></table></div>"
      ],
      "text/plain": [
       "┣          loglike: -25157.723574616495\n",
       "┣                x: EmpNonRetail_HighInc    1.363985\n",
       "┃                   EmpNonRetail_LowInc    -0.881366\n",
       "┃                   EmpRetail_HighInc       0.000000\n",
       "┃                   EmpRetail_LowInc        0.000000\n",
       "┃                   Theta                   0.749371\n",
       "┃                   distance               -0.041811\n",
       "┃                   logsum                  1.020790\n",
       "┃                   dtype: float64\n",
       "┣        tolerance: 1.6901098865401252e-08\n",
       "┣            steps: array([1., 1., 1., 1., 1.])\n",
       "┣          message: 'Optimization terminated successfully.'\n",
       "┣     elapsed_time: datetime.timedelta(microseconds=558018)\n",
       "┣           method: 'bhhh'\n",
       "┣          n_cases: 7564\n",
       "┣ iteration_number: 5\n",
       "┣          logloss: 3.325981435036554"
      ]
     },
     "execution_count": 21,
     "metadata": {},
     "output_type": "execute_result"
    }
   ],
   "source": [
    "m.maximize_loglike()"
   ]
  },
  {
   "cell_type": "markdown",
   "metadata": {},
   "source": [
    "After we find the best fitting parameters, we can compute\n",
    "some variance-covariance statistics, incuding standard errors of\n",
    "the estimates and t statistics, using `calculate_parameter_covariance`."
   ]
  },
  {
   "cell_type": "code",
   "execution_count": 22,
   "metadata": {},
   "outputs": [],
   "source": [
    "m.calculate_parameter_covariance()"
   ]
  },
  {
   "cell_type": "markdown",
   "metadata": {},
   "source": [
    "Then we can review the results in a variety of report tables."
   ]
  },
  {
   "cell_type": "code",
   "execution_count": 23,
   "metadata": {},
   "outputs": [
    {
     "data": {
      "text/html": [
       "<div><table><thead><tr><th style=\"text-align: left;\">Parameter</th><th>Value</th><th>Std Err</th><th>t Stat</th><th>Null Value</th></tr></thead><tbody><tr><th style=\"vertical-align: top; text-align: left;\">EmpNonRetail_HighInc</th><td>1.364</td><td>0.256</td><td>5.32</td><td>0.0</td></tr><tr><th style=\"vertical-align: top; text-align: left;\">EmpNonRetail_LowInc</th><td>-0.8814</td><td>0.0791</td><td>-11.14</td><td>0.0</td></tr><tr><th style=\"vertical-align: top; text-align: left;\">EmpRetail_HighInc</th><td>0</td><td colspan=\"3\" style=\"text-align: left;\">fixed value</td></tr><tr><th style=\"vertical-align: top; text-align: left;\">EmpRetail_LowInc</th><td>0</td><td colspan=\"3\" style=\"text-align: left;\">fixed value</td></tr><tr><th style=\"vertical-align: top; text-align: left;\">Theta</th><td>0.7494</td><td>0.0152</td><td>-16.45</td><td>1.0</td></tr><tr><th style=\"vertical-align: top; text-align: left;\">distance</th><td>-0.04181</td><td>0.0107</td><td>-3.90</td><td>0.0</td></tr><tr><th style=\"vertical-align: top; text-align: left;\">logsum</th><td>1.021</td><td>0.0317</td><td>32.16</td><td>0.0</td></tr></tbody></table></div>"
      ],
      "text/plain": [
       "            Parameter     Value      Std Err  t Stat  Null Value\n",
       " EmpNonRetail_HighInc     1.364        0.256    5.32         0.0\n",
       "  EmpNonRetail_LowInc   -0.8814       0.0791  -11.14         0.0\n",
       "    EmpRetail_HighInc         0  fixed value                    \n",
       "     EmpRetail_LowInc         0  fixed value                    \n",
       "                Theta    0.7494       0.0152  -16.45         1.0\n",
       "             distance  -0.04181       0.0107   -3.90         0.0\n",
       "               logsum     1.021       0.0317   32.16         0.0"
      ]
     },
     "execution_count": 23,
     "metadata": {},
     "output_type": "execute_result"
    }
   ],
   "source": [
    "m.parameter_summary()"
   ]
  },
  {
   "cell_type": "code",
   "execution_count": 24,
   "metadata": {},
   "outputs": [
    {
     "data": {
      "text/html": [
       "<div><table><thead><tr><th>Statistic</th><th>Aggregate</th><th>Per Case</th></tr><tr><td>Number of Cases</td><td colspan=\"2\">7564</td></tr><tr><td>Log Likelihood at Convergence</td><td>-25157.72</td><td>-3.33</td></tr><tr><td>Log Likelihood at Null Parameters</td><td>-28238.34</td><td>-3.73</td></tr><tr><td>Rho Squared w.r.t. Null Parameters</td><td colspan=\"2\">0.109</td></tr></thead><tbody></tbody></table></div>"
      ],
      "text/plain": [
       "<xmle.Elem 'div' with 1 children>"
      ]
     },
     "execution_count": 24,
     "metadata": {},
     "output_type": "execute_result"
    }
   ],
   "source": [
    "m.estimation_statistics()"
   ]
  },
  {
   "cell_type": "code",
   "execution_count": 25,
   "metadata": {},
   "outputs": [
    {
     "data": {
      "text/html": [
       "<div><table class=\"floatinghead\" style=\"margin-top:1px;\"><tr><td style=\"text-align:left;\"><div></div> + <span class=\"LinearFunc_Param\">P.logsum</span> * <span class=\"LinearFunc_Data\">X.logsum</span><br> + <span class=\"LinearFunc_Param\">P.distance</span> * <span class=\"LinearFunc_Data\">X.distance</span><br> + <span class=\"Larch_Parameter\">P.Theta</span> * log(<br>   + <span></span>exp(<span class=\"LinearFunc_Param\">P.EmpRetail_HighInc</span>) * <span class=\"LinearFunc_Data\">X('RETAIL_EMP * (INCOME&gt;50000)')</span><br>   + <span></span>exp(<span class=\"LinearFunc_Param\">P.EmpNonRetail_HighInc</span>) * <span class=\"LinearFunc_Data\">X('NONRETAIL_EMP*(INCOME&gt;50000)')</span><br>   + <span></span>exp(<span class=\"LinearFunc_Param\">P.EmpRetail_LowInc</span>) * <span class=\"LinearFunc_Data\">X('RETAIL_EMP*(INCOME&lt;=50000)')</span><br>   + <span></span>exp(<span class=\"LinearFunc_Param\">P.EmpNonRetail_LowInc</span>) * <span class=\"LinearFunc_Data\">X('NONRETAIL_EMP*(INCOME&lt;=50000)')</span><br>)</td></tr></table></div>"
      ],
      "text/plain": [
       "<xmle.Elem 'div' with 1 children>"
      ]
     },
     "execution_count": 25,
     "metadata": {},
     "output_type": "execute_result"
    }
   ],
   "source": [
    "m.utility_functions()"
   ]
  },
  {
   "cell_type": "markdown",
   "metadata": {},
   "source": [
    "## Model Visualization\n",
    "\n",
    "For destination choice and similar type models, it might \n",
    "be beneficial to review the observed and modeled choices, \n",
    "and the relative distribution of these choices across \n",
    "different factors. For example, we would probably want \n",
    "to see the distribution of travel distance. The `Model`\n",
    "object includes a built-in method to create this kind \n",
    "of visualization.\n",
    "\n"
   ]
  },
  {
   "cell_type": "code",
   "execution_count": 26,
   "metadata": {},
   "outputs": [
    {
     "data": {
      "image/png": "[encoded data removed]",
      "text/plain": [
       "<Figure size 432x288 with 1 Axes>"
      ]
     },
     "execution_count": 26,
     "metadata": {},
     "output_type": "execute_result"
    },
    {
     "data": {
      "image/png": "[encoded data removed]",
      "text/plain": [
       "<Figure size 432x288 with 1 Axes>"
      ]
     },
     "metadata": {
      "needs_background": "light"
     },
     "output_type": "display_data"
    }
   ],
   "source": [
    "m.distribution_on_idca_variable('distance')"
   ]
  },
  {
   "cell_type": "code",
   "execution_count": 27,
   "metadata": {},
   "outputs": [
    {
     "data": {
      "image/png": "[encoded data removed]",
      "text/plain": [
       "<Figure size 432x288 with 1 Axes>"
      ]
     },
     "execution_count": 27,
     "metadata": {},
     "output_type": "execute_result"
    },
    {
     "data": {
      "image/png": "[encoded data removed]",
      "text/plain": [
       "<Figure size 432x288 with 1 Axes>"
      ]
     },
     "metadata": {
      "needs_background": "light"
     },
     "output_type": "display_data"
    }
   ],
   "source": [
    "m.distribution_on_idca_variable(\n",
    "    m.dataservice.data_ca.TAZ_AREA_TYPE\n",
    ")"
   ]
  },
  {
   "cell_type": "markdown",
   "metadata": {},
   "source": [
    "The `distribution_on_idca_variable` has a variety of options, \n",
    "for example to control the number and range of the histogram bins:"
   ]
  },
  {
   "cell_type": "code",
   "execution_count": 28,
   "metadata": {},
   "outputs": [
    {
     "data": {
      "image/png": "[encoded data removed]",
      "text/plain": [
       "<Figure size 432x288 with 1 Axes>"
      ]
     },
     "execution_count": 28,
     "metadata": {},
     "output_type": "execute_result"
    },
    {
     "data": {
      "image/png": "[encoded data removed]",
      "text/plain": [
       "<Figure size 432x288 with 1 Axes>"
      ]
     },
     "metadata": {
      "needs_background": "light"
     },
     "output_type": "display_data"
    }
   ],
   "source": [
    "m.distribution_on_idca_variable('distance', bins=40, range=(0,10))"
   ]
  },
  {
   "cell_type": "markdown",
   "metadata": {},
   "source": [
    "Alternatively, the histogram style can be swapped out for a smoothed \n",
    "[kernel density function](https://en.wikipedia.org/wiki/Kernel_density_estimation),\n",
    "by setting the `style` argument to `'kde'`."
   ]
  },
  {
   "cell_type": "code",
   "execution_count": 29,
   "metadata": {},
   "outputs": [
    {
     "data": {
      "image/png": "[encoded data removed]",
      "text/plain": [
       "<Figure size 432x288 with 1 Axes>"
      ]
     },
     "execution_count": 29,
     "metadata": {},
     "output_type": "execute_result"
    },
    {
     "data": {
      "image/png": "[encoded data removed]",
      "text/plain": [
       "<Figure size 432x288 with 1 Axes>"
      ]
     },
     "metadata": {
      "needs_background": "light"
     },
     "output_type": "display_data"
    }
   ],
   "source": [
    "m.distribution_on_idca_variable(\n",
    "    'distance',\n",
    "    style='kde',\n",
    "    range=(0,13),\n",
    ")"
   ]
  },
  {
   "cell_type": "markdown",
   "metadata": {},
   "source": [
    "Subsets of the observations can be pulled out, \n",
    "to observe the distribution conditional on other \n",
    "*idco* factors, like income."
   ]
  },
  {
   "cell_type": "code",
   "execution_count": 30,
   "metadata": {},
   "outputs": [
    {
     "data": {
      "image/png": "[encoded data removed]",
      "text/plain": [
       "<Figure size 432x288 with 1 Axes>"
      ]
     },
     "execution_count": 30,
     "metadata": {},
     "output_type": "execute_result"
    },
    {
     "data": {
      "image/png": "[encoded data removed]",
      "text/plain": [
       "<Figure size 432x288 with 1 Axes>"
      ]
     },
     "metadata": {
      "needs_background": "light"
     },
     "output_type": "display_data"
    }
   ],
   "source": [
    "m.distribution_on_idca_variable(\n",
    "    'distance',\n",
    "    subselector='INCOME<10000',\n",
    ")"
   ]
  },
  {
   "cell_type": "markdown",
   "metadata": {},
   "source": [
    "It is also possible to customize some cosmetic parts of\n",
    "the generated figure, for example attaching a title or\n",
    "giving a more detailed and well formatted label for the\n",
    "x-axis."
   ]
  },
  {
   "cell_type": "code",
   "execution_count": 31,
   "metadata": {},
   "outputs": [
    {
     "data": {
      "image/png": "[encoded data removed]",
      "text/plain": [
       "<Figure size 432x288 with 1 Axes>"
      ]
     },
     "execution_count": 31,
     "metadata": {},
     "output_type": "execute_result"
    },
    {
     "data": {
      "image/png": "[encoded data removed]",
      "text/plain": [
       "<Figure size 432x288 with 1 Axes>"
      ]
     },
     "metadata": {
      "needs_background": "light"
     },
     "output_type": "display_data"
    }
   ],
   "source": [
    "m.distribution_on_idca_variable(\n",
    "    'distance',\n",
    "    xlabel=\"Distance (miles)\",\n",
    "    bins=26,\n",
    "    subselector='INCOME<10000',\n",
    "    range=(0,13),\n",
    "    header='Destination Distance, Very Low Income (<$10k) Households',\n",
    ")"
   ]
  },
  {
   "cell_type": "markdown",
   "metadata": {},
   "source": [
    "Alternatively, a `matplotlib.Axes` instance can be passed to the \n",
    "`distribution_on_idca_variable` function as the `ax` argument, and\n",
    "the figure will be drawn there.  This allows full customizability\n",
    "of the rest of the figure using the usual matplotlib features."
   ]
  },
  {
   "cell_type": "code",
   "execution_count": 32,
   "metadata": {},
   "outputs": [
    {
     "data": {
      "image/png": "[encoded data removed]",
      "text/plain": [
       "<Figure size 864x288 with 3 Axes>"
      ]
     },
     "metadata": {
      "needs_background": "light"
     },
     "output_type": "display_data"
    }
   ],
   "source": [
    "from matplotlib import pyplot as plt\n",
    "fig, axes = plt.subplots(1,3, figsize=(12,4))\n",
    "\n",
    "income_categories = {\n",
    "    'Low Income': 'INCOME<10000',\n",
    "    'Mid Income': '(10000<=INCOME) & (INCOME<50000)',\n",
    "    'High Income': 'INCOME>=50000',\n",
    "}\n",
    "\n",
    "for ax, (inc_title, inc) in zip(axes, income_categories.items()):\n",
    "    m.distribution_on_idca_variable(\n",
    "        'distance',\n",
    "        subselector=inc,\n",
    "        ax=ax,\n",
    "        range=(0,13),\n",
    "    )\n",
    "    ax.set_title(inc_title)"
   ]
  },
  {
   "cell_type": "markdown",
   "metadata": {},
   "source": [
    "## Save and Report Model\n",
    "\n",
    "If we are satisified with this model, or if we just want to record \n",
    "it as part of our workflow while exploring different model\n",
    "structures, we can write the model out to a report.  To do so,\n",
    "we can instantiatie a `larch.Reporter` object."
   ]
  },
  {
   "cell_type": "code",
   "execution_count": 33,
   "metadata": {},
   "outputs": [],
   "source": [
    "report = larch.Reporter(title=m.title)"
   ]
  },
  {
   "cell_type": "markdown",
   "metadata": {},
   "source": [
    "Then, we can push section headings and report pieces into the\n",
    "report using the \"<<\" operator."
   ]
  },
  {
   "cell_type": "code",
   "execution_count": 34,
   "metadata": {},
   "outputs": [
    {
     "data": {
      "text/html": [
       "<h1><a class=\"toc\" name=\"rx1\" reftxt=\"Parameter Summary\" toclevel=\"1\"></a>Parameter Summary</h1><div><table><thead><tr><th style=\"text-align: left;\">Parameter</th><th>Value</th><th>Std Err</th><th>t Stat</th><th>Null Value</th></tr></thead><tbody><tr><th style=\"vertical-align: top; text-align: left;\">EmpNonRetail_HighInc</th><td>1.364</td><td>0.256</td><td>5.32</td><td>0.0</td></tr><tr><th style=\"vertical-align: top; text-align: left;\">EmpNonRetail_LowInc</th><td>-0.8814</td><td>0.0791</td><td>-11.14</td><td>0.0</td></tr><tr><th style=\"vertical-align: top; text-align: left;\">EmpRetail_HighInc</th><td>0</td><td colspan=\"3\" style=\"text-align: left;\">fixed value</td></tr><tr><th style=\"vertical-align: top; text-align: left;\">EmpRetail_LowInc</th><td>0</td><td colspan=\"3\" style=\"text-align: left;\">fixed value</td></tr><tr><th style=\"vertical-align: top; text-align: left;\">Theta</th><td>0.7494</td><td>0.0152</td><td>-16.45</td><td>1.0</td></tr><tr><th style=\"vertical-align: top; text-align: left;\">distance</th><td>-0.04181</td><td>0.0107</td><td>-3.90</td><td>0.0</td></tr><tr><th style=\"vertical-align: top; text-align: left;\">logsum</th><td>1.021</td><td>0.0317</td><td>32.16</td><td>0.0</td></tr></tbody></table></div>"
      ],
      "text/plain": [
       "<xmle.Elem 'div' with 3 children>"
      ]
     },
     "execution_count": 34,
     "metadata": {},
     "output_type": "execute_result"
    }
   ],
   "source": [
    "report << '# Parameter Summary' << m.parameter_summary()"
   ]
  },
  {
   "cell_type": "code",
   "execution_count": 35,
   "metadata": {},
   "outputs": [
    {
     "data": {
      "text/html": [
       "<h1><a class=\"toc\" name=\"rx2\" reftxt=\"Estimation Statistics\" toclevel=\"1\"></a>Estimation Statistics</h1><div><table><thead><tr><th>Statistic</th><th>Aggregate</th><th>Per Case</th></tr><tr><td>Number of Cases</td><td colspan=\"2\">7564</td></tr><tr><td>Log Likelihood at Convergence</td><td>-25157.72</td><td>-3.33</td></tr><tr><td>Log Likelihood at Null Parameters</td><td>-28238.34</td><td>-3.73</td></tr><tr><td>Rho Squared w.r.t. Null Parameters</td><td colspan=\"2\">0.109</td></tr></thead><tbody></tbody></table></div>"
      ],
      "text/plain": [
       "<xmle.Elem 'div' with 5 children>"
      ]
     },
     "execution_count": 35,
     "metadata": {},
     "output_type": "execute_result"
    }
   ],
   "source": [
    "report << \"# Estimation Statistics\" << m.estimation_statistics()"
   ]
  },
  {
   "cell_type": "code",
   "execution_count": 36,
   "metadata": {},
   "outputs": [
    {
     "data": {
      "text/html": [
       "<h1><a class=\"toc\" name=\"rx3\" reftxt=\"Utility Functions\" toclevel=\"1\"></a>Utility Functions</h1><div><table class=\"floatinghead\" style=\"margin-top:1px;\"><tr><td style=\"text-align:left;\"><div></div> + <span class=\"LinearFunc_Param\">P.logsum</span> * <span class=\"LinearFunc_Data\">X.logsum</span><br> + <span class=\"LinearFunc_Param\">P.distance</span> * <span class=\"LinearFunc_Data\">X.distance</span><br> + <span class=\"Larch_Parameter\">P.Theta</span> * log(<br>   + <span></span>exp(<span class=\"LinearFunc_Param\">P.EmpRetail_HighInc</span>) * <span class=\"LinearFunc_Data\">X('RETAIL_EMP * (INCOME&gt;50000)')</span><br>   + <span></span>exp(<span class=\"LinearFunc_Param\">P.EmpNonRetail_HighInc</span>) * <span class=\"LinearFunc_Data\">X('NONRETAIL_EMP*(INCOME&gt;50000)')</span><br>   + <span></span>exp(<span class=\"LinearFunc_Param\">P.EmpRetail_LowInc</span>) * <span class=\"LinearFunc_Data\">X('RETAIL_EMP*(INCOME&lt;=50000)')</span><br>   + <span></span>exp(<span class=\"LinearFunc_Param\">P.EmpNonRetail_LowInc</span>) * <span class=\"LinearFunc_Data\">X('NONRETAIL_EMP*(INCOME&lt;=50000)')</span><br>)</td></tr></table></div>"
      ],
      "text/plain": [
       "<xmle.Elem 'div' with 7 children>"
      ]
     },
     "execution_count": 36,
     "metadata": {},
     "output_type": "execute_result"
    }
   ],
   "source": [
    "report << \"# Utility Functions\" << m.utility_functions()"
   ]
  },
  {
   "cell_type": "markdown",
   "metadata": {},
   "source": [
    "Once we have assembled the report, we can save the file to \n",
    "disk as an HTML report containing the content previously \n",
    "assembled. Attaching the model itself to the report as\n",
    "metadata can be done within the `save` method, which will\n",
    "allow us to directly reload the same model again later."
   ]
  },
  {
   "cell_type": "code",
   "execution_count": 37,
   "metadata": {},
   "outputs": [
    {
     "data": {
      "text/plain": [
       "'/tmp/exampville_destination_choice.html'"
      ]
     },
     "execution_count": 37,
     "metadata": {},
     "output_type": "execute_result"
    }
   ],
   "source": [
    "report.save(\n",
    "    '/tmp/exampville_destination_choice.html', \n",
    "    overwrite=True, \n",
    "    metadata=m,\n",
    ")"
   ]
  }
 ],
 "metadata": {
  "kernelspec": {
   "display_name": "Python 3",
   "language": "python",
   "name": "python3"
  },
  "language_info": {
   "codemirror_mode": {
    "name": "ipython",
    "version": 3
   },
   "file_extension": ".py",
   "mimetype": "text/x-python",
   "name": "python",
   "nbconvert_exporter": "python",
   "pygments_lexer": "ipython3",
   "version": "3.7.4"
  }
 },
 "nbformat": 4,
 "nbformat_minor": 4
}
