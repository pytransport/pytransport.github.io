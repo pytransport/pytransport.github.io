{
 "cells": [
  {
   "cell_type": "code",
   "execution_count": 1,
   "metadata": {
    "ExecuteTime": {
     "end_time": "2021-02-11T15:59:12.865796Z",
     "start_time": "2021-02-11T15:59:12.161678Z"
    }
   },
   "outputs": [],
   "source": [
    "from choice_theory_figures import *"
   ]
  },
  {
   "cell_type": "markdown",
   "metadata": {},
   "source": [
    "# Discrete Choice Theory"
   ]
  },
  {
   "cell_type": "markdown",
   "metadata": {},
   "source": [
    "Discrete choice modeling is at the heart of many transportion planning models. This\n",
    "is because so many aspects of travel represent discrete choices: do I \n",
    "walk or drive?  Buy a car or not?  Take the freeway or side streets? Go to the store \n",
    "on the way to work?  Which store? \n",
    "\n",
    "All of these choices share some common features:  \n",
    "\n",
    "- they are selections from a bunch of categorical options, \n",
    "- the categories often lack a natural ordering (walking is not clearly \"more\" or \"less\" than\n",
    "  driving, just different), and\n",
    "- choosing one option means not choosing the other options.\n",
    "\n",
    "Beyond these factual aspects of the choices, we will also define some reasonable\n",
    "assumptions about these choices, namely:\n",
    "\n",
    "- the decision makers (the people traveling, generally) make **rational choices**\n",
    "  from among the options, choosing whichever option they think is best, and\n",
    "- those judgements about which option is best are based on the **attributes of \n",
    "  the alternatives**, and we as modelers can observe at least some of the \n",
    "  relevant attributes that decision makers are considering."
   ]
  },
  {
   "cell_type": "markdown",
   "metadata": {},
   "source": [
    "## Mathematical Derivation"
   ]
  },
  {
   "cell_type": "markdown",
   "metadata": {},
   "source": [
    "We can convert these reasonable assumptions, plus a few more assumptions that\n",
    "maybe are a little less reasonable, into a mathematical model to represent\n",
    "the choice process.\n",
    "\n",
    "Let's suppose that each of the alternatives in a choice problem has some value\n",
    "associated with it, and that the decision maker makes their choice by selecting\n",
    "the alternative with the highest value.  We'll call that value **\"utility\"**, which\n",
    "then makes this decision making process **\"utility maximization\"**.\n",
    "\n",
    "Unfortunately, we can't actually observe utility, instead we can only observe\n",
    "the actual or hypothetical choices that decision makers make."
   ]
  },
  {
   "cell_type": "markdown",
   "metadata": {},
   "source": [
    "Mathematically, decision maker $t$ chooses alternative $i$ from choices $C_t$ if and only if\n",
    "\n",
    "$$\n",
    "U_i \\ge U_j \\quad \\forall j \\in C_t.\n",
    "$$\n",
    "\n",
    "This is predicated on some formulation of utility\n",
    "\n",
    "$$U_i = V_i + \\varepsilon_i$$\n",
    "\n",
    "where $V_i$ is a measured component, also called the *systematic utility*, and $\\varepsilon_i$ is the the unobserved component, also called the *random utility*.\n",
    "\n",
    "Note that $\\varepsilon_i$ isn't random from the perspective of the decision maker, it is only random from the perspective of the modeler.\n",
    "\n",
    "We can identify the probability of $t$ choosing alternative $i$ as\n",
    "\n",
    "$$\n",
    "\\Pr_t(i | C_t) = \\Pr(U_i \\ge U_j, \\forall j \\in C_t) \\\\\n",
    "= \\Pr(V_i + \\varepsilon_i \\ge V_j + \\varepsilon_j, \\forall j \\in C_t) \\\\\n",
    "= \\Pr(\\varepsilon_j - \\varepsilon_i \\le V_i - V_j, \\forall j \\in C_t)\n",
    "$$\n",
    "\n",
    "In this last form we've grouped all the random utility together, which can be helpful.  If we can express these terms jointly, we have written this as a cumulative density function (CDF).\n",
    "\n",
    "Without making any particular assumption on the multivariate density function $f(\\varepsilon)$ we can write the probability as an integral, like this:"
   ]
  },
  {
   "cell_type": "markdown",
   "metadata": {},
   "source": [
    "$$\n",
    "\\Pr_t(i | C_t) = \n",
    "\\int_{\\varepsilon_i = -\\infty}^{\\infty} \n",
    "\\int_{\\varepsilon_j = -\\infty}^{V_i - V_j + \\varepsilon_i} \n",
    "f(\\varepsilon) d\\varepsilon_J d\\varepsilon_{i-1} d\\varepsilon_{i} \n",
    "$$"
   ]
  },
  {
   "cell_type": "markdown",
   "metadata": {},
   "source": [
    "Particular assumptions about error distributions lead to particular model structures.\n",
    "\n",
    "- If $\\varepsilon$ has a multivariate normal distribution, we get a **Multinomial Probit** model. \n",
    "- If $\\varepsilon$ has an IID Gumbel distribution, we get a **Multinomial Logit** model. \n",
    "\n",
    "**IID** means independent and identically distributed: each dimension has the same mean and variance, and there is no correlation across dimensions."
   ]
  },
  {
   "cell_type": "markdown",
   "metadata": {},
   "source": [
    "## The Gumbel Distribution\n",
    "\n",
    "The normal distribution is (among other things) the \n",
    "distribution of the mean of a number of samples.  You've\n",
    "likely heard of it before.  It's the default distribution\n",
    "for a lot of things, and for good reasons.\n",
    "\n",
    "The Gumbel distribution is much less well known.  It is\n",
    "the (limit) distribution of the maximum (or the minimum) of \n",
    "a number of samples from a normal distribution."
   ]
  },
  {
   "cell_type": "code",
   "execution_count": 2,
   "metadata": {
    "ExecuteTime": {
     "end_time": "2021-02-11T15:59:12.898411Z",
     "start_time": "2021-02-11T15:59:12.867468Z"
    }
   },
   "outputs": [],
   "source": [
    "# 5 thousand repetitions of samples taken from a normal distribution\n",
    "draws = [\n",
    "    np.random.normal(size=[1,5000]),\n",
    "    np.random.normal(size=[10,5000]),\n",
    "    np.random.normal(size=[100,5000]),\n",
    "    np.random.normal(size=[1,5000]),\n",
    "    np.random.normal(size=[10,5000]),\n",
    "    np.random.normal(size=[100,5000]),\n",
    "#     np.random.normal(size=[1000,5000]),\n",
    "#     np.random.normal(size=[10000,5000]),\n",
    "#     np.random.normal(size=[100000,5000]),\n",
    "]  "
   ]
  },
  {
   "cell_type": "code",
   "execution_count": 3,
   "metadata": {
    "ExecuteTime": {
     "end_time": "2021-02-11T15:59:13.580940Z",
     "start_time": "2021-02-11T15:59:12.900710Z"
    },
    "scrolled": false
   },
   "outputs": [
    {
     "data": {
      "image/png": "[encoded data removed]",
      "text/plain": [
       "<Figure size 504x504 with 6 Axes>"
      ]
     },
     "metadata": {
      "needs_background": "light"
     },
     "output_type": "display_data"
    }
   ],
   "source": [
    "fig, axs = plt.subplots(3,2,figsize=(7,7))\n",
    "fig.set_tight_layout(True)\n",
    "for d, ax in zip(draws, axs.reshape(-1)):\n",
    "    ax.set_title(f\"Samples of Size {d.shape[0]:,}\")\n",
    "    ax.hist(d.max(axis=0), bins=30, density=True); # plot the distribution"
   ]
  },
  {
   "cell_type": "markdown",
   "metadata": {},
   "source": [
    "The gumbel distribution is available in the `scipy.stats` package,\n",
    "under the name `gumbel_r` for the right-skewed version associated\n",
    "with the maximum, or the mirrored `gumbel_l` for the left-skewed version associated\n",
    "with the minimum."
   ]
  },
  {
   "cell_type": "code",
   "execution_count": 4,
   "metadata": {
    "ExecuteTime": {
     "end_time": "2021-02-11T15:59:13.866480Z",
     "start_time": "2021-02-11T15:59:13.582644Z"
    }
   },
   "outputs": [],
   "source": [
    "from scipy.stats import gumbel_r, norm"
   ]
  },
  {
   "cell_type": "code",
   "execution_count": 5,
   "metadata": {
    "ExecuteTime": {
     "end_time": "2021-02-11T15:59:14.486602Z",
     "start_time": "2021-02-11T15:59:13.867880Z"
    }
   },
   "outputs": [
    {
     "data": {
      "image/png": "[encoded data removed]",
      "text/plain": [
       "<Figure size 504x504 with 6 Axes>"
      ]
     },
     "metadata": {
      "needs_background": "light"
     },
     "output_type": "display_data"
    }
   ],
   "source": [
    "fig, axs = plt.subplots(3,2,figsize=(7,7))\n",
    "fig.set_tight_layout(True)\n",
    "for d, ax in zip(draws, axs.reshape(-1)):\n",
    "    ax.set_title(f\"Samples of Size {d.shape[0]:,}\")\n",
    "    dmax = d.max(axis=0)\n",
    "    ax.hist(dmax, bins=30, density=True); # plot the distribution\n",
    "    m, v = (dmax.mean(), dmax.var())\n",
    "    x = np.linspace(dmax.min(),dmax.max(),100)\n",
    "    s = (v/1.645)**0.5\n",
    "    mu = m - s*0.577\n",
    "    ax.plot(x, gumbel_r.pdf(x,mu,s), label='Gumbel', lw=3)"
   ]
  },
  {
   "cell_type": "markdown",
   "metadata": {},
   "source": [
    "The probability density function (pdf) for `gumbel_r` is:\n",
    "\n",
    "$$f(x; \\mu, s) = \\frac{1}{s} \\exp\\left(-\\frac{x+\\mu}{s}\\right) \\exp\\left(-\\exp\\left(-\\frac{x+\\mu}{s}\\right)\\right)$$\n",
    "\n",
    "The cumulative density function (cdf) for `gumbel_r` is:\n",
    "\n",
    "$$F(x; \\mu, s) = \\exp\\left(-\\exp\\left(-\\frac{x-\\mu}{s}\\right)\\right)$$\n",
    "\n",
    "\n",
    "The Gumbel distribution is sometimes referred to as a *type I Fisher-Tippett\n",
    "distribution*. It is a bell-shaped distribution but obviously not \"the\" bell curve, which is generally the normal distribution. It is assymetric, but as we'll see below that is not important in the context of discrete choice analysis.\n",
    "\n",
    "We can plot the PDF and CDF functions to get a better idea of the differences."
   ]
  },
  {
   "cell_type": "code",
   "execution_count": 6,
   "metadata": {
    "ExecuteTime": {
     "end_time": "2021-02-11T15:59:14.639789Z",
     "start_time": "2021-02-11T15:59:14.488942Z"
    }
   },
   "outputs": [
    {
     "data": {
      "image/png": "[encoded data removed]",
      "text/plain": [
       "<Figure size 432x288 with 1 Axes>"
      ]
     },
     "metadata": {
      "needs_background": "light"
     },
     "output_type": "display_data"
    }
   ],
   "source": [
    "x = np.linspace(-3,5,100)\n",
    "plt.plot(x, gumbel_r.pdf(x), label='Gumbel')\n",
    "plt.plot(x, norm.pdf(x, 0.577, 1.282), label='Normal')\n",
    "plt.title(\"Probability Density Functions\\n(same mean and variance)\")\n",
    "plt.legend();"
   ]
  },
  {
   "cell_type": "code",
   "execution_count": 7,
   "metadata": {
    "ExecuteTime": {
     "end_time": "2021-02-11T15:59:14.780975Z",
     "start_time": "2021-02-11T15:59:14.641432Z"
    }
   },
   "outputs": [
    {
     "data": {
      "image/png": "[encoded data removed]",
      "text/plain": [
       "<Figure size 432x288 with 1 Axes>"
      ]
     },
     "metadata": {
      "needs_background": "light"
     },
     "output_type": "display_data"
    }
   ],
   "source": [
    "x = np.linspace(-3,5,100)\n",
    "plt.plot(x, gumbel_r.cdf(x), label='Gumbel')\n",
    "plt.plot(x, norm.cdf(x, 0.577, 1.282), label='Normal')\n",
    "plt.title(\"Cumulative Density Functions\\n(same mean and variance)\")\n",
    "plt.legend();"
   ]
  },
  {
   "cell_type": "markdown",
   "metadata": {},
   "source": [
    "The mode (peak) of the standard Gumbel distribution is at zero,\n",
    "but the mean is $0.577$.  The variance is $\\frac{\\pi^2}{6} = 1.645$.  "
   ]
  },
  {
   "cell_type": "markdown",
   "metadata": {},
   "source": [
    "### Scale and Translation\n",
    "\n",
    "Some properties of the Gumbel distribution include the ability to scale and translate (shift) it.\n",
    "\n",
    "If $\\varepsilon \\sim G(\\eta,\\mu)$, then\n",
    "\n",
    "- Scaling: $\\alpha\\varepsilon \\sim Gumbel(\\alpha\\eta,\\alpha\\mu)$\n",
    "  - mode (peak) = $\\alpha\\eta$\n",
    "  - mean = $\\alpha\\eta + \\alpha\\mu 0.577$\n",
    "  - variance = $\\frac{\\pi^2 \\alpha^2 \\mu^2}{6}$\n",
    "\n",
    "\n",
    "- Translation: ($\\varepsilon + V) \\sim Gumbel(\\eta + V,\\mu)$ where $V$ is some non-random value\n",
    "  - mode (peak) = $\\eta + V$\n",
    "  - mean = $\\eta + V + \\mu 0.577$\n",
    "  - variance = $\\frac{\\pi^2 \\mu^2}{6}$\n",
    "  - outcome: the distribution can be shifted left or right with no change in shape or variance\n",
    "  \n",
    "We can simplify the derivation of the Multinomial Logit model by\n",
    "assuming $\\eta = 0$ and $\\mu = 1$ (Standard Gumbel).\n",
    "We will examine effect of different values later.\n"
   ]
  },
  {
   "cell_type": "markdown",
   "metadata": {},
   "source": [
    "## The Logistic Distribution"
   ]
  },
  {
   "cell_type": "markdown",
   "metadata": {},
   "source": [
    "A handy property of the Gumbel distribution is that the difference between two independent \n",
    "Gumbel distributions (with same variance) is a **logistic distribution**.  \n",
    "\n",
    "The probability density function is:\n",
    "\n",
    "$$\n",
    "\\begin{align}\n",
    "f(x; \\mu,s)  & = \\frac{e^{-(x-\\mu)/s}} {s\\left(1+e^{-(x-\\mu)/s}\\right)^2} \\\\[4pt]\n",
    "\\end{align}\n",
    "$$\n",
    "\n",
    "The cumulative density function is:\n",
    "\n",
    "$$\n",
    "F(x; \\mu, s) = \\frac{1}{1+\\exp({-(x-\\mu)/s})}\n",
    "$$\n",
    "\n",
    "It looks like this:"
   ]
  },
  {
   "cell_type": "code",
   "execution_count": 8,
   "metadata": {
    "ExecuteTime": {
     "end_time": "2021-02-11T15:59:14.785658Z",
     "start_time": "2021-02-11T15:59:14.783889Z"
    }
   },
   "outputs": [],
   "source": [
    "from scipy.stats import logistic"
   ]
  },
  {
   "cell_type": "code",
   "execution_count": 9,
   "metadata": {
    "ExecuteTime": {
     "end_time": "2021-02-11T15:59:14.920522Z",
     "start_time": "2021-02-11T15:59:14.788118Z"
    }
   },
   "outputs": [
    {
     "data": {
      "image/png": "[encoded data removed]",
      "text/plain": [
       "<Figure size 432x288 with 1 Axes>"
      ]
     },
     "metadata": {
      "needs_background": "light"
     },
     "output_type": "display_data"
    }
   ],
   "source": [
    "x = np.linspace(-7,7,100)\n",
    "plt.plot(x, logistic.pdf(x), label='Logistic')\n",
    "plt.plot(x, norm.pdf(x,0,1.8138), label='Normal')\n",
    "plt.title(\"Probability Density Functions\\n(same mean and variance)\")\n",
    "plt.legend();"
   ]
  },
  {
   "cell_type": "code",
   "execution_count": 10,
   "metadata": {
    "ExecuteTime": {
     "end_time": "2021-02-11T15:59:15.116277Z",
     "start_time": "2021-02-11T15:59:14.921829Z"
    }
   },
   "outputs": [
    {
     "data": {
      "image/png": "[encoded data removed]",
      "text/plain": [
       "<Figure size 432x288 with 1 Axes>"
      ]
     },
     "metadata": {
      "needs_background": "light"
     },
     "output_type": "display_data"
    }
   ],
   "source": [
    "x = np.linspace(-7,7,100)\n",
    "plt.plot(x, logistic.cdf(x), label='Logistic')\n",
    "plt.plot(x, norm.cdf(x,0,1.8138), label='Normal')\n",
    "plt.title(\"Cumulative Density Functions\\n(same mean and variance)\")\n",
    "plt.legend();"
   ]
  },
  {
   "cell_type": "markdown",
   "metadata": {},
   "source": [
    "Unlike the Gumbel, the Logistic distribution is symmetric.  Since it is also\n",
    "unimodal (one hump) the mean and mode (peak) are at the same value.  When it\n",
    "is created by taking the difference between two IID Gumbels, this value is \n",
    "equal to the difference between the location parameters (peaks) of those\n",
    "two Gumbels."
   ]
  },
  {
   "cell_type": "markdown",
   "metadata": {
    "ExecuteTime": {
     "end_time": "2020-02-07T16:46:47.664391Z",
     "start_time": "2020-02-07T16:46:47.653885Z"
    }
   },
   "source": [
    "$\\varepsilon_1 \\sim Gumbel(V_1, 1)$\n",
    "\n",
    "$\\varepsilon_2 \\sim Gumbel(V_2, 1)$\n",
    "\n",
    "$\\varepsilon_1 - \\varepsilon_2 = \\varepsilon_3 \\sim Logistic(V_1-V_2, 1)$\n"
   ]
  },
  {
   "cell_type": "markdown",
   "metadata": {},
   "source": [
    "## Maximium over Multiple Gumbels"
   ]
  },
  {
   "cell_type": "markdown",
   "metadata": {},
   "source": [
    "Suppose we have two random variables, both with a Gumbel distribution, both with the same variance.\n",
    "\n",
    "$$\\varepsilon_1 \\sim G(V_1, 1)$$\n",
    "\n",
    "$$\\varepsilon_2 \\sim G(V_2, 1)$$\n",
    "\n",
    "Then, the distribution of the maximum, i.e. $\\max(\\varepsilon_1, \\varepsilon_2)$ is *also* a Gumbel distribution, and *also* with the same variance.  \n",
    "\n",
    "$$\\max(\\varepsilon_1, \\varepsilon_2) \\sim G(V_\\star, 1)$$\n",
    "\n",
    "with $V_\\star = \\log\\left(\\exp(V_1)+\\exp(V_2)\\right)$.\n",
    "\n",
    "By extension, the same holds for the maximum of any set of $N$ Gumbel distributions:\n",
    "\n",
    "$$V_\\star = \\log\\left(\\sum_{j=1}^{N}\\exp(V_j)\\right)$$.\n"
   ]
  },
  {
   "cell_type": "markdown",
   "metadata": {},
   "source": [
    "## Deriving the Binary Logit Choice Model"
   ]
  },
  {
   "cell_type": "markdown",
   "metadata": {},
   "source": [
    "Recall our utility formulation.  The probability of a decision maker choosing a particular alternative $i$ is equal to the probability that the utility $U_i$ is greater than or equal to the utility $U_j$ for all other possible choices $j$.  This is equivalent to writing:\n",
    "\n",
    "$$\n",
    "\\Pr\\left(U_i \\ge \\max(U_j, \\forall j \\ne i)\\right)\n",
    "$$\n",
    "\n",
    "or\n",
    "\n",
    "$$\n",
    "\\Pr\\left(V_i + \\varepsilon_i \\ge \\max(V_j + \\varepsilon_j, \\forall j \\ne i)\\right)\n",
    "$$\n",
    "\n",
    "or\n",
    "\n",
    "$$\n",
    "\\Pr\\left(V_i \\ge \\max(V_j + \\varepsilon_j, \\forall j \\ne i) - \\varepsilon_i\\right)\n",
    "$$\n"
   ]
  },
  {
   "cell_type": "markdown",
   "metadata": {},
   "source": [
    "Some important features of this way of writing the probabilities:\n",
    "\n",
    "- On the left side of the inequality we have just $V_i$ which is not a random variable.\n",
    "- On the right side we have $\\max(V_j + \\varepsilon_j, \\forall j \\ne i)$ which is \n",
    "  a maximum of (shifted) Gumbel distributions, which then is itself a Gumbel distribution,\n",
    "  let's call it $\\varepsilon_\\star$ which has a (shifted) location of $V_\\star$.\n",
    "- Then we take the difference of that Gumbel distribution and another (the one \n",
    "  for $\\varepsilon_i$), which makes one logistic distribution.\n",
    "- That one logistic distribution is the only term on the right side of the inequality.\n",
    "- We therefore reduced our multi-dimensional integral from before to a one-dimensional\n",
    "  integral on a single logistic distribution ... which conveniently has a closed form solution:\n",
    "  the CDF:\n",
    "  \n",
    "$$\n",
    "\\Pr\\left(V_i \\ge \\max(V_j + \\varepsilon_j, \\forall j \\ne i) - \\varepsilon_i\\right) = \n",
    "\\frac{1}{1+\\exp(V_\\star - V_i)}\n",
    "$$"
   ]
  },
  {
   "cell_type": "markdown",
   "metadata": {},
   "source": [
    "We can reformat this a bit to make it more obviously symmetric and generalizable: "
   ]
  },
  {
   "cell_type": "markdown",
   "metadata": {
    "ExecuteTime": {
     "end_time": "2020-02-07T16:51:51.197359Z",
     "start_time": "2020-02-07T16:51:51.188952Z"
    }
   },
   "source": [
    "$$\n",
    "\\frac{1}{1+\\exp(V_k - V_i)}\n",
    "= \\frac{1}{1+\\exp(V_k)/\\exp(V_i)} = \\frac{\\exp(V_i)}{\\exp(V_i)+\\exp(V_k)}\n",
    "$$"
   ]
  },
  {
   "cell_type": "markdown",
   "metadata": {
    "ExecuteTime": {
     "end_time": "2020-02-07T16:54:17.494615Z",
     "start_time": "2020-02-07T16:54:17.484995Z"
    }
   },
   "source": [
    "And recall that $V^\\star = \\log\\left(\\sum_{j=1}^{N}\\exp(V_j)\\right)$, which leads to\n",
    "\n",
    "$$\n",
    "\\Pr(i) = \\frac{\\exp(V_i)}{\\sum_{j=1}^{N}\\exp(V_j)}\n",
    "$$"
   ]
  },
  {
   "cell_type": "markdown",
   "metadata": {},
   "source": [
    "## Arbitrary Scale "
   ]
  },
  {
   "cell_type": "markdown",
   "metadata": {},
   "source": [
    "Consider what happens if set the scale of the Gumbel distributions in our utility\n",
    "functions to some value other than 1:\n",
    "\n",
    "The utility function for alternative $j$ is now\n",
    "\n",
    "$$\n",
    "U_j = V_j + \\varepsilon_j,\\quad \\varepsilon_j \\sim Gumbel(0,\\mu)\n",
    "$$\n",
    "\n"
   ]
  },
  {
   "cell_type": "markdown",
   "metadata": {},
   "source": [
    "Let's take this but define a different scaled measure of utility $U^\\prime$.\n",
    "\n",
    "$$\n",
    "\\begin{align}\n",
    "U^\\prime_j &= \\mu U_j \\\\\n",
    "&= \\mu (V_j + \\varepsilon_j),\\quad \\varepsilon_j \\sim Gumbel(0,1) \\\\\n",
    "&=  \\mu V_j + \\mu\\varepsilon_j,\\quad \\mu\\varepsilon_j \\sim Gumbel(0,\\mu)\n",
    "\\end{align}\n",
    "$$"
   ]
  },
  {
   "cell_type": "markdown",
   "metadata": {},
   "source": [
    "You can see that the two different models are practically the same, except for the scale of the variance.\n",
    "\n",
    "However, because we will be choosing the functional form of $V$ to best fit the data, we can scale the\n",
    "values we get for $V$ and end up with an identical model with respect to the output probabilities.\n",
    "\n",
    "If we were able to observe the *utility* values directly, we could identify a unique scale of the \n",
    "$\\varepsilon$ terms that would fit best.  But because we can only observe the choices, we cannot\n",
    "actually identify which scale is better, and we are free to choose any scale factor that is mathematically\n",
    "convenient (i.e., 1)."
   ]
  },
  {
   "cell_type": "markdown",
   "metadata": {},
   "source": [
    "## Arbitrary Location \n"
   ]
  },
  {
   "cell_type": "markdown",
   "metadata": {
    "ExecuteTime": {
     "end_time": "2020-02-07T17:15:28.429348Z",
     "start_time": "2020-02-07T17:15:28.420466Z"
    }
   },
   "source": [
    "Consider what happens if set the location (mode) of the Gumbel distributions in our utility\n",
    "functions to some value other than 0:\n",
    "\n",
    "The utility function for alternative $j$ is now\n",
    "\n",
    "$$\n",
    "U_j = V_j + \\varepsilon_j,\\quad \\varepsilon_j \\sim Gumbel(\\delta, 1)\n",
    "$$"
   ]
  },
  {
   "cell_type": "markdown",
   "metadata": {},
   "source": [
    "Let's take this but define a different shifted measure of utility $U^\\prime$.\n",
    "\n",
    "$$\n",
    "\\begin{align}\n",
    "U^\\prime_j &= V_j + \\varepsilon_j,\\quad \\varepsilon_j \\sim Gumbel(\\delta, 1) \\\\\n",
    "&= V_j + \\delta + \\varepsilon_j,\\quad \\varepsilon_j \\sim Gumbel(0,1)\n",
    "\\end{align}\n",
    "$$"
   ]
  },
  {
   "cell_type": "markdown",
   "metadata": {
    "ExecuteTime": {
     "end_time": "2020-02-07T17:19:26.690822Z",
     "start_time": "2020-02-07T17:19:26.680692Z"
    }
   },
   "source": [
    "As for the scale, we can push an arbitrary location adjustment from $\\varepsilon$ into $V$, and end up with the same model with respect to probabilities."
   ]
  },
  {
   "cell_type": "markdown",
   "metadata": {},
   "source": [
    "## Too Much Arbitrary-ness in Location"
   ]
  },
  {
   "cell_type": "markdown",
   "metadata": {},
   "source": [
    "Consider what happens if we introduce an arbitrary constant shift in utility for *every* alterantive."
   ]
  },
  {
   "cell_type": "markdown",
   "metadata": {
    "ExecuteTime": {
     "end_time": "2020-02-07T17:25:32.799889Z",
     "start_time": "2020-02-07T17:25:32.787439Z"
    }
   },
   "source": [
    "What happens to the differences in utilities between alternatives?  \n",
    "\n",
    "$$\n",
    "V_i^\\prime - V_j^\\prime = (V_i + \\delta) - (V_j + \\delta) = V_i  - V_j \n",
    "$$"
   ]
  },
  {
   "cell_type": "markdown",
   "metadata": {
    "ExecuteTime": {
     "end_time": "2020-02-07T17:22:44.462149Z",
     "start_time": "2020-02-07T17:22:44.451309Z"
    }
   },
   "source": [
    "What happens to the probabilities of alternatives?  \n",
    "\n",
    "\n",
    "$$\n",
    "\\Pr(i) = \\frac{\\exp(V_i + \\delta)}{\\sum_{j=1}^{N}\\exp(V_j + \\delta)}\n",
    "= \\frac{\\exp(V_i)\\exp(\\delta)}{\\sum_{j=1}^{N}\\exp(V_j)\\exp(\\delta)}\n",
    "= \\frac{\\exp(\\delta)}{\\exp(\\delta)}\\frac{\\exp(V_i)}{\\sum_{j=1}^{N}\\exp(V_j)}\n",
    "= \\frac{\\exp(V_i)}{\\sum_{j=1}^{N}\\exp(V_j)}\n",
    "$$"
   ]
  },
  {
   "cell_type": "markdown",
   "metadata": {
    "ExecuteTime": {
     "end_time": "2020-02-07T17:29:14.140519Z",
     "start_time": "2020-02-07T17:29:14.132558Z"
    }
   },
   "source": [
    "- We can shift constants for all alternatives the same and get the same probability model.\n",
    "- We pick any alternative arbitrarily and set the constant to zero and get the same probability model.\n",
    "- **Only the differences in utility matter, not the absolute values.**"
   ]
  },
  {
   "cell_type": "markdown",
   "metadata": {},
   "source": [
    "## Typical Form of Systematic Utility"
   ]
  },
  {
   "cell_type": "markdown",
   "metadata": {},
   "source": [
    "In most transportation planning applications, the systematic utility is given as a **linear in parameters** function.\n",
    "\n",
    "This means that the functional form of $V_{ti}$ for decision maker $t$ and alternative $i$ looks like\n",
    "\n",
    "$$\n",
    "V_{ti} = X_{ti} \\beta_{i} = \\sum_{k=1}^{K} X_{tik} \\beta_{ik}\n",
    "$$"
   ]
  },
  {
   "cell_type": "markdown",
   "metadata": {},
   "source": [
    "You may recall from the `statsmodel` package that in order to include a y-intercept or constant term in the model, it was necessary to explicitly add a column of all 1's to the dataframe.  The same is generally true when expressing the utility function for a discrete choice model like this."
   ]
  },
  {
   "cell_type": "markdown",
   "metadata": {},
   "source": [
    "One important feature to keep track of here that is different from an ordinary least squares linear regression model: **only the differences in utility matter**.\n",
    "\n",
    "This means that *something* needs to induce some differences in the systematic utility between alternatives.  That *something* can be:\n",
    "\n",
    "- differences in the observed $X$ data values (e.g. the travel time is different for different modes), or\n",
    "- differences in the $\\beta$ parameter values across modes, or\n",
    "- both.\n",
    "\n",
    "It is important to pay attention to instances where observed data values do *not* vary across modes, and ensure\n",
    "that the parameters *do* vary in those instances.  These are sometimes called alternative-specific variables.\n",
    "\n",
    "(Yes, this is ironic, because the variables themselves are in fact not specific to the alternative.)"
   ]
  },
  {
   "cell_type": "markdown",
   "metadata": {},
   "source": [
    "## Independence of Irrelevant Alternatives (IIA)"
   ]
  },
  {
   "cell_type": "markdown",
   "metadata": {},
   "source": [
    "One important property of the MNL model is \"Independence of Irrelevant Alternatives\".\n",
    "\n",
    "This refers to the fact that the ratio of choice probabilities between pairs of alternatives is independent of the availability or attributes of other alternatives.\n",
    "\n",
    "$$\n",
    "\\frac{\\Pr(i)}{\\Pr(k)} = \\frac{\\exp(V_i)}{\\sum_j \\exp(V_j)}\\frac{\\sum_j \\exp(V_j)}{\\exp(V_k)}\n",
    "=\\frac{\\exp(V_i)}{\\exp(V_k)} = \\exp(V_i - V_k)\n",
    "$$\n"
   ]
  },
  {
   "cell_type": "markdown",
   "metadata": {},
   "source": [
    "How reasonable is this outcome?"
   ]
  },
  {
   "cell_type": "markdown",
   "metadata": {},
   "source": [
    "Consider the selection of a birthday present for a child.\n",
    "\n",
    "- Each child is offered two options to choose from: a red bicycle, or a pony.\n",
    "- We observe across a sample of children that 75% choose the pony and 25% choose the bicycle.\n",
    "- We then offer up a new set of choices: a red bicycle, a green bicycle, or a pony.\n",
    "- As it turns out, these children are all colorblind (it runs in the family) and they can't see any difference between the two bicycles.\n",
    "\n",
    "\n",
    "- What do we expect the choice probabilities to be?\n",
    "- What does the MNL model predict the choice probabilities will be?\n",
    "- What causes this?"
   ]
  },
  {
   "cell_type": "markdown",
   "metadata": {},
   "source": [
    "## Elasticities of the MNL Model"
   ]
  },
  {
   "cell_type": "markdown",
   "metadata": {},
   "source": [
    "### Direct Effects"
   ]
  },
  {
   "cell_type": "markdown",
   "metadata": {},
   "source": [
    "The *direct elasticity* is the relative change in the probability of selection of an alternative with respect to a marginal change in one of the attributes of that alternative.  So, if you make an option a little bit better, how many more people would you expect to choose it?  Mathematically,"
   ]
  },
  {
   "cell_type": "markdown",
   "metadata": {},
   "source": [
    "$$\n",
    "\\frac{\\partial P_i}{\\partial X_{ik}} = P_i (1-P_i) \\beta_k\n",
    "$$\n",
    "\n",
    "$$\n",
    "\\eta ^{P_i} _{X_{ik}} =  \\frac{\\partial P_i}{\\partial X_{ik}} \\frac{X_{ik}}{P_i}\n",
    "= (1-P_i) X_{ik} \\beta_k\n",
    "$$\n"
   ]
  },
  {
   "cell_type": "markdown",
   "metadata": {},
   "source": [
    "We can see the direct elasticity of an alternative is related to its probability: \n",
    "    \n",
    "- When the probability is high and it is chosen a lot, the elasticity is lower.\n",
    "  Making a very popular choice a little bit better will not make very many more people\n",
    "  choose it, as most people are already choosing it.  Thus, changing the attributes of the \n",
    "  alternative won't impact demand too much.\n",
    "- When it is chosen infrequently, the elasticity is higher, and changing attributes \n",
    "  of the alternative might impact demand more (all else equal).  If it's not very popular currently,\n",
    "  then the potential market share gains, especially as a percentage of the existing market share,\n",
    "  can be much bigger."
   ]
  },
  {
   "cell_type": "markdown",
   "metadata": {
    "ExecuteTime": {
     "end_time": "2020-02-07T18:15:37.698823Z",
     "start_time": "2020-02-07T18:15:37.695658Z"
    }
   },
   "source": [
    "### Cross Effects"
   ]
  },
  {
   "cell_type": "markdown",
   "metadata": {},
   "source": [
    "The cross elasticity is the relative change in the probability of selection of one alternative with respect to a marginal change in one of the attributes of a *different* alternative. Mathematically,"
   ]
  },
  {
   "cell_type": "markdown",
   "metadata": {
    "ExecuteTime": {
     "end_time": "2020-02-07T18:17:15.231995Z",
     "start_time": "2020-02-07T18:17:15.218402Z"
    }
   },
   "source": [
    "$$\n",
    "\\frac{\\partial P_j}{\\partial X_{ik}} = - P_i P_j \\beta_k\n",
    "$$\n",
    "\n",
    "$$\n",
    "\\eta ^{P_j} _{X_{ik}} =  \\frac{\\partial P_j}{\\partial X_{ik}} \\frac{X_{ik}}{P_j}\n",
    "= P_i X_{ik} \\beta_k\n",
    "$$\n"
   ]
  },
  {
   "cell_type": "markdown",
   "metadata": {},
   "source": [
    "Notice that the cross elasticity is not a function of the attributes of probability of $j$!  This is another manifestation of the IIA property.\n",
    "\n",
    "When changing the attributes of any one alternative, the percentage change in the probabilities for all other alternatives is the same regardless of the alternative. "
   ]
  },
  {
   "cell_type": "markdown",
   "metadata": {
    "ExecuteTime": {
     "end_time": "2020-02-07T18:23:56.511529Z",
     "start_time": "2020-02-07T18:23:56.504255Z"
    }
   },
   "source": [
    "## Estimating Model Parameters"
   ]
  },
  {
   "cell_type": "markdown",
   "metadata": {},
   "source": [
    "Let us suppose we have some observations of trips taken by Car or Bus. We will represent the utility only with travel time and travel cost. Here we have a couple of observations:"
   ]
  },
  {
   "cell_type": "code",
   "execution_count": 11,
   "metadata": {
    "ExecuteTime": {
     "end_time": "2021-02-11T15:59:15.125350Z",
     "start_time": "2021-02-11T15:59:15.117751Z"
    }
   },
   "outputs": [
    {
     "data": {
      "text/html": [
       "<div>\n",
       "<style scoped>\n",
       "    .dataframe tbody tr th:only-of-type {\n",
       "        vertical-align: middle;\n",
       "    }\n",
       "\n",
       "    .dataframe tbody tr th {\n",
       "        vertical-align: top;\n",
       "    }\n",
       "\n",
       "    .dataframe thead th {\n",
       "        text-align: right;\n",
       "    }\n",
       "</style>\n",
       "<table border=\"1\" class=\"dataframe\">\n",
       "  <thead>\n",
       "    <tr style=\"text-align: right;\">\n",
       "      <th></th>\n",
       "      <th>obs</th>\n",
       "      <th>mode</th>\n",
       "      <th>time</th>\n",
       "      <th>cost</th>\n",
       "      <th>chosen</th>\n",
       "    </tr>\n",
       "  </thead>\n",
       "  <tbody>\n",
       "    <tr>\n",
       "      <th>0</th>\n",
       "      <td>1</td>\n",
       "      <td>bus</td>\n",
       "      <td>20</td>\n",
       "      <td>10</td>\n",
       "      <td>True</td>\n",
       "    </tr>\n",
       "    <tr>\n",
       "      <th>1</th>\n",
       "      <td>1</td>\n",
       "      <td>car</td>\n",
       "      <td>10</td>\n",
       "      <td>20</td>\n",
       "      <td>False</td>\n",
       "    </tr>\n",
       "    <tr>\n",
       "      <th>2</th>\n",
       "      <td>2</td>\n",
       "      <td>car</td>\n",
       "      <td>12</td>\n",
       "      <td>16</td>\n",
       "      <td>True</td>\n",
       "    </tr>\n",
       "    <tr>\n",
       "      <th>3</th>\n",
       "      <td>2</td>\n",
       "      <td>bus</td>\n",
       "      <td>21</td>\n",
       "      <td>14</td>\n",
       "      <td>False</td>\n",
       "    </tr>\n",
       "  </tbody>\n",
       "</table>\n",
       "</div>"
      ],
      "text/plain": [
       "   obs mode  time  cost  chosen\n",
       "0    1  bus    20    10    True\n",
       "1    1  car    10    20   False\n",
       "2    2  car    12    16    True\n",
       "3    2  bus    21    14   False"
      ]
     },
     "execution_count": 11,
     "metadata": {},
     "output_type": "execute_result"
    }
   ],
   "source": [
    "data2"
   ]
  },
  {
   "cell_type": "markdown",
   "metadata": {},
   "source": [
    "We can plot each observation seperately, showing the chosen and unchosen alternatives.\n",
    "Since there are only two alternatives for each observation, the graph is quite simple."
   ]
  },
  {
   "cell_type": "code",
   "execution_count": 12,
   "metadata": {
    "ExecuteTime": {
     "end_time": "2021-02-11T15:59:15.393905Z",
     "start_time": "2021-02-11T15:59:15.126706Z"
    }
   },
   "outputs": [
    {
     "data": {
      "image/png": "[encoded data removed]",
      "text/plain": [
       "<Figure size 504x288 with 2 Axes>"
      ]
     },
     "metadata": {
      "needs_background": "light"
     },
     "output_type": "display_data"
    }
   ],
   "source": [
    "figure_two_observations()"
   ]
  },
  {
   "cell_type": "markdown",
   "metadata": {},
   "source": [
    "In addition to the observations, these figures also include some notes about the implied utility of the two alternatives.  To create a model for this, we need to find a set of parameters that will allow us predict the choices: the utility of each choice should be better than that for each non-choice.  If we map a utility function onto these figures, both \"better\" arrows should be pointing uphill. \n",
    "\n",
    "Let's visualize some different fields of utility functions."
   ]
  },
  {
   "cell_type": "code",
   "execution_count": 13,
   "metadata": {
    "ExecuteTime": {
     "end_time": "2021-02-11T15:59:15.893971Z",
     "start_time": "2021-02-11T15:59:15.395288Z"
    }
   },
   "outputs": [
    {
     "data": {
      "image/png": "[encoded data removed]",
      "text/plain": [
       "<Figure size 504x504 with 4 Axes>"
      ]
     },
     "metadata": {
      "needs_background": "light"
     },
     "output_type": "display_data"
    }
   ],
   "source": [
    "figure_four_fields()"
   ]
  },
  {
   "cell_type": "markdown",
   "metadata": {},
   "source": [
    "The contour lines on these fields are \"iso-utility\" lines, \n",
    "defined as a series of parallel lines where the value of time \n",
    "(i.e. the ratio between the parameters on time and cost)\n",
    "are represented by the inverse of the slope.\n",
    "\n",
    "We want to pick an set of parameters that define a field where the actually chosen \n",
    "alternatives are all uphill from the non-chosen alternatives.\n",
    "\n",
    "Does this work?"
   ]
  },
  {
   "cell_type": "code",
   "execution_count": 14,
   "metadata": {
    "ExecuteTime": {
     "end_time": "2021-02-11T15:59:16.167814Z",
     "start_time": "2021-02-11T15:59:15.896416Z"
    },
    "scrolled": false
   },
   "outputs": [
    {
     "data": {
      "image/png": "[encoded data removed]",
      "text/plain": [
       "<Figure size 432x288 with 2 Axes>"
      ]
     },
     "metadata": {
      "needs_background": "light"
     },
     "output_type": "display_data"
    }
   ],
   "source": [
    "figure_two_observations_on_field(beta_time=-0.18, beta_cost=-0.1)"
   ]
  },
  {
   "cell_type": "markdown",
   "metadata": {},
   "source": [
    "How about this?"
   ]
  },
  {
   "cell_type": "code",
   "execution_count": 15,
   "metadata": {
    "ExecuteTime": {
     "end_time": "2021-02-11T15:59:16.494548Z",
     "start_time": "2021-02-11T15:59:16.169230Z"
    },
    "scrolled": false
   },
   "outputs": [
    {
     "data": {
      "image/png": "[encoded data removed]",
      "text/plain": [
       "<Figure size 432x288 with 2 Axes>"
      ]
     },
     "metadata": {
      "needs_background": "light"
     },
     "output_type": "display_data"
    }
   ],
   "source": [
    "figure_two_observations_on_field(beta_time=-0.01, beta_cost=-0.06)"
   ]
  },
  {
   "cell_type": "markdown",
   "metadata": {},
   "source": [
    "How about this?"
   ]
  },
  {
   "cell_type": "code",
   "execution_count": 16,
   "metadata": {
    "ExecuteTime": {
     "end_time": "2021-02-11T15:59:16.749755Z",
     "start_time": "2021-02-11T15:59:16.495894Z"
    }
   },
   "outputs": [
    {
     "data": {
      "image/png": "[encoded data removed]",
      "text/plain": [
       "<Figure size 432x288 with 2 Axes>"
      ]
     },
     "metadata": {
      "needs_background": "light"
     },
     "output_type": "display_data"
    }
   ],
   "source": [
    "figure_two_observations_on_field(beta_time=-0.1, beta_cost=-0.2)"
   ]
  },
  {
   "cell_type": "markdown",
   "metadata": {},
   "source": [
    "With both arrows pointing uphill, we found a set of parameters that works to explain \n",
    "these observations."
   ]
  },
  {
   "cell_type": "markdown",
   "metadata": {},
   "source": [
    "This visualization is kind of busy.  We can simplify it by reducing each\n",
    "observation to a single point, by mapping the differences in time and cost,\n",
    "instead of the raw values.  (Hey, remember \"only the differences matter\"?)"
   ]
  },
  {
   "cell_type": "code",
   "execution_count": 17,
   "metadata": {
    "ExecuteTime": {
     "end_time": "2021-02-11T15:59:16.757878Z",
     "start_time": "2021-02-11T15:59:16.752126Z"
    }
   },
   "outputs": [
    {
     "data": {
      "text/html": [
       "<div>\n",
       "<style scoped>\n",
       "    .dataframe tbody tr th:only-of-type {\n",
       "        vertical-align: middle;\n",
       "    }\n",
       "\n",
       "    .dataframe tbody tr th {\n",
       "        vertical-align: top;\n",
       "    }\n",
       "\n",
       "    .dataframe thead th {\n",
       "        text-align: right;\n",
       "    }\n",
       "</style>\n",
       "<table border=\"1\" class=\"dataframe\">\n",
       "  <thead>\n",
       "    <tr style=\"text-align: right;\">\n",
       "      <th></th>\n",
       "      <th>obs</th>\n",
       "      <th>choice</th>\n",
       "      <th>timediff</th>\n",
       "      <th>costdiff</th>\n",
       "    </tr>\n",
       "  </thead>\n",
       "  <tbody>\n",
       "    <tr>\n",
       "      <th>0</th>\n",
       "      <td>1</td>\n",
       "      <td>bus</td>\n",
       "      <td>10</td>\n",
       "      <td>-10</td>\n",
       "    </tr>\n",
       "    <tr>\n",
       "      <th>1</th>\n",
       "      <td>2</td>\n",
       "      <td>car</td>\n",
       "      <td>9</td>\n",
       "      <td>-2</td>\n",
       "    </tr>\n",
       "  </tbody>\n",
       "</table>\n",
       "</div>"
      ],
      "text/plain": [
       "   obs choice  timediff  costdiff\n",
       "0    1    bus        10       -10\n",
       "1    2    car         9        -2"
      ]
     },
     "execution_count": 17,
     "metadata": {},
     "output_type": "execute_result"
    }
   ],
   "source": [
    "diffs2"
   ]
  },
  {
   "cell_type": "code",
   "execution_count": 18,
   "metadata": {
    "ExecuteTime": {
     "end_time": "2021-02-11T15:59:16.999709Z",
     "start_time": "2021-02-11T15:59:16.759283Z"
    }
   },
   "outputs": [
    {
     "data": {
      "image/png": "[encoded data removed]",
      "text/plain": [
       "<Figure size 432x288 with 2 Axes>"
      ]
     },
     "metadata": {
      "needs_background": "light"
     },
     "output_type": "display_data"
    }
   ],
   "source": [
    "figure_two_differences_on_field(beta_time=-0.1, beta_cost=-0.2)"
   ]
  },
  {
   "cell_type": "markdown",
   "metadata": {},
   "source": [
    "This figure makes it easier to explore a variety of different beta parameters."
   ]
  },
  {
   "cell_type": "code",
   "execution_count": 19,
   "metadata": {
    "ExecuteTime": {
     "end_time": "2021-02-11T15:59:17.298591Z",
     "start_time": "2021-02-11T15:59:17.001149Z"
    }
   },
   "outputs": [
    {
     "data": {
      "application/vnd.jupyter.widget-view+json": {
       "model_id": "6440810d9aa64e178a290a12e517f4c0",
       "version_major": 2,
       "version_minor": 0
      },
      "text/plain": [
       "HBox(children=(FigureWidget({\n",
       "    'data': [{'colorbar': {'len': 0.65,\n",
       "                           'lenmode': 'f…"
      ]
     },
     "metadata": {},
     "output_type": "display_data"
    }
   ],
   "source": [
    "interactive_two_differences_on_field(diffs2, beta_time=-0.1, beta_cost=-0.2)"
   ]
  },
  {
   "cell_type": "markdown",
   "metadata": {},
   "source": [
    "The color scale on this chart is \"Net Utility of Car\" but we're not really\n",
    "interested in utility per se. What we're more interested in is the choices -- \n",
    "are we correctly predicting the usage of car and bus?  So let's apply\n",
    "the MNL transformation to change utility into probability."
   ]
  },
  {
   "cell_type": "code",
   "execution_count": 20,
   "metadata": {
    "ExecuteTime": {
     "end_time": "2021-02-11T15:59:17.376435Z",
     "start_time": "2021-02-11T15:59:17.300080Z"
    }
   },
   "outputs": [
    {
     "data": {
      "application/vnd.jupyter.widget-view+json": {
       "model_id": "cfbb9bf8dcc34284b3856d422dc213f6",
       "version_major": 2,
       "version_minor": 0
      },
      "text/plain": [
       "HBox(children=(FigureWidget({\n",
       "    'data': [{'colorbar': {'len': 0.65,\n",
       "                           'lenmode': 'f…"
      ]
     },
     "metadata": {},
     "output_type": "display_data"
    }
   ],
   "source": [
    "interactive_two_differences_with_probability(diffs2, beta_time=-0.1, beta_cost=-0.2)"
   ]
  },
  {
   "cell_type": "markdown",
   "metadata": {},
   "source": [
    "Now it's a bit clearer how we can manipulate our parameters to keep the choices correctly segregated."
   ]
  },
  {
   "cell_type": "markdown",
   "metadata": {},
   "source": [
    "What about if we have a few more data points?"
   ]
  },
  {
   "cell_type": "code",
   "execution_count": 21,
   "metadata": {
    "ExecuteTime": {
     "end_time": "2021-02-11T15:59:17.384008Z",
     "start_time": "2021-02-11T15:59:17.377945Z"
    }
   },
   "outputs": [
    {
     "data": {
      "text/html": [
       "<div>\n",
       "<style scoped>\n",
       "    .dataframe tbody tr th:only-of-type {\n",
       "        vertical-align: middle;\n",
       "    }\n",
       "\n",
       "    .dataframe tbody tr th {\n",
       "        vertical-align: top;\n",
       "    }\n",
       "\n",
       "    .dataframe thead th {\n",
       "        text-align: right;\n",
       "    }\n",
       "</style>\n",
       "<table border=\"1\" class=\"dataframe\">\n",
       "  <thead>\n",
       "    <tr style=\"text-align: right;\">\n",
       "      <th></th>\n",
       "      <th>obs</th>\n",
       "      <th>choice</th>\n",
       "      <th>timediff</th>\n",
       "      <th>costdiff</th>\n",
       "    </tr>\n",
       "  </thead>\n",
       "  <tbody>\n",
       "    <tr>\n",
       "      <th>0</th>\n",
       "      <td>1</td>\n",
       "      <td>car</td>\n",
       "      <td>9</td>\n",
       "      <td>-7</td>\n",
       "    </tr>\n",
       "    <tr>\n",
       "      <th>1</th>\n",
       "      <td>2</td>\n",
       "      <td>bus</td>\n",
       "      <td>-8</td>\n",
       "      <td>-5</td>\n",
       "    </tr>\n",
       "    <tr>\n",
       "      <th>2</th>\n",
       "      <td>3</td>\n",
       "      <td>bus</td>\n",
       "      <td>4</td>\n",
       "      <td>-6</td>\n",
       "    </tr>\n",
       "    <tr>\n",
       "      <th>3</th>\n",
       "      <td>4</td>\n",
       "      <td>bus</td>\n",
       "      <td>-7</td>\n",
       "      <td>-2</td>\n",
       "    </tr>\n",
       "    <tr>\n",
       "      <th>4</th>\n",
       "      <td>5</td>\n",
       "      <td>car</td>\n",
       "      <td>2</td>\n",
       "      <td>0</td>\n",
       "    </tr>\n",
       "    <tr>\n",
       "      <th>5</th>\n",
       "      <td>6</td>\n",
       "      <td>bus</td>\n",
       "      <td>1</td>\n",
       "      <td>-5</td>\n",
       "    </tr>\n",
       "    <tr>\n",
       "      <th>6</th>\n",
       "      <td>7</td>\n",
       "      <td>car</td>\n",
       "      <td>-3</td>\n",
       "      <td>4</td>\n",
       "    </tr>\n",
       "    <tr>\n",
       "      <th>7</th>\n",
       "      <td>8</td>\n",
       "      <td>bus</td>\n",
       "      <td>-2</td>\n",
       "      <td>-7</td>\n",
       "    </tr>\n",
       "    <tr>\n",
       "      <th>8</th>\n",
       "      <td>9</td>\n",
       "      <td>car</td>\n",
       "      <td>5</td>\n",
       "      <td>0</td>\n",
       "    </tr>\n",
       "  </tbody>\n",
       "</table>\n",
       "</div>"
      ],
      "text/plain": [
       "   obs choice  timediff  costdiff\n",
       "0    1    car         9        -7\n",
       "1    2    bus        -8        -5\n",
       "2    3    bus         4        -6\n",
       "3    4    bus        -7        -2\n",
       "4    5    car         2         0\n",
       "5    6    bus         1        -5\n",
       "6    7    car        -3         4\n",
       "7    8    bus        -2        -7\n",
       "8    9    car         5         0"
      ]
     },
     "execution_count": 21,
     "metadata": {},
     "output_type": "execute_result"
    }
   ],
   "source": [
    "diffs9"
   ]
  },
  {
   "cell_type": "markdown",
   "metadata": {},
   "source": [
    "Can we find a solution that correctly predicts all the data points?  This interactive\n",
    "figure marks observations that are unambiguously incorrect (less than 50% probability \n",
    "assigned to the actually chosen alternative) with an \"X\" and\n",
    "observations that are definitely correct (greater than 95% probability \n",
    "assigned to the actually chosen alternative) with a dot."
   ]
  },
  {
   "cell_type": "code",
   "execution_count": 22,
   "metadata": {
    "ExecuteTime": {
     "end_time": "2021-02-11T15:59:17.463617Z",
     "start_time": "2021-02-11T15:59:17.385324Z"
    }
   },
   "outputs": [
    {
     "data": {
      "application/vnd.jupyter.widget-view+json": {
       "model_id": "37568b9bd5f54ca9ba48a7a3e00be13a",
       "version_major": 2,
       "version_minor": 0
      },
      "text/plain": [
       "HBox(children=(FigureWidget({\n",
       "    'data': [{'colorbar': {'len': 0.65,\n",
       "                           'lenmode': 'f…"
      ]
     },
     "metadata": {},
     "output_type": "display_data"
    }
   ],
   "source": [
    "interactive_two_differences_with_probability(diffs9, beta_time=-0.1, beta_cost=-0.2, correct=True)"
   ]
  },
  {
   "cell_type": "markdown",
   "metadata": {},
   "source": [
    "What if there's some mixing of the data, so you can't neatly divide it with a clean line?"
   ]
  },
  {
   "cell_type": "code",
   "execution_count": 23,
   "metadata": {
    "ExecuteTime": {
     "end_time": "2021-02-11T15:59:17.475288Z",
     "start_time": "2021-02-11T15:59:17.468535Z"
    }
   },
   "outputs": [
    {
     "data": {
      "text/html": [
       "<div>\n",
       "<style scoped>\n",
       "    .dataframe tbody tr th:only-of-type {\n",
       "        vertical-align: middle;\n",
       "    }\n",
       "\n",
       "    .dataframe tbody tr th {\n",
       "        vertical-align: top;\n",
       "    }\n",
       "\n",
       "    .dataframe thead th {\n",
       "        text-align: right;\n",
       "    }\n",
       "</style>\n",
       "<table border=\"1\" class=\"dataframe\">\n",
       "  <thead>\n",
       "    <tr style=\"text-align: right;\">\n",
       "      <th></th>\n",
       "      <th>obs</th>\n",
       "      <th>choice</th>\n",
       "      <th>timediff</th>\n",
       "      <th>costdiff</th>\n",
       "    </tr>\n",
       "  </thead>\n",
       "  <tbody>\n",
       "    <tr>\n",
       "      <th>0</th>\n",
       "      <td>1</td>\n",
       "      <td>car</td>\n",
       "      <td>9</td>\n",
       "      <td>-7</td>\n",
       "    </tr>\n",
       "    <tr>\n",
       "      <th>1</th>\n",
       "      <td>2</td>\n",
       "      <td>bus</td>\n",
       "      <td>-8</td>\n",
       "      <td>-5</td>\n",
       "    </tr>\n",
       "    <tr>\n",
       "      <th>2</th>\n",
       "      <td>3</td>\n",
       "      <td>bus</td>\n",
       "      <td>4</td>\n",
       "      <td>-6</td>\n",
       "    </tr>\n",
       "    <tr>\n",
       "      <th>3</th>\n",
       "      <td>4</td>\n",
       "      <td>bus</td>\n",
       "      <td>-7</td>\n",
       "      <td>-2</td>\n",
       "    </tr>\n",
       "    <tr>\n",
       "      <th>4</th>\n",
       "      <td>5</td>\n",
       "      <td>bus</td>\n",
       "      <td>2</td>\n",
       "      <td>0</td>\n",
       "    </tr>\n",
       "    <tr>\n",
       "      <th>5</th>\n",
       "      <td>6</td>\n",
       "      <td>bus</td>\n",
       "      <td>1</td>\n",
       "      <td>-5</td>\n",
       "    </tr>\n",
       "    <tr>\n",
       "      <th>6</th>\n",
       "      <td>7</td>\n",
       "      <td>car</td>\n",
       "      <td>-3</td>\n",
       "      <td>4</td>\n",
       "    </tr>\n",
       "    <tr>\n",
       "      <th>7</th>\n",
       "      <td>8</td>\n",
       "      <td>car</td>\n",
       "      <td>-2</td>\n",
       "      <td>-7</td>\n",
       "    </tr>\n",
       "    <tr>\n",
       "      <th>8</th>\n",
       "      <td>9</td>\n",
       "      <td>car</td>\n",
       "      <td>5</td>\n",
       "      <td>0</td>\n",
       "    </tr>\n",
       "    <tr>\n",
       "      <th>9</th>\n",
       "      <td>10</td>\n",
       "      <td>car</td>\n",
       "      <td>7</td>\n",
       "      <td>-6</td>\n",
       "    </tr>\n",
       "    <tr>\n",
       "      <th>10</th>\n",
       "      <td>11</td>\n",
       "      <td>car</td>\n",
       "      <td>8</td>\n",
       "      <td>-7</td>\n",
       "    </tr>\n",
       "    <tr>\n",
       "      <th>11</th>\n",
       "      <td>12</td>\n",
       "      <td>car</td>\n",
       "      <td>-5</td>\n",
       "      <td>-3</td>\n",
       "    </tr>\n",
       "    <tr>\n",
       "      <th>12</th>\n",
       "      <td>13</td>\n",
       "      <td>car</td>\n",
       "      <td>3</td>\n",
       "      <td>-8</td>\n",
       "    </tr>\n",
       "    <tr>\n",
       "      <th>13</th>\n",
       "      <td>14</td>\n",
       "      <td>bus</td>\n",
       "      <td>-9</td>\n",
       "      <td>-1</td>\n",
       "    </tr>\n",
       "    <tr>\n",
       "      <th>14</th>\n",
       "      <td>15</td>\n",
       "      <td>car</td>\n",
       "      <td>1</td>\n",
       "      <td>0</td>\n",
       "    </tr>\n",
       "    <tr>\n",
       "      <th>15</th>\n",
       "      <td>16</td>\n",
       "      <td>bus</td>\n",
       "      <td>0</td>\n",
       "      <td>-9</td>\n",
       "    </tr>\n",
       "    <tr>\n",
       "      <th>16</th>\n",
       "      <td>17</td>\n",
       "      <td>car</td>\n",
       "      <td>-5</td>\n",
       "      <td>5</td>\n",
       "    </tr>\n",
       "    <tr>\n",
       "      <th>17</th>\n",
       "      <td>18</td>\n",
       "      <td>car</td>\n",
       "      <td>-5</td>\n",
       "      <td>-5</td>\n",
       "    </tr>\n",
       "    <tr>\n",
       "      <th>18</th>\n",
       "      <td>19</td>\n",
       "      <td>car</td>\n",
       "      <td>7</td>\n",
       "      <td>1</td>\n",
       "    </tr>\n",
       "  </tbody>\n",
       "</table>\n",
       "</div>"
      ],
      "text/plain": [
       "    obs choice  timediff  costdiff\n",
       "0     1    car         9        -7\n",
       "1     2    bus        -8        -5\n",
       "2     3    bus         4        -6\n",
       "3     4    bus        -7        -2\n",
       "4     5    bus         2         0\n",
       "5     6    bus         1        -5\n",
       "6     7    car        -3         4\n",
       "7     8    car        -2        -7\n",
       "8     9    car         5         0\n",
       "9    10    car         7        -6\n",
       "10   11    car         8        -7\n",
       "11   12    car        -5        -3\n",
       "12   13    car         3        -8\n",
       "13   14    bus        -9        -1\n",
       "14   15    car         1         0\n",
       "15   16    bus         0        -9\n",
       "16   17    car        -5         5\n",
       "17   18    car        -5        -5\n",
       "18   19    car         7         1"
      ]
     },
     "execution_count": 23,
     "metadata": {},
     "output_type": "execute_result"
    }
   ],
   "source": [
    "diffs19"
   ]
  },
  {
   "cell_type": "code",
   "execution_count": 24,
   "metadata": {
    "ExecuteTime": {
     "end_time": "2021-02-11T15:59:17.617857Z",
     "start_time": "2021-02-11T15:59:17.476770Z"
    }
   },
   "outputs": [
    {
     "data": {
      "application/vnd.jupyter.widget-view+json": {
       "model_id": "e1a976175a0541e295a1d22cd2556667",
       "version_major": 2,
       "version_minor": 0
      },
      "text/plain": [
       "HBox(children=(FigureWidget({\n",
       "    'data': [{'colorbar': {'len': 0.65,\n",
       "                           'lenmode': 'f…"
      ]
     },
     "metadata": {},
     "output_type": "display_data"
    }
   ],
   "source": [
    "interactive_two_differences_with_probability(diffs19, beta_time=-0.1, beta_cost=-0.2, correct=True)"
   ]
  },
  {
   "cell_type": "markdown",
   "metadata": {},
   "source": [
    "If our goal is to get everything right, it's hopeless.  We could change our goal,\n",
    "and just try to maximize the total number of correct predictions.  That tends to be\n",
    "problematic when the choices are very lopsided, with most observations choosing \n",
    "one alternative.  This happens a lot in transportation planning and especially in \n",
    "mode choices. So we'll need something to get at more subtly that just \"correct\" and\n",
    "\"incorrect\".\n",
    "\n",
    "That something is called \"likelihood\".  We can assign a likelihood to each observation,\n",
    "which is the modeled probability that the choice is the actually observed choice. So, \n",
    "first we compute the probability of choosing each alternative."
   ]
  },
  {
   "cell_type": "code",
   "execution_count": 26,
   "metadata": {
    "ExecuteTime": {
     "end_time": "2021-02-11T16:12:59.953732Z",
     "start_time": "2021-02-11T16:12:59.948061Z"
    }
   },
   "outputs": [
    {
     "data": {
      "text/plain": [
       "0     0.377541\n",
       "1     0.141851\n",
       "2     0.310026\n",
       "3     0.249740\n",
       "4     0.549834\n",
       "5     0.289050\n",
       "6     0.622459\n",
       "7     0.167982\n",
       "8     0.622459\n",
       "9     0.377541\n",
       "10    0.354344\n",
       "11    0.249740\n",
       "12    0.214165\n",
       "13    0.249740\n",
       "14    0.524979\n",
       "15    0.141851\n",
       "16    0.622459\n",
       "17    0.182426\n",
       "18    0.710950\n",
       "dtype: float64"
      ]
     },
     "execution_count": 26,
     "metadata": {},
     "output_type": "execute_result"
    }
   ],
   "source": [
    "beta_time = -0.1\n",
    "beta_cost = -0.2\n",
    "\n",
    "pr_car = 1/(1+np.exp(diffs19.timediff * beta_time + diffs19.costdiff * beta_cost))\n",
    "pr_car"
   ]
  },
  {
   "cell_type": "code",
   "execution_count": 27,
   "metadata": {
    "ExecuteTime": {
     "end_time": "2021-02-11T16:13:02.358068Z",
     "start_time": "2021-02-11T16:13:02.353396Z"
    }
   },
   "outputs": [
    {
     "data": {
      "text/plain": [
       "0     0.622459\n",
       "1     0.858149\n",
       "2     0.689974\n",
       "3     0.750260\n",
       "4     0.450166\n",
       "5     0.710950\n",
       "6     0.377541\n",
       "7     0.832018\n",
       "8     0.377541\n",
       "9     0.622459\n",
       "10    0.645656\n",
       "11    0.750260\n",
       "12    0.785835\n",
       "13    0.750260\n",
       "14    0.475021\n",
       "15    0.858149\n",
       "16    0.377541\n",
       "17    0.817574\n",
       "18    0.289050\n",
       "dtype: float64"
      ]
     },
     "execution_count": 27,
     "metadata": {},
     "output_type": "execute_result"
    }
   ],
   "source": [
    "pr_bus = 1 - pr_car\n",
    "pr_bus"
   ]
  },
  {
   "cell_type": "markdown",
   "metadata": {},
   "source": [
    "Then we pick for each row the probability of the actually chosen alternative."
   ]
  },
  {
   "cell_type": "code",
   "execution_count": null,
   "metadata": {
    "ExecuteTime": {
     "end_time": "2021-02-10T23:51:41.694125Z",
     "start_time": "2021-02-10T23:51:36.660Z"
    }
   },
   "outputs": [],
   "source": [
    "likelihood = (diffsX['choice'] == 'car')* pr_car + (diffsX['choice'] == 'bus') * pr_bus"
   ]
  },
  {
   "cell_type": "markdown",
   "metadata": {},
   "source": [
    "Then we want to find the joint likelihood of getting all these observations."
   ]
  },
  {
   "cell_type": "code",
   "execution_count": null,
   "metadata": {
    "ExecuteTime": {
     "end_time": "2021-02-10T23:51:41.695029Z",
     "start_time": "2021-02-10T23:51:36.664Z"
    }
   },
   "outputs": [],
   "source": [
    "likelihood.prod()"
   ]
  },
  {
   "cell_type": "markdown",
   "metadata": {},
   "source": [
    "That's a tiny number.  Let's take the log of it."
   ]
  },
  {
   "cell_type": "code",
   "execution_count": null,
   "metadata": {
    "ExecuteTime": {
     "end_time": "2021-02-10T23:51:41.695928Z",
     "start_time": "2021-02-10T23:51:36.668Z"
    }
   },
   "outputs": [],
   "source": [
    "np.log(likelihood.prod())"
   ]
  },
  {
   "cell_type": "markdown",
   "metadata": {},
   "source": [
    "Or instead of taking the product then the log, we can take the log first:"
   ]
  },
  {
   "cell_type": "code",
   "execution_count": null,
   "metadata": {
    "ExecuteTime": {
     "end_time": "2021-02-10T23:51:41.696967Z",
     "start_time": "2021-02-10T23:51:36.672Z"
    }
   },
   "outputs": [],
   "source": [
    "np.log(likelihood).sum()"
   ]
  },
  {
   "cell_type": "markdown",
   "metadata": {},
   "source": [
    "You might notice there's a teeny tiny difference in the two results, that arises because of the computer's numerical precision.  That tiny error isn't a big deal for this tiny data set, but as the data set gets bigger the errors compound."
   ]
  },
  {
   "cell_type": "markdown",
   "metadata": {},
   "source": [
    "We want to find the maximum likelihood, or log likelihood.  To do so, we can turn the likelihood into a function instead of a one-time computation.  Also, we'll return the *negative* of the log likelihood, as the default optimization tools in the `scipy` package do minimization instead of maximization."
   ]
  },
  {
   "cell_type": "code",
   "execution_count": null,
   "metadata": {
    "ExecuteTime": {
     "end_time": "2021-02-10T23:51:41.698025Z",
     "start_time": "2021-02-10T23:51:36.677Z"
    }
   },
   "outputs": [],
   "source": [
    "def likely(betas):\n",
    "    pr_car = 1/(1+np.exp(diffsX.timediff * betas[0] + diffsX.costdiff * betas[1]))\n",
    "    pr_bus = 1-pr_car\n",
    "    likelihood = (diffsX['choice'] == 'car')* pr_car + (diffsX['choice'] == 'bus') * pr_bus\n",
    "    return -np.log(likelihood).sum()"
   ]
  },
  {
   "cell_type": "code",
   "execution_count": null,
   "metadata": {
    "ExecuteTime": {
     "end_time": "2021-02-10T23:51:41.699035Z",
     "start_time": "2021-02-10T23:51:36.680Z"
    }
   },
   "outputs": [],
   "source": [
    "likely([-0.1, -0.2])"
   ]
  },
  {
   "cell_type": "markdown",
   "metadata": {
    "ExecuteTime": {
     "end_time": "2020-02-07T19:32:52.332819Z",
     "start_time": "2020-02-07T19:32:52.323831Z"
    }
   },
   "source": [
    "Then we can use an optimization tool to find the best values."
   ]
  },
  {
   "cell_type": "code",
   "execution_count": null,
   "metadata": {
    "ExecuteTime": {
     "end_time": "2021-02-10T23:51:41.699994Z",
     "start_time": "2021-02-10T23:51:36.684Z"
    }
   },
   "outputs": [],
   "source": [
    "from scipy.optimize import fmin"
   ]
  },
  {
   "cell_type": "code",
   "execution_count": null,
   "metadata": {
    "ExecuteTime": {
     "end_time": "2021-02-10T23:51:41.700887Z",
     "start_time": "2021-02-10T23:51:36.687Z"
    }
   },
   "outputs": [],
   "source": [
    "print(fmin.__doc__)"
   ]
  },
  {
   "cell_type": "code",
   "execution_count": null,
   "metadata": {
    "ExecuteTime": {
     "end_time": "2021-02-10T23:51:41.701894Z",
     "start_time": "2021-02-10T23:51:36.690Z"
    }
   },
   "outputs": [],
   "source": [
    "best = fmin(likely, [-0.1, -0.2])\n",
    "best"
   ]
  },
  {
   "cell_type": "code",
   "execution_count": null,
   "metadata": {
    "ExecuteTime": {
     "end_time": "2021-02-10T23:51:41.702708Z",
     "start_time": "2021-02-10T23:51:36.693Z"
    }
   },
   "outputs": [],
   "source": [
    "likely(best)"
   ]
  },
  {
   "cell_type": "code",
   "execution_count": null,
   "metadata": {
    "ExecuteTime": {
     "end_time": "2021-02-10T23:51:41.703812Z",
     "start_time": "2021-02-10T23:51:36.696Z"
    }
   },
   "outputs": [],
   "source": [
    "def likely_all(betas):\n",
    "    pr_car = 1/(1+np.exp(diffsX.timediff * betas[0] + diffsX.costdiff * betas[1]))\n",
    "    pr_bus = 1-pr_car\n",
    "    likelihood = (diffsX['choice'] == 'car')* pr_car + (diffsX['choice'] == 'bus') * pr_bus\n",
    "    return likelihood"
   ]
  },
  {
   "cell_type": "code",
   "execution_count": null,
   "metadata": {
    "ExecuteTime": {
     "end_time": "2021-02-10T23:51:41.704713Z",
     "start_time": "2021-02-10T23:51:36.700Z"
    }
   },
   "outputs": [],
   "source": [
    "likely_all(best)"
   ]
  },
  {
   "cell_type": "markdown",
   "metadata": {},
   "source": [
    "Let's see what the result looks like."
   ]
  },
  {
   "cell_type": "code",
   "execution_count": null,
   "metadata": {
    "ExecuteTime": {
     "end_time": "2021-02-10T23:51:41.705810Z",
     "start_time": "2021-02-10T23:51:36.703Z"
    },
    "scrolled": true
   },
   "outputs": [],
   "source": [
    "beta_time, beta_cost = best\n",
    "field = 1/(1+np.exp(grid[0] * beta_time + grid[1] * beta_cost))\n",
    "\n",
    "fig, ax = plt.subplots()\n",
    "\n",
    "cf = ax.contourf(space, space, field, levels=np.linspace(0,1,11))\n",
    "cbar = fig.colorbar(cf)\n",
    "cbar.ax.set_ylabel('Probability of Car')\n",
    "diffsX['likely'] = likely_all(best)\n",
    "\n",
    "for ch,gg in diffsX.groupby(['choice']):\n",
    "    marker = 'o' if ch=='bus' else 's'\n",
    "    color = 'r' if ch=='bus' else 'b'\n",
    "    ax.scatter(gg.timediff, gg.costdiff, label=ch, marker=marker, color=color, edgecolor='w', s=gg.likely**2*300)\n",
    "ax.set_xlabel('Car Time Advantage')\n",
    "ax.set_ylabel('Car Cost Advantage')\n",
    "ax.legend(title=\"Chosen\");"
   ]
  },
  {
   "cell_type": "markdown",
   "metadata": {},
   "source": [
    "One interesting feature of the model is that the 50% iso-probability contour passes \n",
    "exactly through the origin at (0,0).  This isn't coincidental, it's a definite outcome\n",
    "from the fact that there's no alternative specific constants in the model.  Let's add one."
   ]
  },
  {
   "cell_type": "code",
   "execution_count": null,
   "metadata": {
    "ExecuteTime": {
     "end_time": "2021-02-10T23:51:41.706690Z",
     "start_time": "2021-02-10T23:51:36.707Z"
    }
   },
   "outputs": [],
   "source": [
    "def likely_2(betas):\n",
    "    pr_car = 1/(1+np.exp(diffsX.timediff * betas[0] + diffsX.costdiff * betas[1] + betas[2]))\n",
    "    pr_bus = 1-pr_car\n",
    "    likelihood = (diffsX['choice'] == 'car')* pr_car + (diffsX['choice'] == 'bus') * pr_bus\n",
    "    return -np.log(likelihood).sum()\n",
    "\n",
    "def likely_2_all(betas):\n",
    "    pr_car = 1/(1+np.exp(diffsX.timediff * betas[0] + diffsX.costdiff * betas[1] + betas[2]))\n",
    "    pr_bus = 1-pr_car\n",
    "    likelihood = (diffsX['choice'] == 'car')* pr_car + (diffsX['choice'] == 'bus') * pr_bus\n",
    "    return likelihood"
   ]
  },
  {
   "cell_type": "code",
   "execution_count": null,
   "metadata": {
    "ExecuteTime": {
     "end_time": "2021-02-10T23:51:41.707804Z",
     "start_time": "2021-02-10T23:51:36.711Z"
    }
   },
   "outputs": [],
   "source": [
    "best_2 = fmin(likely_2, [-0.1, -0.2, 0])\n",
    "best_2"
   ]
  },
  {
   "cell_type": "code",
   "execution_count": null,
   "metadata": {
    "ExecuteTime": {
     "end_time": "2021-02-10T23:51:41.708728Z",
     "start_time": "2021-02-10T23:51:36.714Z"
    }
   },
   "outputs": [],
   "source": [
    "beta_time, beta_cost, beta_0 = best_2\n",
    "field = 1/(1+np.exp(grid[0] * beta_time + grid[1] * beta_cost + beta_0))\n",
    "\n",
    "fig, ax = plt.subplots()\n",
    "\n",
    "cf = ax.contourf(space, space, field, levels=np.linspace(0,1,11))\n",
    "cbar = fig.colorbar(cf)\n",
    "cbar.ax.set_ylabel('Probability of Car')\n",
    "diffsX['likely2'] = likely_2_all(best_2)\n",
    "\n",
    "for ch,gg in diffsX.groupby(['choice']):\n",
    "    marker = 'o' if ch=='bus' else 's'\n",
    "    color = 'r' if ch=='bus' else 'b'\n",
    "    ax.scatter(gg.timediff, gg.costdiff, label=ch, marker=marker, color=color, edgecolor='w', s=gg.likely2**2*300)\n",
    "ax.set_xlabel('Car Time Advantage')\n",
    "ax.set_ylabel('Car Cost Advantage')\n",
    "ax.legend(title=\"Chosen\");"
   ]
  },
  {
   "cell_type": "markdown",
   "metadata": {},
   "source": [
    "## Understanding Maximum Likelihood"
   ]
  },
  {
   "cell_type": "markdown",
   "metadata": {},
   "source": [
    "Recall we identified that the likelihood was different from the probability:\n",
    "    \n",
    "- Probability is the chance of getting an outcome as a function of the data, \n",
    "  given a model and its parameters: $P_i(X | \\beta)$\n",
    "\n",
    "- Likelihood is the chance of getting an outcome as a function of the model \n",
    "  parameters, given the data: $L_i(\\beta | X)$"
   ]
  },
  {
   "cell_type": "markdown",
   "metadata": {
    "ExecuteTime": {
     "end_time": "2020-02-13T18:33:50.270439Z",
     "start_time": "2020-02-13T18:33:50.258024Z"
    }
   },
   "source": [
    "Finding the maximum likelihood is finding the parameters that maximize the chance that\n",
    "the model would create the observed data.  Equivalently, finding the maximum of the \n",
    "log of likelihood, as the logarithm is a monotonic transformation of positive values: if $a > b > 0$ then $\\log(a) > \\log(b)$."
   ]
  },
  {
   "cell_type": "markdown",
   "metadata": {},
   "source": [
    "For our two dimensional example above, we can visualize the log likelihood by plotting it\n",
    "on a figure:"
   ]
  },
  {
   "cell_type": "code",
   "execution_count": null,
   "metadata": {
    "ExecuteTime": {
     "end_time": "2021-02-10T23:51:41.709755Z",
     "start_time": "2021-02-10T23:51:36.719Z"
    }
   },
   "outputs": [],
   "source": [
    "beta_space = np.linspace(-0.5,0.5)\n",
    "beta_grid = np.meshgrid(beta_space, beta_space)\n",
    "beta_LL = np.zeros_like(beta_grid[0])"
   ]
  },
  {
   "cell_type": "code",
   "execution_count": null,
   "metadata": {
    "ExecuteTime": {
     "end_time": "2021-02-10T23:51:41.710631Z",
     "start_time": "2021-02-10T23:51:36.722Z"
    }
   },
   "outputs": [],
   "source": [
    "for i,b in enumerate(zip(beta_grid[0].ravel(), beta_grid[1].ravel())):\n",
    "    beta_LL.ravel()[i] = -likely(b)"
   ]
  },
  {
   "cell_type": "code",
   "execution_count": null,
   "metadata": {
    "ExecuteTime": {
     "end_time": "2021-02-10T23:51:41.711540Z",
     "start_time": "2021-02-10T23:51:36.725Z"
    },
    "scrolled": true
   },
   "outputs": [],
   "source": [
    "fig, ax = plt.subplots()\n",
    "cf = ax.contourf(beta_space, beta_space, beta_LL, levels=15)\n",
    "cbar = fig.colorbar(cf)\n",
    "cbar.ax.set_ylabel('Log Likelihood')"
   ]
  },
  {
   "cell_type": "markdown",
   "metadata": {},
   "source": [
    "The maximum likelihood is found at the peak of this hill.  Finding that peak by brute force (i.e. plotting this whole figure) is a wildly inefficient way of finding the maximum likelihood, so we don't generally do this.  Instead, some algorithm is used to systematically converge to this point.  The result is sometimes labeled as the \"log likelihood at convergence\".\n",
    "\n",
    "But, it is useful to see this visually in this simple two dimensional example to conceptualize the process.  And it highlights another convenient mathematical features of using the MNL model with a linear-in-parameters utility function: the log likelihood function can be proven to be globally concave, meaning that there is always one and only one set of parameters that will maximize it, and they can be found by moving uphill from any point until the the top is found."
   ]
  },
  {
   "cell_type": "markdown",
   "metadata": {},
   "source": [
    "We can also use the shape of this likelihood function at the peak to describe the standard error of the estimate.\n",
    "\n",
    "- If the shape of the hill is very pointy, and likelihood drops very quickly as we move away from the maximum, that tells us that the standard error of the estimate is small -- we are very confident that the true value of the estimator is very close to that peak.  \n",
    "\n",
    "- If, on the other hand, the top of the hill is relatively flat, and likelihood drops very slowly as we move away from the maximum, that tells us that the standard error of the estimate is large -- we are not confident that the true value of the estimator is very close to that peak.  "
   ]
  },
  {
   "cell_type": "markdown",
   "metadata": {},
   "source": [
    "In mathematical terms, the standard error of the estimate is the inverse of the 2nd derivative of the log likelihood with respect to the parameters."
   ]
  },
  {
   "cell_type": "markdown",
   "metadata": {},
   "source": [
    "## Goodness of Fit"
   ]
  },
  {
   "cell_type": "markdown",
   "metadata": {},
   "source": [
    "The log likelihood achieved at the converged values, $LL(\\hat\\beta)$ can be used to generate an overall measure of the \"goodness of fit\" of a discrete choice model.  We can compare the log likelihood against better and worse models to create the measure.\n",
    "\n",
    "The \"best\" possible model in this case is clearly well defined, as it would accurately predict every observation with certainty every time, yielding a likelihood of 1.0, and a log likelihood of zero.\n",
    "\n",
    "The \"worst\" model is tricky, as we cannot simply take a model that never predicts the correct choice.  Such a model would have a likelihood of zero, and a log likelihood of negative infinity.  But, to create such a model, we would need to have some information about the process and use that information to intentionally \"get it wrong\" with certainty.  Instead, we can contemplate a model that predicts every alternative as equally probable for every decision maker, using no information whatsoever to improve our predictions.  This model would have non-zero probability for every chosen alternative, and has a well defined and finite log likelihood. We'll call this model the \"Null\" model, and write the log likelihood of this model as $LL(\\emptyset)$."
   ]
  },
  {
   "cell_type": "markdown",
   "metadata": {},
   "source": [
    "### Rho Squared\n",
    "\n",
    "Because we use data to *maximize* the log likelihood, we are guaranteed to achive a log likelihood for a model that uses data somewhere in between these two extremes.  The goodness of fit measure $\\rho^2_\\emptyset$ (rho squared with respect to the null model) represents the fraction of the distance moved from the null model to the perfect model.\n",
    "\n",
    "$$\n",
    "\\rho^2_\\emptyset = 1-\\frac{LL(\\hat\\beta)}{LL(\\emptyset)}\n",
    "$$"
   ]
  },
  {
   "cell_type": "markdown",
   "metadata": {},
   "source": [
    "However, especially for mode choice models, there is very often a massive imbalance between the mode \n",
    "choices.  You may find that the \"drive alone\" alternative is observed on well over half of all trips \n",
    "(at least in western countries) and representing it as \"equally likely\" against a variety of other \n",
    "alternatives results in an epicly poor model.  We can counteract this by defining a different \"bad\"\n",
    "reference point: a model that consists only of alternative specific constants.  This model will use\n",
    "no information other than the global market shares for each alternative, assigning the same relative\n",
    "probability for each alterantive to all decision makers.\n",
    "\n",
    "The goodness of fit measure $\\rho^2_c$ (rho squared with respect to the constants only model) represents the fraction of the distance moved from the constants only model to the perfect model.\n",
    "\n",
    "$$\n",
    "\\rho^2_c = 1-\\frac{LL(\\hat\\beta)}{LL(c)}\n",
    "$$"
   ]
  },
  {
   "cell_type": "markdown",
   "metadata": {},
   "source": [
    "### Adjusted Rho Squared\n",
    "\n",
    "A problem with the rho squared measures is that they always improve when adding variables to the model, regardless of whether the variable is relevant or not.  \n",
    "\n",
    "To counter this, we can adjust the value to penalize models that add parameters without improving the log likelihood enough to be worth the extra degree of freedom.  \n",
    "\n",
    "This adjusted rho-squared is given by:\n",
    "\n",
    "$$\n",
    "\\bar\\rho^2_\\star = 1-\\frac{LL(\\hat\\beta) - K_{\\hat\\beta}}{LL(\\star) - K_{\\star}}\n",
    "$$\n",
    "\n",
    "Where $K_{\\star}$ is the number of parameters in the model $\\star$.  For the null model, this is zero, and for\n",
    "the constants only model, it is the number of constants in the model (i.e. the number of alteratives minus one).\n",
    "Similarly, in the numerator $K$ represents the number of parameters in the relevant model.  \n",
    "\n",
    "For this adjusted rho squared, the addition of parameters does not necessarily improve the goodness of fit."
   ]
  },
  {
   "cell_type": "markdown",
   "metadata": {},
   "source": [
    "## Hypothesis Testing"
   ]
  },
  {
   "cell_type": "markdown",
   "metadata": {},
   "source": [
    "Just as for linear regression models, discrete choice models offer a number of hypothesis \n",
    "tests to compare models against each other."
   ]
  },
  {
   "cell_type": "markdown",
   "metadata": {},
   "source": [
    "### Single Parameter Tests"
   ]
  },
  {
   "cell_type": "markdown",
   "metadata": {},
   "source": [
    "To test if a single parameter is significantly different from zero, we can use the $t$ statistic, similar to as it is used in simple linear regression.  For a parameter $\\beta_i$, which has an estimate $\\hat\\beta_i$ with standard error of the estimate $s_i$,\n",
    "$$\n",
    "\\frac{\\hat\\beta_i}{s_i} \\sim t\n",
    "$$"
   ]
  },
  {
   "cell_type": "markdown",
   "metadata": {},
   "source": [
    "The degrees of freedom are formally the number of observations in the sample minus the \n",
    "number of parameters in the model, but in practice this isn't important, as the sample\n",
    "size used for any transportation planning model is generally large enough that the $t$ distribution\n",
    "will converge to the normal distribution.  This the critical value of $t$ for 95% confidence is about 1.96, \n",
    "and for 99% confidence it is about 2.58."
   ]
  },
  {
   "cell_type": "markdown",
   "metadata": {
    "ExecuteTime": {
     "end_time": "2020-02-13T19:20:47.011704Z",
     "start_time": "2020-02-13T19:20:47.002336Z"
    }
   },
   "source": [
    "### Parameter Equality Tests"
   ]
  },
  {
   "cell_type": "markdown",
   "metadata": {},
   "source": [
    "It is often interesting to determine if two parameters are statistically different from one another. This test is also based on the t-statistic, but it needs to account not only for the variance in the two estimators individually but also for the covariance (correlation) between them.  If we define a null hypothesis\n",
    "\n",
    "$$\n",
    "H_0 : \\beta_i = \\beta_j\n",
    "$$\n",
    "\n",
    "then we can derive\n",
    "\n",
    "$$\n",
    "\\frac{\\hat\\beta_i - \\hat\\beta_j}{\\sqrt{s_i^2 + s_j^2 - 2s_{ij}}} \\sim t\n",
    "$$\n",
    "\n",
    "A sufficiently large value of this $t$ statistic will allow us to reject the null hypothesis with high confidence.  In this case, that allows us to say that we are confident the true values of the two parameters are not the same."
   ]
  },
  {
   "cell_type": "markdown",
   "metadata": {
    "ExecuteTime": {
     "end_time": "2020-02-13T19:33:57.607992Z",
     "start_time": "2020-02-13T19:33:57.602944Z"
    }
   },
   "source": [
    "### Parameter Ratio Tests"
   ]
  },
  {
   "cell_type": "markdown",
   "metadata": {},
   "source": [
    "We can use the same approach to check the ratio between two parameters.  In this case, we define a null hypothesis\n",
    "\n",
    "$$\n",
    "H_0 : \\frac{\\beta_i}{\\beta_j} = K\n",
    "$$\n",
    "\n",
    "with the value $K$ being some fixed value. Or, equivalently\n",
    "\n",
    "$$\n",
    "H_0 : \\beta_i = K\\beta_j\n",
    "$$\n",
    "\n",
    "then we can derive\n",
    "\n",
    "$$\n",
    "\\frac{\\hat\\beta_i - K\\hat\\beta_j}{\\sqrt{s_i^2 + K^2 s_j^2 - 2Ks_{ij}}} \\sim t\n",
    "$$\n",
    "\n",
    "A sufficiently large value of this $t$ statistic will allow us to reject the null hypothesis with high confidence.  In this case, that allows us to say that we are confident the ratio of the true values of the two parameters is not $K$."
   ]
  },
  {
   "cell_type": "markdown",
   "metadata": {},
   "source": [
    "### Full Model Likelihood Ratio Test"
   ]
  },
  {
   "cell_type": "markdown",
   "metadata": {},
   "source": [
    "Instead of looking at the parameters individually, we can evaluate the performance of the entire model.\n",
    "To do this we will us a likelihood ratio test.  This test is valid when we can construct two distinct\n",
    "models that share the same structure, except one model has some restrictions placed on the parameter\n",
    "values and the other does not.  These restrictions can take the form of fixing individual parameters\n",
    "to specific values (commonly, to zero) or fixing pairs of parameters to have particular ratios (commonly,\n",
    "one, which implies equality).\n",
    "\n",
    "If the restricted model is the \"true\" model (our null hypothesis), then we would expect that the increase \n",
    "in likelihood found for the unrestricted model would be small.  If that increase in likelihood turns out \n",
    "to be sufficiently large, then we can reject the null hypothesis, and state with confidence that the \n",
    "restrictions are not valid.\n",
    "\n",
    "Using the likelihood ratio test involves evaluating the test statistic:\n",
    "\n",
    "$$\n",
    "2\\left( LL(U) - LL(R) \\right) \\sim \\chi^2\n",
    "$$\n",
    "\n",
    "where $LL(U)$ is the log likelihood of the unrestricted model and $LL(R)$ is the log likelihood of the \n",
    "restricted model.  The $\\chi^2$ (chi squared) distribution is characterized by a degrees of freedom, which \n",
    "is equal to the number of restrictions imposed.\n",
    "\n"
   ]
  },
  {
   "cell_type": "code",
   "execution_count": null,
   "metadata": {
    "ExecuteTime": {
     "end_time": "2021-02-10T23:51:41.712485Z",
     "start_time": "2021-02-10T23:51:36.740Z"
    }
   },
   "outputs": [],
   "source": [
    "from scipy.stats import chi2\n",
    "\n",
    "x = np.linspace(0,20)\n",
    "for degfree in [1,2,5,10]:\n",
    "    plt.plot(x,chi2.pdf(x, df=degfree), label=f'deg freedom={degfree}')\n",
    "plt.title(\"Chi Squared Probability Density Function\")\n",
    "plt.legend();"
   ]
  },
  {
   "cell_type": "markdown",
   "metadata": {},
   "source": [
    "To find the level of significance for rejecting a restricted model using a \n",
    "chi squared test (i.e. the probability that the likelihood ratio would be at \n",
    "least so big), use the `sf` method of the `chi2` distribution."
   ]
  },
  {
   "cell_type": "code",
   "execution_count": null,
   "metadata": {
    "ExecuteTime": {
     "end_time": "2021-02-10T23:51:41.713456Z",
     "start_time": "2021-02-10T23:51:36.744Z"
    }
   },
   "outputs": [],
   "source": [
    "chi2(df=10).sf(100)"
   ]
  },
  {
   "cell_type": "markdown",
   "metadata": {},
   "source": [
    "### Full Model Non-Nested Hypothesis Test\n"
   ]
  },
  {
   "cell_type": "markdown",
   "metadata": {},
   "source": [
    "Comparing two statistical models where one model is a restricted form of the other (i.e., by fixing some of the estimated parameters of the other model to some exogenously determined values, the resulting model is identical to the first model) is relatively straightforward, using the $\\chi^{2}$ test. The approach when the models do not have this relationship (i.e., they are non-nested) is more complicated.\n",
    "\n",
    "One approach to evaluating non-nested models is to specify a joint model, which is a relaxation of both models under consideration; the joint model contains all the data and parameters of both component models. This can potentially create a cumbersome non-parsimonious model, and the allows for four different results instead of merely two: the joint model can statistically reject, or fail to reject, each of the component models independently. It is generally more desirable, if possible, to employ a hypothesis test that allows the direct comparison of the two models in question. Various methodologies for doing so have been introduced in the literature; we review them here."
   ]
  },
  {
   "cell_type": "markdown",
   "metadata": {
    "ExecuteTime": {
     "end_time": "2020-02-13T21:11:02.508621Z",
     "start_time": "2020-02-13T21:11:02.493642Z"
    }
   },
   "source": [
    "\n",
    "Horowitz (1983) offers a modified likelihood ratio index with respect to a null model, $\\bar{\\rho}_{H}^{2}$, for a given model as \n",
    "\n",
    "$$\n",
    "\\bar{\\rho}_{H}^{2}=1-\\frac{LL(\\hat{\\beta})-{K_{\\hat\\beta}}/{2}}{LL(\\emptyset)}\n",
    "$$\n",
    "\n",
    "Later in the same work, Horowitz shows that an upper bound on the probability of a Type I error in Eq. 52 can be written as\n",
    "\n",
    "$$\n",
    "\\Pr\\left(\\bar{\\rho}_{P}^{2}-\\bar{\\rho}_{Q}^{2}>z\\right)\\leq\\Phi\\left[-\\left(2zLL(\\emptyset)\\right)^{\\frac{1}{2}}\\right],\n",
    "$$\n"
   ]
  },
  {
   "cell_type": "markdown",
   "metadata": {},
   "source": [
    "with $Q$ as the hypothesized correct model, $P$ as an incorrect but apparently superior model, and $z$ as an arbitrary value greater than zero.  A Type I error as considered here is an incorrect rejection of the null hypothesis; here, it is the rejection of the inferior model when that model actually represents true underlying process. \n",
    "\n",
    "This bound depends on the fact that the models are non-nested, and does not apply otherwise. \n",
    "\n",
    "Unlike other more traditional hypothesis tests, we control only the bounded critical value, and the actual critical value may be higher. As a result, we are left with the probability of a Type II error being potentially much larger than it would be otherwise.\n",
    "\n",
    "A Type II error is an incorrect failure to reject the null hypothesis when it is indeed false; here, it is the failure to reject the inferior model when the alternative model actually more closely represents the true underlying process.\n",
    "\n"
   ]
  },
  {
   "cell_type": "markdown",
   "metadata": {},
   "source": [
    "\n",
    "In their popular textbook, Ben-Akiva and Lerman (1985) offer an alternative $\\bar{\\rho}^{2}$ formulation based on the Akaike information criterion (AIC), which is the version shown earlier.  This version penalizes models even more strongly for having extra parameters, resulting in a preference for even more parsimonious models.  But it results in a slightly different hypothesis test:"
   ]
  },
  {
   "cell_type": "markdown",
   "metadata": {},
   "source": [
    "$$\n",
    "\\Pr\\left(\\bar{\\rho}_{P}^{2}-\\bar{\\rho}_{Q}^{2}>z\\right)\\leq\\Phi\\left[-\\left(-2zLL(0)+K_{P}-K_{Q}\\right)^{\\frac{1}{2}}\\right],\n",
    "$$"
   ]
  },
  {
   "cell_type": "markdown",
   "metadata": {},
   "source": [
    "Importantly, the Horowitz bound only makes sense when $z>0$, therefore as noted subsequently by Ben-Akiva and Swait (1986), the Akaike bound only applies where $z>\\max\\left\\{ 0,\\frac{K_{P}-K_{Q}}{2LL(\\emptyset)}\\right\\} $.  Thus, when the inferior model (as judged by the AIC) has more estimated parameters than the superior model, this hypothesis test given can be applied at any level of significance desired. However, in the more common scenario when the inferior model has fewer parameters than the superior model, the applicability of this second test is limited."
   ]
  },
  {
   "cell_type": "markdown",
   "metadata": {},
   "source": [
    "## Informal Tests"
   ]
  },
  {
   "cell_type": "markdown",
   "metadata": {},
   "source": [
    "In addition to rigorous statistical testing backed up by the underlying theory, mode choice models \n",
    "should also be evaluated from a practical standpoint: Do the results make sense?\n",
    "\n",
    "- Check the signs on parameters\n",
    "    - Certain features, such as travel time and travel cost, should generally have negative \n",
    "      coefficients.  More travel time is less desirable.\n",
    "    - Other features, especially ASC's, might have positive or negative values, and either\n",
    "      might be OK.\n",
    "      \n",
    "- Check the relative values (ratios) of parameters\n",
    "    - OVTT should be more negative than IVTT as a minute of OVTT creates more disutility\n",
    "      than a minute of IVTT\n",
    "    - Check groups of alternative-specific variables together.  Does a change in the \n",
    "      variable have the right relative impact on various modes?\n",
    "    - Check the implied trade offs: especially the implied value of travel time\n",
    "\n",
    "Determining what is \"good\" is a judgement you as the modeler needs to make.  Higher values\n",
    "of $\\rho^2$, sometimes even fairly large jumps, do not always result in a \"better\" model."
   ]
  },
  {
   "cell_type": "code",
   "execution_count": null,
   "metadata": {},
   "outputs": [],
   "source": []
  }
 ],
 "metadata": {
  "kernelspec": {
   "display_name": "Python 3",
   "language": "python",
   "name": "python3"
  },
  "language_info": {
   "codemirror_mode": {
    "name": "ipython",
    "version": 3
   },
   "file_extension": ".py",
   "mimetype": "text/x-python",
   "name": "python",
   "nbconvert_exporter": "python",
   "pygments_lexer": "ipython3",
   "version": "3.8.6"
  },
  "toc": {
   "base_numbering": 1,
   "nav_menu": {},
   "number_sections": true,
   "sideBar": true,
   "skip_h1_title": false,
   "title_cell": "Table of Contents",
   "title_sidebar": "Contents",
   "toc_cell": false,
   "toc_position": {
    "height": "calc(100% - 180px)",
    "left": "10px",
    "top": "150px",
    "width": "304.792px"
   },
   "toc_section_display": true,
   "toc_window_display": true
  },
  "widgets": {
   "application/vnd.jupyter.widget-state+json": {
    "state": {},
    "version_major": 2,
    "version_minor": 0
   }
  }
 },
 "nbformat": 4,
 "nbformat_minor": 4
}
