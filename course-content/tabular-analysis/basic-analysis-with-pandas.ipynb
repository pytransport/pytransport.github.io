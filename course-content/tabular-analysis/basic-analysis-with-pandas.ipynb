{
 "cells": [
  {
   "cell_type": "code",
   "execution_count": 1,
   "metadata": {},
   "outputs": [],
   "source": [
    "import os\n",
    "import gzip\n",
    "import numpy as np\n",
    "import pandas as pd\n",
    "import transportation_tutorials as tt"
   ]
  },
  {
   "cell_type": "markdown",
   "metadata": {
    "toc-hr-collapsed": false
   },
   "source": [
    "# Basic Data Analysis with Pandas"
   ]
  },
  {
   "cell_type": "markdown",
   "metadata": {},
   "source": [
    "Pandas is the *de facto* standard for statistical analysis of tabular data using Python.\n",
    "\n",
    "The basic data structure in pandas is a DataFrame.  A DataFrame is a two dimensional table \n",
    "of data, with optional row and column labels.  \n",
    "\n",
    "You can construct a DataFrame from raw data in a few different ways.  One simple way is\n",
    "to pass a dictionary, as here:"
   ]
  },
  {
   "cell_type": "code",
   "execution_count": 2,
   "metadata": {},
   "outputs": [
    {
     "data": {
      "text/html": [
       "<div>\n",
       "<style scoped>\n",
       "    .dataframe tbody tr th:only-of-type {\n",
       "        vertical-align: middle;\n",
       "    }\n",
       "\n",
       "    .dataframe tbody tr th {\n",
       "        vertical-align: top;\n",
       "    }\n",
       "\n",
       "    .dataframe thead th {\n",
       "        text-align: right;\n",
       "    }\n",
       "</style>\n",
       "<table border=\"1\" class=\"dataframe\">\n",
       "  <thead>\n",
       "    <tr style=\"text-align: right;\">\n",
       "      <th></th>\n",
       "      <th>A</th>\n",
       "      <th>B</th>\n",
       "      <th>C</th>\n",
       "    </tr>\n",
       "  </thead>\n",
       "  <tbody>\n",
       "    <tr>\n",
       "      <th>0</th>\n",
       "      <td>7</td>\n",
       "      <td>1</td>\n",
       "      <td>4.1</td>\n",
       "    </tr>\n",
       "    <tr>\n",
       "      <th>1</th>\n",
       "      <td>8</td>\n",
       "      <td>2</td>\n",
       "      <td>5.2</td>\n",
       "    </tr>\n",
       "    <tr>\n",
       "      <th>2</th>\n",
       "      <td>9</td>\n",
       "      <td>3</td>\n",
       "      <td>6.3</td>\n",
       "    </tr>\n",
       "  </tbody>\n",
       "</table>\n",
       "</div>"
      ],
      "text/plain": [
       "   A  B    C\n",
       "0  7  1  4.1\n",
       "1  8  2  5.2\n",
       "2  9  3  6.3"
      ]
     },
     "execution_count": 2,
     "metadata": {},
     "output_type": "execute_result"
    }
   ],
   "source": [
    "raw = {'A': [7,8,9], 'B': [1,2,3], 'C': [4.1,5.2,6.3]}\n",
    "df = pd.DataFrame(raw)\n",
    "df"
   ]
  },
  {
   "cell_type": "markdown",
   "metadata": {},
   "source": [
    "## Row and Column Labels\n",
    "\n",
    "In addition to the data in the table, DataFrames are defined with\n",
    "row and column labels, identified as `index` and `columns`, respectively.\n",
    "You might notice that in the first DataFrame we created, the keys of the\n",
    "raw dictionary were adopted automatically as the column labels. The\n",
    "row labels are not drawn from the raw dictionary as there's nothing\n",
    "in it to use for that purpose. But every DataFrame must have some kind of\n",
    "row labels, so some are created automatically.  If we provide more info\n",
    "to the DataFrame constructor so that it can see what the row labels should\n",
    "be, then it will use those:"
   ]
  },
  {
   "cell_type": "code",
   "execution_count": 3,
   "metadata": {},
   "outputs": [
    {
     "data": {
      "text/html": [
       "<div>\n",
       "<style scoped>\n",
       "    .dataframe tbody tr th:only-of-type {\n",
       "        vertical-align: middle;\n",
       "    }\n",
       "\n",
       "    .dataframe tbody tr th {\n",
       "        vertical-align: top;\n",
       "    }\n",
       "\n",
       "    .dataframe thead th {\n",
       "        text-align: right;\n",
       "    }\n",
       "</style>\n",
       "<table border=\"1\" class=\"dataframe\">\n",
       "  <thead>\n",
       "    <tr style=\"text-align: right;\">\n",
       "      <th></th>\n",
       "      <th>Speed</th>\n",
       "      <th>Cost</th>\n",
       "    </tr>\n",
       "  </thead>\n",
       "  <tbody>\n",
       "    <tr>\n",
       "      <th>Car</th>\n",
       "      <td>60</td>\n",
       "      <td>3.25</td>\n",
       "    </tr>\n",
       "    <tr>\n",
       "      <th>Bus</th>\n",
       "      <td>20</td>\n",
       "      <td>1.75</td>\n",
       "    </tr>\n",
       "    <tr>\n",
       "      <th>Walk</th>\n",
       "      <td>3</td>\n",
       "      <td>0.00</td>\n",
       "    </tr>\n",
       "  </tbody>\n",
       "</table>\n",
       "</div>"
      ],
      "text/plain": [
       "      Speed  Cost\n",
       "Car      60  3.25\n",
       "Bus      20  1.75\n",
       "Walk      3  0.00"
      ]
     },
     "execution_count": 3,
     "metadata": {},
     "output_type": "execute_result"
    }
   ],
   "source": [
    "raw_los = {\n",
    "    'Speed': {'Car': 60, 'Bus': 20, 'Walk':3},\n",
    "    'Cost': {'Car': 3.25, 'Bus': 1.75, 'Walk':0},\n",
    "}\n",
    "los = pd.DataFrame(raw_los)\n",
    "los"
   ]
  },
  {
   "cell_type": "code",
   "execution_count": 4,
   "metadata": {},
   "outputs": [
    {
     "data": {
      "text/plain": [
       "Index(['Car', 'Bus', 'Walk'], dtype='object')"
      ]
     },
     "execution_count": 4,
     "metadata": {},
     "output_type": "execute_result"
    }
   ],
   "source": [
    "los.index"
   ]
  },
  {
   "cell_type": "code",
   "execution_count": 5,
   "metadata": {},
   "outputs": [
    {
     "data": {
      "text/plain": [
       "Index(['Speed', 'Cost'], dtype='object')"
      ]
     },
     "execution_count": 5,
     "metadata": {},
     "output_type": "execute_result"
    }
   ],
   "source": [
    "los.columns"
   ]
  },
  {
   "cell_type": "markdown",
   "metadata": {},
   "source": [
    "The values for either `index` or `columns` can be changed, simply by overwriting the \n",
    "appropriate attribute of the DataFrame."
   ]
  },
  {
   "cell_type": "code",
   "execution_count": 6,
   "metadata": {},
   "outputs": [
    {
     "data": {
      "text/html": [
       "<div>\n",
       "<style scoped>\n",
       "    .dataframe tbody tr th:only-of-type {\n",
       "        vertical-align: middle;\n",
       "    }\n",
       "\n",
       "    .dataframe tbody tr th {\n",
       "        vertical-align: top;\n",
       "    }\n",
       "\n",
       "    .dataframe thead th {\n",
       "        text-align: right;\n",
       "    }\n",
       "</style>\n",
       "<table border=\"1\" class=\"dataframe\">\n",
       "  <thead>\n",
       "    <tr style=\"text-align: right;\">\n",
       "      <th></th>\n",
       "      <th>Speed</th>\n",
       "      <th>Cost</th>\n",
       "    </tr>\n",
       "  </thead>\n",
       "  <tbody>\n",
       "    <tr>\n",
       "      <th>2</th>\n",
       "      <td>60</td>\n",
       "      <td>3.25</td>\n",
       "    </tr>\n",
       "    <tr>\n",
       "      <th>1</th>\n",
       "      <td>20</td>\n",
       "      <td>1.75</td>\n",
       "    </tr>\n",
       "    <tr>\n",
       "      <th>3</th>\n",
       "      <td>3</td>\n",
       "      <td>0.00</td>\n",
       "    </tr>\n",
       "  </tbody>\n",
       "</table>\n",
       "</div>"
      ],
      "text/plain": [
       "   Speed  Cost\n",
       "2     60  3.25\n",
       "1     20  1.75\n",
       "3      3  0.00"
      ]
     },
     "execution_count": 6,
     "metadata": {},
     "output_type": "execute_result"
    }
   ],
   "source": [
    "los.index = [2,1,3]\n",
    "los"
   ]
  },
  {
   "cell_type": "markdown",
   "metadata": {},
   "source": [
    "You can also choose an existing column of the DataFrame to be the index, using the\n",
    "`set_index` method."
   ]
  },
  {
   "cell_type": "code",
   "execution_count": 7,
   "metadata": {},
   "outputs": [
    {
     "data": {
      "text/html": [
       "<div>\n",
       "<style scoped>\n",
       "    .dataframe tbody tr th:only-of-type {\n",
       "        vertical-align: middle;\n",
       "    }\n",
       "\n",
       "    .dataframe tbody tr th {\n",
       "        vertical-align: top;\n",
       "    }\n",
       "\n",
       "    .dataframe thead th {\n",
       "        text-align: right;\n",
       "    }\n",
       "</style>\n",
       "<table border=\"1\" class=\"dataframe\">\n",
       "  <thead>\n",
       "    <tr style=\"text-align: right;\">\n",
       "      <th></th>\n",
       "      <th>Cost</th>\n",
       "    </tr>\n",
       "    <tr>\n",
       "      <th>Speed</th>\n",
       "      <th></th>\n",
       "    </tr>\n",
       "  </thead>\n",
       "  <tbody>\n",
       "    <tr>\n",
       "      <th>60</th>\n",
       "      <td>3.25</td>\n",
       "    </tr>\n",
       "    <tr>\n",
       "      <th>20</th>\n",
       "      <td>1.75</td>\n",
       "    </tr>\n",
       "    <tr>\n",
       "      <th>3</th>\n",
       "      <td>0.00</td>\n",
       "    </tr>\n",
       "  </tbody>\n",
       "</table>\n",
       "</div>"
      ],
      "text/plain": [
       "       Cost\n",
       "Speed      \n",
       "60     3.25\n",
       "20     1.75\n",
       "3      0.00"
      ]
     },
     "execution_count": 7,
     "metadata": {},
     "output_type": "execute_result"
    }
   ],
   "source": [
    "los.set_index('Speed')"
   ]
  },
  {
   "cell_type": "markdown",
   "metadata": {},
   "source": [
    "This probably isn't a good thing to do with measured attributes like *'Speed'*, but \n",
    "it can come in handy to set the index as an identifier code (e.g. a TAZ code), \n",
    "especially after reading data from a file."
   ]
  },
  {
   "cell_type": "markdown",
   "metadata": {},
   "source": [
    "As you might notice, the `index` or `columns` can be made up of text, or numbers -- or, \n",
    "in fact, any Python object.  "
   ]
  },
  {
   "cell_type": "code",
   "execution_count": 8,
   "metadata": {},
   "outputs": [
    {
     "data": {
      "text/html": [
       "<div>\n",
       "<style scoped>\n",
       "    .dataframe tbody tr th:only-of-type {\n",
       "        vertical-align: middle;\n",
       "    }\n",
       "\n",
       "    .dataframe tbody tr th {\n",
       "        vertical-align: top;\n",
       "    }\n",
       "\n",
       "    .dataframe thead th {\n",
       "        text-align: right;\n",
       "    }\n",
       "</style>\n",
       "<table border=\"1\" class=\"dataframe\">\n",
       "  <thead>\n",
       "    <tr style=\"text-align: right;\">\n",
       "      <th></th>\n",
       "      <th>Speed</th>\n",
       "      <th>Cost</th>\n",
       "    </tr>\n",
       "  </thead>\n",
       "  <tbody>\n",
       "    <tr>\n",
       "      <th>{'key': 'value'}</th>\n",
       "      <td>60</td>\n",
       "      <td>3.25</td>\n",
       "    </tr>\n",
       "    <tr>\n",
       "      <th>{None}</th>\n",
       "      <td>20</td>\n",
       "      <td>1.75</td>\n",
       "    </tr>\n",
       "    <tr>\n",
       "      <th>b'\\x00\\x00'</th>\n",
       "      <td>3</td>\n",
       "      <td>0.00</td>\n",
       "    </tr>\n",
       "  </tbody>\n",
       "</table>\n",
       "</div>"
      ],
      "text/plain": [
       "                  Speed  Cost\n",
       "{'key': 'value'}     60  3.25\n",
       "{None}               20  1.75\n",
       "b'\\x00\\x00'           3  0.00"
      ]
     },
     "execution_count": 8,
     "metadata": {},
     "output_type": "execute_result"
    }
   ],
   "source": [
    "los.index = [{'key':'value'},set([None]),bytes(2)]\n",
    "los"
   ]
  },
  {
   "cell_type": "markdown",
   "metadata": {},
   "source": [
    "But you'll find things much simpler if you stick to \n",
    "strings or integers for these labels, unless there is some very compelling reason to\n",
    "deviate from that plan."
   ]
  },
  {
   "cell_type": "markdown",
   "metadata": {},
   "source": [
    "Every DataFrame has both `index` and `columns`, even if one or both of these\n",
    "sets of labels are not defined when creating the DataFrame.  For example, the \n",
    "example `df` created from `raw` above only has column names, but the `index` with\n",
    "row names was created by default."
   ]
  },
  {
   "cell_type": "code",
   "execution_count": 9,
   "metadata": {},
   "outputs": [
    {
     "data": {
      "text/plain": [
       "RangeIndex(start=0, stop=3, step=1)"
      ]
     },
     "execution_count": 9,
     "metadata": {},
     "output_type": "execute_result"
    }
   ],
   "source": [
    "df.index"
   ]
  },
  {
   "cell_type": "markdown",
   "metadata": {},
   "source": [
    "This default index is a `RangeIndex`, which is a memory-saving feature (at \n",
    "least when the DataFrame is large), as the actual index values are not stored,\n",
    "just the start, stop, and step values (i.e., start at 0, stop before you get to\n",
    "3, counting by 1's)."
   ]
  },
  {
   "cell_type": "markdown",
   "metadata": {},
   "source": [
    "## Data Types"
   ]
  },
  {
   "cell_type": "markdown",
   "metadata": {},
   "source": [
    "Within the DataFrame, each *column* of data has a uniform data type, \n",
    "but the data types are permitted to vary across the columns.  In the example \n",
    "DataFrame we created here, the data type was inferred as `int64` for \n",
    "columns 'A' and 'B', and `float64` for 'C' (because the values in \n",
    "that column's data are integers).  Note that all the values displayed in\n",
    "column 'C' have decimal values.  We can also check explicitly on the data types\n",
    "for each column:"
   ]
  },
  {
   "cell_type": "code",
   "execution_count": 10,
   "metadata": {},
   "outputs": [
    {
     "data": {
      "text/html": [
       "<div>\n",
       "<style scoped>\n",
       "    .dataframe tbody tr th:only-of-type {\n",
       "        vertical-align: middle;\n",
       "    }\n",
       "\n",
       "    .dataframe tbody tr th {\n",
       "        vertical-align: top;\n",
       "    }\n",
       "\n",
       "    .dataframe thead th {\n",
       "        text-align: right;\n",
       "    }\n",
       "</style>\n",
       "<table border=\"1\" class=\"dataframe\">\n",
       "  <thead>\n",
       "    <tr style=\"text-align: right;\">\n",
       "      <th></th>\n",
       "      <th>A</th>\n",
       "      <th>B</th>\n",
       "      <th>C</th>\n",
       "    </tr>\n",
       "  </thead>\n",
       "  <tbody>\n",
       "    <tr>\n",
       "      <th>0</th>\n",
       "      <td>7</td>\n",
       "      <td>1</td>\n",
       "      <td>4.1</td>\n",
       "    </tr>\n",
       "    <tr>\n",
       "      <th>1</th>\n",
       "      <td>8</td>\n",
       "      <td>2</td>\n",
       "      <td>5.2</td>\n",
       "    </tr>\n",
       "    <tr>\n",
       "      <th>2</th>\n",
       "      <td>9</td>\n",
       "      <td>3</td>\n",
       "      <td>6.3</td>\n",
       "    </tr>\n",
       "  </tbody>\n",
       "</table>\n",
       "</div>"
      ],
      "text/plain": [
       "   A  B    C\n",
       "0  7  1  4.1\n",
       "1  8  2  5.2\n",
       "2  9  3  6.3"
      ]
     },
     "execution_count": 10,
     "metadata": {},
     "output_type": "execute_result"
    }
   ],
   "source": [
    "df"
   ]
  },
  {
   "cell_type": "code",
   "execution_count": 11,
   "metadata": {},
   "outputs": [
    {
     "data": {
      "text/plain": [
       "A      int64\n",
       "B      int64\n",
       "C    float64\n",
       "dtype: object"
      ]
     },
     "execution_count": 11,
     "metadata": {},
     "output_type": "execute_result"
    }
   ],
   "source": [
    "df.dtypes"
   ]
  },
  {
   "cell_type": "markdown",
   "metadata": {},
   "source": [
    "If we try to force data into a DataFrame that doesn't follow this pattern of\n",
    "maintaining one common data type in each column, the underlying\n",
    "data will be up-casted to preserve this data type by columns rule.  For example, \n",
    "if we take the transpose of the example DataFrame (swapping the rows and columns), \n",
    "the integer data gets up-casted to floats:"
   ]
  },
  {
   "cell_type": "code",
   "execution_count": 12,
   "metadata": {},
   "outputs": [
    {
     "data": {
      "text/html": [
       "<div>\n",
       "<style scoped>\n",
       "    .dataframe tbody tr th:only-of-type {\n",
       "        vertical-align: middle;\n",
       "    }\n",
       "\n",
       "    .dataframe tbody tr th {\n",
       "        vertical-align: top;\n",
       "    }\n",
       "\n",
       "    .dataframe thead th {\n",
       "        text-align: right;\n",
       "    }\n",
       "</style>\n",
       "<table border=\"1\" class=\"dataframe\">\n",
       "  <thead>\n",
       "    <tr style=\"text-align: right;\">\n",
       "      <th></th>\n",
       "      <th>0</th>\n",
       "      <th>1</th>\n",
       "      <th>2</th>\n",
       "    </tr>\n",
       "  </thead>\n",
       "  <tbody>\n",
       "    <tr>\n",
       "      <th>A</th>\n",
       "      <td>7.0</td>\n",
       "      <td>8.0</td>\n",
       "      <td>9.0</td>\n",
       "    </tr>\n",
       "    <tr>\n",
       "      <th>B</th>\n",
       "      <td>1.0</td>\n",
       "      <td>2.0</td>\n",
       "      <td>3.0</td>\n",
       "    </tr>\n",
       "    <tr>\n",
       "      <th>C</th>\n",
       "      <td>4.1</td>\n",
       "      <td>5.2</td>\n",
       "      <td>6.3</td>\n",
       "    </tr>\n",
       "  </tbody>\n",
       "</table>\n",
       "</div>"
      ],
      "text/plain": [
       "     0    1    2\n",
       "A  7.0  8.0  9.0\n",
       "B  1.0  2.0  3.0\n",
       "C  4.1  5.2  6.3"
      ]
     },
     "execution_count": 12,
     "metadata": {},
     "output_type": "execute_result"
    }
   ],
   "source": [
    "df.T"
   ]
  },
  {
   "cell_type": "markdown",
   "metadata": {},
   "source": [
    "The numerical values of each data cell are preserved, but now all three columns are \n",
    "represeted as floating point numbers."
   ]
  },
  {
   "cell_type": "code",
   "execution_count": 13,
   "metadata": {},
   "outputs": [
    {
     "data": {
      "text/plain": [
       "0    float64\n",
       "1    float64\n",
       "2    float64\n",
       "dtype: object"
      ]
     },
     "execution_count": 13,
     "metadata": {},
     "output_type": "execute_result"
    }
   ],
   "source": [
    "df.T.dtypes"
   ]
  },
  {
   "cell_type": "markdown",
   "metadata": {
    "toc-hr-collapsed": true
   },
   "source": [
    "## Reading from a File\n",
    "\n",
    "For virtually all transportation data analysis,\n",
    "the data used will be loaded from a file, instead of being entered directly in\n",
    "Python commands.  Fortunately, Pandas comes with a host of data reading methods \n",
    "that can be used to read data in a variety of formats:\n",
    "  \n",
    "  - [read_clipboard](https://pandas.pydata.org/pandas-docs/stable/reference/api/pandas.read_clipboard.html)\n",
    "  - [read_csv](https://pandas.pydata.org/pandas-docs/stable/reference/api/pandas.read_csv.html)\n",
    "  - [read_excel](https://pandas.pydata.org/pandas-docs/stable/reference/api/pandas.read_excel.html)\n",
    "  - [read_feather](https://pandas.pydata.org/pandas-docs/stable/reference/api/pandas.read_feather.html)\n",
    "  - [read_fwf](https://pandas.pydata.org/pandas-docs/stable/reference/api/pandas.read_fwf.html)\n",
    "  - [read_hdf](https://pandas.pydata.org/pandas-docs/stable/reference/api/pandas.read_hdf.html)\n",
    "  - [read_html](https://pandas.pydata.org/pandas-docs/stable/reference/api/pandas.read_html.html)\n",
    "  - [read_json](https://pandas.pydata.org/pandas-docs/stable/reference/api/pandas.read_json.html)\n",
    "  - [read_msgpack](https://pandas.pydata.org/pandas-docs/stable/reference/api/pandas.read_msgpack.html)\n",
    "  - [read_parquet](https://pandas.pydata.org/pandas-docs/stable/reference/api/pandas.read_parquet.html)\n",
    "  - [read_pickle](https://pandas.pydata.org/pandas-docs/stable/reference/api/pandas.read_pickle.html)\n",
    "  - [read_sas](https://pandas.pydata.org/pandas-docs/stable/reference/api/pandas.read_sas.html)\n",
    "  - [read_sql](https://pandas.pydata.org/pandas-docs/stable/reference/api/pandas.read_sql.html)\n",
    "  - [read_sql_query](https://pandas.pydata.org/pandas-docs/stable/reference/api/pandas.read_sql_query.html)\n",
    "  - [read_sql_table](https://pandas.pydata.org/pandas-docs/stable/reference/api/pandas.read_sql_table.html)\n",
    "  - [read_stata](https://pandas.pydata.org/pandas-docs/stable/reference/api/pandas.read_stata.html)\n",
    "  - [read_table](https://pandas.pydata.org/pandas-docs/stable/reference/api/pandas.read_table.html)\n",
    "  \n",
    "You can click through to the documentation for each of these.  In this tutorial, we'll cover \n",
    "the most basic reading function in the pandas library, which is `read_csv`.  Despite the name,\n",
    "this function isn't just for reading comma seperated values, but also pretty much any delimited\n",
    "text file, including tab and space delimited files."
   ]
  },
  {
   "cell_type": "markdown",
   "metadata": {},
   "source": [
    "A very small example csv data file is included in the transportation_tutorials package:"
   ]
  },
  {
   "cell_type": "code",
   "execution_count": 14,
   "metadata": {},
   "outputs": [
    {
     "data": {
      "text/plain": [
       "'FL-COUNTY.csv.gz'"
      ]
     },
     "execution_count": 14,
     "metadata": {},
     "output_type": "execute_result"
    }
   ],
   "source": [
    "os.path.basename(tt.data('FL-COUNTY'))"
   ]
  },
  {
   "cell_type": "markdown",
   "metadata": {},
   "source": [
    "For most csv files, you can just pass the name of the file to the read_csv function, and \n",
    "pandas will figure out the rest.  This includes, as shown here, when a csv file is gzipped\n",
    "on disk, in which case it is transparently decompressed while reading."
   ]
  },
  {
   "cell_type": "code",
   "execution_count": 15,
   "metadata": {},
   "outputs": [],
   "source": [
    "fl = pd.read_csv(tt.data('FL-COUNTY'))"
   ]
  },
  {
   "cell_type": "code",
   "execution_count": 16,
   "metadata": {},
   "outputs": [
    {
     "data": {
      "text/html": [
       "<div>\n",
       "<style scoped>\n",
       "    .dataframe tbody tr th:only-of-type {\n",
       "        vertical-align: middle;\n",
       "    }\n",
       "\n",
       "    .dataframe tbody tr th {\n",
       "        vertical-align: top;\n",
       "    }\n",
       "\n",
       "    .dataframe thead th {\n",
       "        text-align: right;\n",
       "    }\n",
       "</style>\n",
       "<table border=\"1\" class=\"dataframe\">\n",
       "  <thead>\n",
       "    <tr style=\"text-align: right;\">\n",
       "      <th></th>\n",
       "      <th>Name</th>\n",
       "      <th>2019 Population</th>\n",
       "      <th>Growth Since 2010</th>\n",
       "      <th>Land Area</th>\n",
       "    </tr>\n",
       "  </thead>\n",
       "  <tbody>\n",
       "    <tr>\n",
       "      <th>0</th>\n",
       "      <td>Miami-Dade County</td>\n",
       "      <td>2751796</td>\n",
       "      <td>9.754518</td>\n",
       "      <td>1897.72</td>\n",
       "    </tr>\n",
       "    <tr>\n",
       "      <th>1</th>\n",
       "      <td>Broward County</td>\n",
       "      <td>1935878</td>\n",
       "      <td>10.438146</td>\n",
       "      <td>1209.79</td>\n",
       "    </tr>\n",
       "    <tr>\n",
       "      <th>2</th>\n",
       "      <td>Palm Beach County</td>\n",
       "      <td>1471150</td>\n",
       "      <td>11.134781</td>\n",
       "      <td>1969.76</td>\n",
       "    </tr>\n",
       "    <tr>\n",
       "      <th>3</th>\n",
       "      <td>Hillsborough County</td>\n",
       "      <td>1408566</td>\n",
       "      <td>14.187346</td>\n",
       "      <td>1020.21</td>\n",
       "    </tr>\n",
       "    <tr>\n",
       "      <th>4</th>\n",
       "      <td>Orange County</td>\n",
       "      <td>1348975</td>\n",
       "      <td>17.435335</td>\n",
       "      <td>903.43</td>\n",
       "    </tr>\n",
       "    <tr>\n",
       "      <th>...</th>\n",
       "      <td>...</td>\n",
       "      <td>...</td>\n",
       "      <td>...</td>\n",
       "      <td>...</td>\n",
       "    </tr>\n",
       "    <tr>\n",
       "      <th>62</th>\n",
       "      <td>Jefferson County</td>\n",
       "      <td>14144</td>\n",
       "      <td>-4.095471</td>\n",
       "      <td>598.10</td>\n",
       "    </tr>\n",
       "    <tr>\n",
       "      <th>63</th>\n",
       "      <td>Glades County</td>\n",
       "      <td>13754</td>\n",
       "      <td>6.843782</td>\n",
       "      <td>806.01</td>\n",
       "    </tr>\n",
       "    <tr>\n",
       "      <th>64</th>\n",
       "      <td>Franklin County</td>\n",
       "      <td>11727</td>\n",
       "      <td>1.779205</td>\n",
       "      <td>534.73</td>\n",
       "    </tr>\n",
       "    <tr>\n",
       "      <th>65</th>\n",
       "      <td>Lafayette County</td>\n",
       "      <td>8451</td>\n",
       "      <td>-4.074915</td>\n",
       "      <td>543.41</td>\n",
       "    </tr>\n",
       "    <tr>\n",
       "      <th>66</th>\n",
       "      <td>Liberty County</td>\n",
       "      <td>8242</td>\n",
       "      <td>-1.269765</td>\n",
       "      <td>835.56</td>\n",
       "    </tr>\n",
       "  </tbody>\n",
       "</table>\n",
       "<p>67 rows × 4 columns</p>\n",
       "</div>"
      ],
      "text/plain": [
       "                   Name  2019 Population  Growth Since 2010  Land Area\n",
       "0     Miami-Dade County          2751796           9.754518    1897.72\n",
       "1        Broward County          1935878          10.438146    1209.79\n",
       "2     Palm Beach County          1471150          11.134781    1969.76\n",
       "3   Hillsborough County          1408566          14.187346    1020.21\n",
       "4         Orange County          1348975          17.435335     903.43\n",
       "..                  ...              ...                ...        ...\n",
       "62     Jefferson County            14144          -4.095471     598.10\n",
       "63        Glades County            13754           6.843782     806.01\n",
       "64      Franklin County            11727           1.779205     534.73\n",
       "65     Lafayette County             8451          -4.074915     543.41\n",
       "66       Liberty County             8242          -1.269765     835.56\n",
       "\n",
       "[67 rows x 4 columns]"
      ]
     },
     "execution_count": 16,
     "metadata": {},
     "output_type": "execute_result"
    }
   ],
   "source": [
    "fl"
   ]
  },
  {
   "cell_type": "markdown",
   "metadata": {},
   "source": [
    "Within the Jupyter notebook, by default if you try to view a large data frame,\n",
    "the middle section is not displayed. If you look carefully above, you'll see \n",
    "a row of ellipsis marking the place where some rows are not shown.  Still, we\n",
    "get the first 30 and last 30 rows of the table.\n",
    "If you don't want to review so large a section of a DataFrame, you can use the\n",
    "`head` method of DataFrames to see just the first few rows."
   ]
  },
  {
   "cell_type": "code",
   "execution_count": 17,
   "metadata": {},
   "outputs": [
    {
     "data": {
      "text/html": [
       "<div>\n",
       "<style scoped>\n",
       "    .dataframe tbody tr th:only-of-type {\n",
       "        vertical-align: middle;\n",
       "    }\n",
       "\n",
       "    .dataframe tbody tr th {\n",
       "        vertical-align: top;\n",
       "    }\n",
       "\n",
       "    .dataframe thead th {\n",
       "        text-align: right;\n",
       "    }\n",
       "</style>\n",
       "<table border=\"1\" class=\"dataframe\">\n",
       "  <thead>\n",
       "    <tr style=\"text-align: right;\">\n",
       "      <th></th>\n",
       "      <th>Name</th>\n",
       "      <th>2019 Population</th>\n",
       "      <th>Growth Since 2010</th>\n",
       "      <th>Land Area</th>\n",
       "    </tr>\n",
       "  </thead>\n",
       "  <tbody>\n",
       "    <tr>\n",
       "      <th>0</th>\n",
       "      <td>Miami-Dade County</td>\n",
       "      <td>2751796</td>\n",
       "      <td>9.754518</td>\n",
       "      <td>1897.72</td>\n",
       "    </tr>\n",
       "    <tr>\n",
       "      <th>1</th>\n",
       "      <td>Broward County</td>\n",
       "      <td>1935878</td>\n",
       "      <td>10.438146</td>\n",
       "      <td>1209.79</td>\n",
       "    </tr>\n",
       "    <tr>\n",
       "      <th>2</th>\n",
       "      <td>Palm Beach County</td>\n",
       "      <td>1471150</td>\n",
       "      <td>11.134781</td>\n",
       "      <td>1969.76</td>\n",
       "    </tr>\n",
       "    <tr>\n",
       "      <th>3</th>\n",
       "      <td>Hillsborough County</td>\n",
       "      <td>1408566</td>\n",
       "      <td>14.187346</td>\n",
       "      <td>1020.21</td>\n",
       "    </tr>\n",
       "    <tr>\n",
       "      <th>4</th>\n",
       "      <td>Orange County</td>\n",
       "      <td>1348975</td>\n",
       "      <td>17.435335</td>\n",
       "      <td>903.43</td>\n",
       "    </tr>\n",
       "  </tbody>\n",
       "</table>\n",
       "</div>"
      ],
      "text/plain": [
       "                  Name  2019 Population  Growth Since 2010  Land Area\n",
       "0    Miami-Dade County          2751796           9.754518    1897.72\n",
       "1       Broward County          1935878          10.438146    1209.79\n",
       "2    Palm Beach County          1471150          11.134781    1969.76\n",
       "3  Hillsborough County          1408566          14.187346    1020.21\n",
       "4        Orange County          1348975          17.435335     903.43"
      ]
     },
     "execution_count": 17,
     "metadata": {},
     "output_type": "execute_result"
    }
   ],
   "source": [
    "fl.head()"
   ]
  },
  {
   "cell_type": "markdown",
   "metadata": {},
   "source": [
    "One notable tabular file format you may encounter in transportation planning\n",
    "that is *not* directly readable by pandas is the `DBF` file.  Fortunately,\n",
    "there are other related tools that can read this kind of file, including\n",
    "`geopandas`.  Geopandas includes just one main reading function: `read_file`.\n",
    "When you read a DBF file with `geopandas.read_file`, you'll get a `GeoDataFrame`\n",
    "object instead of a regular pandas.DataFrame -- but don't worry, everything\n",
    "you can do with a DataFrame you can also do with a GeoDataFrame. "
   ]
  },
  {
   "cell_type": "code",
   "execution_count": 18,
   "metadata": {},
   "outputs": [],
   "source": [
    "import os\n",
    "import geopandas as gpd"
   ]
  },
  {
   "cell_type": "code",
   "execution_count": 19,
   "metadata": {},
   "outputs": [
    {
     "data": {
      "text/plain": [
       "'US-STATES.dbf'"
      ]
     },
     "execution_count": 19,
     "metadata": {},
     "output_type": "execute_result"
    }
   ],
   "source": [
    "os.path.basename(tt.data('US-STATES'))"
   ]
  },
  {
   "cell_type": "code",
   "execution_count": 20,
   "metadata": {},
   "outputs": [
    {
     "data": {
      "text/html": [
       "<div>\n",
       "<style scoped>\n",
       "    .dataframe tbody tr th:only-of-type {\n",
       "        vertical-align: middle;\n",
       "    }\n",
       "\n",
       "    .dataframe tbody tr th {\n",
       "        vertical-align: top;\n",
       "    }\n",
       "\n",
       "    .dataframe thead th {\n",
       "        text-align: right;\n",
       "    }\n",
       "</style>\n",
       "<table border=\"1\" class=\"dataframe\">\n",
       "  <thead>\n",
       "    <tr style=\"text-align: right;\">\n",
       "      <th></th>\n",
       "      <th>STATEFP</th>\n",
       "      <th>STATENS</th>\n",
       "      <th>AFFGEOID</th>\n",
       "      <th>GEOID</th>\n",
       "      <th>STUSPS</th>\n",
       "      <th>NAME</th>\n",
       "      <th>LSAD</th>\n",
       "      <th>ALAND</th>\n",
       "      <th>AWATER</th>\n",
       "      <th>geometry</th>\n",
       "    </tr>\n",
       "  </thead>\n",
       "  <tbody>\n",
       "    <tr>\n",
       "      <th>0</th>\n",
       "      <td>01</td>\n",
       "      <td>01779775</td>\n",
       "      <td>0400000US01</td>\n",
       "      <td>01</td>\n",
       "      <td>AL</td>\n",
       "      <td>Alabama</td>\n",
       "      <td>00</td>\n",
       "      <td>131173688951</td>\n",
       "      <td>4593686489</td>\n",
       "      <td>None</td>\n",
       "    </tr>\n",
       "    <tr>\n",
       "      <th>1</th>\n",
       "      <td>02</td>\n",
       "      <td>01785533</td>\n",
       "      <td>0400000US02</td>\n",
       "      <td>02</td>\n",
       "      <td>AK</td>\n",
       "      <td>Alaska</td>\n",
       "      <td>00</td>\n",
       "      <td>1477946266785</td>\n",
       "      <td>245390495931</td>\n",
       "      <td>None</td>\n",
       "    </tr>\n",
       "    <tr>\n",
       "      <th>2</th>\n",
       "      <td>04</td>\n",
       "      <td>01779777</td>\n",
       "      <td>0400000US04</td>\n",
       "      <td>04</td>\n",
       "      <td>AZ</td>\n",
       "      <td>Arizona</td>\n",
       "      <td>00</td>\n",
       "      <td>294198560125</td>\n",
       "      <td>1027346486</td>\n",
       "      <td>None</td>\n",
       "    </tr>\n",
       "    <tr>\n",
       "      <th>3</th>\n",
       "      <td>05</td>\n",
       "      <td>00068085</td>\n",
       "      <td>0400000US05</td>\n",
       "      <td>05</td>\n",
       "      <td>AR</td>\n",
       "      <td>Arkansas</td>\n",
       "      <td>00</td>\n",
       "      <td>134771517596</td>\n",
       "      <td>2960191698</td>\n",
       "      <td>None</td>\n",
       "    </tr>\n",
       "    <tr>\n",
       "      <th>4</th>\n",
       "      <td>06</td>\n",
       "      <td>01779778</td>\n",
       "      <td>0400000US06</td>\n",
       "      <td>06</td>\n",
       "      <td>CA</td>\n",
       "      <td>California</td>\n",
       "      <td>00</td>\n",
       "      <td>403501101370</td>\n",
       "      <td>20466718403</td>\n",
       "      <td>None</td>\n",
       "    </tr>\n",
       "  </tbody>\n",
       "</table>\n",
       "</div>"
      ],
      "text/plain": [
       "  STATEFP   STATENS     AFFGEOID GEOID STUSPS        NAME LSAD          ALAND  \\\n",
       "0      01  01779775  0400000US01    01     AL     Alabama   00   131173688951   \n",
       "1      02  01785533  0400000US02    02     AK      Alaska   00  1477946266785   \n",
       "2      04  01779777  0400000US04    04     AZ     Arizona   00   294198560125   \n",
       "3      05  00068085  0400000US05    05     AR    Arkansas   00   134771517596   \n",
       "4      06  01779778  0400000US06    06     CA  California   00   403501101370   \n",
       "\n",
       "         AWATER geometry  \n",
       "0    4593686489     None  \n",
       "1  245390495931     None  \n",
       "2    1027346486     None  \n",
       "3    2960191698     None  \n",
       "4   20466718403     None  "
      ]
     },
     "execution_count": 20,
     "metadata": {},
     "output_type": "execute_result"
    }
   ],
   "source": [
    "states = gpd.read_file(tt.data('US-STATES'))\n",
    "states.head()"
   ]
  },
  {
   "cell_type": "code",
   "execution_count": 21,
   "metadata": {},
   "outputs": [],
   "source": [
    "import larch"
   ]
  },
  {
   "cell_type": "markdown",
   "metadata": {},
   "source": [
    "An alternate DBF reading implementation is included in Larch.  This optimized DBF reader\n",
    "can currently only handle text and numeric datatyped (i.e., types 'C', 'F', and 'N'; no dates,\n",
    "memos, or logical fields).  However, it can read data quite fast even for large files,\n",
    "and will extract the basic contents of the file (headers, number of rows) even without\n",
    "actually reading the data."
   ]
  },
  {
   "cell_type": "code",
   "execution_count": 22,
   "metadata": {},
   "outputs": [],
   "source": [
    "f = larch.DBF(tt.data('US-STATES'))"
   ]
  },
  {
   "cell_type": "markdown",
   "metadata": {},
   "source": [
    "To actually load the data into a DataFrame, use the `load_dataframe` method."
   ]
  },
  {
   "cell_type": "code",
   "execution_count": 23,
   "metadata": {},
   "outputs": [
    {
     "data": {
      "text/html": [
       "<div>\n",
       "<style scoped>\n",
       "    .dataframe tbody tr th:only-of-type {\n",
       "        vertical-align: middle;\n",
       "    }\n",
       "\n",
       "    .dataframe tbody tr th {\n",
       "        vertical-align: top;\n",
       "    }\n",
       "\n",
       "    .dataframe thead th {\n",
       "        text-align: right;\n",
       "    }\n",
       "</style>\n",
       "<table border=\"1\" class=\"dataframe\">\n",
       "  <thead>\n",
       "    <tr style=\"text-align: right;\">\n",
       "      <th></th>\n",
       "      <th>STATEFP</th>\n",
       "      <th>STATENS</th>\n",
       "      <th>AFFGEOID</th>\n",
       "      <th>GEOID</th>\n",
       "      <th>NAME</th>\n",
       "      <th>LSAD</th>\n",
       "      <th>ALAND</th>\n",
       "      <th>AWATER</th>\n",
       "    </tr>\n",
       "    <tr>\n",
       "      <th>STUSPS</th>\n",
       "      <th></th>\n",
       "      <th></th>\n",
       "      <th></th>\n",
       "      <th></th>\n",
       "      <th></th>\n",
       "      <th></th>\n",
       "      <th></th>\n",
       "      <th></th>\n",
       "    </tr>\n",
       "  </thead>\n",
       "  <tbody>\n",
       "    <tr>\n",
       "      <th>AL</th>\n",
       "      <td>01</td>\n",
       "      <td>01779775</td>\n",
       "      <td>0400000US01</td>\n",
       "      <td>01</td>\n",
       "      <td>Alabama</td>\n",
       "      <td>00</td>\n",
       "      <td>131173688951</td>\n",
       "      <td>4593686489</td>\n",
       "    </tr>\n",
       "    <tr>\n",
       "      <th>AK</th>\n",
       "      <td>02</td>\n",
       "      <td>01785533</td>\n",
       "      <td>0400000US02</td>\n",
       "      <td>02</td>\n",
       "      <td>Alaska</td>\n",
       "      <td>00</td>\n",
       "      <td>1477946266785</td>\n",
       "      <td>245390495931</td>\n",
       "    </tr>\n",
       "    <tr>\n",
       "      <th>AZ</th>\n",
       "      <td>04</td>\n",
       "      <td>01779777</td>\n",
       "      <td>0400000US04</td>\n",
       "      <td>04</td>\n",
       "      <td>Arizona</td>\n",
       "      <td>00</td>\n",
       "      <td>294198560125</td>\n",
       "      <td>1027346486</td>\n",
       "    </tr>\n",
       "    <tr>\n",
       "      <th>AR</th>\n",
       "      <td>05</td>\n",
       "      <td>00068085</td>\n",
       "      <td>0400000US05</td>\n",
       "      <td>05</td>\n",
       "      <td>Arkansas</td>\n",
       "      <td>00</td>\n",
       "      <td>134771517596</td>\n",
       "      <td>2960191698</td>\n",
       "    </tr>\n",
       "    <tr>\n",
       "      <th>CA</th>\n",
       "      <td>06</td>\n",
       "      <td>01779778</td>\n",
       "      <td>0400000US06</td>\n",
       "      <td>06</td>\n",
       "      <td>California</td>\n",
       "      <td>00</td>\n",
       "      <td>403501101370</td>\n",
       "      <td>20466718403</td>\n",
       "    </tr>\n",
       "  </tbody>\n",
       "</table>\n",
       "</div>"
      ],
      "text/plain": [
       "       STATEFP   STATENS     AFFGEOID GEOID        NAME LSAD          ALAND  \\\n",
       "STUSPS                                                                        \n",
       "AL          01  01779775  0400000US01    01     Alabama   00   131173688951   \n",
       "AK          02  01785533  0400000US02    02      Alaska   00  1477946266785   \n",
       "AZ          04  01779777  0400000US04    04     Arizona   00   294198560125   \n",
       "AR          05  00068085  0400000US05    05    Arkansas   00   134771517596   \n",
       "CA          06  01779778  0400000US06    06  California   00   403501101370   \n",
       "\n",
       "              AWATER  \n",
       "STUSPS                \n",
       "AL        4593686489  \n",
       "AK      245390495931  \n",
       "AZ        1027346486  \n",
       "AR        2960191698  \n",
       "CA       20466718403  "
      ]
     },
     "execution_count": 23,
     "metadata": {},
     "output_type": "execute_result"
    }
   ],
   "source": [
    "states = f.load_dataframe()\n",
    "states.set_index('STUSPS', inplace=True)\n",
    "states.head()"
   ]
  },
  {
   "cell_type": "markdown",
   "metadata": {},
   "source": [
    "### Data Cleaning\n",
    "\n",
    "Sometimes, data that is read in from raw files will require some \n",
    "cleaning to be usable.  Consider this example of data on bridges\n",
    "in Florida:"
   ]
  },
  {
   "cell_type": "code",
   "execution_count": 24,
   "metadata": {},
   "outputs": [
    {
     "name": "stdout",
     "output_type": "stream",
     "text": [
      "﻿County,Total #,Good #,Fair #,Poor #,SD #,Total Area,Good Area,Fair Area,Poor Area,SD Area\n",
      " ALACHUA (001),111,64,47,-,-,64767,55794,8973,,\n",
      " BAKER (003),89,30,52,7,8,32162,19369,12282,510,623\n",
      " BAY (005),122,49,63,10,11,210039,98834,109628,1577,10120\n",
      " BRADFORD (007),62,23,37,2,2,9330,5492,3217,620,620\n",
      " BREVARD (009),241,160,81,-,-,364138,204179,159959,,\n",
      "\n"
     ]
    }
   ],
   "source": [
    "with gzip.open(tt.data('FL-BRIDGES'), 'rt') as previewfile:\n",
    "    print(*(next(previewfile) for x in range(6)))"
   ]
  },
  {
   "cell_type": "markdown",
   "metadata": {},
   "source": [
    "The data is loaded by pandas in the usual way without errors."
   ]
  },
  {
   "cell_type": "code",
   "execution_count": 25,
   "metadata": {},
   "outputs": [],
   "source": [
    "bridges = pd.read_csv(tt.data('FL-BRIDGES'))"
   ]
  },
  {
   "cell_type": "markdown",
   "metadata": {},
   "source": [
    "However, not all is well, and problems will appear during analysis."
   ]
  },
  {
   "cell_type": "code",
   "execution_count": 26,
   "metadata": {},
   "outputs": [
    {
     "data": {
      "text/plain": [
       "'-8112-711-324152218128--6-1--22913622-286111-136313-3-7-3331352-13917696256'"
      ]
     },
     "execution_count": 26,
     "metadata": {},
     "output_type": "execute_result"
    }
   ],
   "source": [
    "bridges['SD #'].sum()"
   ]
  },
  {
   "cell_type": "markdown",
   "metadata": {},
   "source": [
    "That is clearly not the number of structurally deficient bridges in Florida.\n",
    "And it's not even a number at all, it's a string.  If you look carefully and compare\n",
    "against the first few rows of the DataFrame shown below,\n",
    "you may figure out that the string is actually a concatenation of the numbers\n",
    "in the column, not the sum.  "
   ]
  },
  {
   "cell_type": "code",
   "execution_count": 27,
   "metadata": {},
   "outputs": [
    {
     "data": {
      "text/html": [
       "<div>\n",
       "<style scoped>\n",
       "    .dataframe tbody tr th:only-of-type {\n",
       "        vertical-align: middle;\n",
       "    }\n",
       "\n",
       "    .dataframe tbody tr th {\n",
       "        vertical-align: top;\n",
       "    }\n",
       "\n",
       "    .dataframe thead th {\n",
       "        text-align: right;\n",
       "    }\n",
       "</style>\n",
       "<table border=\"1\" class=\"dataframe\">\n",
       "  <thead>\n",
       "    <tr style=\"text-align: right;\">\n",
       "      <th></th>\n",
       "      <th>County</th>\n",
       "      <th>Total #</th>\n",
       "      <th>Good #</th>\n",
       "      <th>Fair #</th>\n",
       "      <th>Poor #</th>\n",
       "      <th>SD #</th>\n",
       "      <th>Total Area</th>\n",
       "      <th>Good Area</th>\n",
       "      <th>Fair Area</th>\n",
       "      <th>Poor Area</th>\n",
       "      <th>SD Area</th>\n",
       "    </tr>\n",
       "  </thead>\n",
       "  <tbody>\n",
       "    <tr>\n",
       "      <th>0</th>\n",
       "      <td>ALACHUA (001)</td>\n",
       "      <td>111</td>\n",
       "      <td>64</td>\n",
       "      <td>47</td>\n",
       "      <td>-</td>\n",
       "      <td>-</td>\n",
       "      <td>64767</td>\n",
       "      <td>55794</td>\n",
       "      <td>8973</td>\n",
       "      <td>NaN</td>\n",
       "      <td>NaN</td>\n",
       "    </tr>\n",
       "    <tr>\n",
       "      <th>1</th>\n",
       "      <td>BAKER (003)</td>\n",
       "      <td>89</td>\n",
       "      <td>30</td>\n",
       "      <td>52</td>\n",
       "      <td>7</td>\n",
       "      <td>8</td>\n",
       "      <td>32162</td>\n",
       "      <td>19369</td>\n",
       "      <td>12282</td>\n",
       "      <td>510.0</td>\n",
       "      <td>623.0</td>\n",
       "    </tr>\n",
       "    <tr>\n",
       "      <th>2</th>\n",
       "      <td>BAY (005)</td>\n",
       "      <td>122</td>\n",
       "      <td>49</td>\n",
       "      <td>63</td>\n",
       "      <td>10</td>\n",
       "      <td>11</td>\n",
       "      <td>210039</td>\n",
       "      <td>98834</td>\n",
       "      <td>109628</td>\n",
       "      <td>1577.0</td>\n",
       "      <td>10120.0</td>\n",
       "    </tr>\n",
       "    <tr>\n",
       "      <th>3</th>\n",
       "      <td>BRADFORD (007)</td>\n",
       "      <td>62</td>\n",
       "      <td>23</td>\n",
       "      <td>37</td>\n",
       "      <td>2</td>\n",
       "      <td>2</td>\n",
       "      <td>9330</td>\n",
       "      <td>5492</td>\n",
       "      <td>3217</td>\n",
       "      <td>620.0</td>\n",
       "      <td>620.0</td>\n",
       "    </tr>\n",
       "    <tr>\n",
       "      <th>4</th>\n",
       "      <td>BREVARD (009)</td>\n",
       "      <td>241</td>\n",
       "      <td>160</td>\n",
       "      <td>81</td>\n",
       "      <td>-</td>\n",
       "      <td>-</td>\n",
       "      <td>364138</td>\n",
       "      <td>204179</td>\n",
       "      <td>159959</td>\n",
       "      <td>NaN</td>\n",
       "      <td>NaN</td>\n",
       "    </tr>\n",
       "  </tbody>\n",
       "</table>\n",
       "</div>"
      ],
      "text/plain": [
       "           County  Total #  Good #  Fair # Poor # SD #  Total Area  Good Area  \\\n",
       "0   ALACHUA (001)      111      64      47      -    -       64767      55794   \n",
       "1     BAKER (003)       89      30      52      7    8       32162      19369   \n",
       "2       BAY (005)      122      49      63     10   11      210039      98834   \n",
       "3  BRADFORD (007)       62      23      37      2    2        9330       5492   \n",
       "4   BREVARD (009)      241     160      81      -    -      364138     204179   \n",
       "\n",
       "   Fair Area  Poor Area  SD Area  \n",
       "0       8973        NaN      NaN  \n",
       "1      12282      510.0    623.0  \n",
       "2     109628     1577.0  10120.0  \n",
       "3       3217      620.0    620.0  \n",
       "4     159959        NaN      NaN  "
      ]
     },
     "execution_count": 27,
     "metadata": {},
     "output_type": "execute_result"
    }
   ],
   "source": [
    "bridges.head()"
   ]
  },
  {
   "cell_type": "markdown",
   "metadata": {},
   "source": [
    "This is happening because the values in that columns are read by pandas as\n",
    "strings, not numbers, because the zero values are given as '-' instead of 0.\n",
    "We can see the problem clearly if we look at the `info` for the bridges \n",
    "DataFrame."
   ]
  },
  {
   "cell_type": "code",
   "execution_count": 28,
   "metadata": {},
   "outputs": [
    {
     "name": "stdout",
     "output_type": "stream",
     "text": [
      "<class 'pandas.core.frame.DataFrame'>\n",
      "RangeIndex: 68 entries, 0 to 67\n",
      "Data columns (total 11 columns):\n",
      " #   Column      Non-Null Count  Dtype  \n",
      "---  ------      --------------  -----  \n",
      " 0   County      68 non-null     object \n",
      " 1   Total #     68 non-null     int64  \n",
      " 2   Good #      68 non-null     int64  \n",
      " 3   Fair #      68 non-null     int64  \n",
      " 4   Poor #      68 non-null     object \n",
      " 5   SD #        68 non-null     object \n",
      " 6   Total Area  68 non-null     int64  \n",
      " 7   Good Area   68 non-null     int64  \n",
      " 8   Fair Area   68 non-null     int64  \n",
      " 9   Poor Area   47 non-null     float64\n",
      " 10  SD Area     49 non-null     float64\n",
      "dtypes: float64(2), int64(6), object(3)\n",
      "memory usage: 6.0+ KB\n"
     ]
    }
   ],
   "source": [
    "bridges.info()"
   ]
  },
  {
   "cell_type": "markdown",
   "metadata": {},
   "source": [
    "To fix this, we can use the `replace` method to fill all the \n",
    "'-' values with zeros, and then change the dtype of the affected\n",
    "columns back to integer."
   ]
  },
  {
   "cell_type": "code",
   "execution_count": 29,
   "metadata": {},
   "outputs": [],
   "source": [
    "bridges = bridges.replace('-', 0)\n",
    "bridges[['Poor #', 'SD #']] = bridges[['Poor #', 'SD #']].astype(int)"
   ]
  },
  {
   "cell_type": "markdown",
   "metadata": {},
   "source": [
    "Then we are able to compute the total number of structurally \n",
    "deficient bridges in Florida."
   ]
  },
  {
   "cell_type": "code",
   "execution_count": 30,
   "metadata": {},
   "outputs": [
    {
     "data": {
      "text/plain": [
       "512"
      ]
     },
     "execution_count": 30,
     "metadata": {},
     "output_type": "execute_result"
    }
   ],
   "source": [
    "bridges['SD #'].sum()"
   ]
  },
  {
   "cell_type": "markdown",
   "metadata": {},
   "source": [
    "Whoa, that seems high. Let's check on the values in the table and see\n",
    "where all those structurally deficient bridges are.  We can sort \n",
    "on the 'SD #' column and take a look at the highest few rows:"
   ]
  },
  {
   "cell_type": "code",
   "execution_count": 31,
   "metadata": {},
   "outputs": [
    {
     "data": {
      "text/html": [
       "<div>\n",
       "<style scoped>\n",
       "    .dataframe tbody tr th:only-of-type {\n",
       "        vertical-align: middle;\n",
       "    }\n",
       "\n",
       "    .dataframe tbody tr th {\n",
       "        vertical-align: top;\n",
       "    }\n",
       "\n",
       "    .dataframe thead th {\n",
       "        text-align: right;\n",
       "    }\n",
       "</style>\n",
       "<table border=\"1\" class=\"dataframe\">\n",
       "  <thead>\n",
       "    <tr style=\"text-align: right;\">\n",
       "      <th></th>\n",
       "      <th>County</th>\n",
       "      <th>Total #</th>\n",
       "      <th>Good #</th>\n",
       "      <th>Fair #</th>\n",
       "      <th>Poor #</th>\n",
       "      <th>SD #</th>\n",
       "      <th>Total Area</th>\n",
       "      <th>Good Area</th>\n",
       "      <th>Fair Area</th>\n",
       "      <th>Poor Area</th>\n",
       "      <th>SD Area</th>\n",
       "    </tr>\n",
       "  </thead>\n",
       "  <tbody>\n",
       "    <tr>\n",
       "      <th>67</th>\n",
       "      <td>TOTALS</td>\n",
       "      <td>12313</td>\n",
       "      <td>8534</td>\n",
       "      <td>3545</td>\n",
       "      <td>233</td>\n",
       "      <td>256</td>\n",
       "      <td>16759416</td>\n",
       "      <td>11232342</td>\n",
       "      <td>5149876</td>\n",
       "      <td>376033.0</td>\n",
       "      <td>402201.0</td>\n",
       "    </tr>\n",
       "    <tr>\n",
       "      <th>14</th>\n",
       "      <td>DUVAL (031)</td>\n",
       "      <td>763</td>\n",
       "      <td>479</td>\n",
       "      <td>262</td>\n",
       "      <td>22</td>\n",
       "      <td>22</td>\n",
       "      <td>1795247</td>\n",
       "      <td>932820</td>\n",
       "      <td>811836</td>\n",
       "      <td>50590.0</td>\n",
       "      <td>50590.0</td>\n",
       "    </tr>\n",
       "    <tr>\n",
       "      <th>15</th>\n",
       "      <td>ESCAMBIA (033)</td>\n",
       "      <td>243</td>\n",
       "      <td>116</td>\n",
       "      <td>111</td>\n",
       "      <td>16</td>\n",
       "      <td>18</td>\n",
       "      <td>585435</td>\n",
       "      <td>259541</td>\n",
       "      <td>233423</td>\n",
       "      <td>92471.0</td>\n",
       "      <td>92585.0</td>\n",
       "    </tr>\n",
       "    <tr>\n",
       "      <th>42</th>\n",
       "      <td>MIAMI-DADE (086)</td>\n",
       "      <td>957</td>\n",
       "      <td>804</td>\n",
       "      <td>146</td>\n",
       "      <td>7</td>\n",
       "      <td>13</td>\n",
       "      <td>1743024</td>\n",
       "      <td>1315449</td>\n",
       "      <td>404966</td>\n",
       "      <td>22609.0</td>\n",
       "      <td>33739.0</td>\n",
       "    </tr>\n",
       "    <tr>\n",
       "      <th>45</th>\n",
       "      <td>OKALOOSA (091)</td>\n",
       "      <td>216</td>\n",
       "      <td>111</td>\n",
       "      <td>92</td>\n",
       "      <td>13</td>\n",
       "      <td>13</td>\n",
       "      <td>269312</td>\n",
       "      <td>77988</td>\n",
       "      <td>171330</td>\n",
       "      <td>19993.0</td>\n",
       "      <td>19993.0</td>\n",
       "    </tr>\n",
       "  </tbody>\n",
       "</table>\n",
       "</div>"
      ],
      "text/plain": [
       "              County  Total #  Good #  Fair #  Poor #  SD #  Total Area  \\\n",
       "67            TOTALS    12313    8534    3545     233   256    16759416   \n",
       "14       DUVAL (031)      763     479     262      22    22     1795247   \n",
       "15    ESCAMBIA (033)      243     116     111      16    18      585435   \n",
       "42  MIAMI-DADE (086)      957     804     146       7    13     1743024   \n",
       "45    OKALOOSA (091)      216     111      92      13    13      269312   \n",
       "\n",
       "    Good Area  Fair Area  Poor Area   SD Area  \n",
       "67   11232342    5149876   376033.0  402201.0  \n",
       "14     932820     811836    50590.0   50590.0  \n",
       "15     259541     233423    92471.0   92585.0  \n",
       "42    1315449     404966    22609.0   33739.0  \n",
       "45      77988     171330    19993.0   19993.0  "
      ]
     },
     "execution_count": 31,
     "metadata": {},
     "output_type": "execute_result"
    }
   ],
   "source": [
    "bridges.sort_values('SD #', ascending=False).head()"
   ]
  },
  {
   "cell_type": "markdown",
   "metadata": {},
   "source": [
    "Oops! The data we loaded includes a 'TOTALS' row, but we don't want that\n",
    "row included in our DataFrame for analysis.  We can drop it (using the index \n",
    "for that row, 67), to fix the problem: "
   ]
  },
  {
   "cell_type": "code",
   "execution_count": 32,
   "metadata": {},
   "outputs": [
    {
     "data": {
      "text/plain": [
       "256"
      ]
     },
     "execution_count": 32,
     "metadata": {},
     "output_type": "execute_result"
    }
   ],
   "source": [
    "bridges.drop(67, inplace=True)\n",
    "bridges['SD #'].sum()"
   ]
  },
  {
   "cell_type": "markdown",
   "metadata": {},
   "source": [
    "A slightly different problem occurs in the data for 'SD Area'.\n",
    "In this column, the zero values were not given by '-' values,\n",
    "but instead were actually omitted.  When read in by pandas,\n",
    "omitted values are valid input and are different from zero values.\n",
    "\n",
    "If the intention is that missing values are indeed missing,\n",
    "this behavior is expected and useful.  If, however, the missing\n",
    "values should be interpreted as zeros, then that instruction needs\n",
    "to be applied to the DataFrame explicitly, or problems may arise.\n",
    "For example, missing values don't count in the denominator\n",
    "when computing the mean for a column:"
   ]
  },
  {
   "cell_type": "code",
   "execution_count": 33,
   "metadata": {},
   "outputs": [
    {
     "data": {
      "text/plain": [
       "8379.208333333334"
      ]
     },
     "execution_count": 33,
     "metadata": {},
     "output_type": "execute_result"
    }
   ],
   "source": [
    "bridges['SD Area'].mean() "
   ]
  },
  {
   "cell_type": "markdown",
   "metadata": {},
   "source": [
    "If we compute the mean manually using the actual number\n",
    "of counties, we get a different value:"
   ]
  },
  {
   "cell_type": "code",
   "execution_count": 34,
   "metadata": {},
   "outputs": [
    {
     "data": {
      "text/plain": [
       "6003.014925373134"
      ]
     },
     "execution_count": 34,
     "metadata": {},
     "output_type": "execute_result"
    }
   ],
   "source": [
    "bridges['SD Area'].sum() / len(bridges['SD Area'])"
   ]
  },
  {
   "cell_type": "markdown",
   "metadata": {},
   "source": [
    "We can use the `fillna` method to set all the missing values\n",
    "to zero, and then we get the correct answer:"
   ]
  },
  {
   "cell_type": "code",
   "execution_count": 35,
   "metadata": {},
   "outputs": [
    {
     "data": {
      "text/plain": [
       "6003.014925373134"
      ]
     },
     "execution_count": 35,
     "metadata": {},
     "output_type": "execute_result"
    }
   ],
   "source": [
    "bridges.fillna(0, inplace=True)\n",
    "bridges['SD Area'].mean() "
   ]
  },
  {
   "cell_type": "markdown",
   "metadata": {},
   "source": [
    "## Expanding\n",
    "\n",
    "New columns can be added to an existing DataFrame simply by \n",
    "assiging a value to a new column label, using plain \n",
    "square bracket notation.  This makes\n",
    "it easy to create and derived values to a DataFrame."
   ]
  },
  {
   "cell_type": "code",
   "execution_count": 36,
   "metadata": {},
   "outputs": [],
   "source": [
    "fl['Population Density'] = fl['2019 Population'] / fl['Land Area']"
   ]
  },
  {
   "cell_type": "code",
   "execution_count": 37,
   "metadata": {},
   "outputs": [
    {
     "data": {
      "text/html": [
       "<div>\n",
       "<style scoped>\n",
       "    .dataframe tbody tr th:only-of-type {\n",
       "        vertical-align: middle;\n",
       "    }\n",
       "\n",
       "    .dataframe tbody tr th {\n",
       "        vertical-align: top;\n",
       "    }\n",
       "\n",
       "    .dataframe thead th {\n",
       "        text-align: right;\n",
       "    }\n",
       "</style>\n",
       "<table border=\"1\" class=\"dataframe\">\n",
       "  <thead>\n",
       "    <tr style=\"text-align: right;\">\n",
       "      <th></th>\n",
       "      <th>Name</th>\n",
       "      <th>2019 Population</th>\n",
       "      <th>Growth Since 2010</th>\n",
       "      <th>Land Area</th>\n",
       "      <th>Population Density</th>\n",
       "    </tr>\n",
       "  </thead>\n",
       "  <tbody>\n",
       "    <tr>\n",
       "      <th>0</th>\n",
       "      <td>Miami-Dade County</td>\n",
       "      <td>2751796</td>\n",
       "      <td>9.754518</td>\n",
       "      <td>1897.72</td>\n",
       "      <td>1450.053749</td>\n",
       "    </tr>\n",
       "    <tr>\n",
       "      <th>1</th>\n",
       "      <td>Broward County</td>\n",
       "      <td>1935878</td>\n",
       "      <td>10.438146</td>\n",
       "      <td>1209.79</td>\n",
       "      <td>1600.176890</td>\n",
       "    </tr>\n",
       "    <tr>\n",
       "      <th>2</th>\n",
       "      <td>Palm Beach County</td>\n",
       "      <td>1471150</td>\n",
       "      <td>11.134781</td>\n",
       "      <td>1969.76</td>\n",
       "      <td>746.867639</td>\n",
       "    </tr>\n",
       "    <tr>\n",
       "      <th>3</th>\n",
       "      <td>Hillsborough County</td>\n",
       "      <td>1408566</td>\n",
       "      <td>14.187346</td>\n",
       "      <td>1020.21</td>\n",
       "      <td>1380.662805</td>\n",
       "    </tr>\n",
       "    <tr>\n",
       "      <th>4</th>\n",
       "      <td>Orange County</td>\n",
       "      <td>1348975</td>\n",
       "      <td>17.435335</td>\n",
       "      <td>903.43</td>\n",
       "      <td>1493.170473</td>\n",
       "    </tr>\n",
       "  </tbody>\n",
       "</table>\n",
       "</div>"
      ],
      "text/plain": [
       "                  Name  2019 Population  Growth Since 2010  Land Area  \\\n",
       "0    Miami-Dade County          2751796           9.754518    1897.72   \n",
       "1       Broward County          1935878          10.438146    1209.79   \n",
       "2    Palm Beach County          1471150          11.134781    1969.76   \n",
       "3  Hillsborough County          1408566          14.187346    1020.21   \n",
       "4        Orange County          1348975          17.435335     903.43   \n",
       "\n",
       "   Population Density  \n",
       "0         1450.053749  \n",
       "1         1600.176890  \n",
       "2          746.867639  \n",
       "3         1380.662805  \n",
       "4         1493.170473  "
      ]
     },
     "execution_count": 37,
     "metadata": {},
     "output_type": "execute_result"
    }
   ],
   "source": [
    "fl.head()"
   ]
  },
  {
   "cell_type": "markdown",
   "metadata": {},
   "source": [
    "Adding rows to a DataFrame can be done as well, using \n",
    "the `loc` indexer (see the next section on slicing \n",
    "for more about `loc`)."
   ]
  },
  {
   "cell_type": "code",
   "execution_count": 38,
   "metadata": {},
   "outputs": [],
   "source": [
    "fl.loc[999,['Name', '2019 Population']] = ('Dry Tortugas', 0)"
   ]
  },
  {
   "cell_type": "code",
   "execution_count": 39,
   "metadata": {},
   "outputs": [
    {
     "data": {
      "text/html": [
       "<div>\n",
       "<style scoped>\n",
       "    .dataframe tbody tr th:only-of-type {\n",
       "        vertical-align: middle;\n",
       "    }\n",
       "\n",
       "    .dataframe tbody tr th {\n",
       "        vertical-align: top;\n",
       "    }\n",
       "\n",
       "    .dataframe thead th {\n",
       "        text-align: right;\n",
       "    }\n",
       "</style>\n",
       "<table border=\"1\" class=\"dataframe\">\n",
       "  <thead>\n",
       "    <tr style=\"text-align: right;\">\n",
       "      <th></th>\n",
       "      <th>Name</th>\n",
       "      <th>2019 Population</th>\n",
       "      <th>Growth Since 2010</th>\n",
       "      <th>Land Area</th>\n",
       "      <th>Population Density</th>\n",
       "    </tr>\n",
       "  </thead>\n",
       "  <tbody>\n",
       "    <tr>\n",
       "      <th>63</th>\n",
       "      <td>Glades County</td>\n",
       "      <td>13754.0</td>\n",
       "      <td>6.843782</td>\n",
       "      <td>806.01</td>\n",
       "      <td>17.064304</td>\n",
       "    </tr>\n",
       "    <tr>\n",
       "      <th>64</th>\n",
       "      <td>Franklin County</td>\n",
       "      <td>11727.0</td>\n",
       "      <td>1.779205</td>\n",
       "      <td>534.73</td>\n",
       "      <td>21.930694</td>\n",
       "    </tr>\n",
       "    <tr>\n",
       "      <th>65</th>\n",
       "      <td>Lafayette County</td>\n",
       "      <td>8451.0</td>\n",
       "      <td>-4.074915</td>\n",
       "      <td>543.41</td>\n",
       "      <td>15.551793</td>\n",
       "    </tr>\n",
       "    <tr>\n",
       "      <th>66</th>\n",
       "      <td>Liberty County</td>\n",
       "      <td>8242.0</td>\n",
       "      <td>-1.269765</td>\n",
       "      <td>835.56</td>\n",
       "      <td>9.864043</td>\n",
       "    </tr>\n",
       "    <tr>\n",
       "      <th>999</th>\n",
       "      <td>Dry Tortugas</td>\n",
       "      <td>0.0</td>\n",
       "      <td>NaN</td>\n",
       "      <td>NaN</td>\n",
       "      <td>NaN</td>\n",
       "    </tr>\n",
       "  </tbody>\n",
       "</table>\n",
       "</div>"
      ],
      "text/plain": [
       "                 Name  2019 Population  Growth Since 2010  Land Area  \\\n",
       "63      Glades County          13754.0           6.843782     806.01   \n",
       "64    Franklin County          11727.0           1.779205     534.73   \n",
       "65   Lafayette County           8451.0          -4.074915     543.41   \n",
       "66     Liberty County           8242.0          -1.269765     835.56   \n",
       "999      Dry Tortugas              0.0                NaN        NaN   \n",
       "\n",
       "     Population Density  \n",
       "63            17.064304  \n",
       "64            21.930694  \n",
       "65            15.551793  \n",
       "66             9.864043  \n",
       "999                 NaN  "
      ]
     },
     "execution_count": 39,
     "metadata": {},
     "output_type": "execute_result"
    }
   ],
   "source": [
    "fl.tail()"
   ]
  },
  {
   "cell_type": "markdown",
   "metadata": {
    "toc-hr-collapsed": true
   },
   "source": [
    "## Slicing"
   ]
  },
  {
   "cell_type": "markdown",
   "metadata": {},
   "source": [
    "There are two main ways to slice a DataFrame, by label and by position."
   ]
  },
  {
   "cell_type": "markdown",
   "metadata": {},
   "source": [
    "### Slicing by Position\n",
    "\n",
    "Slicing by index is done using the `iloc`. This makes the\n",
    "DataFrame operate in a manner similar to a numpy array.\n",
    "\n",
    "Giving only one index or set of indexes selects from the \n",
    "rows only."
   ]
  },
  {
   "cell_type": "code",
   "execution_count": 40,
   "metadata": {},
   "outputs": [
    {
     "data": {
      "text/html": [
       "<div>\n",
       "<style scoped>\n",
       "    .dataframe tbody tr th:only-of-type {\n",
       "        vertical-align: middle;\n",
       "    }\n",
       "\n",
       "    .dataframe tbody tr th {\n",
       "        vertical-align: top;\n",
       "    }\n",
       "\n",
       "    .dataframe thead th {\n",
       "        text-align: right;\n",
       "    }\n",
       "</style>\n",
       "<table border=\"1\" class=\"dataframe\">\n",
       "  <thead>\n",
       "    <tr style=\"text-align: right;\">\n",
       "      <th></th>\n",
       "      <th>Name</th>\n",
       "      <th>2019 Population</th>\n",
       "      <th>Growth Since 2010</th>\n",
       "      <th>Land Area</th>\n",
       "      <th>Population Density</th>\n",
       "    </tr>\n",
       "  </thead>\n",
       "  <tbody>\n",
       "    <tr>\n",
       "      <th>1</th>\n",
       "      <td>Broward County</td>\n",
       "      <td>1935878.0</td>\n",
       "      <td>10.438146</td>\n",
       "      <td>1209.79</td>\n",
       "      <td>1600.176890</td>\n",
       "    </tr>\n",
       "    <tr>\n",
       "      <th>2</th>\n",
       "      <td>Palm Beach County</td>\n",
       "      <td>1471150.0</td>\n",
       "      <td>11.134781</td>\n",
       "      <td>1969.76</td>\n",
       "      <td>746.867639</td>\n",
       "    </tr>\n",
       "  </tbody>\n",
       "</table>\n",
       "</div>"
      ],
      "text/plain": [
       "                Name  2019 Population  Growth Since 2010  Land Area  \\\n",
       "1     Broward County        1935878.0          10.438146    1209.79   \n",
       "2  Palm Beach County        1471150.0          11.134781    1969.76   \n",
       "\n",
       "   Population Density  \n",
       "1         1600.176890  \n",
       "2          746.867639  "
      ]
     },
     "execution_count": 40,
     "metadata": {},
     "output_type": "execute_result"
    }
   ],
   "source": [
    "fl.iloc[1:3]"
   ]
  },
  {
   "cell_type": "markdown",
   "metadata": {},
   "source": [
    "Giving two sets of of indexes selects from the \n",
    "rows and columns."
   ]
  },
  {
   "cell_type": "code",
   "execution_count": 41,
   "metadata": {},
   "outputs": [
    {
     "data": {
      "text/html": [
       "<div>\n",
       "<style scoped>\n",
       "    .dataframe tbody tr th:only-of-type {\n",
       "        vertical-align: middle;\n",
       "    }\n",
       "\n",
       "    .dataframe tbody tr th {\n",
       "        vertical-align: top;\n",
       "    }\n",
       "\n",
       "    .dataframe thead th {\n",
       "        text-align: right;\n",
       "    }\n",
       "</style>\n",
       "<table border=\"1\" class=\"dataframe\">\n",
       "  <thead>\n",
       "    <tr style=\"text-align: right;\">\n",
       "      <th></th>\n",
       "      <th>AFFGEOID</th>\n",
       "      <th>GEOID</th>\n",
       "      <th>NAME</th>\n",
       "    </tr>\n",
       "    <tr>\n",
       "      <th>STUSPS</th>\n",
       "      <th></th>\n",
       "      <th></th>\n",
       "      <th></th>\n",
       "    </tr>\n",
       "  </thead>\n",
       "  <tbody>\n",
       "    <tr>\n",
       "      <th>AK</th>\n",
       "      <td>0400000US02</td>\n",
       "      <td>02</td>\n",
       "      <td>Alaska</td>\n",
       "    </tr>\n",
       "    <tr>\n",
       "      <th>AZ</th>\n",
       "      <td>0400000US04</td>\n",
       "      <td>04</td>\n",
       "      <td>Arizona</td>\n",
       "    </tr>\n",
       "  </tbody>\n",
       "</table>\n",
       "</div>"
      ],
      "text/plain": [
       "           AFFGEOID GEOID     NAME\n",
       "STUSPS                            \n",
       "AK      0400000US02    02   Alaska\n",
       "AZ      0400000US04    04  Arizona"
      ]
     },
     "execution_count": 41,
     "metadata": {},
     "output_type": "execute_result"
    }
   ],
   "source": [
    "states.iloc[1:3, 2:5]"
   ]
  },
  {
   "cell_type": "markdown",
   "metadata": {},
   "source": [
    "See more in [Selection by Position](http://pandas.pydata.org/pandas-docs/stable/user_guide/indexing.html#indexing-integer) in the Pandas\n",
    "documentation."
   ]
  },
  {
   "cell_type": "markdown",
   "metadata": {},
   "source": [
    "### Slicing by Label"
   ]
  },
  {
   "cell_type": "markdown",
   "metadata": {},
   "source": [
    "Slicing by label is done using the `loc`.  Instead of finding\n",
    "rows or columns based on the raw position in the DataFrame, the\n",
    "`loc` indexer finds rows or columns based upon the values in the\n",
    "`index` or `columns` attributes of the DataFrame."
   ]
  },
  {
   "cell_type": "code",
   "execution_count": 42,
   "metadata": {},
   "outputs": [
    {
     "data": {
      "text/html": [
       "<div>\n",
       "<style scoped>\n",
       "    .dataframe tbody tr th:only-of-type {\n",
       "        vertical-align: middle;\n",
       "    }\n",
       "\n",
       "    .dataframe tbody tr th {\n",
       "        vertical-align: top;\n",
       "    }\n",
       "\n",
       "    .dataframe thead th {\n",
       "        text-align: right;\n",
       "    }\n",
       "</style>\n",
       "<table border=\"1\" class=\"dataframe\">\n",
       "  <thead>\n",
       "    <tr style=\"text-align: right;\">\n",
       "      <th></th>\n",
       "      <th>STATEFP</th>\n",
       "      <th>STATENS</th>\n",
       "      <th>AFFGEOID</th>\n",
       "      <th>GEOID</th>\n",
       "      <th>NAME</th>\n",
       "      <th>LSAD</th>\n",
       "      <th>ALAND</th>\n",
       "      <th>AWATER</th>\n",
       "    </tr>\n",
       "    <tr>\n",
       "      <th>STUSPS</th>\n",
       "      <th></th>\n",
       "      <th></th>\n",
       "      <th></th>\n",
       "      <th></th>\n",
       "      <th></th>\n",
       "      <th></th>\n",
       "      <th></th>\n",
       "      <th></th>\n",
       "    </tr>\n",
       "  </thead>\n",
       "  <tbody>\n",
       "    <tr>\n",
       "      <th>AK</th>\n",
       "      <td>02</td>\n",
       "      <td>01785533</td>\n",
       "      <td>0400000US02</td>\n",
       "      <td>02</td>\n",
       "      <td>Alaska</td>\n",
       "      <td>00</td>\n",
       "      <td>1477946266785</td>\n",
       "      <td>245390495931</td>\n",
       "    </tr>\n",
       "    <tr>\n",
       "      <th>AZ</th>\n",
       "      <td>04</td>\n",
       "      <td>01779777</td>\n",
       "      <td>0400000US04</td>\n",
       "      <td>04</td>\n",
       "      <td>Arizona</td>\n",
       "      <td>00</td>\n",
       "      <td>294198560125</td>\n",
       "      <td>1027346486</td>\n",
       "    </tr>\n",
       "    <tr>\n",
       "      <th>AR</th>\n",
       "      <td>05</td>\n",
       "      <td>00068085</td>\n",
       "      <td>0400000US05</td>\n",
       "      <td>05</td>\n",
       "      <td>Arkansas</td>\n",
       "      <td>00</td>\n",
       "      <td>134771517596</td>\n",
       "      <td>2960191698</td>\n",
       "    </tr>\n",
       "    <tr>\n",
       "      <th>CA</th>\n",
       "      <td>06</td>\n",
       "      <td>01779778</td>\n",
       "      <td>0400000US06</td>\n",
       "      <td>06</td>\n",
       "      <td>California</td>\n",
       "      <td>00</td>\n",
       "      <td>403501101370</td>\n",
       "      <td>20466718403</td>\n",
       "    </tr>\n",
       "  </tbody>\n",
       "</table>\n",
       "</div>"
      ],
      "text/plain": [
       "       STATEFP   STATENS     AFFGEOID GEOID        NAME LSAD          ALAND  \\\n",
       "STUSPS                                                                        \n",
       "AK          02  01785533  0400000US02    02      Alaska   00  1477946266785   \n",
       "AZ          04  01779777  0400000US04    04     Arizona   00   294198560125   \n",
       "AR          05  00068085  0400000US05    05    Arkansas   00   134771517596   \n",
       "CA          06  01779778  0400000US06    06  California   00   403501101370   \n",
       "\n",
       "              AWATER  \n",
       "STUSPS                \n",
       "AK      245390495931  \n",
       "AZ        1027346486  \n",
       "AR        2960191698  \n",
       "CA       20466718403  "
      ]
     },
     "execution_count": 42,
     "metadata": {},
     "output_type": "execute_result"
    }
   ],
   "source": [
    "states.loc['AK':'CA']"
   ]
  },
  {
   "cell_type": "markdown",
   "metadata": {},
   "source": [
    "An important feature of the `loc` selector is that the resulting selection\n",
    "includes both the starting *and* the ending label.  This is different from the\n",
    "usual Python slicing process, where the slice runs from the starting position\n",
    "up to but not including the ending position."
   ]
  },
  {
   "cell_type": "markdown",
   "metadata": {},
   "source": [
    "It can also be confusing to use the `loc` selector when the `index` being used has integer\n",
    "values.  Case must be taken to select the rows you want, even when the `index` is a RangeIndex\n",
    "starting from zero.  Consider these two selections, which are very similar but yield different\n",
    "results:"
   ]
  },
  {
   "cell_type": "code",
   "execution_count": 43,
   "metadata": {},
   "outputs": [
    {
     "data": {
      "text/html": [
       "<div>\n",
       "<style scoped>\n",
       "    .dataframe tbody tr th:only-of-type {\n",
       "        vertical-align: middle;\n",
       "    }\n",
       "\n",
       "    .dataframe tbody tr th {\n",
       "        vertical-align: top;\n",
       "    }\n",
       "\n",
       "    .dataframe thead th {\n",
       "        text-align: right;\n",
       "    }\n",
       "</style>\n",
       "<table border=\"1\" class=\"dataframe\">\n",
       "  <thead>\n",
       "    <tr style=\"text-align: right;\">\n",
       "      <th></th>\n",
       "      <th>Name</th>\n",
       "      <th>2019 Population</th>\n",
       "      <th>Growth Since 2010</th>\n",
       "      <th>Land Area</th>\n",
       "      <th>Population Density</th>\n",
       "    </tr>\n",
       "  </thead>\n",
       "  <tbody>\n",
       "    <tr>\n",
       "      <th>1</th>\n",
       "      <td>Broward County</td>\n",
       "      <td>1935878.0</td>\n",
       "      <td>10.438146</td>\n",
       "      <td>1209.79</td>\n",
       "      <td>1600.176890</td>\n",
       "    </tr>\n",
       "    <tr>\n",
       "      <th>2</th>\n",
       "      <td>Palm Beach County</td>\n",
       "      <td>1471150.0</td>\n",
       "      <td>11.134781</td>\n",
       "      <td>1969.76</td>\n",
       "      <td>746.867639</td>\n",
       "    </tr>\n",
       "    <tr>\n",
       "      <th>3</th>\n",
       "      <td>Hillsborough County</td>\n",
       "      <td>1408566.0</td>\n",
       "      <td>14.187346</td>\n",
       "      <td>1020.21</td>\n",
       "      <td>1380.662805</td>\n",
       "    </tr>\n",
       "  </tbody>\n",
       "</table>\n",
       "</div>"
      ],
      "text/plain": [
       "                  Name  2019 Population  Growth Since 2010  Land Area  \\\n",
       "1       Broward County        1935878.0          10.438146    1209.79   \n",
       "2    Palm Beach County        1471150.0          11.134781    1969.76   \n",
       "3  Hillsborough County        1408566.0          14.187346    1020.21   \n",
       "\n",
       "   Population Density  \n",
       "1         1600.176890  \n",
       "2          746.867639  \n",
       "3         1380.662805  "
      ]
     },
     "execution_count": 43,
     "metadata": {},
     "output_type": "execute_result"
    }
   ],
   "source": [
    "fl.loc[1:3]"
   ]
  },
  {
   "cell_type": "code",
   "execution_count": 44,
   "metadata": {},
   "outputs": [
    {
     "data": {
      "text/html": [
       "<div>\n",
       "<style scoped>\n",
       "    .dataframe tbody tr th:only-of-type {\n",
       "        vertical-align: middle;\n",
       "    }\n",
       "\n",
       "    .dataframe tbody tr th {\n",
       "        vertical-align: top;\n",
       "    }\n",
       "\n",
       "    .dataframe thead th {\n",
       "        text-align: right;\n",
       "    }\n",
       "</style>\n",
       "<table border=\"1\" class=\"dataframe\">\n",
       "  <thead>\n",
       "    <tr style=\"text-align: right;\">\n",
       "      <th></th>\n",
       "      <th>Name</th>\n",
       "      <th>2019 Population</th>\n",
       "      <th>Growth Since 2010</th>\n",
       "      <th>Land Area</th>\n",
       "      <th>Population Density</th>\n",
       "    </tr>\n",
       "  </thead>\n",
       "  <tbody>\n",
       "    <tr>\n",
       "      <th>1</th>\n",
       "      <td>Broward County</td>\n",
       "      <td>1935878.0</td>\n",
       "      <td>10.438146</td>\n",
       "      <td>1209.79</td>\n",
       "      <td>1600.176890</td>\n",
       "    </tr>\n",
       "    <tr>\n",
       "      <th>2</th>\n",
       "      <td>Palm Beach County</td>\n",
       "      <td>1471150.0</td>\n",
       "      <td>11.134781</td>\n",
       "      <td>1969.76</td>\n",
       "      <td>746.867639</td>\n",
       "    </tr>\n",
       "  </tbody>\n",
       "</table>\n",
       "</div>"
      ],
      "text/plain": [
       "                Name  2019 Population  Growth Since 2010  Land Area  \\\n",
       "1     Broward County        1935878.0          10.438146    1209.79   \n",
       "2  Palm Beach County        1471150.0          11.134781    1969.76   \n",
       "\n",
       "   Population Density  \n",
       "1         1600.176890  \n",
       "2          746.867639  "
      ]
     },
     "execution_count": 44,
     "metadata": {},
     "output_type": "execute_result"
    }
   ],
   "source": [
    "fl.iloc[1:3]"
   ]
  },
  {
   "cell_type": "markdown",
   "metadata": {},
   "source": [
    "See more in [Selection by Label](http://pandas.pydata.org/pandas-docs/stable/user_guide/indexing.html#indexing-label) in the Pandas\n",
    "documentation."
   ]
  },
  {
   "cell_type": "markdown",
   "metadata": {},
   "source": [
    "## Sorting"
   ]
  },
  {
   "cell_type": "markdown",
   "metadata": {},
   "source": [
    "Sorting must be done explictly using the index, or one or more columns of values."
   ]
  },
  {
   "cell_type": "code",
   "execution_count": 45,
   "metadata": {},
   "outputs": [
    {
     "data": {
      "text/html": [
       "<div>\n",
       "<style scoped>\n",
       "    .dataframe tbody tr th:only-of-type {\n",
       "        vertical-align: middle;\n",
       "    }\n",
       "\n",
       "    .dataframe tbody tr th {\n",
       "        vertical-align: top;\n",
       "    }\n",
       "\n",
       "    .dataframe thead th {\n",
       "        text-align: right;\n",
       "    }\n",
       "</style>\n",
       "<table border=\"1\" class=\"dataframe\">\n",
       "  <thead>\n",
       "    <tr style=\"text-align: right;\">\n",
       "      <th></th>\n",
       "      <th>STATEFP</th>\n",
       "      <th>STATENS</th>\n",
       "      <th>AFFGEOID</th>\n",
       "      <th>GEOID</th>\n",
       "      <th>NAME</th>\n",
       "      <th>LSAD</th>\n",
       "      <th>ALAND</th>\n",
       "      <th>AWATER</th>\n",
       "    </tr>\n",
       "    <tr>\n",
       "      <th>STUSPS</th>\n",
       "      <th></th>\n",
       "      <th></th>\n",
       "      <th></th>\n",
       "      <th></th>\n",
       "      <th></th>\n",
       "      <th></th>\n",
       "      <th></th>\n",
       "      <th></th>\n",
       "    </tr>\n",
       "  </thead>\n",
       "  <tbody>\n",
       "    <tr>\n",
       "      <th>AK</th>\n",
       "      <td>02</td>\n",
       "      <td>01785533</td>\n",
       "      <td>0400000US02</td>\n",
       "      <td>02</td>\n",
       "      <td>Alaska</td>\n",
       "      <td>00</td>\n",
       "      <td>1477946266785</td>\n",
       "      <td>245390495931</td>\n",
       "    </tr>\n",
       "    <tr>\n",
       "      <th>AL</th>\n",
       "      <td>01</td>\n",
       "      <td>01779775</td>\n",
       "      <td>0400000US01</td>\n",
       "      <td>01</td>\n",
       "      <td>Alabama</td>\n",
       "      <td>00</td>\n",
       "      <td>131173688951</td>\n",
       "      <td>4593686489</td>\n",
       "    </tr>\n",
       "    <tr>\n",
       "      <th>AR</th>\n",
       "      <td>05</td>\n",
       "      <td>00068085</td>\n",
       "      <td>0400000US05</td>\n",
       "      <td>05</td>\n",
       "      <td>Arkansas</td>\n",
       "      <td>00</td>\n",
       "      <td>134771517596</td>\n",
       "      <td>2960191698</td>\n",
       "    </tr>\n",
       "    <tr>\n",
       "      <th>AS</th>\n",
       "      <td>60</td>\n",
       "      <td>01802701</td>\n",
       "      <td>0400000US60</td>\n",
       "      <td>60</td>\n",
       "      <td>American Samoa</td>\n",
       "      <td>00</td>\n",
       "      <td>197759069</td>\n",
       "      <td>1307243753</td>\n",
       "    </tr>\n",
       "    <tr>\n",
       "      <th>AZ</th>\n",
       "      <td>04</td>\n",
       "      <td>01779777</td>\n",
       "      <td>0400000US04</td>\n",
       "      <td>04</td>\n",
       "      <td>Arizona</td>\n",
       "      <td>00</td>\n",
       "      <td>294198560125</td>\n",
       "      <td>1027346486</td>\n",
       "    </tr>\n",
       "  </tbody>\n",
       "</table>\n",
       "</div>"
      ],
      "text/plain": [
       "       STATEFP   STATENS     AFFGEOID GEOID            NAME LSAD  \\\n",
       "STUSPS                                                             \n",
       "AK          02  01785533  0400000US02    02          Alaska   00   \n",
       "AL          01  01779775  0400000US01    01         Alabama   00   \n",
       "AR          05  00068085  0400000US05    05        Arkansas   00   \n",
       "AS          60  01802701  0400000US60    60  American Samoa   00   \n",
       "AZ          04  01779777  0400000US04    04         Arizona   00   \n",
       "\n",
       "                ALAND        AWATER  \n",
       "STUSPS                               \n",
       "AK      1477946266785  245390495931  \n",
       "AL       131173688951    4593686489  \n",
       "AR       134771517596    2960191698  \n",
       "AS          197759069    1307243753  \n",
       "AZ       294198560125    1027346486  "
      ]
     },
     "execution_count": 45,
     "metadata": {},
     "output_type": "execute_result"
    }
   ],
   "source": [
    "states.sort_index().head()"
   ]
  },
  {
   "cell_type": "code",
   "execution_count": 46,
   "metadata": {},
   "outputs": [
    {
     "data": {
      "text/html": [
       "<div>\n",
       "<style scoped>\n",
       "    .dataframe tbody tr th:only-of-type {\n",
       "        vertical-align: middle;\n",
       "    }\n",
       "\n",
       "    .dataframe tbody tr th {\n",
       "        vertical-align: top;\n",
       "    }\n",
       "\n",
       "    .dataframe thead th {\n",
       "        text-align: right;\n",
       "    }\n",
       "</style>\n",
       "<table border=\"1\" class=\"dataframe\">\n",
       "  <thead>\n",
       "    <tr style=\"text-align: right;\">\n",
       "      <th></th>\n",
       "      <th>STATEFP</th>\n",
       "      <th>STATENS</th>\n",
       "      <th>AFFGEOID</th>\n",
       "      <th>GEOID</th>\n",
       "      <th>NAME</th>\n",
       "      <th>LSAD</th>\n",
       "      <th>ALAND</th>\n",
       "      <th>AWATER</th>\n",
       "    </tr>\n",
       "    <tr>\n",
       "      <th>STUSPS</th>\n",
       "      <th></th>\n",
       "      <th></th>\n",
       "      <th></th>\n",
       "      <th></th>\n",
       "      <th></th>\n",
       "      <th></th>\n",
       "      <th></th>\n",
       "      <th></th>\n",
       "    </tr>\n",
       "  </thead>\n",
       "  <tbody>\n",
       "    <tr>\n",
       "      <th>AL</th>\n",
       "      <td>01</td>\n",
       "      <td>01779775</td>\n",
       "      <td>0400000US01</td>\n",
       "      <td>01</td>\n",
       "      <td>Alabama</td>\n",
       "      <td>00</td>\n",
       "      <td>131173688951</td>\n",
       "      <td>4593686489</td>\n",
       "    </tr>\n",
       "    <tr>\n",
       "      <th>AK</th>\n",
       "      <td>02</td>\n",
       "      <td>01785533</td>\n",
       "      <td>0400000US02</td>\n",
       "      <td>02</td>\n",
       "      <td>Alaska</td>\n",
       "      <td>00</td>\n",
       "      <td>1477946266785</td>\n",
       "      <td>245390495931</td>\n",
       "    </tr>\n",
       "    <tr>\n",
       "      <th>AS</th>\n",
       "      <td>60</td>\n",
       "      <td>01802701</td>\n",
       "      <td>0400000US60</td>\n",
       "      <td>60</td>\n",
       "      <td>American Samoa</td>\n",
       "      <td>00</td>\n",
       "      <td>197759069</td>\n",
       "      <td>1307243753</td>\n",
       "    </tr>\n",
       "    <tr>\n",
       "      <th>AZ</th>\n",
       "      <td>04</td>\n",
       "      <td>01779777</td>\n",
       "      <td>0400000US04</td>\n",
       "      <td>04</td>\n",
       "      <td>Arizona</td>\n",
       "      <td>00</td>\n",
       "      <td>294198560125</td>\n",
       "      <td>1027346486</td>\n",
       "    </tr>\n",
       "    <tr>\n",
       "      <th>AR</th>\n",
       "      <td>05</td>\n",
       "      <td>00068085</td>\n",
       "      <td>0400000US05</td>\n",
       "      <td>05</td>\n",
       "      <td>Arkansas</td>\n",
       "      <td>00</td>\n",
       "      <td>134771517596</td>\n",
       "      <td>2960191698</td>\n",
       "    </tr>\n",
       "  </tbody>\n",
       "</table>\n",
       "</div>"
      ],
      "text/plain": [
       "       STATEFP   STATENS     AFFGEOID GEOID            NAME LSAD  \\\n",
       "STUSPS                                                             \n",
       "AL          01  01779775  0400000US01    01         Alabama   00   \n",
       "AK          02  01785533  0400000US02    02          Alaska   00   \n",
       "AS          60  01802701  0400000US60    60  American Samoa   00   \n",
       "AZ          04  01779777  0400000US04    04         Arizona   00   \n",
       "AR          05  00068085  0400000US05    05        Arkansas   00   \n",
       "\n",
       "                ALAND        AWATER  \n",
       "STUSPS                               \n",
       "AL       131173688951    4593686489  \n",
       "AK      1477946266785  245390495931  \n",
       "AS          197759069    1307243753  \n",
       "AZ       294198560125    1027346486  \n",
       "AR       134771517596    2960191698  "
      ]
     },
     "execution_count": 46,
     "metadata": {},
     "output_type": "execute_result"
    }
   ],
   "source": [
    "states.sort_values('NAME').head()"
   ]
  },
  {
   "cell_type": "markdown",
   "metadata": {},
   "source": [
    "## Merging\n",
    "\n",
    "If we have two DataFrames that contain related data, \n",
    "we may want to merge the contents into a single\n",
    "DataFrame for some kinds of analysis.  For example, \n",
    "suppose we have a DataFrame that gives enumerates\n",
    "counties in Florida by FDOT District, like this one:"
   ]
  },
  {
   "cell_type": "code",
   "execution_count": 47,
   "metadata": {},
   "outputs": [
    {
     "data": {
      "text/html": [
       "<div>\n",
       "<style scoped>\n",
       "    .dataframe tbody tr th:only-of-type {\n",
       "        vertical-align: middle;\n",
       "    }\n",
       "\n",
       "    .dataframe tbody tr th {\n",
       "        vertical-align: top;\n",
       "    }\n",
       "\n",
       "    .dataframe thead th {\n",
       "        text-align: right;\n",
       "    }\n",
       "</style>\n",
       "<table border=\"1\" class=\"dataframe\">\n",
       "  <thead>\n",
       "    <tr style=\"text-align: right;\">\n",
       "      <th></th>\n",
       "      <th>County</th>\n",
       "      <th>District</th>\n",
       "    </tr>\n",
       "  </thead>\n",
       "  <tbody>\n",
       "    <tr>\n",
       "      <th>0</th>\n",
       "      <td>Charlotte</td>\n",
       "      <td>1</td>\n",
       "    </tr>\n",
       "    <tr>\n",
       "      <th>1</th>\n",
       "      <td>Collier</td>\n",
       "      <td>1</td>\n",
       "    </tr>\n",
       "    <tr>\n",
       "      <th>2</th>\n",
       "      <td>DeSoto</td>\n",
       "      <td>1</td>\n",
       "    </tr>\n",
       "    <tr>\n",
       "      <th>3</th>\n",
       "      <td>Glades</td>\n",
       "      <td>1</td>\n",
       "    </tr>\n",
       "    <tr>\n",
       "      <th>4</th>\n",
       "      <td>Hardee</td>\n",
       "      <td>1</td>\n",
       "    </tr>\n",
       "  </tbody>\n",
       "</table>\n",
       "</div>"
      ],
      "text/plain": [
       "      County  District\n",
       "0  Charlotte         1\n",
       "1    Collier         1\n",
       "2     DeSoto         1\n",
       "3     Glades         1\n",
       "4     Hardee         1"
      ]
     },
     "execution_count": 47,
     "metadata": {},
     "output_type": "execute_result"
    }
   ],
   "source": [
    "districts = pd.read_csv(tt.data('FL-COUNTY-BY-DISTRICT'))\n",
    "districts.head()"
   ]
  },
  {
   "cell_type": "markdown",
   "metadata": {},
   "source": [
    "This is useful information if we want to compute statistics\n",
    "by FDOT District instead of by county, but it will need to \n",
    "be merged with the other available Florida county data we have."
   ]
  },
  {
   "cell_type": "markdown",
   "metadata": {},
   "source": [
    "Pandas provides a [merge](https://pandas.pydata.org/pandas-docs/stable/reference/api/pandas.merge.html#pandas.merge) \n",
    "function, which provides the core functionality for all \n",
    "standard database-style join operations \n",
    "between DataFrames.  These operations let the analyst connect\n",
    "two DataFrames that are related in some systematic way.\n",
    "\n",
    "The principal arguments to the merge function include:\n",
    "\n",
    "- **left**: The left-side DataFrame to merge.\n",
    "- **right**: The right-side DataFrame to merge (can also be a \n",
    "  named pandas.Series instead of a DataFrame).\n",
    "- **how**: Type of merge to be performed, defaults to 'inner'.\n",
    "  - *'left'*, or *'right'*: use only keys from left or right frame, \n",
    "    similar to a SQL outer join; rows from the other \n",
    "    DataFrame that do not match one of these keys are \n",
    "    dropped.\n",
    "  - *'outer'*: use union of keys from both frames, similar to \n",
    "    a SQL full outer join; keeps all rows in both DataFrames.\n",
    "  - *'inner'*: use intersection of keys from both frames, \n",
    "    similar to a SQL inner join; rows in either \n",
    "    DataFrame that do not match one of the keys in \n",
    "    the other are dropped\n",
    "    \n",
    "In addition, some combination of selector arguments must be\n",
    "given, to indicate the keys to use for the join:\n",
    "\n",
    "- **on**: A label or list, giving column or index level names \n",
    "  to join on, which must be found in both DataFrames. \n",
    "- **left_on**, **right_on**: A label or list, giving column or \n",
    "  index level names to join on in the left or right DataFrame,\n",
    "  respectively.   \n",
    "- **left_index**, **right_index**: A bool (defaults to False)\n",
    "  indicating if the index should be used instead of data columns,\n",
    "  for the left or right DataFrame, respectively.   \n",
    "  \n",
    "Advanced users will find details on a variety of other `merge`\n",
    "arguments in the [function documentation](https://pandas.pydata.org/pandas-docs/stable/reference/api/pandas.merge.html#pandas.merge). There are\n",
    "also `merge` and `join` shorthand methods available as methods\n",
    "on a DataFrame, although each represents an application of the \n",
    "more general `merge` method illustrated here."
   ]
  },
  {
   "cell_type": "markdown",
   "metadata": {},
   "source": [
    "To merge the county data with the District numbers, we can\n",
    "merge the two datasets using the `merge` function.  In the \n",
    "population data file we previously loaded, the county names\n",
    "are given in a column named 'Name', while in the district\n",
    "mbmership table, the county names are given in a column named\n",
    "'County', we we'll use the `left_on` and `right_on` arguments\n",
    "to identify that the merge keys have different names."
   ]
  },
  {
   "cell_type": "code",
   "execution_count": 48,
   "metadata": {},
   "outputs": [
    {
     "data": {
      "text/html": [
       "<div>\n",
       "<style scoped>\n",
       "    .dataframe tbody tr th:only-of-type {\n",
       "        vertical-align: middle;\n",
       "    }\n",
       "\n",
       "    .dataframe tbody tr th {\n",
       "        vertical-align: top;\n",
       "    }\n",
       "\n",
       "    .dataframe thead th {\n",
       "        text-align: right;\n",
       "    }\n",
       "</style>\n",
       "<table border=\"1\" class=\"dataframe\">\n",
       "  <thead>\n",
       "    <tr style=\"text-align: right;\">\n",
       "      <th></th>\n",
       "      <th>Name</th>\n",
       "      <th>2019 Population</th>\n",
       "      <th>Growth Since 2010</th>\n",
       "      <th>Land Area</th>\n",
       "      <th>Population Density</th>\n",
       "      <th>County</th>\n",
       "      <th>District</th>\n",
       "    </tr>\n",
       "  </thead>\n",
       "  <tbody>\n",
       "  </tbody>\n",
       "</table>\n",
       "</div>"
      ],
      "text/plain": [
       "Empty DataFrame\n",
       "Columns: [Name, 2019 Population, Growth Since 2010, Land Area, Population Density, County, District]\n",
       "Index: []"
      ]
     },
     "execution_count": 48,
     "metadata": {},
     "output_type": "execute_result"
    }
   ],
   "source": [
    "pd.merge(fl, districts, left_on='Name', right_on='County')"
   ]
  },
  {
   "cell_type": "markdown",
   "metadata": {},
   "source": [
    "In this instance, the 'inner' merge resulted in a new\n",
    "DataFrame, but with zero rows of data.  This is because,\n",
    "as it turns out, the merge keys are not actually the\n",
    "same:"
   ]
  },
  {
   "cell_type": "code",
   "execution_count": 49,
   "metadata": {},
   "outputs": [
    {
     "data": {
      "text/html": [
       "<div>\n",
       "<style scoped>\n",
       "    .dataframe tbody tr th:only-of-type {\n",
       "        vertical-align: middle;\n",
       "    }\n",
       "\n",
       "    .dataframe tbody tr th {\n",
       "        vertical-align: top;\n",
       "    }\n",
       "\n",
       "    .dataframe thead th {\n",
       "        text-align: right;\n",
       "    }\n",
       "</style>\n",
       "<table border=\"1\" class=\"dataframe\">\n",
       "  <thead>\n",
       "    <tr style=\"text-align: right;\">\n",
       "      <th></th>\n",
       "      <th>Name</th>\n",
       "      <th>2019 Population</th>\n",
       "      <th>Growth Since 2010</th>\n",
       "      <th>Land Area</th>\n",
       "      <th>Population Density</th>\n",
       "    </tr>\n",
       "  </thead>\n",
       "  <tbody>\n",
       "    <tr>\n",
       "      <th>0</th>\n",
       "      <td>Miami-Dade County</td>\n",
       "      <td>2751796.0</td>\n",
       "      <td>9.754518</td>\n",
       "      <td>1897.72</td>\n",
       "      <td>1450.053749</td>\n",
       "    </tr>\n",
       "    <tr>\n",
       "      <th>1</th>\n",
       "      <td>Broward County</td>\n",
       "      <td>1935878.0</td>\n",
       "      <td>10.438146</td>\n",
       "      <td>1209.79</td>\n",
       "      <td>1600.176890</td>\n",
       "    </tr>\n",
       "    <tr>\n",
       "      <th>2</th>\n",
       "      <td>Palm Beach County</td>\n",
       "      <td>1471150.0</td>\n",
       "      <td>11.134781</td>\n",
       "      <td>1969.76</td>\n",
       "      <td>746.867639</td>\n",
       "    </tr>\n",
       "    <tr>\n",
       "      <th>3</th>\n",
       "      <td>Hillsborough County</td>\n",
       "      <td>1408566.0</td>\n",
       "      <td>14.187346</td>\n",
       "      <td>1020.21</td>\n",
       "      <td>1380.662805</td>\n",
       "    </tr>\n",
       "    <tr>\n",
       "      <th>4</th>\n",
       "      <td>Orange County</td>\n",
       "      <td>1348975.0</td>\n",
       "      <td>17.435335</td>\n",
       "      <td>903.43</td>\n",
       "      <td>1493.170473</td>\n",
       "    </tr>\n",
       "  </tbody>\n",
       "</table>\n",
       "</div>"
      ],
      "text/plain": [
       "                  Name  2019 Population  Growth Since 2010  Land Area  \\\n",
       "0    Miami-Dade County        2751796.0           9.754518    1897.72   \n",
       "1       Broward County        1935878.0          10.438146    1209.79   \n",
       "2    Palm Beach County        1471150.0          11.134781    1969.76   \n",
       "3  Hillsborough County        1408566.0          14.187346    1020.21   \n",
       "4        Orange County        1348975.0          17.435335     903.43   \n",
       "\n",
       "   Population Density  \n",
       "0         1450.053749  \n",
       "1         1600.176890  \n",
       "2          746.867639  \n",
       "3         1380.662805  \n",
       "4         1493.170473  "
      ]
     },
     "execution_count": 49,
     "metadata": {},
     "output_type": "execute_result"
    }
   ],
   "source": [
    "fl.head()"
   ]
  },
  {
   "cell_type": "code",
   "execution_count": 50,
   "metadata": {},
   "outputs": [
    {
     "data": {
      "text/html": [
       "<div>\n",
       "<style scoped>\n",
       "    .dataframe tbody tr th:only-of-type {\n",
       "        vertical-align: middle;\n",
       "    }\n",
       "\n",
       "    .dataframe tbody tr th {\n",
       "        vertical-align: top;\n",
       "    }\n",
       "\n",
       "    .dataframe thead th {\n",
       "        text-align: right;\n",
       "    }\n",
       "</style>\n",
       "<table border=\"1\" class=\"dataframe\">\n",
       "  <thead>\n",
       "    <tr style=\"text-align: right;\">\n",
       "      <th></th>\n",
       "      <th>County</th>\n",
       "      <th>District</th>\n",
       "    </tr>\n",
       "  </thead>\n",
       "  <tbody>\n",
       "    <tr>\n",
       "      <th>0</th>\n",
       "      <td>Charlotte</td>\n",
       "      <td>1</td>\n",
       "    </tr>\n",
       "    <tr>\n",
       "      <th>1</th>\n",
       "      <td>Collier</td>\n",
       "      <td>1</td>\n",
       "    </tr>\n",
       "    <tr>\n",
       "      <th>2</th>\n",
       "      <td>DeSoto</td>\n",
       "      <td>1</td>\n",
       "    </tr>\n",
       "    <tr>\n",
       "      <th>3</th>\n",
       "      <td>Glades</td>\n",
       "      <td>1</td>\n",
       "    </tr>\n",
       "    <tr>\n",
       "      <th>4</th>\n",
       "      <td>Hardee</td>\n",
       "      <td>1</td>\n",
       "    </tr>\n",
       "  </tbody>\n",
       "</table>\n",
       "</div>"
      ],
      "text/plain": [
       "      County  District\n",
       "0  Charlotte         1\n",
       "1    Collier         1\n",
       "2     DeSoto         1\n",
       "3     Glades         1\n",
       "4     Hardee         1"
      ]
     },
     "execution_count": 50,
     "metadata": {},
     "output_type": "execute_result"
    }
   ],
   "source": [
    "districts.head()"
   ]
  },
  {
   "cell_type": "markdown",
   "metadata": {},
   "source": [
    "The names of the counties in the first table are given with the \n",
    "appelation \"Name County\", while in the second table, they are\n",
    "identified merely as \"Name\".  In order to use the `merge` function,\n",
    "the keys must match exactly across the two tables.  To make this\n",
    "work, we'll need to strip the 'County' from the names in the first \n",
    "table.  We can do so with the `str.replace` method, like this:"
   ]
  },
  {
   "cell_type": "code",
   "execution_count": 51,
   "metadata": {},
   "outputs": [],
   "source": [
    "fl['County'] = fl['Name'].str.replace(' County', '')"
   ]
  },
  {
   "cell_type": "markdown",
   "metadata": {},
   "source": [
    "Then, if we attempt the merge again, we'll get the results\n",
    "we expect."
   ]
  },
  {
   "cell_type": "code",
   "execution_count": 52,
   "metadata": {},
   "outputs": [
    {
     "data": {
      "text/html": [
       "<div>\n",
       "<style scoped>\n",
       "    .dataframe tbody tr th:only-of-type {\n",
       "        vertical-align: middle;\n",
       "    }\n",
       "\n",
       "    .dataframe tbody tr th {\n",
       "        vertical-align: top;\n",
       "    }\n",
       "\n",
       "    .dataframe thead th {\n",
       "        text-align: right;\n",
       "    }\n",
       "</style>\n",
       "<table border=\"1\" class=\"dataframe\">\n",
       "  <thead>\n",
       "    <tr style=\"text-align: right;\">\n",
       "      <th></th>\n",
       "      <th>Name</th>\n",
       "      <th>2019 Population</th>\n",
       "      <th>Growth Since 2010</th>\n",
       "      <th>Land Area</th>\n",
       "      <th>Population Density</th>\n",
       "      <th>County</th>\n",
       "      <th>District</th>\n",
       "    </tr>\n",
       "  </thead>\n",
       "  <tbody>\n",
       "    <tr>\n",
       "      <th>0</th>\n",
       "      <td>Miami-Dade County</td>\n",
       "      <td>2751796.0</td>\n",
       "      <td>9.754518</td>\n",
       "      <td>1897.72</td>\n",
       "      <td>1450.053749</td>\n",
       "      <td>Miami-Dade</td>\n",
       "      <td>6</td>\n",
       "    </tr>\n",
       "    <tr>\n",
       "      <th>1</th>\n",
       "      <td>Broward County</td>\n",
       "      <td>1935878.0</td>\n",
       "      <td>10.438146</td>\n",
       "      <td>1209.79</td>\n",
       "      <td>1600.176890</td>\n",
       "      <td>Broward</td>\n",
       "      <td>4</td>\n",
       "    </tr>\n",
       "    <tr>\n",
       "      <th>2</th>\n",
       "      <td>Palm Beach County</td>\n",
       "      <td>1471150.0</td>\n",
       "      <td>11.134781</td>\n",
       "      <td>1969.76</td>\n",
       "      <td>746.867639</td>\n",
       "      <td>Palm Beach</td>\n",
       "      <td>4</td>\n",
       "    </tr>\n",
       "    <tr>\n",
       "      <th>3</th>\n",
       "      <td>Hillsborough County</td>\n",
       "      <td>1408566.0</td>\n",
       "      <td>14.187346</td>\n",
       "      <td>1020.21</td>\n",
       "      <td>1380.662805</td>\n",
       "      <td>Hillsborough</td>\n",
       "      <td>7</td>\n",
       "    </tr>\n",
       "    <tr>\n",
       "      <th>4</th>\n",
       "      <td>Orange County</td>\n",
       "      <td>1348975.0</td>\n",
       "      <td>17.435335</td>\n",
       "      <td>903.43</td>\n",
       "      <td>1493.170473</td>\n",
       "      <td>Orange</td>\n",
       "      <td>5</td>\n",
       "    </tr>\n",
       "  </tbody>\n",
       "</table>\n",
       "</div>"
      ],
      "text/plain": [
       "                  Name  2019 Population  Growth Since 2010  Land Area  \\\n",
       "0    Miami-Dade County        2751796.0           9.754518    1897.72   \n",
       "1       Broward County        1935878.0          10.438146    1209.79   \n",
       "2    Palm Beach County        1471150.0          11.134781    1969.76   \n",
       "3  Hillsborough County        1408566.0          14.187346    1020.21   \n",
       "4        Orange County        1348975.0          17.435335     903.43   \n",
       "\n",
       "   Population Density        County  District  \n",
       "0         1450.053749    Miami-Dade         6  \n",
       "1         1600.176890       Broward         4  \n",
       "2          746.867639    Palm Beach         4  \n",
       "3         1380.662805  Hillsborough         7  \n",
       "4         1493.170473        Orange         5  "
      ]
     },
     "execution_count": 52,
     "metadata": {},
     "output_type": "execute_result"
    }
   ],
   "source": [
    "fl_2 = pd.merge(fl, districts, on='County')\n",
    "fl_2.head()"
   ]
  },
  {
   "cell_type": "markdown",
   "metadata": {},
   "source": [
    "The merge here, adding the FDOT district to the County table, is a one-to-one \n",
    "merge (i.e., every row in the left table matches one and only one row in the \n",
    "right table).  However, that one-to-one is *not* required to undertake a merge.\n",
    "We can also merge data that has one-to-many and many-to-one relationships, and\n",
    "even many-to-many, although that merge type is less common in most transportation\n",
    "applications.\n",
    "\n",
    "As an example, consider this table that gives the FDOT District name and \n",
    "headquarters location for each district:"
   ]
  },
  {
   "cell_type": "code",
   "execution_count": 53,
   "metadata": {},
   "outputs": [
    {
     "data": {
      "text/html": [
       "<div>\n",
       "<style scoped>\n",
       "    .dataframe tbody tr th:only-of-type {\n",
       "        vertical-align: middle;\n",
       "    }\n",
       "\n",
       "    .dataframe tbody tr th {\n",
       "        vertical-align: top;\n",
       "    }\n",
       "\n",
       "    .dataframe thead th {\n",
       "        text-align: right;\n",
       "    }\n",
       "</style>\n",
       "<table border=\"1\" class=\"dataframe\">\n",
       "  <thead>\n",
       "    <tr style=\"text-align: right;\">\n",
       "      <th></th>\n",
       "      <th>Name</th>\n",
       "      <th>Headquarters</th>\n",
       "    </tr>\n",
       "    <tr>\n",
       "      <th>District</th>\n",
       "      <th></th>\n",
       "      <th></th>\n",
       "    </tr>\n",
       "  </thead>\n",
       "  <tbody>\n",
       "    <tr>\n",
       "      <th>1</th>\n",
       "      <td>Southwest Florida</td>\n",
       "      <td>Bartow</td>\n",
       "    </tr>\n",
       "    <tr>\n",
       "      <th>2</th>\n",
       "      <td>Northeast Florida</td>\n",
       "      <td>Lake City</td>\n",
       "    </tr>\n",
       "    <tr>\n",
       "      <th>3</th>\n",
       "      <td>Northwest Florida</td>\n",
       "      <td>Chipley</td>\n",
       "    </tr>\n",
       "    <tr>\n",
       "      <th>4</th>\n",
       "      <td>Southeast Florida</td>\n",
       "      <td>Fort Lauderdale</td>\n",
       "    </tr>\n",
       "    <tr>\n",
       "      <th>5</th>\n",
       "      <td>Central Florida</td>\n",
       "      <td>DeLand</td>\n",
       "    </tr>\n",
       "    <tr>\n",
       "      <th>6</th>\n",
       "      <td>South Florida</td>\n",
       "      <td>Miami</td>\n",
       "    </tr>\n",
       "    <tr>\n",
       "      <th>7</th>\n",
       "      <td>West Central Florida</td>\n",
       "      <td>Tampa</td>\n",
       "    </tr>\n",
       "  </tbody>\n",
       "</table>\n",
       "</div>"
      ],
      "text/plain": [
       "                          Name     Headquarters\n",
       "District                                       \n",
       "1            Southwest Florida           Bartow\n",
       "2            Northeast Florida        Lake City\n",
       "3            Northwest Florida          Chipley\n",
       "4            Southeast Florida  Fort Lauderdale\n",
       "5              Central Florida           DeLand\n",
       "6                South Florida            Miami\n",
       "7         West Central Florida            Tampa"
      ]
     },
     "execution_count": 53,
     "metadata": {},
     "output_type": "execute_result"
    }
   ],
   "source": [
    "district_info = pd.read_csv(tt.data('FL-DISTRICTS'), index_col='District')\n",
    "district_info"
   ]
  },
  {
   "cell_type": "markdown",
   "metadata": {},
   "source": [
    "If we want to add a column that gives the district name to the counties table\n",
    "we already have, we can use a many-to-one merge. This is actually just detected\n",
    "automatically, so there is no extra argument to give."
   ]
  },
  {
   "cell_type": "code",
   "execution_count": 54,
   "metadata": {},
   "outputs": [
    {
     "data": {
      "text/html": [
       "<div>\n",
       "<style scoped>\n",
       "    .dataframe tbody tr th:only-of-type {\n",
       "        vertical-align: middle;\n",
       "    }\n",
       "\n",
       "    .dataframe tbody tr th {\n",
       "        vertical-align: top;\n",
       "    }\n",
       "\n",
       "    .dataframe thead th {\n",
       "        text-align: right;\n",
       "    }\n",
       "</style>\n",
       "<table border=\"1\" class=\"dataframe\">\n",
       "  <thead>\n",
       "    <tr style=\"text-align: right;\">\n",
       "      <th></th>\n",
       "      <th>Name_x</th>\n",
       "      <th>2019 Population</th>\n",
       "      <th>Growth Since 2010</th>\n",
       "      <th>Land Area</th>\n",
       "      <th>Population Density</th>\n",
       "      <th>County</th>\n",
       "      <th>District</th>\n",
       "      <th>Name_y</th>\n",
       "      <th>Headquarters</th>\n",
       "    </tr>\n",
       "  </thead>\n",
       "  <tbody>\n",
       "    <tr>\n",
       "      <th>0</th>\n",
       "      <td>Miami-Dade County</td>\n",
       "      <td>2751796.0</td>\n",
       "      <td>9.754518</td>\n",
       "      <td>1897.72</td>\n",
       "      <td>1450.053749</td>\n",
       "      <td>Miami-Dade</td>\n",
       "      <td>6</td>\n",
       "      <td>South Florida</td>\n",
       "      <td>Miami</td>\n",
       "    </tr>\n",
       "    <tr>\n",
       "      <th>1</th>\n",
       "      <td>Monroe County</td>\n",
       "      <td>77013.0</td>\n",
       "      <td>5.181715</td>\n",
       "      <td>983.28</td>\n",
       "      <td>78.322553</td>\n",
       "      <td>Monroe</td>\n",
       "      <td>6</td>\n",
       "      <td>South Florida</td>\n",
       "      <td>Miami</td>\n",
       "    </tr>\n",
       "    <tr>\n",
       "      <th>2</th>\n",
       "      <td>Broward County</td>\n",
       "      <td>1935878.0</td>\n",
       "      <td>10.438146</td>\n",
       "      <td>1209.79</td>\n",
       "      <td>1600.176890</td>\n",
       "      <td>Broward</td>\n",
       "      <td>4</td>\n",
       "      <td>Southeast Florida</td>\n",
       "      <td>Fort Lauderdale</td>\n",
       "    </tr>\n",
       "    <tr>\n",
       "      <th>3</th>\n",
       "      <td>Palm Beach County</td>\n",
       "      <td>1471150.0</td>\n",
       "      <td>11.134781</td>\n",
       "      <td>1969.76</td>\n",
       "      <td>746.867639</td>\n",
       "      <td>Palm Beach</td>\n",
       "      <td>4</td>\n",
       "      <td>Southeast Florida</td>\n",
       "      <td>Fort Lauderdale</td>\n",
       "    </tr>\n",
       "    <tr>\n",
       "      <th>4</th>\n",
       "      <td>St. Lucie County</td>\n",
       "      <td>313506.0</td>\n",
       "      <td>12.659688</td>\n",
       "      <td>571.93</td>\n",
       "      <td>548.154494</td>\n",
       "      <td>St. Lucie</td>\n",
       "      <td>4</td>\n",
       "      <td>Southeast Florida</td>\n",
       "      <td>Fort Lauderdale</td>\n",
       "    </tr>\n",
       "  </tbody>\n",
       "</table>\n",
       "</div>"
      ],
      "text/plain": [
       "              Name_x  2019 Population  Growth Since 2010  Land Area  \\\n",
       "0  Miami-Dade County        2751796.0           9.754518    1897.72   \n",
       "1      Monroe County          77013.0           5.181715     983.28   \n",
       "2     Broward County        1935878.0          10.438146    1209.79   \n",
       "3  Palm Beach County        1471150.0          11.134781    1969.76   \n",
       "4   St. Lucie County         313506.0          12.659688     571.93   \n",
       "\n",
       "   Population Density      County  District             Name_y  \\\n",
       "0         1450.053749  Miami-Dade         6      South Florida   \n",
       "1           78.322553      Monroe         6      South Florida   \n",
       "2         1600.176890     Broward         4  Southeast Florida   \n",
       "3          746.867639  Palm Beach         4  Southeast Florida   \n",
       "4          548.154494   St. Lucie         4  Southeast Florida   \n",
       "\n",
       "      Headquarters  \n",
       "0            Miami  \n",
       "1            Miami  \n",
       "2  Fort Lauderdale  \n",
       "3  Fort Lauderdale  \n",
       "4  Fort Lauderdale  "
      ]
     },
     "execution_count": 54,
     "metadata": {},
     "output_type": "execute_result"
    }
   ],
   "source": [
    "pd.merge(fl_2, district_info, on='District').head()"
   ]
  },
  {
   "cell_type": "markdown",
   "metadata": {},
   "source": [
    "Because both the left and right DataFrames have a column named 'Name', in the merged\n",
    "result the column from the left DataFrame has a '\\_x' appended, while the column from\n",
    "the right DataFrame has a '\\_y' appended.  This is configurable using the *suffixes* argument,\n",
    "or by just changing the column names before merging. In fact, many merge details can be\n",
    "controlled easily by manipulating the left and right arguments before merging.\n",
    "For example, if we only want to get the district name, not the headquarters,\n",
    "we can slice the right DataFrame to only include what we want:"
   ]
  },
  {
   "cell_type": "code",
   "execution_count": 55,
   "metadata": {},
   "outputs": [
    {
     "data": {
      "text/html": [
       "<div>\n",
       "<style scoped>\n",
       "    .dataframe tbody tr th:only-of-type {\n",
       "        vertical-align: middle;\n",
       "    }\n",
       "\n",
       "    .dataframe tbody tr th {\n",
       "        vertical-align: top;\n",
       "    }\n",
       "\n",
       "    .dataframe thead th {\n",
       "        text-align: right;\n",
       "    }\n",
       "</style>\n",
       "<table border=\"1\" class=\"dataframe\">\n",
       "  <thead>\n",
       "    <tr style=\"text-align: right;\">\n",
       "      <th></th>\n",
       "      <th>Name</th>\n",
       "      <th>2019 Population</th>\n",
       "      <th>Growth Since 2010</th>\n",
       "      <th>Land Area</th>\n",
       "      <th>Population Density</th>\n",
       "      <th>County</th>\n",
       "      <th>District</th>\n",
       "      <th>District_Name</th>\n",
       "    </tr>\n",
       "  </thead>\n",
       "  <tbody>\n",
       "    <tr>\n",
       "      <th>0</th>\n",
       "      <td>Miami-Dade County</td>\n",
       "      <td>2751796.0</td>\n",
       "      <td>9.754518</td>\n",
       "      <td>1897.72</td>\n",
       "      <td>1450.053749</td>\n",
       "      <td>Miami-Dade</td>\n",
       "      <td>6</td>\n",
       "      <td>South Florida</td>\n",
       "    </tr>\n",
       "    <tr>\n",
       "      <th>1</th>\n",
       "      <td>Monroe County</td>\n",
       "      <td>77013.0</td>\n",
       "      <td>5.181715</td>\n",
       "      <td>983.28</td>\n",
       "      <td>78.322553</td>\n",
       "      <td>Monroe</td>\n",
       "      <td>6</td>\n",
       "      <td>South Florida</td>\n",
       "    </tr>\n",
       "    <tr>\n",
       "      <th>2</th>\n",
       "      <td>Broward County</td>\n",
       "      <td>1935878.0</td>\n",
       "      <td>10.438146</td>\n",
       "      <td>1209.79</td>\n",
       "      <td>1600.176890</td>\n",
       "      <td>Broward</td>\n",
       "      <td>4</td>\n",
       "      <td>Southeast Florida</td>\n",
       "    </tr>\n",
       "    <tr>\n",
       "      <th>3</th>\n",
       "      <td>Palm Beach County</td>\n",
       "      <td>1471150.0</td>\n",
       "      <td>11.134781</td>\n",
       "      <td>1969.76</td>\n",
       "      <td>746.867639</td>\n",
       "      <td>Palm Beach</td>\n",
       "      <td>4</td>\n",
       "      <td>Southeast Florida</td>\n",
       "    </tr>\n",
       "    <tr>\n",
       "      <th>4</th>\n",
       "      <td>St. Lucie County</td>\n",
       "      <td>313506.0</td>\n",
       "      <td>12.659688</td>\n",
       "      <td>571.93</td>\n",
       "      <td>548.154494</td>\n",
       "      <td>St. Lucie</td>\n",
       "      <td>4</td>\n",
       "      <td>Southeast Florida</td>\n",
       "    </tr>\n",
       "  </tbody>\n",
       "</table>\n",
       "</div>"
      ],
      "text/plain": [
       "                Name  2019 Population  Growth Since 2010  Land Area  \\\n",
       "0  Miami-Dade County        2751796.0           9.754518    1897.72   \n",
       "1      Monroe County          77013.0           5.181715     983.28   \n",
       "2     Broward County        1935878.0          10.438146    1209.79   \n",
       "3  Palm Beach County        1471150.0          11.134781    1969.76   \n",
       "4   St. Lucie County         313506.0          12.659688     571.93   \n",
       "\n",
       "   Population Density      County  District      District_Name  \n",
       "0         1450.053749  Miami-Dade         6      South Florida  \n",
       "1           78.322553      Monroe         6      South Florida  \n",
       "2         1600.176890     Broward         4  Southeast Florida  \n",
       "3          746.867639  Palm Beach         4  Southeast Florida  \n",
       "4          548.154494   St. Lucie         4  Southeast Florida  "
      ]
     },
     "execution_count": 55,
     "metadata": {},
     "output_type": "execute_result"
    }
   ],
   "source": [
    "pd.merge(fl_2, district_info[['Name']].add_prefix('District_'), on='District').head()"
   ]
  },
  {
   "cell_type": "markdown",
   "metadata": {},
   "source": [
    "## Multi-level Column and Index Values\n",
    "\n",
    "Often data we are working with has multiple categories of columns. For example, \n",
    "the bridge data we worked with above has two data types: the number of bridges by \n",
    "condition, and the deck area by condition.  We can explicitly gather together \n",
    "those groups of columns using a multi-level index.\n",
    "\n",
    "To demonstate this, we'll make a copy of the `bridges` DataFrame with\n",
    "the county name as the index."
   ]
  },
  {
   "cell_type": "code",
   "execution_count": 56,
   "metadata": {},
   "outputs": [],
   "source": [
    "bridges2 = bridges.set_index('County')"
   ]
  },
  {
   "cell_type": "markdown",
   "metadata": {},
   "source": [
    "There are ten columns of this dataframe now, five counts and five areas."
   ]
  },
  {
   "cell_type": "code",
   "execution_count": 57,
   "metadata": {},
   "outputs": [
    {
     "data": {
      "text/plain": [
       "Index(['Total #', 'Good #', 'Fair #', 'Poor #', 'SD #', 'Total Area',\n",
       "       'Good Area', 'Fair Area', 'Poor Area', 'SD Area'],\n",
       "      dtype='object')"
      ]
     },
     "execution_count": 57,
     "metadata": {},
     "output_type": "execute_result"
    }
   ],
   "source": [
    "bridges2.columns"
   ]
  },
  {
   "cell_type": "markdown",
   "metadata": {},
   "source": [
    "We can use a list of tuples to create a `MultiIndex` that gives\n",
    "both the column's category and a name.  Notice that we can duplicate\n",
    "the condition names without trouble, because the duplicate values\n",
    "have different categories."
   ]
  },
  {
   "cell_type": "code",
   "execution_count": 58,
   "metadata": {},
   "outputs": [],
   "source": [
    "bridges2.columns = pd.MultiIndex.from_tuples(\n",
    "    [('Count','Total'), ('Count','Good'), ('Count','Fair'), ('Count','Poor'), ('Count','SD'),\n",
    "     ('Area','Total'), ('Area','Good'), ('Area','Fair'), ('Area','Poor'), ('Area','SD'),     ], \n",
    "    names=['measure', 'condition'],\n",
    ")"
   ]
  },
  {
   "cell_type": "code",
   "execution_count": 59,
   "metadata": {},
   "outputs": [
    {
     "data": {
      "text/html": [
       "<div>\n",
       "<style scoped>\n",
       "    .dataframe tbody tr th:only-of-type {\n",
       "        vertical-align: middle;\n",
       "    }\n",
       "\n",
       "    .dataframe tbody tr th {\n",
       "        vertical-align: top;\n",
       "    }\n",
       "\n",
       "    .dataframe thead tr th {\n",
       "        text-align: left;\n",
       "    }\n",
       "\n",
       "    .dataframe thead tr:last-of-type th {\n",
       "        text-align: right;\n",
       "    }\n",
       "</style>\n",
       "<table border=\"1\" class=\"dataframe\">\n",
       "  <thead>\n",
       "    <tr>\n",
       "      <th>measure</th>\n",
       "      <th colspan=\"5\" halign=\"left\">Count</th>\n",
       "      <th colspan=\"5\" halign=\"left\">Area</th>\n",
       "    </tr>\n",
       "    <tr>\n",
       "      <th>condition</th>\n",
       "      <th>Total</th>\n",
       "      <th>Good</th>\n",
       "      <th>Fair</th>\n",
       "      <th>Poor</th>\n",
       "      <th>SD</th>\n",
       "      <th>Total</th>\n",
       "      <th>Good</th>\n",
       "      <th>Fair</th>\n",
       "      <th>Poor</th>\n",
       "      <th>SD</th>\n",
       "    </tr>\n",
       "    <tr>\n",
       "      <th>County</th>\n",
       "      <th></th>\n",
       "      <th></th>\n",
       "      <th></th>\n",
       "      <th></th>\n",
       "      <th></th>\n",
       "      <th></th>\n",
       "      <th></th>\n",
       "      <th></th>\n",
       "      <th></th>\n",
       "      <th></th>\n",
       "    </tr>\n",
       "  </thead>\n",
       "  <tbody>\n",
       "    <tr>\n",
       "      <th>ALACHUA (001)</th>\n",
       "      <td>111</td>\n",
       "      <td>64</td>\n",
       "      <td>47</td>\n",
       "      <td>0</td>\n",
       "      <td>0</td>\n",
       "      <td>64767</td>\n",
       "      <td>55794</td>\n",
       "      <td>8973</td>\n",
       "      <td>0.0</td>\n",
       "      <td>0.0</td>\n",
       "    </tr>\n",
       "    <tr>\n",
       "      <th>BAKER (003)</th>\n",
       "      <td>89</td>\n",
       "      <td>30</td>\n",
       "      <td>52</td>\n",
       "      <td>7</td>\n",
       "      <td>8</td>\n",
       "      <td>32162</td>\n",
       "      <td>19369</td>\n",
       "      <td>12282</td>\n",
       "      <td>510.0</td>\n",
       "      <td>623.0</td>\n",
       "    </tr>\n",
       "    <tr>\n",
       "      <th>BAY (005)</th>\n",
       "      <td>122</td>\n",
       "      <td>49</td>\n",
       "      <td>63</td>\n",
       "      <td>10</td>\n",
       "      <td>11</td>\n",
       "      <td>210039</td>\n",
       "      <td>98834</td>\n",
       "      <td>109628</td>\n",
       "      <td>1577.0</td>\n",
       "      <td>10120.0</td>\n",
       "    </tr>\n",
       "    <tr>\n",
       "      <th>BRADFORD (007)</th>\n",
       "      <td>62</td>\n",
       "      <td>23</td>\n",
       "      <td>37</td>\n",
       "      <td>2</td>\n",
       "      <td>2</td>\n",
       "      <td>9330</td>\n",
       "      <td>5492</td>\n",
       "      <td>3217</td>\n",
       "      <td>620.0</td>\n",
       "      <td>620.0</td>\n",
       "    </tr>\n",
       "    <tr>\n",
       "      <th>BREVARD (009)</th>\n",
       "      <td>241</td>\n",
       "      <td>160</td>\n",
       "      <td>81</td>\n",
       "      <td>0</td>\n",
       "      <td>0</td>\n",
       "      <td>364138</td>\n",
       "      <td>204179</td>\n",
       "      <td>159959</td>\n",
       "      <td>0.0</td>\n",
       "      <td>0.0</td>\n",
       "    </tr>\n",
       "  </tbody>\n",
       "</table>\n",
       "</div>"
      ],
      "text/plain": [
       "measure        Count                       Area                          \\\n",
       "condition      Total Good Fair Poor  SD   Total    Good    Fair    Poor   \n",
       "County                                                                    \n",
       "ALACHUA (001)    111   64   47    0   0   64767   55794    8973     0.0   \n",
       "BAKER (003)       89   30   52    7   8   32162   19369   12282   510.0   \n",
       "BAY (005)        122   49   63   10  11  210039   98834  109628  1577.0   \n",
       "BRADFORD (007)    62   23   37    2   2    9330    5492    3217   620.0   \n",
       "BREVARD (009)    241  160   81    0   0  364138  204179  159959     0.0   \n",
       "\n",
       "measure                  \n",
       "condition            SD  \n",
       "County                   \n",
       "ALACHUA (001)       0.0  \n",
       "BAKER (003)       623.0  \n",
       "BAY (005)       10120.0  \n",
       "BRADFORD (007)    620.0  \n",
       "BREVARD (009)       0.0  "
      ]
     },
     "execution_count": 59,
     "metadata": {},
     "output_type": "execute_result"
    }
   ],
   "source": [
    "bridges2.head()"
   ]
  },
  {
   "cell_type": "markdown",
   "metadata": {},
   "source": [
    "MultiIndexes can be used for both the columns and the index of a DataFrame."
   ]
  },
  {
   "cell_type": "markdown",
   "metadata": {},
   "source": [
    "### Stacking and Unstacking \n",
    "\n",
    "One advantage of using this multi-index approach to grouping\n",
    "similar data is that it makes it much easier to reshape the \n",
    "DataFrame for different types of analysis.  For example, we can\n",
    "transform the bridges dataframe to have a for for each county\n",
    "and condition, and just two columns (count and area), by \n",
    "`stack` ing the data."
   ]
  },
  {
   "cell_type": "code",
   "execution_count": 60,
   "metadata": {},
   "outputs": [
    {
     "data": {
      "text/html": [
       "<div>\n",
       "<style scoped>\n",
       "    .dataframe tbody tr th:only-of-type {\n",
       "        vertical-align: middle;\n",
       "    }\n",
       "\n",
       "    .dataframe tbody tr th {\n",
       "        vertical-align: top;\n",
       "    }\n",
       "\n",
       "    .dataframe thead th {\n",
       "        text-align: right;\n",
       "    }\n",
       "</style>\n",
       "<table border=\"1\" class=\"dataframe\">\n",
       "  <thead>\n",
       "    <tr style=\"text-align: right;\">\n",
       "      <th></th>\n",
       "      <th>measure</th>\n",
       "      <th>Area</th>\n",
       "      <th>Count</th>\n",
       "    </tr>\n",
       "    <tr>\n",
       "      <th>County</th>\n",
       "      <th>condition</th>\n",
       "      <th></th>\n",
       "      <th></th>\n",
       "    </tr>\n",
       "  </thead>\n",
       "  <tbody>\n",
       "    <tr>\n",
       "      <th rowspan=\"5\" valign=\"top\">ALACHUA (001)</th>\n",
       "      <th>Fair</th>\n",
       "      <td>8973.0</td>\n",
       "      <td>47</td>\n",
       "    </tr>\n",
       "    <tr>\n",
       "      <th>Good</th>\n",
       "      <td>55794.0</td>\n",
       "      <td>64</td>\n",
       "    </tr>\n",
       "    <tr>\n",
       "      <th>Poor</th>\n",
       "      <td>0.0</td>\n",
       "      <td>0</td>\n",
       "    </tr>\n",
       "    <tr>\n",
       "      <th>SD</th>\n",
       "      <td>0.0</td>\n",
       "      <td>0</td>\n",
       "    </tr>\n",
       "    <tr>\n",
       "      <th>Total</th>\n",
       "      <td>64767.0</td>\n",
       "      <td>111</td>\n",
       "    </tr>\n",
       "    <tr>\n",
       "      <th rowspan=\"5\" valign=\"top\">BAKER (003)</th>\n",
       "      <th>Fair</th>\n",
       "      <td>12282.0</td>\n",
       "      <td>52</td>\n",
       "    </tr>\n",
       "    <tr>\n",
       "      <th>Good</th>\n",
       "      <td>19369.0</td>\n",
       "      <td>30</td>\n",
       "    </tr>\n",
       "    <tr>\n",
       "      <th>Poor</th>\n",
       "      <td>510.0</td>\n",
       "      <td>7</td>\n",
       "    </tr>\n",
       "    <tr>\n",
       "      <th>SD</th>\n",
       "      <td>623.0</td>\n",
       "      <td>8</td>\n",
       "    </tr>\n",
       "    <tr>\n",
       "      <th>Total</th>\n",
       "      <td>32162.0</td>\n",
       "      <td>89</td>\n",
       "    </tr>\n",
       "    <tr>\n",
       "      <th rowspan=\"2\" valign=\"top\">BAY (005)</th>\n",
       "      <th>Fair</th>\n",
       "      <td>109628.0</td>\n",
       "      <td>63</td>\n",
       "    </tr>\n",
       "    <tr>\n",
       "      <th>Good</th>\n",
       "      <td>98834.0</td>\n",
       "      <td>49</td>\n",
       "    </tr>\n",
       "  </tbody>\n",
       "</table>\n",
       "</div>"
      ],
      "text/plain": [
       "measure                      Area  Count\n",
       "County        condition                 \n",
       "ALACHUA (001) Fair         8973.0     47\n",
       "              Good        55794.0     64\n",
       "              Poor            0.0      0\n",
       "              SD              0.0      0\n",
       "              Total       64767.0    111\n",
       "BAKER (003)   Fair        12282.0     52\n",
       "              Good        19369.0     30\n",
       "              Poor          510.0      7\n",
       "              SD            623.0      8\n",
       "              Total       32162.0     89\n",
       "BAY (005)     Fair       109628.0     63\n",
       "              Good        98834.0     49"
      ]
     },
     "execution_count": 60,
     "metadata": {},
     "output_type": "execute_result"
    }
   ],
   "source": [
    "bridges3 = bridges2.stack()\n",
    "bridges3.head(12)"
   ]
  },
  {
   "cell_type": "markdown",
   "metadata": {},
   "source": [
    "One thing you might notice here is that the conditions have been reordered.\n",
    "The new order isn't consistent with the categorical meanings, but instead\n",
    "is simply alphabetic.  We can preserve the ordering by converting these \n",
    "values into ordered categorical values like this:"
   ]
  },
  {
   "cell_type": "code",
   "execution_count": 61,
   "metadata": {},
   "outputs": [
    {
     "data": {
      "text/html": [
       "<div>\n",
       "<style scoped>\n",
       "    .dataframe tbody tr th:only-of-type {\n",
       "        vertical-align: middle;\n",
       "    }\n",
       "\n",
       "    .dataframe tbody tr th {\n",
       "        vertical-align: top;\n",
       "    }\n",
       "\n",
       "    .dataframe thead th {\n",
       "        text-align: right;\n",
       "    }\n",
       "</style>\n",
       "<table border=\"1\" class=\"dataframe\">\n",
       "  <thead>\n",
       "    <tr style=\"text-align: right;\">\n",
       "      <th></th>\n",
       "      <th>measure</th>\n",
       "      <th>Area</th>\n",
       "      <th>Count</th>\n",
       "    </tr>\n",
       "    <tr>\n",
       "      <th>County</th>\n",
       "      <th>condition</th>\n",
       "      <th></th>\n",
       "      <th></th>\n",
       "    </tr>\n",
       "  </thead>\n",
       "  <tbody>\n",
       "    <tr>\n",
       "      <th rowspan=\"5\" valign=\"top\">ALACHUA (001)</th>\n",
       "      <th>Total</th>\n",
       "      <td>64767.0</td>\n",
       "      <td>111</td>\n",
       "    </tr>\n",
       "    <tr>\n",
       "      <th>Good</th>\n",
       "      <td>55794.0</td>\n",
       "      <td>64</td>\n",
       "    </tr>\n",
       "    <tr>\n",
       "      <th>Fair</th>\n",
       "      <td>8973.0</td>\n",
       "      <td>47</td>\n",
       "    </tr>\n",
       "    <tr>\n",
       "      <th>Poor</th>\n",
       "      <td>0.0</td>\n",
       "      <td>0</td>\n",
       "    </tr>\n",
       "    <tr>\n",
       "      <th>SD</th>\n",
       "      <td>0.0</td>\n",
       "      <td>0</td>\n",
       "    </tr>\n",
       "    <tr>\n",
       "      <th rowspan=\"5\" valign=\"top\">BAKER (003)</th>\n",
       "      <th>Total</th>\n",
       "      <td>32162.0</td>\n",
       "      <td>89</td>\n",
       "    </tr>\n",
       "    <tr>\n",
       "      <th>Good</th>\n",
       "      <td>19369.0</td>\n",
       "      <td>30</td>\n",
       "    </tr>\n",
       "    <tr>\n",
       "      <th>Fair</th>\n",
       "      <td>12282.0</td>\n",
       "      <td>52</td>\n",
       "    </tr>\n",
       "    <tr>\n",
       "      <th>Poor</th>\n",
       "      <td>510.0</td>\n",
       "      <td>7</td>\n",
       "    </tr>\n",
       "    <tr>\n",
       "      <th>SD</th>\n",
       "      <td>623.0</td>\n",
       "      <td>8</td>\n",
       "    </tr>\n",
       "    <tr>\n",
       "      <th rowspan=\"2\" valign=\"top\">BAY (005)</th>\n",
       "      <th>Total</th>\n",
       "      <td>210039.0</td>\n",
       "      <td>122</td>\n",
       "    </tr>\n",
       "    <tr>\n",
       "      <th>Good</th>\n",
       "      <td>98834.0</td>\n",
       "      <td>49</td>\n",
       "    </tr>\n",
       "  </tbody>\n",
       "</table>\n",
       "</div>"
      ],
      "text/plain": [
       "measure                      Area  Count\n",
       "County        condition                 \n",
       "ALACHUA (001) Total       64767.0    111\n",
       "              Good        55794.0     64\n",
       "              Fair         8973.0     47\n",
       "              Poor            0.0      0\n",
       "              SD              0.0      0\n",
       "BAKER (003)   Total       32162.0     89\n",
       "              Good        19369.0     30\n",
       "              Fair        12282.0     52\n",
       "              Poor          510.0      7\n",
       "              SD            623.0      8\n",
       "BAY (005)     Total      210039.0    122\n",
       "              Good        98834.0     49"
      ]
     },
     "execution_count": 61,
     "metadata": {},
     "output_type": "execute_result"
    }
   ],
   "source": [
    "conditions = pd.CategoricalIndex(\n",
    "    bridges2.columns.levels[1],\n",
    "    ordered=True, \n",
    "    categories=['Total', 'Good', 'Fair', 'Poor', 'SD'],\n",
    ")\n",
    "bridges2.columns.set_levels(conditions, 1, inplace=True)\n",
    "bridges2.stack().head(12)"
   ]
  },
  {
   "cell_type": "markdown",
   "metadata": {},
   "source": [
    "Although obviously that's a bit complicated and it may be easier to simply\n",
    "rename the conditions in a way that the alphabetic sorting works for us."
   ]
  },
  {
   "cell_type": "markdown",
   "metadata": {},
   "source": [
    "Now, for example, we can easily get the average deck area of bridges by condition."
   ]
  },
  {
   "cell_type": "code",
   "execution_count": 62,
   "metadata": {},
   "outputs": [
    {
     "data": {
      "text/html": [
       "<div>\n",
       "<style scoped>\n",
       "    .dataframe tbody tr th:only-of-type {\n",
       "        vertical-align: middle;\n",
       "    }\n",
       "\n",
       "    .dataframe tbody tr th {\n",
       "        vertical-align: top;\n",
       "    }\n",
       "\n",
       "    .dataframe thead th {\n",
       "        text-align: right;\n",
       "    }\n",
       "</style>\n",
       "<table border=\"1\" class=\"dataframe\">\n",
       "  <thead>\n",
       "    <tr style=\"text-align: right;\">\n",
       "      <th></th>\n",
       "      <th>measure</th>\n",
       "      <th>Area</th>\n",
       "      <th>Count</th>\n",
       "      <th>AvgArea</th>\n",
       "    </tr>\n",
       "    <tr>\n",
       "      <th>County</th>\n",
       "      <th>condition</th>\n",
       "      <th></th>\n",
       "      <th></th>\n",
       "      <th></th>\n",
       "    </tr>\n",
       "  </thead>\n",
       "  <tbody>\n",
       "    <tr>\n",
       "      <th rowspan=\"5\" valign=\"top\">ALACHUA (001)</th>\n",
       "      <th>Fair</th>\n",
       "      <td>8973.0</td>\n",
       "      <td>47</td>\n",
       "      <td>190.914894</td>\n",
       "    </tr>\n",
       "    <tr>\n",
       "      <th>Good</th>\n",
       "      <td>55794.0</td>\n",
       "      <td>64</td>\n",
       "      <td>871.781250</td>\n",
       "    </tr>\n",
       "    <tr>\n",
       "      <th>Poor</th>\n",
       "      <td>0.0</td>\n",
       "      <td>0</td>\n",
       "      <td>NaN</td>\n",
       "    </tr>\n",
       "    <tr>\n",
       "      <th>SD</th>\n",
       "      <td>0.0</td>\n",
       "      <td>0</td>\n",
       "      <td>NaN</td>\n",
       "    </tr>\n",
       "    <tr>\n",
       "      <th>Total</th>\n",
       "      <td>64767.0</td>\n",
       "      <td>111</td>\n",
       "      <td>583.486486</td>\n",
       "    </tr>\n",
       "    <tr>\n",
       "      <th rowspan=\"5\" valign=\"top\">BAKER (003)</th>\n",
       "      <th>Fair</th>\n",
       "      <td>12282.0</td>\n",
       "      <td>52</td>\n",
       "      <td>236.192308</td>\n",
       "    </tr>\n",
       "    <tr>\n",
       "      <th>Good</th>\n",
       "      <td>19369.0</td>\n",
       "      <td>30</td>\n",
       "      <td>645.633333</td>\n",
       "    </tr>\n",
       "    <tr>\n",
       "      <th>Poor</th>\n",
       "      <td>510.0</td>\n",
       "      <td>7</td>\n",
       "      <td>72.857143</td>\n",
       "    </tr>\n",
       "    <tr>\n",
       "      <th>SD</th>\n",
       "      <td>623.0</td>\n",
       "      <td>8</td>\n",
       "      <td>77.875000</td>\n",
       "    </tr>\n",
       "    <tr>\n",
       "      <th>Total</th>\n",
       "      <td>32162.0</td>\n",
       "      <td>89</td>\n",
       "      <td>361.370787</td>\n",
       "    </tr>\n",
       "    <tr>\n",
       "      <th rowspan=\"2\" valign=\"top\">BAY (005)</th>\n",
       "      <th>Fair</th>\n",
       "      <td>109628.0</td>\n",
       "      <td>63</td>\n",
       "      <td>1740.126984</td>\n",
       "    </tr>\n",
       "    <tr>\n",
       "      <th>Good</th>\n",
       "      <td>98834.0</td>\n",
       "      <td>49</td>\n",
       "      <td>2017.020408</td>\n",
       "    </tr>\n",
       "  </tbody>\n",
       "</table>\n",
       "</div>"
      ],
      "text/plain": [
       "measure                      Area  Count      AvgArea\n",
       "County        condition                              \n",
       "ALACHUA (001) Fair         8973.0     47   190.914894\n",
       "              Good        55794.0     64   871.781250\n",
       "              Poor            0.0      0          NaN\n",
       "              SD              0.0      0          NaN\n",
       "              Total       64767.0    111   583.486486\n",
       "BAKER (003)   Fair        12282.0     52   236.192308\n",
       "              Good        19369.0     30   645.633333\n",
       "              Poor          510.0      7    72.857143\n",
       "              SD            623.0      8    77.875000\n",
       "              Total       32162.0     89   361.370787\n",
       "BAY (005)     Fair       109628.0     63  1740.126984\n",
       "              Good        98834.0     49  2017.020408"
      ]
     },
     "execution_count": 62,
     "metadata": {},
     "output_type": "execute_result"
    }
   ],
   "source": [
    "bridges3['AvgArea'] = bridges3['Area'] / bridges3['Count']\n",
    "bridges3.head(12)"
   ]
  },
  {
   "cell_type": "markdown",
   "metadata": {},
   "source": [
    "We can also reverse this transformation, returning to a wider format,\n",
    "with the `unstack` method."
   ]
  },
  {
   "cell_type": "code",
   "execution_count": 63,
   "metadata": {},
   "outputs": [
    {
     "data": {
      "text/html": [
       "<div>\n",
       "<style scoped>\n",
       "    .dataframe tbody tr th:only-of-type {\n",
       "        vertical-align: middle;\n",
       "    }\n",
       "\n",
       "    .dataframe tbody tr th {\n",
       "        vertical-align: top;\n",
       "    }\n",
       "\n",
       "    .dataframe thead tr th {\n",
       "        text-align: left;\n",
       "    }\n",
       "\n",
       "    .dataframe thead tr:last-of-type th {\n",
       "        text-align: right;\n",
       "    }\n",
       "</style>\n",
       "<table border=\"1\" class=\"dataframe\">\n",
       "  <thead>\n",
       "    <tr>\n",
       "      <th>measure</th>\n",
       "      <th colspan=\"5\" halign=\"left\">Area</th>\n",
       "      <th colspan=\"5\" halign=\"left\">Count</th>\n",
       "      <th colspan=\"5\" halign=\"left\">AvgArea</th>\n",
       "    </tr>\n",
       "    <tr>\n",
       "      <th>condition</th>\n",
       "      <th>Fair</th>\n",
       "      <th>Good</th>\n",
       "      <th>Poor</th>\n",
       "      <th>SD</th>\n",
       "      <th>Total</th>\n",
       "      <th>Fair</th>\n",
       "      <th>Good</th>\n",
       "      <th>Poor</th>\n",
       "      <th>SD</th>\n",
       "      <th>Total</th>\n",
       "      <th>Fair</th>\n",
       "      <th>Good</th>\n",
       "      <th>Poor</th>\n",
       "      <th>SD</th>\n",
       "      <th>Total</th>\n",
       "    </tr>\n",
       "    <tr>\n",
       "      <th>County</th>\n",
       "      <th></th>\n",
       "      <th></th>\n",
       "      <th></th>\n",
       "      <th></th>\n",
       "      <th></th>\n",
       "      <th></th>\n",
       "      <th></th>\n",
       "      <th></th>\n",
       "      <th></th>\n",
       "      <th></th>\n",
       "      <th></th>\n",
       "      <th></th>\n",
       "      <th></th>\n",
       "      <th></th>\n",
       "      <th></th>\n",
       "    </tr>\n",
       "  </thead>\n",
       "  <tbody>\n",
       "    <tr>\n",
       "      <th>ALACHUA (001)</th>\n",
       "      <td>8973.0</td>\n",
       "      <td>55794.0</td>\n",
       "      <td>0.0</td>\n",
       "      <td>0.0</td>\n",
       "      <td>64767.0</td>\n",
       "      <td>47</td>\n",
       "      <td>64</td>\n",
       "      <td>0</td>\n",
       "      <td>0</td>\n",
       "      <td>111</td>\n",
       "      <td>190.914894</td>\n",
       "      <td>871.781250</td>\n",
       "      <td>NaN</td>\n",
       "      <td>NaN</td>\n",
       "      <td>583.486486</td>\n",
       "    </tr>\n",
       "    <tr>\n",
       "      <th>BAKER (003)</th>\n",
       "      <td>12282.0</td>\n",
       "      <td>19369.0</td>\n",
       "      <td>510.0</td>\n",
       "      <td>623.0</td>\n",
       "      <td>32162.0</td>\n",
       "      <td>52</td>\n",
       "      <td>30</td>\n",
       "      <td>7</td>\n",
       "      <td>8</td>\n",
       "      <td>89</td>\n",
       "      <td>236.192308</td>\n",
       "      <td>645.633333</td>\n",
       "      <td>72.857143</td>\n",
       "      <td>77.875</td>\n",
       "      <td>361.370787</td>\n",
       "    </tr>\n",
       "    <tr>\n",
       "      <th>BAY (005)</th>\n",
       "      <td>109628.0</td>\n",
       "      <td>98834.0</td>\n",
       "      <td>1577.0</td>\n",
       "      <td>10120.0</td>\n",
       "      <td>210039.0</td>\n",
       "      <td>63</td>\n",
       "      <td>49</td>\n",
       "      <td>10</td>\n",
       "      <td>11</td>\n",
       "      <td>122</td>\n",
       "      <td>1740.126984</td>\n",
       "      <td>2017.020408</td>\n",
       "      <td>157.700000</td>\n",
       "      <td>920.000</td>\n",
       "      <td>1721.631148</td>\n",
       "    </tr>\n",
       "    <tr>\n",
       "      <th>BRADFORD (007)</th>\n",
       "      <td>3217.0</td>\n",
       "      <td>5492.0</td>\n",
       "      <td>620.0</td>\n",
       "      <td>620.0</td>\n",
       "      <td>9330.0</td>\n",
       "      <td>37</td>\n",
       "      <td>23</td>\n",
       "      <td>2</td>\n",
       "      <td>2</td>\n",
       "      <td>62</td>\n",
       "      <td>86.945946</td>\n",
       "      <td>238.782609</td>\n",
       "      <td>310.000000</td>\n",
       "      <td>310.000</td>\n",
       "      <td>150.483871</td>\n",
       "    </tr>\n",
       "    <tr>\n",
       "      <th>BREVARD (009)</th>\n",
       "      <td>159959.0</td>\n",
       "      <td>204179.0</td>\n",
       "      <td>0.0</td>\n",
       "      <td>0.0</td>\n",
       "      <td>364138.0</td>\n",
       "      <td>81</td>\n",
       "      <td>160</td>\n",
       "      <td>0</td>\n",
       "      <td>0</td>\n",
       "      <td>241</td>\n",
       "      <td>1974.802469</td>\n",
       "      <td>1276.118750</td>\n",
       "      <td>NaN</td>\n",
       "      <td>NaN</td>\n",
       "      <td>1510.946058</td>\n",
       "    </tr>\n",
       "  </tbody>\n",
       "</table>\n",
       "</div>"
      ],
      "text/plain": [
       "measure             Area                                      Count            \\\n",
       "condition           Fair      Good    Poor       SD     Total  Fair Good Poor   \n",
       "County                                                                          \n",
       "ALACHUA (001)     8973.0   55794.0     0.0      0.0   64767.0    47   64    0   \n",
       "BAKER (003)      12282.0   19369.0   510.0    623.0   32162.0    52   30    7   \n",
       "BAY (005)       109628.0   98834.0  1577.0  10120.0  210039.0    63   49   10   \n",
       "BRADFORD (007)    3217.0    5492.0   620.0    620.0    9330.0    37   23    2   \n",
       "BREVARD (009)   159959.0  204179.0     0.0      0.0  364138.0    81  160    0   \n",
       "\n",
       "measure                       AvgArea                                    \\\n",
       "condition       SD Total         Fair         Good        Poor       SD   \n",
       "County                                                                    \n",
       "ALACHUA (001)    0   111   190.914894   871.781250         NaN      NaN   \n",
       "BAKER (003)      8    89   236.192308   645.633333   72.857143   77.875   \n",
       "BAY (005)       11   122  1740.126984  2017.020408  157.700000  920.000   \n",
       "BRADFORD (007)   2    62    86.945946   238.782609  310.000000  310.000   \n",
       "BREVARD (009)    0   241  1974.802469  1276.118750         NaN      NaN   \n",
       "\n",
       "measure                      \n",
       "condition             Total  \n",
       "County                       \n",
       "ALACHUA (001)    583.486486  \n",
       "BAKER (003)      361.370787  \n",
       "BAY (005)       1721.631148  \n",
       "BRADFORD (007)   150.483871  \n",
       "BREVARD (009)   1510.946058  "
      ]
     },
     "execution_count": 63,
     "metadata": {},
     "output_type": "execute_result"
    }
   ],
   "source": [
    "bridges4 = bridges3.unstack()\n",
    "bridges4.head()"
   ]
  },
  {
   "cell_type": "markdown",
   "metadata": {},
   "source": [
    "If you `unstack` a DataFrame that doesn't have a MultiIndex index \n",
    "with at least two levels, you'll get a one dimensional Series instead of a DataFrame."
   ]
  },
  {
   "cell_type": "code",
   "execution_count": 64,
   "metadata": {},
   "outputs": [
    {
     "data": {
      "text/plain": [
       "measure  condition  County          \n",
       "Area     Fair       ALACHUA (001)         8973.000000\n",
       "                    BAKER (003)          12282.000000\n",
       "                    BAY (005)           109628.000000\n",
       "                    BRADFORD (007)        3217.000000\n",
       "                    BREVARD (009)       159959.000000\n",
       "                                            ...      \n",
       "AvgArea  Total      UNION (125)            447.107143\n",
       "                    VOLUSIA (127)         1439.052863\n",
       "                    WAKULLA (129)          355.660000\n",
       "                    WALTON (131)           475.378995\n",
       "                    WASHINGTON (133)       751.208333\n",
       "Length: 1005, dtype: float64"
      ]
     },
     "execution_count": 64,
     "metadata": {},
     "output_type": "execute_result"
    }
   ],
   "source": [
    "bridges4.unstack()"
   ]
  },
  {
   "cell_type": "markdown",
   "metadata": {},
   "source": [
    "The pandas documentation includes a lot more detail about \n",
    "[reshaping](https://pandas.pydata.org/pandas-docs/stable/user_guide/reshaping.html#reshaping-by-stacking-and-unstacking)\n",
    "data, including a variety of other tools for reshaping in other ways."
   ]
  },
  {
   "cell_type": "raw",
   "metadata": {
    "raw_mimetype": "text/restructuredtext"
   },
   "source": [
    ".. _pandas-grouping:"
   ]
  },
  {
   "cell_type": "markdown",
   "metadata": {},
   "source": [
    "## Grouping \n",
    "\n",
    "A common task in data analysis is to conduct group-wise analysis. This\n",
    "involves splitting a DataFrame into groups of related rows, then computing\n",
    "some sort of measure on each group.  The results are then usually combined\n",
    "into a final coherent data structure, generally having one row for\n",
    "each original row (a transformation), or one row for each group (an aggregation). \n",
    "It is possible to \n",
    "introduce some [filtering](https://pandas.pydata.org/pandas-docs/stable/user_guide/groupby.html#filtration) in the process so the results \n",
    "do not conform to one of these patterns, but that is a more advanced \n",
    "topic that will not be discussed here.\n",
    "\n",
    "For example, we might group counties by district, and then total the \n",
    "population values, to get to total population by district:"
   ]
  },
  {
   "cell_type": "code",
   "execution_count": 65,
   "metadata": {},
   "outputs": [
    {
     "data": {
      "text/html": [
       "<div>\n",
       "<style scoped>\n",
       "    .dataframe tbody tr th:only-of-type {\n",
       "        vertical-align: middle;\n",
       "    }\n",
       "\n",
       "    .dataframe tbody tr th {\n",
       "        vertical-align: top;\n",
       "    }\n",
       "\n",
       "    .dataframe thead th {\n",
       "        text-align: right;\n",
       "    }\n",
       "</style>\n",
       "<table border=\"1\" class=\"dataframe\">\n",
       "  <thead>\n",
       "    <tr style=\"text-align: right;\">\n",
       "      <th></th>\n",
       "      <th>Name</th>\n",
       "      <th>2019 Population</th>\n",
       "      <th>Growth Since 2010</th>\n",
       "      <th>Land Area</th>\n",
       "      <th>Population Density</th>\n",
       "      <th>County</th>\n",
       "      <th>District</th>\n",
       "    </tr>\n",
       "  </thead>\n",
       "  <tbody>\n",
       "    <tr>\n",
       "      <th>0</th>\n",
       "      <td>Miami-Dade County</td>\n",
       "      <td>2751796.0</td>\n",
       "      <td>9.754518</td>\n",
       "      <td>1897.72</td>\n",
       "      <td>1450.053749</td>\n",
       "      <td>Miami-Dade</td>\n",
       "      <td>6</td>\n",
       "    </tr>\n",
       "    <tr>\n",
       "      <th>1</th>\n",
       "      <td>Broward County</td>\n",
       "      <td>1935878.0</td>\n",
       "      <td>10.438146</td>\n",
       "      <td>1209.79</td>\n",
       "      <td>1600.176890</td>\n",
       "      <td>Broward</td>\n",
       "      <td>4</td>\n",
       "    </tr>\n",
       "    <tr>\n",
       "      <th>2</th>\n",
       "      <td>Palm Beach County</td>\n",
       "      <td>1471150.0</td>\n",
       "      <td>11.134781</td>\n",
       "      <td>1969.76</td>\n",
       "      <td>746.867639</td>\n",
       "      <td>Palm Beach</td>\n",
       "      <td>4</td>\n",
       "    </tr>\n",
       "    <tr>\n",
       "      <th>3</th>\n",
       "      <td>Hillsborough County</td>\n",
       "      <td>1408566.0</td>\n",
       "      <td>14.187346</td>\n",
       "      <td>1020.21</td>\n",
       "      <td>1380.662805</td>\n",
       "      <td>Hillsborough</td>\n",
       "      <td>7</td>\n",
       "    </tr>\n",
       "    <tr>\n",
       "      <th>4</th>\n",
       "      <td>Orange County</td>\n",
       "      <td>1348975.0</td>\n",
       "      <td>17.435335</td>\n",
       "      <td>903.43</td>\n",
       "      <td>1493.170473</td>\n",
       "      <td>Orange</td>\n",
       "      <td>5</td>\n",
       "    </tr>\n",
       "  </tbody>\n",
       "</table>\n",
       "</div>"
      ],
      "text/plain": [
       "                  Name  2019 Population  Growth Since 2010  Land Area  \\\n",
       "0    Miami-Dade County        2751796.0           9.754518    1897.72   \n",
       "1       Broward County        1935878.0          10.438146    1209.79   \n",
       "2    Palm Beach County        1471150.0          11.134781    1969.76   \n",
       "3  Hillsborough County        1408566.0          14.187346    1020.21   \n",
       "4        Orange County        1348975.0          17.435335     903.43   \n",
       "\n",
       "   Population Density        County  District  \n",
       "0         1450.053749    Miami-Dade         6  \n",
       "1         1600.176890       Broward         4  \n",
       "2          746.867639    Palm Beach         4  \n",
       "3         1380.662805  Hillsborough         7  \n",
       "4         1493.170473        Orange         5  "
      ]
     },
     "execution_count": 65,
     "metadata": {},
     "output_type": "execute_result"
    }
   ],
   "source": [
    "fl_2.head()"
   ]
  },
  {
   "cell_type": "code",
   "execution_count": 66,
   "metadata": {},
   "outputs": [
    {
     "data": {
      "text/html": [
       "<div>\n",
       "<style scoped>\n",
       "    .dataframe tbody tr th:only-of-type {\n",
       "        vertical-align: middle;\n",
       "    }\n",
       "\n",
       "    .dataframe tbody tr th {\n",
       "        vertical-align: top;\n",
       "    }\n",
       "\n",
       "    .dataframe thead th {\n",
       "        text-align: right;\n",
       "    }\n",
       "</style>\n",
       "<table border=\"1\" class=\"dataframe\">\n",
       "  <thead>\n",
       "    <tr style=\"text-align: right;\">\n",
       "      <th></th>\n",
       "      <th>2019 Population</th>\n",
       "    </tr>\n",
       "    <tr>\n",
       "      <th>District</th>\n",
       "      <th></th>\n",
       "    </tr>\n",
       "  </thead>\n",
       "  <tbody>\n",
       "    <tr>\n",
       "      <th>1</th>\n",
       "      <td>3048172.0</td>\n",
       "    </tr>\n",
       "    <tr>\n",
       "      <th>2</th>\n",
       "      <td>2139433.0</td>\n",
       "    </tr>\n",
       "    <tr>\n",
       "      <th>3</th>\n",
       "      <td>1468387.0</td>\n",
       "    </tr>\n",
       "    <tr>\n",
       "      <th>4</th>\n",
       "      <td>4034840.0</td>\n",
       "    </tr>\n",
       "    <tr>\n",
       "      <th>5</th>\n",
       "      <td>4227713.0</td>\n",
       "    </tr>\n",
       "    <tr>\n",
       "      <th>6</th>\n",
       "      <td>2828809.0</td>\n",
       "    </tr>\n",
       "    <tr>\n",
       "      <th>7</th>\n",
       "      <td>3237046.0</td>\n",
       "    </tr>\n",
       "  </tbody>\n",
       "</table>\n",
       "</div>"
      ],
      "text/plain": [
       "          2019 Population\n",
       "District                 \n",
       "1               3048172.0\n",
       "2               2139433.0\n",
       "3               1468387.0\n",
       "4               4034840.0\n",
       "5               4227713.0\n",
       "6               2828809.0\n",
       "7               3237046.0"
      ]
     },
     "execution_count": 66,
     "metadata": {},
     "output_type": "execute_result"
    }
   ],
   "source": [
    "fl_2.groupby('District')[['2019 Population']].sum()"
   ]
  },
  {
   "cell_type": "markdown",
   "metadata": {},
   "source": [
    "The splitting into groups in done using the `groupby` method of DataFrames,\n",
    "which is fairly flexible—it can be used\n",
    "to group rows or columns, and to group on an index or on values.\n",
    "Pandas provides an [extensive tutorial](https://pandas.pydata.org/pandas-docs/stable/user_guide/groupby.html) that covers `groupby` in more depth.\n",
    "In this tutorial, we'll focus on the most common tasks for data analysis\n",
    "in the transportation context (and, most data analysis): grouping rows \n",
    "using one or more columns, or a function thereof, as the grouping keys.\n",
    "\n",
    "In the example above, the `groupby` method is called with a single\n",
    "argument 'District', which indicates that the groups are delineated\n",
    "by common values of the column named 'District'.  Grouping by an identifier\n",
    "like this is convenient, because the identifiers are naturally well\n",
    "defined and the groups are inherently meaningful.\n",
    "\n",
    "Similar for merging, `groupby` keys need to be actually identical\n",
    "in order to match.  Attempting to use `groupby` directly with \n",
    "continuous data that not generally categorical in nature will \n",
    "not give good results -- you can expect that more or less\n",
    "every row will be its own group.  Instead, if you\n",
    "want to group rows in this way, you'll need to convert it to categorical\n",
    "data first.  This can be done using \n",
    "[pandas.cut](https://pandas.pydata.org/pandas-docs/stable/reference/api/pandas.cut.html) \n",
    "or [pandas.qcut](https://pandas.pydata.org/pandas-docs/stable/reference/api/pandas.qcut.html).\n",
    "\n",
    "- Using `cut` defines categorical bins either by dividing the entire range of\n",
    "  values into a number of equal sized bins (by giving the number of bins as an\n",
    "  integer) or by giving a list of explicit breakpoints for the bins.\n",
    "\n",
    "- Using `qcut` defines categorical bins either setting the bin edges so that\n",
    "  each bin contains a roughly equal number of observations (by giving the number \n",
    "  of bins as an integer) or by giving a list of explicit quantile levels for the \n",
    "  bin breakpoints (e.g., `[0,10,25,50,75,90,100]`).\n",
    "\n",
    "Let's use `cut` to create five categorical values of county population:"
   ]
  },
  {
   "cell_type": "code",
   "execution_count": 67,
   "metadata": {},
   "outputs": [
    {
     "data": {
      "text/plain": [
       "0    (2203085.2, 2751796.0]\n",
       "1    (1654374.4, 2203085.2]\n",
       "2    (1105663.6, 1654374.4]\n",
       "3    (1105663.6, 1654374.4]\n",
       "4    (1105663.6, 1654374.4]\n",
       "Name: 2019 Population, dtype: category\n",
       "Categories (5, interval[float64]): [(5498.446, 556952.8] < (556952.8, 1105663.6] < (1105663.6, 1654374.4] < (1654374.4, 2203085.2] < (2203085.2, 2751796.0]]"
      ]
     },
     "execution_count": 67,
     "metadata": {},
     "output_type": "execute_result"
    }
   ],
   "source": [
    "population_binned = pd.cut(fl_2['2019 Population'], bins=5)\n",
    "population_binned.head()"
   ]
  },
  {
   "cell_type": "code",
   "execution_count": 68,
   "metadata": {},
   "outputs": [
    {
     "data": {
      "text/plain": [
       "0     (2203085.2, 2751796.0]\n",
       "1     (1654374.4, 2203085.2]\n",
       "2     (1105663.6, 1654374.4]\n",
       "3     (1105663.6, 1654374.4]\n",
       "4     (1105663.6, 1654374.4]\n",
       "               ...          \n",
       "62      (5498.446, 556952.8]\n",
       "63      (5498.446, 556952.8]\n",
       "64      (5498.446, 556952.8]\n",
       "65      (5498.446, 556952.8]\n",
       "66      (5498.446, 556952.8]\n",
       "Name: 2019 Population, Length: 67, dtype: category\n",
       "Categories (5, interval[float64]): [(5498.446, 556952.8] < (556952.8, 1105663.6] < (1105663.6, 1654374.4] < (1654374.4, 2203085.2] < (2203085.2, 2751796.0]]"
      ]
     },
     "execution_count": 68,
     "metadata": {},
     "output_type": "execute_result"
    }
   ],
   "source": [
    "population_binned"
   ]
  },
  {
   "cell_type": "markdown",
   "metadata": {},
   "source": [
    "Those bins divide the range of population values evenly into 5 bins,\n",
    "but they do appear a bit random.  We can set more reasonable value\n",
    "by explicitly giving bin boundaries that are round numbers of our \n",
    "choosing:"
   ]
  },
  {
   "cell_type": "code",
   "execution_count": 69,
   "metadata": {},
   "outputs": [
    {
     "data": {
      "text/plain": [
       "0    (2000000, 3000000]\n",
       "1    (1500000, 2000000]\n",
       "2    (1000000, 1500000]\n",
       "3    (1000000, 1500000]\n",
       "4    (1000000, 1500000]\n",
       "Name: 2019 Population, dtype: category\n",
       "Categories (5, interval[int64]): [(5000, 500000] < (500000, 1000000] < (1000000, 1500000] < (1500000, 2000000] < (2000000, 3000000]]"
      ]
     },
     "execution_count": 69,
     "metadata": {},
     "output_type": "execute_result"
    }
   ],
   "source": [
    "bins=[5_000, 500_000, 1_000_000, 1_500_000, 2_000_000, 3_000_000]\n",
    "population_binned = pd.cut(fl_2['2019 Population'], bins=bins)\n",
    "population_binned.head()"
   ]
  },
  {
   "cell_type": "markdown",
   "metadata": {},
   "source": [
    "We can then pass this categorical data directly to the `groupby` \n",
    "method, instead of naming existing columns in the DataFrame to use\n",
    "as the `groupby` keys."
   ]
  },
  {
   "cell_type": "code",
   "execution_count": 70,
   "metadata": {},
   "outputs": [
    {
     "data": {
      "text/html": [
       "<div>\n",
       "<style scoped>\n",
       "    .dataframe tbody tr th:only-of-type {\n",
       "        vertical-align: middle;\n",
       "    }\n",
       "\n",
       "    .dataframe tbody tr th {\n",
       "        vertical-align: top;\n",
       "    }\n",
       "\n",
       "    .dataframe thead th {\n",
       "        text-align: right;\n",
       "    }\n",
       "</style>\n",
       "<table border=\"1\" class=\"dataframe\">\n",
       "  <thead>\n",
       "    <tr style=\"text-align: right;\">\n",
       "      <th></th>\n",
       "      <th>2019 Population</th>\n",
       "    </tr>\n",
       "    <tr>\n",
       "      <th>2019 Population</th>\n",
       "      <th></th>\n",
       "    </tr>\n",
       "  </thead>\n",
       "  <tbody>\n",
       "    <tr>\n",
       "      <th>(5000, 500000]</th>\n",
       "      <td>7080260.0</td>\n",
       "    </tr>\n",
       "    <tr>\n",
       "      <th>(500000, 1000000]</th>\n",
       "      <td>4987775.0</td>\n",
       "    </tr>\n",
       "    <tr>\n",
       "      <th>(1000000, 1500000]</th>\n",
       "      <td>4228691.0</td>\n",
       "    </tr>\n",
       "    <tr>\n",
       "      <th>(1500000, 2000000]</th>\n",
       "      <td>1935878.0</td>\n",
       "    </tr>\n",
       "    <tr>\n",
       "      <th>(2000000, 3000000]</th>\n",
       "      <td>2751796.0</td>\n",
       "    </tr>\n",
       "  </tbody>\n",
       "</table>\n",
       "</div>"
      ],
      "text/plain": [
       "                    2019 Population\n",
       "2019 Population                    \n",
       "(5000, 500000]            7080260.0\n",
       "(500000, 1000000]         4987775.0\n",
       "(1000000, 1500000]        4228691.0\n",
       "(1500000, 2000000]        1935878.0\n",
       "(2000000, 3000000]        2751796.0"
      ]
     },
     "execution_count": 70,
     "metadata": {},
     "output_type": "execute_result"
    }
   ],
   "source": [
    "fl_2.groupby(population_binned)[['2019 Population']].sum()"
   ]
  },
  {
   "cell_type": "markdown",
   "metadata": {},
   "source": [
    "### Aggregation\n",
    "\n",
    "The examples above all use the `sum` method, which is an aggregate function: \n",
    "it takes a set of values drawn from a group of rows, and returns a single\n",
    "output value.  Other common aggregation functions include:\n",
    "\n",
    "| function | description |\n",
    "| -------- | ----------- |\n",
    "| `mean`   | within-group means  |\n",
    "| `std`    | within-group standard deviation |\n",
    "| `min`    | within-group minimum |\n",
    "| `max`    | within-group maximum |\n",
    "| `first`  | first value in group |\n",
    "| `last`   | last value in group |\n",
    "| `size`   | number of group members including NaN |\n",
    "| `count`  | number of group members excluding NaN |\n",
    "\n",
    "When aggregation function are applied, the result is generally\n",
    "one row per group, instead of one row per row.\n",
    "\n",
    "Multiple aggregation functions can be applied simultaneously\n",
    "using the `agg` method, like this:"
   ]
  },
  {
   "cell_type": "code",
   "execution_count": 71,
   "metadata": {},
   "outputs": [
    {
     "data": {
      "text/html": [
       "<div>\n",
       "<style scoped>\n",
       "    .dataframe tbody tr th:only-of-type {\n",
       "        vertical-align: middle;\n",
       "    }\n",
       "\n",
       "    .dataframe tbody tr th {\n",
       "        vertical-align: top;\n",
       "    }\n",
       "\n",
       "    .dataframe thead tr th {\n",
       "        text-align: left;\n",
       "    }\n",
       "\n",
       "    .dataframe thead tr:last-of-type th {\n",
       "        text-align: right;\n",
       "    }\n",
       "</style>\n",
       "<table border=\"1\" class=\"dataframe\">\n",
       "  <thead>\n",
       "    <tr>\n",
       "      <th></th>\n",
       "      <th colspan=\"3\" halign=\"left\">2019 Population</th>\n",
       "    </tr>\n",
       "    <tr>\n",
       "      <th></th>\n",
       "      <th>mean</th>\n",
       "      <th>std</th>\n",
       "      <th>size</th>\n",
       "    </tr>\n",
       "    <tr>\n",
       "      <th>2019 Population</th>\n",
       "      <th></th>\n",
       "      <th></th>\n",
       "      <th></th>\n",
       "    </tr>\n",
       "  </thead>\n",
       "  <tbody>\n",
       "    <tr>\n",
       "      <th>(5000, 500000]</th>\n",
       "      <td>1.287320e+05</td>\n",
       "      <td>130660.887798</td>\n",
       "      <td>55.0</td>\n",
       "    </tr>\n",
       "    <tr>\n",
       "      <th>(500000, 1000000]</th>\n",
       "      <td>7.125393e+05</td>\n",
       "      <td>182201.018266</td>\n",
       "      <td>7.0</td>\n",
       "    </tr>\n",
       "    <tr>\n",
       "      <th>(1000000, 1500000]</th>\n",
       "      <td>1.409564e+06</td>\n",
       "      <td>61093.609816</td>\n",
       "      <td>3.0</td>\n",
       "    </tr>\n",
       "    <tr>\n",
       "      <th>(1500000, 2000000]</th>\n",
       "      <td>1.935878e+06</td>\n",
       "      <td>NaN</td>\n",
       "      <td>1.0</td>\n",
       "    </tr>\n",
       "    <tr>\n",
       "      <th>(2000000, 3000000]</th>\n",
       "      <td>2.751796e+06</td>\n",
       "      <td>NaN</td>\n",
       "      <td>1.0</td>\n",
       "    </tr>\n",
       "  </tbody>\n",
       "</table>\n",
       "</div>"
      ],
      "text/plain": [
       "                   2019 Population                     \n",
       "                              mean            std  size\n",
       "2019 Population                                        \n",
       "(5000, 500000]        1.287320e+05  130660.887798  55.0\n",
       "(500000, 1000000]     7.125393e+05  182201.018266   7.0\n",
       "(1000000, 1500000]    1.409564e+06   61093.609816   3.0\n",
       "(1500000, 2000000]    1.935878e+06            NaN   1.0\n",
       "(2000000, 3000000]    2.751796e+06            NaN   1.0"
      ]
     },
     "execution_count": 71,
     "metadata": {},
     "output_type": "execute_result"
    }
   ],
   "source": [
    "fl_2.groupby(population_binned)[['2019 Population']].agg([np.mean, np.std, np.size])"
   ]
  },
  {
   "cell_type": "markdown",
   "metadata": {},
   "source": [
    "### Transformation\n",
    "\n",
    "In contrast with aggregation, which returns a value for each group, `transform`\n",
    "returns a value for each row in the original DataFrame. Many of the same functions\n",
    "can be used as with `transform`, and the results are simply broadcast back to the\n",
    "original rows (i.e., a copy of the relevant aggregated value is attached to each\n",
    "original row, so that if there are multiple rows in a group, then there are multiple\n",
    "copies of the aggregate output).  The return value is a new Series or DataFrame, indexed the same\n",
    "as the original, which makes it easy to use `transform` to create new derived \n",
    "columns based on group-wise aggregations or transforms.\n",
    "\n",
    "For example, to add a new column that contains the FDOT District total population\n",
    "for each county, we can give the `sum` function to `transform`, and write the\n",
    "result as a new column in the original DataFrame:"
   ]
  },
  {
   "cell_type": "code",
   "execution_count": 72,
   "metadata": {},
   "outputs": [
    {
     "data": {
      "text/plain": [
       "0    2828809.0\n",
       "1    4034840.0\n",
       "2    4034840.0\n",
       "3    3237046.0\n",
       "4    4227713.0\n",
       "Name: 2019 Population, dtype: float64"
      ]
     },
     "execution_count": 72,
     "metadata": {},
     "output_type": "execute_result"
    }
   ],
   "source": [
    "pop_sum = fl_2.groupby('District')['2019 Population'].transform(sum)\n",
    "pop_sum.head()"
   ]
  },
  {
   "cell_type": "code",
   "execution_count": 73,
   "metadata": {},
   "outputs": [
    {
     "data": {
      "text/html": [
       "<div>\n",
       "<style scoped>\n",
       "    .dataframe tbody tr th:only-of-type {\n",
       "        vertical-align: middle;\n",
       "    }\n",
       "\n",
       "    .dataframe tbody tr th {\n",
       "        vertical-align: top;\n",
       "    }\n",
       "\n",
       "    .dataframe thead th {\n",
       "        text-align: right;\n",
       "    }\n",
       "</style>\n",
       "<table border=\"1\" class=\"dataframe\">\n",
       "  <thead>\n",
       "    <tr style=\"text-align: right;\">\n",
       "      <th></th>\n",
       "      <th>Name</th>\n",
       "      <th>2019 Population</th>\n",
       "      <th>Growth Since 2010</th>\n",
       "      <th>Land Area</th>\n",
       "      <th>Population Density</th>\n",
       "      <th>County</th>\n",
       "      <th>District</th>\n",
       "    </tr>\n",
       "  </thead>\n",
       "  <tbody>\n",
       "    <tr>\n",
       "      <th>0</th>\n",
       "      <td>Miami-Dade County</td>\n",
       "      <td>2751796.0</td>\n",
       "      <td>9.754518</td>\n",
       "      <td>1897.72</td>\n",
       "      <td>1450.053749</td>\n",
       "      <td>Miami-Dade</td>\n",
       "      <td>6</td>\n",
       "    </tr>\n",
       "    <tr>\n",
       "      <th>1</th>\n",
       "      <td>Broward County</td>\n",
       "      <td>1935878.0</td>\n",
       "      <td>10.438146</td>\n",
       "      <td>1209.79</td>\n",
       "      <td>1600.176890</td>\n",
       "      <td>Broward</td>\n",
       "      <td>4</td>\n",
       "    </tr>\n",
       "    <tr>\n",
       "      <th>2</th>\n",
       "      <td>Palm Beach County</td>\n",
       "      <td>1471150.0</td>\n",
       "      <td>11.134781</td>\n",
       "      <td>1969.76</td>\n",
       "      <td>746.867639</td>\n",
       "      <td>Palm Beach</td>\n",
       "      <td>4</td>\n",
       "    </tr>\n",
       "    <tr>\n",
       "      <th>3</th>\n",
       "      <td>Hillsborough County</td>\n",
       "      <td>1408566.0</td>\n",
       "      <td>14.187346</td>\n",
       "      <td>1020.21</td>\n",
       "      <td>1380.662805</td>\n",
       "      <td>Hillsborough</td>\n",
       "      <td>7</td>\n",
       "    </tr>\n",
       "    <tr>\n",
       "      <th>4</th>\n",
       "      <td>Orange County</td>\n",
       "      <td>1348975.0</td>\n",
       "      <td>17.435335</td>\n",
       "      <td>903.43</td>\n",
       "      <td>1493.170473</td>\n",
       "      <td>Orange</td>\n",
       "      <td>5</td>\n",
       "    </tr>\n",
       "  </tbody>\n",
       "</table>\n",
       "</div>"
      ],
      "text/plain": [
       "                  Name  2019 Population  Growth Since 2010  Land Area  \\\n",
       "0    Miami-Dade County        2751796.0           9.754518    1897.72   \n",
       "1       Broward County        1935878.0          10.438146    1209.79   \n",
       "2    Palm Beach County        1471150.0          11.134781    1969.76   \n",
       "3  Hillsborough County        1408566.0          14.187346    1020.21   \n",
       "4        Orange County        1348975.0          17.435335     903.43   \n",
       "\n",
       "   Population Density        County  District  \n",
       "0         1450.053749    Miami-Dade         6  \n",
       "1         1600.176890       Broward         4  \n",
       "2          746.867639    Palm Beach         4  \n",
       "3         1380.662805  Hillsborough         7  \n",
       "4         1493.170473        Orange         5  "
      ]
     },
     "execution_count": 73,
     "metadata": {},
     "output_type": "execute_result"
    }
   ],
   "source": [
    "fl_2.head()"
   ]
  },
  {
   "cell_type": "markdown",
   "metadata": {},
   "source": [
    "The second and third counties in the `fl_2` DataFrame are both in District 4, so\n",
    "both rows of this output give the total population in District 4.  Generating the\n",
    "output like this makes it super easy to attach the result as a new column in the \n",
    "DataFrame:"
   ]
  },
  {
   "cell_type": "code",
   "execution_count": 74,
   "metadata": {},
   "outputs": [],
   "source": [
    "fl_2['District Population'] = fl_2.groupby('District')['2019 Population'].transform(sum)"
   ]
  },
  {
   "cell_type": "code",
   "execution_count": 75,
   "metadata": {},
   "outputs": [
    {
     "data": {
      "text/html": [
       "<div>\n",
       "<style scoped>\n",
       "    .dataframe tbody tr th:only-of-type {\n",
       "        vertical-align: middle;\n",
       "    }\n",
       "\n",
       "    .dataframe tbody tr th {\n",
       "        vertical-align: top;\n",
       "    }\n",
       "\n",
       "    .dataframe thead th {\n",
       "        text-align: right;\n",
       "    }\n",
       "</style>\n",
       "<table border=\"1\" class=\"dataframe\">\n",
       "  <thead>\n",
       "    <tr style=\"text-align: right;\">\n",
       "      <th></th>\n",
       "      <th>Name</th>\n",
       "      <th>2019 Population</th>\n",
       "      <th>Growth Since 2010</th>\n",
       "      <th>Land Area</th>\n",
       "      <th>Population Density</th>\n",
       "      <th>County</th>\n",
       "      <th>District</th>\n",
       "      <th>District Population</th>\n",
       "    </tr>\n",
       "  </thead>\n",
       "  <tbody>\n",
       "    <tr>\n",
       "      <th>0</th>\n",
       "      <td>Miami-Dade County</td>\n",
       "      <td>2751796.0</td>\n",
       "      <td>9.754518</td>\n",
       "      <td>1897.72</td>\n",
       "      <td>1450.053749</td>\n",
       "      <td>Miami-Dade</td>\n",
       "      <td>6</td>\n",
       "      <td>2828809.0</td>\n",
       "    </tr>\n",
       "    <tr>\n",
       "      <th>1</th>\n",
       "      <td>Broward County</td>\n",
       "      <td>1935878.0</td>\n",
       "      <td>10.438146</td>\n",
       "      <td>1209.79</td>\n",
       "      <td>1600.176890</td>\n",
       "      <td>Broward</td>\n",
       "      <td>4</td>\n",
       "      <td>4034840.0</td>\n",
       "    </tr>\n",
       "    <tr>\n",
       "      <th>2</th>\n",
       "      <td>Palm Beach County</td>\n",
       "      <td>1471150.0</td>\n",
       "      <td>11.134781</td>\n",
       "      <td>1969.76</td>\n",
       "      <td>746.867639</td>\n",
       "      <td>Palm Beach</td>\n",
       "      <td>4</td>\n",
       "      <td>4034840.0</td>\n",
       "    </tr>\n",
       "    <tr>\n",
       "      <th>3</th>\n",
       "      <td>Hillsborough County</td>\n",
       "      <td>1408566.0</td>\n",
       "      <td>14.187346</td>\n",
       "      <td>1020.21</td>\n",
       "      <td>1380.662805</td>\n",
       "      <td>Hillsborough</td>\n",
       "      <td>7</td>\n",
       "      <td>3237046.0</td>\n",
       "    </tr>\n",
       "    <tr>\n",
       "      <th>4</th>\n",
       "      <td>Orange County</td>\n",
       "      <td>1348975.0</td>\n",
       "      <td>17.435335</td>\n",
       "      <td>903.43</td>\n",
       "      <td>1493.170473</td>\n",
       "      <td>Orange</td>\n",
       "      <td>5</td>\n",
       "      <td>4227713.0</td>\n",
       "    </tr>\n",
       "  </tbody>\n",
       "</table>\n",
       "</div>"
      ],
      "text/plain": [
       "                  Name  2019 Population  Growth Since 2010  Land Area  \\\n",
       "0    Miami-Dade County        2751796.0           9.754518    1897.72   \n",
       "1       Broward County        1935878.0          10.438146    1209.79   \n",
       "2    Palm Beach County        1471150.0          11.134781    1969.76   \n",
       "3  Hillsborough County        1408566.0          14.187346    1020.21   \n",
       "4        Orange County        1348975.0          17.435335     903.43   \n",
       "\n",
       "   Population Density        County  District  District Population  \n",
       "0         1450.053749    Miami-Dade         6            2828809.0  \n",
       "1         1600.176890       Broward         4            4034840.0  \n",
       "2          746.867639    Palm Beach         4            4034840.0  \n",
       "3         1380.662805  Hillsborough         7            3237046.0  \n",
       "4         1493.170473        Orange         5            4227713.0  "
      ]
     },
     "execution_count": 75,
     "metadata": {},
     "output_type": "execute_result"
    }
   ],
   "source": [
    "fl_2.head()"
   ]
  },
  {
   "cell_type": "markdown",
   "metadata": {},
   "source": [
    "In addition to expanding aggregate measures to match with the rows \n",
    "of the original DataFrame, \n",
    "the `transform` function can also generate unique row-wise values,\n",
    "which can be computed relative to the group instead of relative to the \n",
    "entire DataFrame.  For example, to compute the fraction of the population\n",
    "of each district living in each county:"
   ]
  },
  {
   "cell_type": "code",
   "execution_count": 76,
   "metadata": {},
   "outputs": [
    {
     "data": {
      "text/html": [
       "<div>\n",
       "<style scoped>\n",
       "    .dataframe tbody tr th:only-of-type {\n",
       "        vertical-align: middle;\n",
       "    }\n",
       "\n",
       "    .dataframe tbody tr th {\n",
       "        vertical-align: top;\n",
       "    }\n",
       "\n",
       "    .dataframe thead th {\n",
       "        text-align: right;\n",
       "    }\n",
       "</style>\n",
       "<table border=\"1\" class=\"dataframe\">\n",
       "  <thead>\n",
       "    <tr style=\"text-align: right;\">\n",
       "      <th></th>\n",
       "      <th>Name</th>\n",
       "      <th>2019 Population</th>\n",
       "      <th>Growth Since 2010</th>\n",
       "      <th>Land Area</th>\n",
       "      <th>Population Density</th>\n",
       "      <th>County</th>\n",
       "      <th>District</th>\n",
       "      <th>District Population</th>\n",
       "      <th>Fraction of Pop</th>\n",
       "    </tr>\n",
       "  </thead>\n",
       "  <tbody>\n",
       "    <tr>\n",
       "      <th>0</th>\n",
       "      <td>Miami-Dade County</td>\n",
       "      <td>2751796.0</td>\n",
       "      <td>9.754518</td>\n",
       "      <td>1897.72</td>\n",
       "      <td>1450.053749</td>\n",
       "      <td>Miami-Dade</td>\n",
       "      <td>6</td>\n",
       "      <td>2828809.0</td>\n",
       "      <td>0.972775</td>\n",
       "    </tr>\n",
       "    <tr>\n",
       "      <th>1</th>\n",
       "      <td>Broward County</td>\n",
       "      <td>1935878.0</td>\n",
       "      <td>10.438146</td>\n",
       "      <td>1209.79</td>\n",
       "      <td>1600.176890</td>\n",
       "      <td>Broward</td>\n",
       "      <td>4</td>\n",
       "      <td>4034840.0</td>\n",
       "      <td>0.479791</td>\n",
       "    </tr>\n",
       "    <tr>\n",
       "      <th>2</th>\n",
       "      <td>Palm Beach County</td>\n",
       "      <td>1471150.0</td>\n",
       "      <td>11.134781</td>\n",
       "      <td>1969.76</td>\n",
       "      <td>746.867639</td>\n",
       "      <td>Palm Beach</td>\n",
       "      <td>4</td>\n",
       "      <td>4034840.0</td>\n",
       "      <td>0.364612</td>\n",
       "    </tr>\n",
       "    <tr>\n",
       "      <th>3</th>\n",
       "      <td>Hillsborough County</td>\n",
       "      <td>1408566.0</td>\n",
       "      <td>14.187346</td>\n",
       "      <td>1020.21</td>\n",
       "      <td>1380.662805</td>\n",
       "      <td>Hillsborough</td>\n",
       "      <td>7</td>\n",
       "      <td>3237046.0</td>\n",
       "      <td>0.435139</td>\n",
       "    </tr>\n",
       "    <tr>\n",
       "      <th>4</th>\n",
       "      <td>Orange County</td>\n",
       "      <td>1348975.0</td>\n",
       "      <td>17.435335</td>\n",
       "      <td>903.43</td>\n",
       "      <td>1493.170473</td>\n",
       "      <td>Orange</td>\n",
       "      <td>5</td>\n",
       "      <td>4227713.0</td>\n",
       "      <td>0.319079</td>\n",
       "    </tr>\n",
       "  </tbody>\n",
       "</table>\n",
       "</div>"
      ],
      "text/plain": [
       "                  Name  2019 Population  Growth Since 2010  Land Area  \\\n",
       "0    Miami-Dade County        2751796.0           9.754518    1897.72   \n",
       "1       Broward County        1935878.0          10.438146    1209.79   \n",
       "2    Palm Beach County        1471150.0          11.134781    1969.76   \n",
       "3  Hillsborough County        1408566.0          14.187346    1020.21   \n",
       "4        Orange County        1348975.0          17.435335     903.43   \n",
       "\n",
       "   Population Density        County  District  District Population  \\\n",
       "0         1450.053749    Miami-Dade         6            2828809.0   \n",
       "1         1600.176890       Broward         4            4034840.0   \n",
       "2          746.867639    Palm Beach         4            4034840.0   \n",
       "3         1380.662805  Hillsborough         7            3237046.0   \n",
       "4         1493.170473        Orange         5            4227713.0   \n",
       "\n",
       "   Fraction of Pop  \n",
       "0         0.972775  \n",
       "1         0.479791  \n",
       "2         0.364612  \n",
       "3         0.435139  \n",
       "4         0.319079  "
      ]
     },
     "execution_count": 76,
     "metadata": {},
     "output_type": "execute_result"
    }
   ],
   "source": [
    "fl_2['Fraction of Pop'] = fl_2.groupby('District')['2019 Population'].transform(lambda x: (x / x.sum()))\n",
    "fl_2.head()"
   ]
  }
 ],
 "metadata": {
  "kernelspec": {
   "display_name": "Python 3",
   "language": "python",
   "name": "python3"
  },
  "language_info": {
   "codemirror_mode": {
    "name": "ipython",
    "version": 3
   },
   "file_extension": ".py",
   "mimetype": "text/x-python",
   "name": "python",
   "nbconvert_exporter": "python",
   "pygments_lexer": "ipython3",
   "version": "3.7.4"
  },
  "widgets": {
   "application/vnd.jupyter.widget-state+json": {
    "state": {},
    "version_major": 2,
    "version_minor": 0
   }
  }
 },
 "nbformat": 4,
 "nbformat_minor": 4
}
